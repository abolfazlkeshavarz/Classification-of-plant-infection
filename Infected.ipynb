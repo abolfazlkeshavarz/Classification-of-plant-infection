{
  "nbformat": 4,
  "nbformat_minor": 0,
  "metadata": {
    "colab": {
      "provenance": [],
      "gpuType": "T4"
    },
    "kernelspec": {
      "name": "python3",
      "display_name": "Python 3"
    },
    "language_info": {
      "name": "python"
    },
    "accelerator": "GPU"
  },
  "cells": [
    {
      "cell_type": "code",
      "execution_count": null,
      "metadata": {
        "colab": {
          "base_uri": "https://localhost:8080/"
        },
        "id": "Qsbx-YALs1b4",
        "outputId": "ffb9e678-42e0-4f5c-ffbe-eed129767d6b"
      },
      "outputs": [
        {
          "output_type": "stream",
          "name": "stdout",
          "text": [
            "Mounted at /content/drive\n"
          ]
        }
      ],
      "source": [
        "from google.colab import drive\n",
        "drive.mount('/content/drive')\n"
      ]
    },
    {
      "cell_type": "code",
      "source": [
        "!unzip \"/content/drive/MyDrive/Infection/dataset.zip\" -d \"/content/dataset\"\n"
      ],
      "metadata": {
        "colab": {
          "base_uri": "https://localhost:8080/"
        },
        "id": "i5xunvh2tBIh",
        "outputId": "c4dd2846-8bac-4c83-f881-56be0c29330f"
      },
      "execution_count": null,
      "outputs": [
        {
          "output_type": "stream",
          "name": "stdout",
          "text": [
            "Archive:  /content/drive/MyDrive/Tabatabaei/dataset.zip\n",
            "   creating: /content/dataset/test/\n",
            "   creating: /content/dataset/test/Infected/\n",
            "  inflating: /content/dataset/test/Infected/infected_test_0001.jpg  \n",
            "  inflating: /content/dataset/test/Infected/infected_test_0002.jpg  \n",
            "  inflating: /content/dataset/test/Infected/infected_test_0003.jpg  \n",
            "  inflating: /content/dataset/test/Infected/infected_test_0004.jpg  \n",
            "  inflating: /content/dataset/test/Infected/infected_test_0005.jpg  \n",
            "  inflating: /content/dataset/test/Infected/infected_test_0006.jpg  \n",
            "  inflating: /content/dataset/test/Infected/infected_test_0007.jpg  \n",
            "  inflating: /content/dataset/test/Infected/infected_test_0008.jpg  \n",
            "  inflating: /content/dataset/test/Infected/infected_test_0009.jpg  \n",
            "  inflating: /content/dataset/test/Infected/infected_test_0010.jpg  \n",
            "  inflating: /content/dataset/test/Infected/infected_test_0011.jpg  \n",
            "  inflating: /content/dataset/test/Infected/infected_test_0012.jpg  \n",
            "  inflating: /content/dataset/test/Infected/infected_test_0013.jpg  \n",
            "  inflating: /content/dataset/test/Infected/infected_test_0014.jpg  \n",
            "  inflating: /content/dataset/test/Infected/infected_test_0015.jpg  \n",
            "  inflating: /content/dataset/test/Infected/infected_test_0016.jpg  \n",
            "  inflating: /content/dataset/test/Infected/infected_test_0017.jpg  \n",
            "  inflating: /content/dataset/test/Infected/infected_test_0018.jpg  \n",
            "  inflating: /content/dataset/test/Infected/infected_test_0019.jpg  \n",
            "  inflating: /content/dataset/test/Infected/infected_test_0020.jpg  \n",
            "  inflating: /content/dataset/test/Infected/infected_test_0021.jpg  \n",
            "  inflating: /content/dataset/test/Infected/infected_test_0022.jpg  \n",
            "  inflating: /content/dataset/test/Infected/infected_test_0023.jpg  \n",
            "  inflating: /content/dataset/test/Infected/infected_test_0024.jpg  \n",
            "  inflating: /content/dataset/test/Infected/infected_test_0025.jpg  \n",
            "  inflating: /content/dataset/test/Infected/infected_test_0026.jpg  \n",
            "  inflating: /content/dataset/test/Infected/infected_test_0027.jpg  \n",
            "  inflating: /content/dataset/test/Infected/infected_test_0028.jpg  \n",
            "  inflating: /content/dataset/test/Infected/infected_test_0029.jpg  \n",
            "  inflating: /content/dataset/test/Infected/infected_test_0030.jpg  \n",
            "  inflating: /content/dataset/test/Infected/infected_test_0031.jpg  \n",
            "  inflating: /content/dataset/test/Infected/infected_test_0032.jpg  \n",
            "  inflating: /content/dataset/test/Infected/infected_test_0033.jpg  \n",
            "  inflating: /content/dataset/test/Infected/infected_test_0034.jpg  \n",
            "  inflating: /content/dataset/test/Infected/infected_test_0035.jpg  \n",
            "  inflating: /content/dataset/test/Infected/infected_test_0036.jpg  \n",
            "  inflating: /content/dataset/test/Infected/infected_test_0037.jpg  \n",
            "  inflating: /content/dataset/test/Infected/infected_test_0038.jpg  \n",
            "  inflating: /content/dataset/test/Infected/infected_test_0039.jpg  \n",
            "  inflating: /content/dataset/test/Infected/infected_test_0040.jpg  \n",
            "  inflating: /content/dataset/test/Infected/infected_test_0041.jpg  \n",
            "  inflating: /content/dataset/test/Infected/infected_test_0042.jpg  \n",
            "  inflating: /content/dataset/test/Infected/infected_test_0043.jpg  \n",
            "  inflating: /content/dataset/test/Infected/infected_test_0044.jpg  \n",
            "  inflating: /content/dataset/test/Infected/infected_test_0045.jpg  \n",
            "  inflating: /content/dataset/test/Infected/infected_test_0046.jpg  \n",
            "  inflating: /content/dataset/test/Infected/infected_test_0047.jpg  \n",
            "  inflating: /content/dataset/test/Infected/infected_test_0048.jpg  \n",
            "  inflating: /content/dataset/test/Infected/infected_test_0049.jpg  \n",
            "  inflating: /content/dataset/test/Infected/infected_test_0050.jpg  \n",
            "  inflating: /content/dataset/test/Infected/infected_test_0051.jpg  \n",
            "  inflating: /content/dataset/test/Infected/infected_test_0052.jpg  \n",
            "  inflating: /content/dataset/test/Infected/infected_test_0053.jpg  \n",
            "  inflating: /content/dataset/test/Infected/infected_test_0054.jpg  \n",
            "  inflating: /content/dataset/test/Infected/infected_test_0055.jpg  \n",
            "  inflating: /content/dataset/test/Infected/infected_test_0056.jpg  \n",
            "  inflating: /content/dataset/test/Infected/infected_test_0057.jpg  \n",
            "  inflating: /content/dataset/test/Infected/infected_test_0058.jpg  \n",
            "  inflating: /content/dataset/test/Infected/infected_test_0059.jpg  \n",
            "  inflating: /content/dataset/test/Infected/infected_test_0060.jpg  \n",
            "  inflating: /content/dataset/test/Infected/infected_test_0061.jpg  \n",
            "  inflating: /content/dataset/test/Infected/infected_test_0062.jpg  \n",
            "  inflating: /content/dataset/test/Infected/infected_test_0063.jpg  \n",
            "  inflating: /content/dataset/test/Infected/infected_test_0064.jpg  \n",
            "  inflating: /content/dataset/test/Infected/infected_test_0065.jpg  \n",
            "  inflating: /content/dataset/test/Infected/infected_test_0066.jpg  \n",
            "  inflating: /content/dataset/test/Infected/infected_test_0067.jpg  \n",
            "  inflating: /content/dataset/test/Infected/infected_test_0068.jpg  \n",
            "  inflating: /content/dataset/test/Infected/infected_test_0069.jpg  \n",
            "  inflating: /content/dataset/test/Infected/infected_test_0070.jpg  \n",
            "  inflating: /content/dataset/test/Infected/infected_test_0071.jpg  \n",
            "  inflating: /content/dataset/test/Infected/infected_test_0072.jpg  \n",
            "  inflating: /content/dataset/test/Infected/infected_test_0073.jpg  \n",
            "  inflating: /content/dataset/test/Infected/infected_test_0074.jpg  \n",
            "  inflating: /content/dataset/test/Infected/infected_test_0075.jpg  \n",
            "  inflating: /content/dataset/test/Infected/infected_test_0076.jpg  \n",
            "  inflating: /content/dataset/test/Infected/infected_test_0077.jpg  \n",
            "  inflating: /content/dataset/test/Infected/infected_test_0078.jpg  \n",
            "  inflating: /content/dataset/test/Infected/infected_test_0079.jpg  \n",
            "  inflating: /content/dataset/test/Infected/infected_test_0080.jpg  \n",
            "  inflating: /content/dataset/test/Infected/infected_test_0081.jpg  \n",
            "  inflating: /content/dataset/test/Infected/infected_test_0082.jpg  \n",
            "  inflating: /content/dataset/test/Infected/infected_test_0083.jpg  \n",
            "  inflating: /content/dataset/test/Infected/infected_test_0084.jpg  \n",
            "  inflating: /content/dataset/test/Infected/infected_test_0085.jpg  \n",
            "  inflating: /content/dataset/test/Infected/infected_test_0086.jpg  \n",
            "  inflating: /content/dataset/test/Infected/infected_test_0087.jpg  \n",
            "  inflating: /content/dataset/test/Infected/infected_test_0088.jpg  \n",
            "  inflating: /content/dataset/test/Infected/infected_test_0089.jpg  \n",
            "  inflating: /content/dataset/test/Infected/infected_test_0090.jpg  \n",
            "  inflating: /content/dataset/test/Infected/infected_test_0091.jpg  \n",
            "  inflating: /content/dataset/test/Infected/infected_test_0092.jpg  \n",
            "  inflating: /content/dataset/test/Infected/infected_test_0093.jpg  \n",
            "  inflating: /content/dataset/test/Infected/infected_test_0094.jpg  \n",
            "  inflating: /content/dataset/test/Infected/infected_test_0095.jpg  \n",
            "  inflating: /content/dataset/test/Infected/infected_test_0096.jpg  \n",
            "  inflating: /content/dataset/test/Infected/infected_test_0097.jpg  \n",
            "  inflating: /content/dataset/test/Infected/infected_test_0098.jpg  \n",
            "  inflating: /content/dataset/test/Infected/infected_test_0099.jpg  \n",
            "  inflating: /content/dataset/test/Infected/infected_test_0100.jpg  \n",
            "  inflating: /content/dataset/test/Infected/infected_test_0101.jpg  \n",
            "  inflating: /content/dataset/test/Infected/infected_test_0102.jpg  \n",
            "  inflating: /content/dataset/test/Infected/infected_test_0103.jpg  \n",
            "  inflating: /content/dataset/test/Infected/infected_test_0104.jpg  \n",
            "  inflating: /content/dataset/test/Infected/infected_test_0105.jpg  \n",
            "  inflating: /content/dataset/test/Infected/infected_test_0106.jpg  \n",
            "  inflating: /content/dataset/test/Infected/infected_test_0107.jpg  \n",
            "  inflating: /content/dataset/test/Infected/infected_test_0108.jpg  \n",
            "  inflating: /content/dataset/test/Infected/infected_test_0109.jpg  \n",
            "  inflating: /content/dataset/test/Infected/infected_test_0110.jpg  \n",
            "  inflating: /content/dataset/test/Infected/infected_test_0111.jpg  \n",
            "  inflating: /content/dataset/test/Infected/infected_test_0112.jpg  \n",
            "  inflating: /content/dataset/test/Infected/infected_test_0113.jpg  \n",
            "  inflating: /content/dataset/test/Infected/infected_test_0114.jpg  \n",
            "  inflating: /content/dataset/test/Infected/infected_test_0115.jpg  \n",
            "  inflating: /content/dataset/test/Infected/infected_test_0116.jpg  \n",
            "  inflating: /content/dataset/test/Infected/infected_test_0117.jpg  \n",
            "  inflating: /content/dataset/test/Infected/infected_test_0118.jpg  \n",
            "  inflating: /content/dataset/test/Infected/infected_test_0119.jpg  \n",
            "  inflating: /content/dataset/test/Infected/infected_test_0120.jpg  \n",
            "  inflating: /content/dataset/test/Infected/infected_test_0121.jpg  \n",
            "  inflating: /content/dataset/test/Infected/infected_test_0122.jpg  \n",
            "  inflating: /content/dataset/test/Infected/infected_test_0123.jpg  \n",
            "  inflating: /content/dataset/test/Infected/infected_test_0124.jpg  \n",
            "  inflating: /content/dataset/test/Infected/infected_test_0125.jpg  \n",
            "  inflating: /content/dataset/test/Infected/infected_test_0126.jpg  \n",
            "  inflating: /content/dataset/test/Infected/infected_test_0127.jpg  \n",
            "  inflating: /content/dataset/test/Infected/infected_test_0128.jpg  \n",
            "  inflating: /content/dataset/test/Infected/infected_test_0129.jpg  \n",
            "  inflating: /content/dataset/test/Infected/infected_test_0130.jpg  \n",
            "  inflating: /content/dataset/test/Infected/infected_test_0131.jpg  \n",
            "  inflating: /content/dataset/test/Infected/infected_test_0132.jpg  \n",
            "  inflating: /content/dataset/test/Infected/infected_test_0133.jpg  \n",
            "  inflating: /content/dataset/test/Infected/infected_test_0134.jpg  \n",
            "  inflating: /content/dataset/test/Infected/infected_test_0135.jpg  \n",
            "  inflating: /content/dataset/test/Infected/infected_test_0136.jpg  \n",
            "  inflating: /content/dataset/test/Infected/infected_test_0137.jpg  \n",
            "  inflating: /content/dataset/test/Infected/infected_test_0138.jpg  \n",
            "  inflating: /content/dataset/test/Infected/infected_test_0139.jpg  \n",
            "  inflating: /content/dataset/test/Infected/infected_test_0140.jpg  \n",
            "  inflating: /content/dataset/test/Infected/infected_test_0141.jpg  \n",
            "  inflating: /content/dataset/test/Infected/infected_test_0142.jpg  \n",
            "  inflating: /content/dataset/test/Infected/infected_test_0143.jpg  \n",
            "  inflating: /content/dataset/test/Infected/infected_test_0144.jpg  \n",
            "  inflating: /content/dataset/test/Infected/infected_test_0145.jpg  \n",
            "  inflating: /content/dataset/test/Infected/infected_test_0146.jpg  \n",
            "  inflating: /content/dataset/test/Infected/infected_test_0147.jpg  \n",
            "  inflating: /content/dataset/test/Infected/infected_test_0148.jpg  \n",
            "  inflating: /content/dataset/test/Infected/infected_test_0149.jpg  \n",
            "  inflating: /content/dataset/test/Infected/infected_test_0150.jpg  \n",
            "  inflating: /content/dataset/test/Infected/infected_test_0151.jpg  \n",
            "  inflating: /content/dataset/test/Infected/infected_test_0152.jpg  \n",
            "  inflating: /content/dataset/test/Infected/infected_test_0153.jpg  \n",
            "  inflating: /content/dataset/test/Infected/infected_test_0154.jpg  \n",
            "  inflating: /content/dataset/test/Infected/infected_test_0155.jpg  \n",
            "  inflating: /content/dataset/test/Infected/infected_test_0156.jpg  \n",
            "  inflating: /content/dataset/test/Infected/infected_test_0157.jpg  \n",
            "  inflating: /content/dataset/test/Infected/infected_test_0158.jpg  \n",
            "  inflating: /content/dataset/test/Infected/infected_test_0159.jpg  \n",
            "  inflating: /content/dataset/test/Infected/infected_test_0160.jpg  \n",
            "  inflating: /content/dataset/test/Infected/infected_test_0161.jpg  \n",
            "  inflating: /content/dataset/test/Infected/infected_test_0162.jpg  \n",
            "  inflating: /content/dataset/test/Infected/infected_test_0163.jpg  \n",
            "  inflating: /content/dataset/test/Infected/infected_test_0164.jpg  \n",
            "  inflating: /content/dataset/test/Infected/infected_test_0165.jpg  \n",
            "  inflating: /content/dataset/test/Infected/infected_test_0166.jpg  \n",
            "  inflating: /content/dataset/test/Infected/infected_test_0167.jpg  \n",
            "  inflating: /content/dataset/test/Infected/infected_test_0168.jpg  \n",
            "  inflating: /content/dataset/test/Infected/infected_test_0169.jpg  \n",
            "  inflating: /content/dataset/test/Infected/infected_test_0170.jpg  \n",
            "  inflating: /content/dataset/test/Infected/infected_test_0171.jpg  \n",
            "  inflating: /content/dataset/test/Infected/infected_test_0172.jpg  \n",
            "  inflating: /content/dataset/test/Infected/infected_test_0173.jpg  \n",
            "  inflating: /content/dataset/test/Infected/infected_test_0174.jpg  \n",
            "  inflating: /content/dataset/test/Infected/infected_test_0175.jpg  \n",
            "  inflating: /content/dataset/test/Infected/infected_test_0176.jpg  \n",
            "  inflating: /content/dataset/test/Infected/infected_test_0177.jpg  \n",
            "  inflating: /content/dataset/test/Infected/infected_test_0178.jpg  \n",
            "  inflating: /content/dataset/test/Infected/infected_test_0179.jpg  \n",
            "  inflating: /content/dataset/test/Infected/infected_test_0180.jpg  \n",
            "  inflating: /content/dataset/test/Infected/infected_test_0181.jpg  \n",
            "  inflating: /content/dataset/test/Infected/infected_test_0182.jpg  \n",
            "  inflating: /content/dataset/test/Infected/infected_test_0183.jpg  \n",
            "  inflating: /content/dataset/test/Infected/infected_test_0184.jpg  \n",
            "  inflating: /content/dataset/test/Infected/infected_test_0185.jpg  \n",
            "  inflating: /content/dataset/test/Infected/infected_test_0186.jpg  \n",
            "  inflating: /content/dataset/test/Infected/infected_test_0187.jpg  \n",
            "  inflating: /content/dataset/test/Infected/infected_test_0188.jpg  \n",
            "  inflating: /content/dataset/test/Infected/infected_test_0189.jpg  \n",
            "  inflating: /content/dataset/test/Infected/infected_test_0190.jpg  \n",
            "  inflating: /content/dataset/test/Infected/infected_test_0191.jpg  \n",
            "  inflating: /content/dataset/test/Infected/infected_test_0192.jpg  \n",
            "  inflating: /content/dataset/test/Infected/infected_test_0193.jpg  \n",
            "  inflating: /content/dataset/test/Infected/infected_test_0194.jpg  \n",
            "  inflating: /content/dataset/test/Infected/infected_test_0195.jpg  \n",
            "  inflating: /content/dataset/test/Infected/infected_test_0196.jpg  \n",
            "  inflating: /content/dataset/test/Infected/infected_test_0197.jpg  \n",
            "  inflating: /content/dataset/test/Infected/infected_test_0198.jpg  \n",
            "  inflating: /content/dataset/test/Infected/infected_test_0199.jpg  \n",
            "  inflating: /content/dataset/test/Infected/infected_test_0200.jpg  \n",
            "  inflating: /content/dataset/test/Infected/infected_test_0201.jpg  \n",
            "  inflating: /content/dataset/test/Infected/infected_test_0202.jpg  \n",
            "  inflating: /content/dataset/test/Infected/infected_test_0203.jpg  \n",
            "  inflating: /content/dataset/test/Infected/infected_test_0204.jpg  \n",
            "  inflating: /content/dataset/test/Infected/infected_test_0205.jpg  \n",
            "  inflating: /content/dataset/test/Infected/infected_test_0206.jpg  \n",
            "  inflating: /content/dataset/test/Infected/infected_test_0207.jpg  \n",
            "  inflating: /content/dataset/test/Infected/infected_test_0208.jpg  \n",
            "  inflating: /content/dataset/test/Infected/infected_test_0209.jpg  \n",
            "  inflating: /content/dataset/test/Infected/infected_test_0210.jpg  \n",
            "  inflating: /content/dataset/test/Infected/infected_test_0211.jpg  \n",
            "  inflating: /content/dataset/test/Infected/infected_test_0212.jpg  \n",
            "  inflating: /content/dataset/test/Infected/infected_test_0213.jpg  \n",
            "  inflating: /content/dataset/test/Infected/infected_test_0214.jpg  \n",
            "  inflating: /content/dataset/test/Infected/infected_test_0215.jpg  \n",
            "  inflating: /content/dataset/test/Infected/infected_test_0216.jpg  \n",
            "  inflating: /content/dataset/test/Infected/infected_test_0217.jpg  \n",
            "  inflating: /content/dataset/test/Infected/infected_test_0218.jpg  \n",
            "  inflating: /content/dataset/test/Infected/infected_test_0219.jpg  \n",
            "  inflating: /content/dataset/test/Infected/infected_test_0220.jpg  \n",
            "  inflating: /content/dataset/test/Infected/infected_test_0221.jpg  \n",
            "  inflating: /content/dataset/test/Infected/infected_test_0222.jpg  \n",
            "  inflating: /content/dataset/test/Infected/infected_test_0223.jpg  \n",
            "  inflating: /content/dataset/test/Infected/infected_test_0224.jpg  \n",
            "  inflating: /content/dataset/test/Infected/infected_test_0225.jpg  \n",
            "  inflating: /content/dataset/test/Infected/infected_test_0226.jpg  \n",
            "  inflating: /content/dataset/test/Infected/infected_test_0227.jpg  \n",
            "  inflating: /content/dataset/test/Infected/infected_test_0228.jpg  \n",
            "  inflating: /content/dataset/test/Infected/infected_test_0229.jpg  \n",
            "  inflating: /content/dataset/test/Infected/infected_test_0230.jpg  \n",
            "  inflating: /content/dataset/test/Infected/infected_test_0231.jpg  \n",
            "  inflating: /content/dataset/test/Infected/infected_test_0232.jpg  \n",
            "  inflating: /content/dataset/test/Infected/infected_test_0233.jpg  \n",
            "  inflating: /content/dataset/test/Infected/infected_test_0234.jpg  \n",
            "  inflating: /content/dataset/test/Infected/infected_test_0235.jpg  \n",
            "  inflating: /content/dataset/test/Infected/infected_test_0236.jpg  \n",
            "  inflating: /content/dataset/test/Infected/infected_test_0237.jpg  \n",
            "  inflating: /content/dataset/test/Infected/infected_test_0238.jpg  \n",
            "  inflating: /content/dataset/test/Infected/infected_test_0239.jpg  \n",
            "  inflating: /content/dataset/test/Infected/infected_test_0240.jpg  \n",
            "  inflating: /content/dataset/test/Infected/infected_test_0241.jpg  \n",
            "  inflating: /content/dataset/test/Infected/infected_test_0242.jpg  \n",
            "  inflating: /content/dataset/test/Infected/infected_test_0243.jpg  \n",
            "  inflating: /content/dataset/test/Infected/infected_test_0244.jpg  \n",
            "  inflating: /content/dataset/test/Infected/infected_test_0245.jpg  \n",
            "  inflating: /content/dataset/test/Infected/infected_test_0246.jpg  \n",
            "  inflating: /content/dataset/test/Infected/infected_test_0247.jpg  \n",
            "  inflating: /content/dataset/test/Infected/infected_test_0248.jpg  \n",
            "  inflating: /content/dataset/test/Infected/infected_test_0249.jpg  \n",
            "  inflating: /content/dataset/test/Infected/infected_test_0250.jpg  \n",
            "  inflating: /content/dataset/test/Infected/infected_test_0251.jpg  \n",
            "  inflating: /content/dataset/test/Infected/infected_test_0252.jpg  \n",
            "  inflating: /content/dataset/test/Infected/infected_test_0253.jpg  \n",
            "  inflating: /content/dataset/test/Infected/infected_test_0254.jpg  \n",
            "  inflating: /content/dataset/test/Infected/infected_test_0255.jpg  \n",
            "  inflating: /content/dataset/test/Infected/infected_test_0256.jpg  \n",
            "  inflating: /content/dataset/test/Infected/infected_test_0257.jpg  \n",
            "  inflating: /content/dataset/test/Infected/infected_test_0258.jpg  \n",
            "  inflating: /content/dataset/test/Infected/infected_test_0259.jpg  \n",
            "  inflating: /content/dataset/test/Infected/infected_test_0260.jpg  \n",
            "  inflating: /content/dataset/test/Infected/infected_test_0261.jpg  \n",
            "  inflating: /content/dataset/test/Infected/infected_test_0262.jpg  \n",
            "  inflating: /content/dataset/test/Infected/infected_test_0263.jpg  \n",
            "  inflating: /content/dataset/test/Infected/infected_test_0264.jpg  \n",
            "  inflating: /content/dataset/test/Infected/infected_test_0265.jpg  \n",
            "  inflating: /content/dataset/test/Infected/infected_test_0266.jpg  \n",
            "  inflating: /content/dataset/test/Infected/infected_test_0267.jpg  \n",
            "  inflating: /content/dataset/test/Infected/infected_test_0268.jpg  \n",
            "  inflating: /content/dataset/test/Infected/infected_test_0269.jpg  \n",
            "  inflating: /content/dataset/test/Infected/infected_test_0270.jpg  \n",
            "  inflating: /content/dataset/test/Infected/infected_test_0271.jpg  \n",
            "  inflating: /content/dataset/test/Infected/infected_test_0272.jpg  \n",
            "  inflating: /content/dataset/test/Infected/infected_test_0273.jpg  \n",
            "  inflating: /content/dataset/test/Infected/infected_test_0274.jpg  \n",
            "  inflating: /content/dataset/test/Infected/infected_test_0275.jpg  \n",
            "  inflating: /content/dataset/test/Infected/infected_test_0276.jpg  \n",
            "  inflating: /content/dataset/test/Infected/infected_test_0277.jpg  \n",
            "  inflating: /content/dataset/test/Infected/infected_test_0278.jpg  \n",
            "  inflating: /content/dataset/test/Infected/infected_test_0279.jpg  \n",
            "  inflating: /content/dataset/test/Infected/infected_test_0280.jpg  \n",
            "  inflating: /content/dataset/test/Infected/infected_test_0281.jpg  \n",
            "  inflating: /content/dataset/test/Infected/infected_test_0282.jpg  \n",
            "  inflating: /content/dataset/test/Infected/infected_test_0283.jpg  \n",
            "  inflating: /content/dataset/test/Infected/infected_test_0284.jpg  \n",
            "  inflating: /content/dataset/test/Infected/infected_test_0285.jpg  \n",
            "  inflating: /content/dataset/test/Infected/infected_test_0286.jpg  \n",
            "  inflating: /content/dataset/test/Infected/infected_test_0287.jpg  \n",
            "  inflating: /content/dataset/test/Infected/infected_test_0288.jpg  \n",
            "  inflating: /content/dataset/test/Infected/infected_test_0289.jpg  \n",
            "  inflating: /content/dataset/test/Infected/infected_test_0290.jpg  \n",
            "  inflating: /content/dataset/test/Infected/infected_test_0291.jpg  \n",
            "  inflating: /content/dataset/test/Infected/infected_test_0292.jpg  \n",
            "  inflating: /content/dataset/test/Infected/infected_test_0293.jpg  \n",
            "  inflating: /content/dataset/test/Infected/infected_test_0294.jpg  \n",
            "  inflating: /content/dataset/test/Infected/infected_test_0295.jpg  \n",
            "  inflating: /content/dataset/test/Infected/infected_test_0296.jpg  \n",
            "  inflating: /content/dataset/test/Infected/infected_test_0297.jpg  \n",
            "  inflating: /content/dataset/test/Infected/infected_test_0298.jpg  \n",
            "  inflating: /content/dataset/test/Infected/infected_test_0299.jpg  \n",
            "  inflating: /content/dataset/test/Infected/infected_test_0300.jpg  \n",
            "   creating: /content/dataset/test/Uninfected/\n",
            "  inflating: /content/dataset/test/Uninfected/uninfected_test_0001.jpg  \n",
            "  inflating: /content/dataset/test/Uninfected/uninfected_test_0002.jpg  \n",
            "  inflating: /content/dataset/test/Uninfected/uninfected_test_0003.jpg  \n",
            "  inflating: /content/dataset/test/Uninfected/uninfected_test_0004.jpg  \n",
            "  inflating: /content/dataset/test/Uninfected/uninfected_test_0005.jpg  \n",
            "  inflating: /content/dataset/test/Uninfected/uninfected_test_0006.jpg  \n",
            "  inflating: /content/dataset/test/Uninfected/uninfected_test_0007.jpg  \n",
            "  inflating: /content/dataset/test/Uninfected/uninfected_test_0008.jpg  \n",
            "  inflating: /content/dataset/test/Uninfected/uninfected_test_0009.jpg  \n",
            "  inflating: /content/dataset/test/Uninfected/uninfected_test_0010.jpg  \n",
            "  inflating: /content/dataset/test/Uninfected/uninfected_test_0011.jpg  \n",
            "  inflating: /content/dataset/test/Uninfected/uninfected_test_0012.jpg  \n",
            "  inflating: /content/dataset/test/Uninfected/uninfected_test_0013.jpg  \n",
            "  inflating: /content/dataset/test/Uninfected/uninfected_test_0014.jpg  \n",
            "  inflating: /content/dataset/test/Uninfected/uninfected_test_0015.jpg  \n",
            "  inflating: /content/dataset/test/Uninfected/uninfected_test_0016.jpg  \n",
            "  inflating: /content/dataset/test/Uninfected/uninfected_test_0017.jpg  \n",
            "  inflating: /content/dataset/test/Uninfected/uninfected_test_0018.jpg  \n",
            "  inflating: /content/dataset/test/Uninfected/uninfected_test_0019.jpg  \n",
            "  inflating: /content/dataset/test/Uninfected/uninfected_test_0020.jpg  \n",
            "  inflating: /content/dataset/test/Uninfected/uninfected_test_0021.jpg  \n",
            "  inflating: /content/dataset/test/Uninfected/uninfected_test_0022.jpg  \n",
            "  inflating: /content/dataset/test/Uninfected/uninfected_test_0023.jpg  \n",
            "  inflating: /content/dataset/test/Uninfected/uninfected_test_0024.jpg  \n",
            "  inflating: /content/dataset/test/Uninfected/uninfected_test_0025.jpg  \n",
            "  inflating: /content/dataset/test/Uninfected/uninfected_test_0026.jpg  \n",
            "  inflating: /content/dataset/test/Uninfected/uninfected_test_0027.jpg  \n",
            "  inflating: /content/dataset/test/Uninfected/uninfected_test_0028.jpg  \n",
            "  inflating: /content/dataset/test/Uninfected/uninfected_test_0029.jpg  \n",
            "  inflating: /content/dataset/test/Uninfected/uninfected_test_0030.jpg  \n",
            "  inflating: /content/dataset/test/Uninfected/uninfected_test_0031.jpg  \n",
            "  inflating: /content/dataset/test/Uninfected/uninfected_test_0032.jpg  \n",
            "  inflating: /content/dataset/test/Uninfected/uninfected_test_0033.jpg  \n",
            "  inflating: /content/dataset/test/Uninfected/uninfected_test_0034.jpg  \n",
            "  inflating: /content/dataset/test/Uninfected/uninfected_test_0035.jpg  \n",
            "  inflating: /content/dataset/test/Uninfected/uninfected_test_0036.jpg  \n",
            "  inflating: /content/dataset/test/Uninfected/uninfected_test_0037.jpg  \n",
            "  inflating: /content/dataset/test/Uninfected/uninfected_test_0038.jpg  \n",
            "  inflating: /content/dataset/test/Uninfected/uninfected_test_0039.jpg  \n",
            "  inflating: /content/dataset/test/Uninfected/uninfected_test_0040.jpg  \n",
            "  inflating: /content/dataset/test/Uninfected/uninfected_test_0041.jpg  \n",
            "  inflating: /content/dataset/test/Uninfected/uninfected_test_0042.jpg  \n",
            "  inflating: /content/dataset/test/Uninfected/uninfected_test_0043.jpg  \n",
            "  inflating: /content/dataset/test/Uninfected/uninfected_test_0044.jpg  \n",
            "  inflating: /content/dataset/test/Uninfected/uninfected_test_0045.jpg  \n",
            "  inflating: /content/dataset/test/Uninfected/uninfected_test_0046.jpg  \n",
            "  inflating: /content/dataset/test/Uninfected/uninfected_test_0047.jpg  \n",
            "  inflating: /content/dataset/test/Uninfected/uninfected_test_0048.jpg  \n",
            "  inflating: /content/dataset/test/Uninfected/uninfected_test_0049.jpg  \n",
            "  inflating: /content/dataset/test/Uninfected/uninfected_test_0050.jpg  \n",
            "  inflating: /content/dataset/test/Uninfected/uninfected_test_0051.jpg  \n",
            "  inflating: /content/dataset/test/Uninfected/uninfected_test_0052.jpg  \n",
            "  inflating: /content/dataset/test/Uninfected/uninfected_test_0053.jpg  \n",
            "  inflating: /content/dataset/test/Uninfected/uninfected_test_0054.jpg  \n",
            "  inflating: /content/dataset/test/Uninfected/uninfected_test_0055.jpg  \n",
            "  inflating: /content/dataset/test/Uninfected/uninfected_test_0056.jpg  \n",
            "  inflating: /content/dataset/test/Uninfected/uninfected_test_0057.jpg  \n",
            "  inflating: /content/dataset/test/Uninfected/uninfected_test_0058.jpg  \n",
            "  inflating: /content/dataset/test/Uninfected/uninfected_test_0059.jpg  \n",
            "  inflating: /content/dataset/test/Uninfected/uninfected_test_0060.jpg  \n",
            "  inflating: /content/dataset/test/Uninfected/uninfected_test_0061.jpg  \n",
            "  inflating: /content/dataset/test/Uninfected/uninfected_test_0062.jpg  \n",
            "  inflating: /content/dataset/test/Uninfected/uninfected_test_0063.jpg  \n",
            "  inflating: /content/dataset/test/Uninfected/uninfected_test_0064.jpg  \n",
            "  inflating: /content/dataset/test/Uninfected/uninfected_test_0065.jpg  \n",
            "  inflating: /content/dataset/test/Uninfected/uninfected_test_0066.jpg  \n",
            "  inflating: /content/dataset/test/Uninfected/uninfected_test_0067.jpg  \n",
            "  inflating: /content/dataset/test/Uninfected/uninfected_test_0068.jpg  \n",
            "  inflating: /content/dataset/test/Uninfected/uninfected_test_0069.jpg  \n",
            "  inflating: /content/dataset/test/Uninfected/uninfected_test_0070.jpg  \n",
            "  inflating: /content/dataset/test/Uninfected/uninfected_test_0071.jpg  \n",
            "  inflating: /content/dataset/test/Uninfected/uninfected_test_0072.jpg  \n",
            "  inflating: /content/dataset/test/Uninfected/uninfected_test_0073.jpg  \n",
            "  inflating: /content/dataset/test/Uninfected/uninfected_test_0074.jpg  \n",
            "  inflating: /content/dataset/test/Uninfected/uninfected_test_0075.jpg  \n",
            "  inflating: /content/dataset/test/Uninfected/uninfected_test_0076.jpg  \n",
            "  inflating: /content/dataset/test/Uninfected/uninfected_test_0077.jpg  \n",
            "  inflating: /content/dataset/test/Uninfected/uninfected_test_0078.jpg  \n",
            "  inflating: /content/dataset/test/Uninfected/uninfected_test_0079.jpg  \n",
            "  inflating: /content/dataset/test/Uninfected/uninfected_test_0080.jpg  \n",
            "  inflating: /content/dataset/test/Uninfected/uninfected_test_0081.jpg  \n",
            "  inflating: /content/dataset/test/Uninfected/uninfected_test_0082.jpg  \n",
            "  inflating: /content/dataset/test/Uninfected/uninfected_test_0083.jpg  \n",
            "  inflating: /content/dataset/test/Uninfected/uninfected_test_0084.jpg  \n",
            "  inflating: /content/dataset/test/Uninfected/uninfected_test_0085.jpg  \n",
            "  inflating: /content/dataset/test/Uninfected/uninfected_test_0086.jpg  \n",
            "  inflating: /content/dataset/test/Uninfected/uninfected_test_0087.jpg  \n",
            "  inflating: /content/dataset/test/Uninfected/uninfected_test_0088.jpg  \n",
            "  inflating: /content/dataset/test/Uninfected/uninfected_test_0089.jpg  \n",
            "  inflating: /content/dataset/test/Uninfected/uninfected_test_0090.jpg  \n",
            "  inflating: /content/dataset/test/Uninfected/uninfected_test_0091.jpg  \n",
            "  inflating: /content/dataset/test/Uninfected/uninfected_test_0092.jpg  \n",
            "  inflating: /content/dataset/test/Uninfected/uninfected_test_0093.jpg  \n",
            "  inflating: /content/dataset/test/Uninfected/uninfected_test_0094.jpg  \n",
            "  inflating: /content/dataset/test/Uninfected/uninfected_test_0095.jpg  \n",
            "  inflating: /content/dataset/test/Uninfected/uninfected_test_0096.jpg  \n",
            "  inflating: /content/dataset/test/Uninfected/uninfected_test_0097.jpg  \n",
            "  inflating: /content/dataset/test/Uninfected/uninfected_test_0098.jpg  \n",
            "  inflating: /content/dataset/test/Uninfected/uninfected_test_0099.jpg  \n",
            "  inflating: /content/dataset/test/Uninfected/uninfected_test_0100.jpg  \n",
            "  inflating: /content/dataset/test/Uninfected/uninfected_test_0101.jpg  \n",
            "  inflating: /content/dataset/test/Uninfected/uninfected_test_0102.jpg  \n",
            "  inflating: /content/dataset/test/Uninfected/uninfected_test_0103.jpg  \n",
            "  inflating: /content/dataset/test/Uninfected/uninfected_test_0104.jpg  \n",
            "  inflating: /content/dataset/test/Uninfected/uninfected_test_0105.jpg  \n",
            "  inflating: /content/dataset/test/Uninfected/uninfected_test_0106.jpg  \n",
            "  inflating: /content/dataset/test/Uninfected/uninfected_test_0107.jpg  \n",
            "  inflating: /content/dataset/test/Uninfected/uninfected_test_0108.jpg  \n",
            "  inflating: /content/dataset/test/Uninfected/uninfected_test_0109.jpg  \n",
            "  inflating: /content/dataset/test/Uninfected/uninfected_test_0110.jpg  \n",
            "  inflating: /content/dataset/test/Uninfected/uninfected_test_0111.jpg  \n",
            "  inflating: /content/dataset/test/Uninfected/uninfected_test_0112.jpg  \n",
            "  inflating: /content/dataset/test/Uninfected/uninfected_test_0113.jpg  \n",
            "  inflating: /content/dataset/test/Uninfected/uninfected_test_0114.jpg  \n",
            "  inflating: /content/dataset/test/Uninfected/uninfected_test_0115.jpg  \n",
            "  inflating: /content/dataset/test/Uninfected/uninfected_test_0116.jpg  \n",
            "  inflating: /content/dataset/test/Uninfected/uninfected_test_0117.jpg  \n",
            "  inflating: /content/dataset/test/Uninfected/uninfected_test_0118.jpg  \n",
            "  inflating: /content/dataset/test/Uninfected/uninfected_test_0119.jpg  \n",
            "  inflating: /content/dataset/test/Uninfected/uninfected_test_0120.jpg  \n",
            "  inflating: /content/dataset/test/Uninfected/uninfected_test_0121.jpg  \n",
            "  inflating: /content/dataset/test/Uninfected/uninfected_test_0122.jpg  \n",
            "  inflating: /content/dataset/test/Uninfected/uninfected_test_0123.jpg  \n",
            "  inflating: /content/dataset/test/Uninfected/uninfected_test_0124.jpg  \n",
            "  inflating: /content/dataset/test/Uninfected/uninfected_test_0125.jpg  \n",
            "  inflating: /content/dataset/test/Uninfected/uninfected_test_0126.jpg  \n",
            "  inflating: /content/dataset/test/Uninfected/uninfected_test_0127.jpg  \n",
            "  inflating: /content/dataset/test/Uninfected/uninfected_test_0128.jpg  \n",
            "  inflating: /content/dataset/test/Uninfected/uninfected_test_0129.jpg  \n",
            "  inflating: /content/dataset/test/Uninfected/uninfected_test_0130.jpg  \n",
            "  inflating: /content/dataset/test/Uninfected/uninfected_test_0131.jpg  \n",
            "  inflating: /content/dataset/test/Uninfected/uninfected_test_0132.jpg  \n",
            "  inflating: /content/dataset/test/Uninfected/uninfected_test_0133.jpg  \n",
            "  inflating: /content/dataset/test/Uninfected/uninfected_test_0134.jpg  \n",
            "  inflating: /content/dataset/test/Uninfected/uninfected_test_0135.jpg  \n",
            "  inflating: /content/dataset/test/Uninfected/uninfected_test_0136.jpg  \n",
            "  inflating: /content/dataset/test/Uninfected/uninfected_test_0137.jpg  \n",
            "  inflating: /content/dataset/test/Uninfected/uninfected_test_0138.jpg  \n",
            "  inflating: /content/dataset/test/Uninfected/uninfected_test_0139.jpg  \n",
            "  inflating: /content/dataset/test/Uninfected/uninfected_test_0140.jpg  \n",
            "  inflating: /content/dataset/test/Uninfected/uninfected_test_0141.jpg  \n",
            "  inflating: /content/dataset/test/Uninfected/uninfected_test_0142.jpg  \n",
            "  inflating: /content/dataset/test/Uninfected/uninfected_test_0143.jpg  \n",
            "  inflating: /content/dataset/test/Uninfected/uninfected_test_0144.jpg  \n",
            "  inflating: /content/dataset/test/Uninfected/uninfected_test_0145.jpg  \n",
            "  inflating: /content/dataset/test/Uninfected/uninfected_test_0146.jpg  \n",
            "  inflating: /content/dataset/test/Uninfected/uninfected_test_0147.jpg  \n",
            "  inflating: /content/dataset/test/Uninfected/uninfected_test_0148.jpg  \n",
            "  inflating: /content/dataset/test/Uninfected/uninfected_test_0149.jpg  \n",
            "  inflating: /content/dataset/test/Uninfected/uninfected_test_0150.jpg  \n",
            "  inflating: /content/dataset/test/Uninfected/uninfected_test_0151.jpg  \n",
            "  inflating: /content/dataset/test/Uninfected/uninfected_test_0152.jpg  \n",
            "  inflating: /content/dataset/test/Uninfected/uninfected_test_0153.jpg  \n",
            "  inflating: /content/dataset/test/Uninfected/uninfected_test_0154.jpg  \n",
            "  inflating: /content/dataset/test/Uninfected/uninfected_test_0155.jpg  \n",
            "  inflating: /content/dataset/test/Uninfected/uninfected_test_0156.jpg  \n",
            "  inflating: /content/dataset/test/Uninfected/uninfected_test_0157.jpg  \n",
            "  inflating: /content/dataset/test/Uninfected/uninfected_test_0158.jpg  \n",
            "  inflating: /content/dataset/test/Uninfected/uninfected_test_0159.jpg  \n",
            "  inflating: /content/dataset/test/Uninfected/uninfected_test_0160.jpg  \n",
            "  inflating: /content/dataset/test/Uninfected/uninfected_test_0161.jpg  \n",
            "  inflating: /content/dataset/test/Uninfected/uninfected_test_0162.jpg  \n",
            "  inflating: /content/dataset/test/Uninfected/uninfected_test_0163.jpg  \n",
            "  inflating: /content/dataset/test/Uninfected/uninfected_test_0164.jpg  \n",
            "  inflating: /content/dataset/test/Uninfected/uninfected_test_0165.jpg  \n",
            "  inflating: /content/dataset/test/Uninfected/uninfected_test_0166.jpg  \n",
            "  inflating: /content/dataset/test/Uninfected/uninfected_test_0167.jpg  \n",
            "  inflating: /content/dataset/test/Uninfected/uninfected_test_0168.jpg  \n",
            "  inflating: /content/dataset/test/Uninfected/uninfected_test_0169.jpg  \n",
            "  inflating: /content/dataset/test/Uninfected/uninfected_test_0170.jpg  \n",
            "  inflating: /content/dataset/test/Uninfected/uninfected_test_0171.jpg  \n",
            "  inflating: /content/dataset/test/Uninfected/uninfected_test_0172.jpg  \n",
            "  inflating: /content/dataset/test/Uninfected/uninfected_test_0173.jpg  \n",
            "  inflating: /content/dataset/test/Uninfected/uninfected_test_0174.jpg  \n",
            "  inflating: /content/dataset/test/Uninfected/uninfected_test_0175.jpg  \n",
            "  inflating: /content/dataset/test/Uninfected/uninfected_test_0176.jpg  \n",
            "  inflating: /content/dataset/test/Uninfected/uninfected_test_0177.jpg  \n",
            "  inflating: /content/dataset/test/Uninfected/uninfected_test_0178.jpg  \n",
            "  inflating: /content/dataset/test/Uninfected/uninfected_test_0179.jpg  \n",
            "  inflating: /content/dataset/test/Uninfected/uninfected_test_0180.jpg  \n",
            "  inflating: /content/dataset/test/Uninfected/uninfected_test_0181.jpg  \n",
            "  inflating: /content/dataset/test/Uninfected/uninfected_test_0182.jpg  \n",
            "  inflating: /content/dataset/test/Uninfected/uninfected_test_0183.jpg  \n",
            "  inflating: /content/dataset/test/Uninfected/uninfected_test_0184.jpg  \n",
            "  inflating: /content/dataset/test/Uninfected/uninfected_test_0185.jpg  \n",
            "  inflating: /content/dataset/test/Uninfected/uninfected_test_0186.jpg  \n",
            "  inflating: /content/dataset/test/Uninfected/uninfected_test_0187.jpg  \n",
            "  inflating: /content/dataset/test/Uninfected/uninfected_test_0188.jpg  \n",
            "  inflating: /content/dataset/test/Uninfected/uninfected_test_0189.jpg  \n",
            "  inflating: /content/dataset/test/Uninfected/uninfected_test_0190.jpg  \n",
            "  inflating: /content/dataset/test/Uninfected/uninfected_test_0191.jpg  \n",
            "  inflating: /content/dataset/test/Uninfected/uninfected_test_0192.jpg  \n",
            "  inflating: /content/dataset/test/Uninfected/uninfected_test_0193.jpg  \n",
            "  inflating: /content/dataset/test/Uninfected/uninfected_test_0194.jpg  \n",
            "  inflating: /content/dataset/test/Uninfected/uninfected_test_0195.jpg  \n",
            "  inflating: /content/dataset/test/Uninfected/uninfected_test_0196.jpg  \n",
            "  inflating: /content/dataset/test/Uninfected/uninfected_test_0197.jpg  \n",
            "  inflating: /content/dataset/test/Uninfected/uninfected_test_0198.jpg  \n",
            "  inflating: /content/dataset/test/Uninfected/uninfected_test_0199.jpg  \n",
            "  inflating: /content/dataset/test/Uninfected/uninfected_test_0200.jpg  \n",
            "  inflating: /content/dataset/test/Uninfected/uninfected_test_0201.jpg  \n",
            "  inflating: /content/dataset/test/Uninfected/uninfected_test_0202.jpg  \n",
            "  inflating: /content/dataset/test/Uninfected/uninfected_test_0203.jpg  \n",
            "  inflating: /content/dataset/test/Uninfected/uninfected_test_0204.jpg  \n",
            "  inflating: /content/dataset/test/Uninfected/uninfected_test_0205.jpg  \n",
            "  inflating: /content/dataset/test/Uninfected/uninfected_test_0206.jpg  \n",
            "  inflating: /content/dataset/test/Uninfected/uninfected_test_0207.jpg  \n",
            "  inflating: /content/dataset/test/Uninfected/uninfected_test_0208.jpg  \n",
            "  inflating: /content/dataset/test/Uninfected/uninfected_test_0209.jpg  \n",
            "  inflating: /content/dataset/test/Uninfected/uninfected_test_0210.jpg  \n",
            "  inflating: /content/dataset/test/Uninfected/uninfected_test_0211.jpg  \n",
            "  inflating: /content/dataset/test/Uninfected/uninfected_test_0212.jpg  \n",
            "  inflating: /content/dataset/test/Uninfected/uninfected_test_0213.jpg  \n",
            "  inflating: /content/dataset/test/Uninfected/uninfected_test_0214.jpg  \n",
            "  inflating: /content/dataset/test/Uninfected/uninfected_test_0215.jpg  \n",
            "  inflating: /content/dataset/test/Uninfected/uninfected_test_0216.jpg  \n",
            "  inflating: /content/dataset/test/Uninfected/uninfected_test_0217.jpg  \n",
            "  inflating: /content/dataset/test/Uninfected/uninfected_test_0218.jpg  \n",
            "  inflating: /content/dataset/test/Uninfected/uninfected_test_0219.jpg  \n",
            "  inflating: /content/dataset/test/Uninfected/uninfected_test_0220.jpg  \n",
            "  inflating: /content/dataset/test/Uninfected/uninfected_test_0221.jpg  \n",
            "  inflating: /content/dataset/test/Uninfected/uninfected_test_0222.jpg  \n",
            "  inflating: /content/dataset/test/Uninfected/uninfected_test_0223.jpg  \n",
            "  inflating: /content/dataset/test/Uninfected/uninfected_test_0224.jpg  \n",
            "  inflating: /content/dataset/test/Uninfected/uninfected_test_0225.jpg  \n",
            "  inflating: /content/dataset/test/Uninfected/uninfected_test_0226.jpg  \n",
            "  inflating: /content/dataset/test/Uninfected/uninfected_test_0227.jpg  \n",
            "  inflating: /content/dataset/test/Uninfected/uninfected_test_0228.jpg  \n",
            "  inflating: /content/dataset/test/Uninfected/uninfected_test_0229.jpg  \n",
            "  inflating: /content/dataset/test/Uninfected/uninfected_test_0230.jpg  \n",
            "  inflating: /content/dataset/test/Uninfected/uninfected_test_0231.jpg  \n",
            "  inflating: /content/dataset/test/Uninfected/uninfected_test_0232.jpg  \n",
            "  inflating: /content/dataset/test/Uninfected/uninfected_test_0233.jpg  \n",
            "  inflating: /content/dataset/test/Uninfected/uninfected_test_0234.jpg  \n",
            "  inflating: /content/dataset/test/Uninfected/uninfected_test_0235.jpg  \n",
            "  inflating: /content/dataset/test/Uninfected/uninfected_test_0236.jpg  \n",
            "  inflating: /content/dataset/test/Uninfected/uninfected_test_0237.jpg  \n",
            "  inflating: /content/dataset/test/Uninfected/uninfected_test_0238.jpg  \n",
            "  inflating: /content/dataset/test/Uninfected/uninfected_test_0239.jpg  \n",
            "  inflating: /content/dataset/test/Uninfected/uninfected_test_0240.jpg  \n",
            "  inflating: /content/dataset/test/Uninfected/uninfected_test_0241.jpg  \n",
            "  inflating: /content/dataset/test/Uninfected/uninfected_test_0242.jpg  \n",
            "  inflating: /content/dataset/test/Uninfected/uninfected_test_0243.jpg  \n",
            "  inflating: /content/dataset/test/Uninfected/uninfected_test_0244.jpg  \n",
            "  inflating: /content/dataset/test/Uninfected/uninfected_test_0245.jpg  \n",
            "  inflating: /content/dataset/test/Uninfected/uninfected_test_0246.jpg  \n",
            "  inflating: /content/dataset/test/Uninfected/uninfected_test_0247.jpg  \n",
            "  inflating: /content/dataset/test/Uninfected/uninfected_test_0248.jpg  \n",
            "  inflating: /content/dataset/test/Uninfected/uninfected_test_0249.jpg  \n",
            "  inflating: /content/dataset/test/Uninfected/uninfected_test_0250.jpg  \n",
            "  inflating: /content/dataset/test/Uninfected/uninfected_test_0251.jpg  \n",
            "  inflating: /content/dataset/test/Uninfected/uninfected_test_0252.jpg  \n",
            "  inflating: /content/dataset/test/Uninfected/uninfected_test_0253.jpg  \n",
            "  inflating: /content/dataset/test/Uninfected/uninfected_test_0254.jpg  \n",
            "  inflating: /content/dataset/test/Uninfected/uninfected_test_0255.jpg  \n",
            "  inflating: /content/dataset/test/Uninfected/uninfected_test_0256.jpg  \n",
            "  inflating: /content/dataset/test/Uninfected/uninfected_test_0257.jpg  \n",
            "  inflating: /content/dataset/test/Uninfected/uninfected_test_0258.jpg  \n",
            "  inflating: /content/dataset/test/Uninfected/uninfected_test_0259.jpg  \n",
            "  inflating: /content/dataset/test/Uninfected/uninfected_test_0260.jpg  \n",
            "  inflating: /content/dataset/test/Uninfected/uninfected_test_0261.jpg  \n",
            "  inflating: /content/dataset/test/Uninfected/uninfected_test_0262.jpg  \n",
            "  inflating: /content/dataset/test/Uninfected/uninfected_test_0263.jpg  \n",
            "  inflating: /content/dataset/test/Uninfected/uninfected_test_0264.jpg  \n",
            "  inflating: /content/dataset/test/Uninfected/uninfected_test_0265.jpg  \n",
            "  inflating: /content/dataset/test/Uninfected/uninfected_test_0266.jpg  \n",
            "  inflating: /content/dataset/test/Uninfected/uninfected_test_0267.jpg  \n",
            "  inflating: /content/dataset/test/Uninfected/uninfected_test_0268.jpg  \n",
            "  inflating: /content/dataset/test/Uninfected/uninfected_test_0269.jpg  \n",
            "  inflating: /content/dataset/test/Uninfected/uninfected_test_0270.jpg  \n",
            "  inflating: /content/dataset/test/Uninfected/uninfected_test_0271.jpg  \n",
            "  inflating: /content/dataset/test/Uninfected/uninfected_test_0272.jpg  \n",
            "  inflating: /content/dataset/test/Uninfected/uninfected_test_0273.jpg  \n",
            "  inflating: /content/dataset/test/Uninfected/uninfected_test_0274.jpg  \n",
            "  inflating: /content/dataset/test/Uninfected/uninfected_test_0275.jpg  \n",
            "  inflating: /content/dataset/test/Uninfected/uninfected_test_0276.jpg  \n",
            "  inflating: /content/dataset/test/Uninfected/uninfected_test_0277.jpg  \n",
            "  inflating: /content/dataset/test/Uninfected/uninfected_test_0278.jpg  \n",
            "  inflating: /content/dataset/test/Uninfected/uninfected_test_0279.jpg  \n",
            "  inflating: /content/dataset/test/Uninfected/uninfected_test_0280.jpg  \n",
            "  inflating: /content/dataset/test/Uninfected/uninfected_test_0281.jpg  \n",
            "  inflating: /content/dataset/test/Uninfected/uninfected_test_0282.jpg  \n",
            "  inflating: /content/dataset/test/Uninfected/uninfected_test_0283.jpg  \n",
            "  inflating: /content/dataset/test/Uninfected/uninfected_test_0284.jpg  \n",
            "  inflating: /content/dataset/test/Uninfected/uninfected_test_0285.jpg  \n",
            "  inflating: /content/dataset/test/Uninfected/uninfected_test_0286.jpg  \n",
            "  inflating: /content/dataset/test/Uninfected/uninfected_test_0287.jpg  \n",
            "  inflating: /content/dataset/test/Uninfected/uninfected_test_0288.jpg  \n",
            "  inflating: /content/dataset/test/Uninfected/uninfected_test_0289.jpg  \n",
            "  inflating: /content/dataset/test/Uninfected/uninfected_test_0290.jpg  \n",
            "  inflating: /content/dataset/test/Uninfected/uninfected_test_0291.jpg  \n",
            "  inflating: /content/dataset/test/Uninfected/uninfected_test_0292.jpg  \n",
            "  inflating: /content/dataset/test/Uninfected/uninfected_test_0293.jpg  \n",
            "  inflating: /content/dataset/test/Uninfected/uninfected_test_0294.jpg  \n",
            "  inflating: /content/dataset/test/Uninfected/uninfected_test_0295.jpg  \n",
            "  inflating: /content/dataset/test/Uninfected/uninfected_test_0296.jpg  \n",
            "  inflating: /content/dataset/test/Uninfected/uninfected_test_0297.jpg  \n",
            "  inflating: /content/dataset/test/Uninfected/uninfected_test_0298.jpg  \n",
            "  inflating: /content/dataset/test/Uninfected/uninfected_test_0299.jpg  \n",
            "  inflating: /content/dataset/test/Uninfected/uninfected_test_0300.jpg  \n",
            "   creating: /content/dataset/train/\n",
            "   creating: /content/dataset/train/Infected/\n",
            "  inflating: /content/dataset/train/Infected/infected_train_0001.jpg  \n",
            "  inflating: /content/dataset/train/Infected/infected_train_0002.jpg  \n",
            "  inflating: /content/dataset/train/Infected/infected_train_0003.jpg  \n",
            "  inflating: /content/dataset/train/Infected/infected_train_0004.jpg  \n",
            "  inflating: /content/dataset/train/Infected/infected_train_0005.jpg  \n",
            "  inflating: /content/dataset/train/Infected/infected_train_0006.jpg  \n",
            "  inflating: /content/dataset/train/Infected/infected_train_0007.jpg  \n",
            "  inflating: /content/dataset/train/Infected/infected_train_0008.jpg  \n",
            "  inflating: /content/dataset/train/Infected/infected_train_0009.jpg  \n",
            "  inflating: /content/dataset/train/Infected/infected_train_0010.jpg  \n",
            "  inflating: /content/dataset/train/Infected/infected_train_0011.jpg  \n",
            "  inflating: /content/dataset/train/Infected/infected_train_0012.jpg  \n",
            "  inflating: /content/dataset/train/Infected/infected_train_0013.jpg  \n",
            "  inflating: /content/dataset/train/Infected/infected_train_0014.jpg  \n",
            "  inflating: /content/dataset/train/Infected/infected_train_0015.jpg  \n",
            "  inflating: /content/dataset/train/Infected/infected_train_0016.jpg  \n",
            "  inflating: /content/dataset/train/Infected/infected_train_0017.jpg  \n",
            "  inflating: /content/dataset/train/Infected/infected_train_0018.jpg  \n",
            "  inflating: /content/dataset/train/Infected/infected_train_0019.jpg  \n",
            "  inflating: /content/dataset/train/Infected/infected_train_0020.jpg  \n",
            "  inflating: /content/dataset/train/Infected/infected_train_0021.jpg  \n",
            "  inflating: /content/dataset/train/Infected/infected_train_0022.jpg  \n",
            "  inflating: /content/dataset/train/Infected/infected_train_0023.jpg  \n",
            "  inflating: /content/dataset/train/Infected/infected_train_0024.jpg  \n",
            "  inflating: /content/dataset/train/Infected/infected_train_0025.jpg  \n",
            "  inflating: /content/dataset/train/Infected/infected_train_0026.jpg  \n",
            "  inflating: /content/dataset/train/Infected/infected_train_0027.jpg  \n",
            "  inflating: /content/dataset/train/Infected/infected_train_0028.jpg  \n",
            "  inflating: /content/dataset/train/Infected/infected_train_0029.jpg  \n",
            "  inflating: /content/dataset/train/Infected/infected_train_0030.jpg  \n",
            "  inflating: /content/dataset/train/Infected/infected_train_0031.jpg  \n",
            "  inflating: /content/dataset/train/Infected/infected_train_0032.jpg  \n",
            "  inflating: /content/dataset/train/Infected/infected_train_0033.jpg  \n",
            "  inflating: /content/dataset/train/Infected/infected_train_0034.jpg  \n",
            "  inflating: /content/dataset/train/Infected/infected_train_0035.jpg  \n",
            "  inflating: /content/dataset/train/Infected/infected_train_0036.jpg  \n",
            "  inflating: /content/dataset/train/Infected/infected_train_0037.jpg  \n",
            "  inflating: /content/dataset/train/Infected/infected_train_0038.jpg  \n",
            "  inflating: /content/dataset/train/Infected/infected_train_0039.jpg  \n",
            "  inflating: /content/dataset/train/Infected/infected_train_0040.jpg  \n",
            "  inflating: /content/dataset/train/Infected/infected_train_0041.jpg  \n",
            "  inflating: /content/dataset/train/Infected/infected_train_0042.jpg  \n",
            "  inflating: /content/dataset/train/Infected/infected_train_0043.jpg  \n",
            "  inflating: /content/dataset/train/Infected/infected_train_0044.jpg  \n",
            "  inflating: /content/dataset/train/Infected/infected_train_0045.jpg  \n",
            "  inflating: /content/dataset/train/Infected/infected_train_0046.jpg  \n",
            "  inflating: /content/dataset/train/Infected/infected_train_0047.jpg  \n",
            "  inflating: /content/dataset/train/Infected/infected_train_0048.jpg  \n",
            "  inflating: /content/dataset/train/Infected/infected_train_0049.jpg  \n",
            "  inflating: /content/dataset/train/Infected/infected_train_0050.jpg  \n",
            "  inflating: /content/dataset/train/Infected/infected_train_0051.jpg  \n",
            "  inflating: /content/dataset/train/Infected/infected_train_0052.jpg  \n",
            "  inflating: /content/dataset/train/Infected/infected_train_0053.jpg  \n",
            "  inflating: /content/dataset/train/Infected/infected_train_0054.jpg  \n",
            "  inflating: /content/dataset/train/Infected/infected_train_0055.jpg  \n",
            "  inflating: /content/dataset/train/Infected/infected_train_0056.jpg  \n",
            "  inflating: /content/dataset/train/Infected/infected_train_0057.jpg  \n",
            "  inflating: /content/dataset/train/Infected/infected_train_0058.jpg  \n",
            "  inflating: /content/dataset/train/Infected/infected_train_0059.jpg  \n",
            "  inflating: /content/dataset/train/Infected/infected_train_0060.jpg  \n",
            "  inflating: /content/dataset/train/Infected/infected_train_0061.jpg  \n",
            "  inflating: /content/dataset/train/Infected/infected_train_0062.jpg  \n",
            "  inflating: /content/dataset/train/Infected/infected_train_0063.jpg  \n",
            "  inflating: /content/dataset/train/Infected/infected_train_0064.jpg  \n",
            "  inflating: /content/dataset/train/Infected/infected_train_0065.jpg  \n",
            "  inflating: /content/dataset/train/Infected/infected_train_0066.jpg  \n",
            "  inflating: /content/dataset/train/Infected/infected_train_0067.jpg  \n",
            "  inflating: /content/dataset/train/Infected/infected_train_0068.jpg  \n",
            "  inflating: /content/dataset/train/Infected/infected_train_0069.jpg  \n",
            "  inflating: /content/dataset/train/Infected/infected_train_0070.jpg  \n",
            "  inflating: /content/dataset/train/Infected/infected_train_0071.jpg  \n",
            "  inflating: /content/dataset/train/Infected/infected_train_0072.jpg  \n",
            "  inflating: /content/dataset/train/Infected/infected_train_0073.jpg  \n",
            "  inflating: /content/dataset/train/Infected/infected_train_0074.jpg  \n",
            "  inflating: /content/dataset/train/Infected/infected_train_0075.jpg  \n",
            "  inflating: /content/dataset/train/Infected/infected_train_0076.jpg  \n",
            "  inflating: /content/dataset/train/Infected/infected_train_0077.jpg  \n",
            "  inflating: /content/dataset/train/Infected/infected_train_0078.jpg  \n",
            "  inflating: /content/dataset/train/Infected/infected_train_0079.jpg  \n",
            "  inflating: /content/dataset/train/Infected/infected_train_0080.jpg  \n",
            "  inflating: /content/dataset/train/Infected/infected_train_0081.jpg  \n",
            "  inflating: /content/dataset/train/Infected/infected_train_0082.jpg  \n",
            "  inflating: /content/dataset/train/Infected/infected_train_0083.jpg  \n",
            "  inflating: /content/dataset/train/Infected/infected_train_0084.jpg  \n",
            "  inflating: /content/dataset/train/Infected/infected_train_0085.jpg  \n",
            "  inflating: /content/dataset/train/Infected/infected_train_0086.jpg  \n",
            "  inflating: /content/dataset/train/Infected/infected_train_0087.jpg  \n",
            "  inflating: /content/dataset/train/Infected/infected_train_0088.jpg  \n",
            "  inflating: /content/dataset/train/Infected/infected_train_0089.jpg  \n",
            "  inflating: /content/dataset/train/Infected/infected_train_0090.jpg  \n",
            "  inflating: /content/dataset/train/Infected/infected_train_0091.jpg  \n",
            "  inflating: /content/dataset/train/Infected/infected_train_0092.jpg  \n",
            "  inflating: /content/dataset/train/Infected/infected_train_0093.jpg  \n",
            "  inflating: /content/dataset/train/Infected/infected_train_0094.jpg  \n",
            "  inflating: /content/dataset/train/Infected/infected_train_0095.jpg  \n",
            "  inflating: /content/dataset/train/Infected/infected_train_0096.jpg  \n",
            "  inflating: /content/dataset/train/Infected/infected_train_0097.jpg  \n",
            "  inflating: /content/dataset/train/Infected/infected_train_0098.jpg  \n",
            "  inflating: /content/dataset/train/Infected/infected_train_0099.jpg  \n",
            "  inflating: /content/dataset/train/Infected/infected_train_0100.jpg  \n",
            "  inflating: /content/dataset/train/Infected/infected_train_0101.jpg  \n",
            "  inflating: /content/dataset/train/Infected/infected_train_0102.jpg  \n",
            "  inflating: /content/dataset/train/Infected/infected_train_0103.jpg  \n",
            "  inflating: /content/dataset/train/Infected/infected_train_0104.jpg  \n",
            "  inflating: /content/dataset/train/Infected/infected_train_0105.jpg  \n",
            "  inflating: /content/dataset/train/Infected/infected_train_0106.jpg  \n",
            "  inflating: /content/dataset/train/Infected/infected_train_0107.jpg  \n",
            "  inflating: /content/dataset/train/Infected/infected_train_0108.jpg  \n",
            "  inflating: /content/dataset/train/Infected/infected_train_0109.jpg  \n",
            "  inflating: /content/dataset/train/Infected/infected_train_0110.jpg  \n",
            "  inflating: /content/dataset/train/Infected/infected_train_0111.jpg  \n",
            "  inflating: /content/dataset/train/Infected/infected_train_0112.jpg  \n",
            "  inflating: /content/dataset/train/Infected/infected_train_0113.jpg  \n",
            "  inflating: /content/dataset/train/Infected/infected_train_0114.jpg  \n",
            "  inflating: /content/dataset/train/Infected/infected_train_0115.jpg  \n",
            "  inflating: /content/dataset/train/Infected/infected_train_0116.jpg  \n",
            "  inflating: /content/dataset/train/Infected/infected_train_0117.jpg  \n",
            "  inflating: /content/dataset/train/Infected/infected_train_0118.jpg  \n",
            "  inflating: /content/dataset/train/Infected/infected_train_0119.jpg  \n",
            "  inflating: /content/dataset/train/Infected/infected_train_0120.jpg  \n",
            "  inflating: /content/dataset/train/Infected/infected_train_0121.jpg  \n",
            "  inflating: /content/dataset/train/Infected/infected_train_0122.jpg  \n",
            "  inflating: /content/dataset/train/Infected/infected_train_0123.jpg  \n",
            "  inflating: /content/dataset/train/Infected/infected_train_0124.jpg  \n",
            "  inflating: /content/dataset/train/Infected/infected_train_0125.jpg  \n",
            "  inflating: /content/dataset/train/Infected/infected_train_0126.jpg  \n",
            "  inflating: /content/dataset/train/Infected/infected_train_0127.jpg  \n",
            "  inflating: /content/dataset/train/Infected/infected_train_0128.jpg  \n",
            "  inflating: /content/dataset/train/Infected/infected_train_0129.jpg  \n",
            "  inflating: /content/dataset/train/Infected/infected_train_0130.jpg  \n",
            "  inflating: /content/dataset/train/Infected/infected_train_0131.jpg  \n",
            "  inflating: /content/dataset/train/Infected/infected_train_0132.jpg  \n",
            "  inflating: /content/dataset/train/Infected/infected_train_0133.jpg  \n",
            "  inflating: /content/dataset/train/Infected/infected_train_0134.jpg  \n",
            "  inflating: /content/dataset/train/Infected/infected_train_0135.jpg  \n",
            "  inflating: /content/dataset/train/Infected/infected_train_0136.jpg  \n",
            "  inflating: /content/dataset/train/Infected/infected_train_0137.jpg  \n",
            "  inflating: /content/dataset/train/Infected/infected_train_0138.jpg  \n",
            "  inflating: /content/dataset/train/Infected/infected_train_0139.jpg  \n",
            "  inflating: /content/dataset/train/Infected/infected_train_0140.jpg  \n",
            "  inflating: /content/dataset/train/Infected/infected_train_0141.jpg  \n",
            "  inflating: /content/dataset/train/Infected/infected_train_0142.jpg  \n",
            "  inflating: /content/dataset/train/Infected/infected_train_0143.jpg  \n",
            "  inflating: /content/dataset/train/Infected/infected_train_0144.jpg  \n",
            "  inflating: /content/dataset/train/Infected/infected_train_0145.jpg  \n",
            "  inflating: /content/dataset/train/Infected/infected_train_0146.jpg  \n",
            "  inflating: /content/dataset/train/Infected/infected_train_0147.jpg  \n",
            "  inflating: /content/dataset/train/Infected/infected_train_0148.jpg  \n",
            "  inflating: /content/dataset/train/Infected/infected_train_0149.jpg  \n",
            "  inflating: /content/dataset/train/Infected/infected_train_0150.jpg  \n",
            "  inflating: /content/dataset/train/Infected/infected_train_0151.jpg  \n",
            "  inflating: /content/dataset/train/Infected/infected_train_0152.jpg  \n",
            "  inflating: /content/dataset/train/Infected/infected_train_0153.jpg  \n",
            "  inflating: /content/dataset/train/Infected/infected_train_0154.jpg  \n",
            "  inflating: /content/dataset/train/Infected/infected_train_0155.jpg  \n",
            "  inflating: /content/dataset/train/Infected/infected_train_0156.jpg  \n",
            "  inflating: /content/dataset/train/Infected/infected_train_0157.jpg  \n",
            "  inflating: /content/dataset/train/Infected/infected_train_0158.jpg  \n",
            "  inflating: /content/dataset/train/Infected/infected_train_0159.jpg  \n",
            "  inflating: /content/dataset/train/Infected/infected_train_0160.jpg  \n",
            "  inflating: /content/dataset/train/Infected/infected_train_0161.jpg  \n",
            "  inflating: /content/dataset/train/Infected/infected_train_0162.jpg  \n",
            "  inflating: /content/dataset/train/Infected/infected_train_0163.jpg  \n",
            "  inflating: /content/dataset/train/Infected/infected_train_0164.jpg  \n",
            "  inflating: /content/dataset/train/Infected/infected_train_0165.jpg  \n",
            "  inflating: /content/dataset/train/Infected/infected_train_0166.jpg  \n",
            "  inflating: /content/dataset/train/Infected/infected_train_0167.jpg  \n",
            "  inflating: /content/dataset/train/Infected/infected_train_0168.jpg  \n",
            "  inflating: /content/dataset/train/Infected/infected_train_0169.jpg  \n",
            "  inflating: /content/dataset/train/Infected/infected_train_0170.jpg  \n",
            "  inflating: /content/dataset/train/Infected/infected_train_0171.jpg  \n",
            "  inflating: /content/dataset/train/Infected/infected_train_0172.jpg  \n",
            "  inflating: /content/dataset/train/Infected/infected_train_0173.jpg  \n",
            "  inflating: /content/dataset/train/Infected/infected_train_0174.jpg  \n",
            "  inflating: /content/dataset/train/Infected/infected_train_0175.jpg  \n",
            "  inflating: /content/dataset/train/Infected/infected_train_0176.jpg  \n",
            "  inflating: /content/dataset/train/Infected/infected_train_0177.jpg  \n",
            "  inflating: /content/dataset/train/Infected/infected_train_0178.jpg  \n",
            "  inflating: /content/dataset/train/Infected/infected_train_0179.jpg  \n",
            "  inflating: /content/dataset/train/Infected/infected_train_0180.jpg  \n",
            "  inflating: /content/dataset/train/Infected/infected_train_0181.jpg  \n",
            "  inflating: /content/dataset/train/Infected/infected_train_0182.jpg  \n",
            "  inflating: /content/dataset/train/Infected/infected_train_0183.jpg  \n",
            "  inflating: /content/dataset/train/Infected/infected_train_0184.jpg  \n",
            "  inflating: /content/dataset/train/Infected/infected_train_0185.jpg  \n",
            "  inflating: /content/dataset/train/Infected/infected_train_0186.jpg  \n",
            "  inflating: /content/dataset/train/Infected/infected_train_0187.jpg  \n",
            "  inflating: /content/dataset/train/Infected/infected_train_0188.jpg  \n",
            "  inflating: /content/dataset/train/Infected/infected_train_0189.jpg  \n",
            "  inflating: /content/dataset/train/Infected/infected_train_0190.jpg  \n",
            "  inflating: /content/dataset/train/Infected/infected_train_0191.jpg  \n",
            "  inflating: /content/dataset/train/Infected/infected_train_0192.jpg  \n",
            "  inflating: /content/dataset/train/Infected/infected_train_0193.jpg  \n",
            "  inflating: /content/dataset/train/Infected/infected_train_0194.jpg  \n",
            "  inflating: /content/dataset/train/Infected/infected_train_0195.jpg  \n",
            "  inflating: /content/dataset/train/Infected/infected_train_0196.jpg  \n",
            "  inflating: /content/dataset/train/Infected/infected_train_0197.jpg  \n",
            "  inflating: /content/dataset/train/Infected/infected_train_0198.jpg  \n",
            "  inflating: /content/dataset/train/Infected/infected_train_0199.jpg  \n",
            "  inflating: /content/dataset/train/Infected/infected_train_0200.jpg  \n",
            "  inflating: /content/dataset/train/Infected/infected_train_0201.jpg  \n",
            "  inflating: /content/dataset/train/Infected/infected_train_0202.jpg  \n",
            "  inflating: /content/dataset/train/Infected/infected_train_0203.jpg  \n",
            "  inflating: /content/dataset/train/Infected/infected_train_0204.jpg  \n",
            "  inflating: /content/dataset/train/Infected/infected_train_0205.jpg  \n",
            "  inflating: /content/dataset/train/Infected/infected_train_0206.jpg  \n",
            "  inflating: /content/dataset/train/Infected/infected_train_0207.jpg  \n",
            "  inflating: /content/dataset/train/Infected/infected_train_0208.jpg  \n",
            "  inflating: /content/dataset/train/Infected/infected_train_0209.jpg  \n",
            "  inflating: /content/dataset/train/Infected/infected_train_0210.jpg  \n",
            "  inflating: /content/dataset/train/Infected/infected_train_0211.jpg  \n",
            "  inflating: /content/dataset/train/Infected/infected_train_0212.jpg  \n",
            "  inflating: /content/dataset/train/Infected/infected_train_0213.jpg  \n",
            "  inflating: /content/dataset/train/Infected/infected_train_0214.jpg  \n",
            "  inflating: /content/dataset/train/Infected/infected_train_0215.jpg  \n",
            "  inflating: /content/dataset/train/Infected/infected_train_0216.jpg  \n",
            "  inflating: /content/dataset/train/Infected/infected_train_0217.jpg  \n",
            "  inflating: /content/dataset/train/Infected/infected_train_0218.jpg  \n",
            "  inflating: /content/dataset/train/Infected/infected_train_0219.jpg  \n",
            "  inflating: /content/dataset/train/Infected/infected_train_0220.jpg  \n",
            "  inflating: /content/dataset/train/Infected/infected_train_0221.jpg  \n",
            "  inflating: /content/dataset/train/Infected/infected_train_0222.jpg  \n",
            "  inflating: /content/dataset/train/Infected/infected_train_0223.jpg  \n",
            "  inflating: /content/dataset/train/Infected/infected_train_0224.jpg  \n",
            "  inflating: /content/dataset/train/Infected/infected_train_0225.jpg  \n",
            "  inflating: /content/dataset/train/Infected/infected_train_0226.jpg  \n",
            "  inflating: /content/dataset/train/Infected/infected_train_0227.jpg  \n",
            "  inflating: /content/dataset/train/Infected/infected_train_0228.jpg  \n",
            "  inflating: /content/dataset/train/Infected/infected_train_0229.jpg  \n",
            "  inflating: /content/dataset/train/Infected/infected_train_0230.jpg  \n",
            "  inflating: /content/dataset/train/Infected/infected_train_0231.jpg  \n",
            "  inflating: /content/dataset/train/Infected/infected_train_0232.jpg  \n",
            "  inflating: /content/dataset/train/Infected/infected_train_0233.jpg  \n",
            "  inflating: /content/dataset/train/Infected/infected_train_0234.jpg  \n",
            "  inflating: /content/dataset/train/Infected/infected_train_0235.jpg  \n",
            "  inflating: /content/dataset/train/Infected/infected_train_0236.jpg  \n",
            "  inflating: /content/dataset/train/Infected/infected_train_0237.jpg  \n",
            "  inflating: /content/dataset/train/Infected/infected_train_0238.jpg  \n",
            "  inflating: /content/dataset/train/Infected/infected_train_0239.jpg  \n",
            "  inflating: /content/dataset/train/Infected/infected_train_0240.jpg  \n",
            "  inflating: /content/dataset/train/Infected/infected_train_0241.jpg  \n",
            "  inflating: /content/dataset/train/Infected/infected_train_0242.jpg  \n",
            "  inflating: /content/dataset/train/Infected/infected_train_0243.jpg  \n",
            "  inflating: /content/dataset/train/Infected/infected_train_0244.jpg  \n",
            "  inflating: /content/dataset/train/Infected/infected_train_0245.jpg  \n",
            "  inflating: /content/dataset/train/Infected/infected_train_0246.jpg  \n",
            "  inflating: /content/dataset/train/Infected/infected_train_0247.jpg  \n",
            "  inflating: /content/dataset/train/Infected/infected_train_0248.jpg  \n",
            "  inflating: /content/dataset/train/Infected/infected_train_0249.jpg  \n",
            "  inflating: /content/dataset/train/Infected/infected_train_0250.jpg  \n",
            "  inflating: /content/dataset/train/Infected/infected_train_0251.jpg  \n",
            "  inflating: /content/dataset/train/Infected/infected_train_0252.jpg  \n",
            "  inflating: /content/dataset/train/Infected/infected_train_0253.jpg  \n",
            "  inflating: /content/dataset/train/Infected/infected_train_0254.jpg  \n",
            "  inflating: /content/dataset/train/Infected/infected_train_0255.jpg  \n",
            "  inflating: /content/dataset/train/Infected/infected_train_0256.jpg  \n",
            "  inflating: /content/dataset/train/Infected/infected_train_0257.jpg  \n",
            "  inflating: /content/dataset/train/Infected/infected_train_0258.jpg  \n",
            "  inflating: /content/dataset/train/Infected/infected_train_0259.jpg  \n",
            "  inflating: /content/dataset/train/Infected/infected_train_0260.jpg  \n",
            "  inflating: /content/dataset/train/Infected/infected_train_0261.jpg  \n",
            "  inflating: /content/dataset/train/Infected/infected_train_0262.jpg  \n",
            "  inflating: /content/dataset/train/Infected/infected_train_0263.jpg  \n",
            "  inflating: /content/dataset/train/Infected/infected_train_0264.jpg  \n",
            "  inflating: /content/dataset/train/Infected/infected_train_0265.jpg  \n",
            "  inflating: /content/dataset/train/Infected/infected_train_0266.jpg  \n",
            "  inflating: /content/dataset/train/Infected/infected_train_0267.jpg  \n",
            "  inflating: /content/dataset/train/Infected/infected_train_0268.jpg  \n",
            "  inflating: /content/dataset/train/Infected/infected_train_0269.jpg  \n",
            "  inflating: /content/dataset/train/Infected/infected_train_0270.jpg  \n",
            "  inflating: /content/dataset/train/Infected/infected_train_0271.jpg  \n",
            "  inflating: /content/dataset/train/Infected/infected_train_0272.jpg  \n",
            "  inflating: /content/dataset/train/Infected/infected_train_0273.jpg  \n",
            "  inflating: /content/dataset/train/Infected/infected_train_0274.jpg  \n",
            "  inflating: /content/dataset/train/Infected/infected_train_0275.jpg  \n",
            "  inflating: /content/dataset/train/Infected/infected_train_0276.jpg  \n",
            "  inflating: /content/dataset/train/Infected/infected_train_0277.jpg  \n",
            "  inflating: /content/dataset/train/Infected/infected_train_0278.jpg  \n",
            "  inflating: /content/dataset/train/Infected/infected_train_0279.jpg  \n",
            "  inflating: /content/dataset/train/Infected/infected_train_0280.jpg  \n",
            "  inflating: /content/dataset/train/Infected/infected_train_0281.jpg  \n",
            "  inflating: /content/dataset/train/Infected/infected_train_0282.jpg  \n",
            "  inflating: /content/dataset/train/Infected/infected_train_0283.jpg  \n",
            "  inflating: /content/dataset/train/Infected/infected_train_0284.jpg  \n",
            "  inflating: /content/dataset/train/Infected/infected_train_0285.jpg  \n",
            "  inflating: /content/dataset/train/Infected/infected_train_0286.jpg  \n",
            "  inflating: /content/dataset/train/Infected/infected_train_0287.jpg  \n",
            "  inflating: /content/dataset/train/Infected/infected_train_0288.jpg  \n",
            "  inflating: /content/dataset/train/Infected/infected_train_0289.jpg  \n",
            "  inflating: /content/dataset/train/Infected/infected_train_0290.jpg  \n",
            "  inflating: /content/dataset/train/Infected/infected_train_0291.jpg  \n",
            "  inflating: /content/dataset/train/Infected/infected_train_0292.jpg  \n",
            "  inflating: /content/dataset/train/Infected/infected_train_0293.jpg  \n",
            "  inflating: /content/dataset/train/Infected/infected_train_0294.jpg  \n",
            "  inflating: /content/dataset/train/Infected/infected_train_0295.jpg  \n",
            "  inflating: /content/dataset/train/Infected/infected_train_0296.jpg  \n",
            "  inflating: /content/dataset/train/Infected/infected_train_0297.jpg  \n",
            "  inflating: /content/dataset/train/Infected/infected_train_0298.jpg  \n",
            "  inflating: /content/dataset/train/Infected/infected_train_0299.jpg  \n",
            "  inflating: /content/dataset/train/Infected/infected_train_0300.jpg  \n",
            "  inflating: /content/dataset/train/Infected/infected_train_0301.jpg  \n",
            "  inflating: /content/dataset/train/Infected/infected_train_0302.jpg  \n",
            "  inflating: /content/dataset/train/Infected/infected_train_0303.jpg  \n",
            "  inflating: /content/dataset/train/Infected/infected_train_0304.jpg  \n",
            "  inflating: /content/dataset/train/Infected/infected_train_0305.jpg  \n",
            "  inflating: /content/dataset/train/Infected/infected_train_0306.jpg  \n",
            "  inflating: /content/dataset/train/Infected/infected_train_0307.jpg  \n",
            "  inflating: /content/dataset/train/Infected/infected_train_0308.jpg  \n",
            "  inflating: /content/dataset/train/Infected/infected_train_0309.jpg  \n",
            "  inflating: /content/dataset/train/Infected/infected_train_0310.jpg  \n",
            "  inflating: /content/dataset/train/Infected/infected_train_0311.jpg  \n",
            "  inflating: /content/dataset/train/Infected/infected_train_0312.jpg  \n",
            "  inflating: /content/dataset/train/Infected/infected_train_0313.jpg  \n",
            "  inflating: /content/dataset/train/Infected/infected_train_0314.jpg  \n",
            "  inflating: /content/dataset/train/Infected/infected_train_0315.jpg  \n",
            "  inflating: /content/dataset/train/Infected/infected_train_0316.jpg  \n",
            "  inflating: /content/dataset/train/Infected/infected_train_0317.jpg  \n",
            "  inflating: /content/dataset/train/Infected/infected_train_0318.jpg  \n",
            "  inflating: /content/dataset/train/Infected/infected_train_0319.jpg  \n",
            "  inflating: /content/dataset/train/Infected/infected_train_0320.jpg  \n",
            "  inflating: /content/dataset/train/Infected/infected_train_0321.jpg  \n",
            "  inflating: /content/dataset/train/Infected/infected_train_0322.jpg  \n",
            "  inflating: /content/dataset/train/Infected/infected_train_0323.jpg  \n",
            "  inflating: /content/dataset/train/Infected/infected_train_0324.jpg  \n",
            "  inflating: /content/dataset/train/Infected/infected_train_0325.jpg  \n",
            "  inflating: /content/dataset/train/Infected/infected_train_0326.jpg  \n",
            "  inflating: /content/dataset/train/Infected/infected_train_0327.jpg  \n",
            "  inflating: /content/dataset/train/Infected/infected_train_0328.jpg  \n",
            "  inflating: /content/dataset/train/Infected/infected_train_0329.jpg  \n",
            "  inflating: /content/dataset/train/Infected/infected_train_0330.jpg  \n",
            "  inflating: /content/dataset/train/Infected/infected_train_0331.jpg  \n",
            "  inflating: /content/dataset/train/Infected/infected_train_0332.jpg  \n",
            "  inflating: /content/dataset/train/Infected/infected_train_0333.jpg  \n",
            "  inflating: /content/dataset/train/Infected/infected_train_0334.jpg  \n",
            "  inflating: /content/dataset/train/Infected/infected_train_0335.jpg  \n",
            "  inflating: /content/dataset/train/Infected/infected_train_0336.jpg  \n",
            "  inflating: /content/dataset/train/Infected/infected_train_0337.jpg  \n",
            "  inflating: /content/dataset/train/Infected/infected_train_0338.jpg  \n",
            "  inflating: /content/dataset/train/Infected/infected_train_0339.jpg  \n",
            "  inflating: /content/dataset/train/Infected/infected_train_0340.jpg  \n",
            "  inflating: /content/dataset/train/Infected/infected_train_0341.jpg  \n",
            "  inflating: /content/dataset/train/Infected/infected_train_0342.jpg  \n",
            "  inflating: /content/dataset/train/Infected/infected_train_0343.jpg  \n",
            "  inflating: /content/dataset/train/Infected/infected_train_0344.jpg  \n",
            "  inflating: /content/dataset/train/Infected/infected_train_0345.jpg  \n",
            "  inflating: /content/dataset/train/Infected/infected_train_0346.jpg  \n",
            "  inflating: /content/dataset/train/Infected/infected_train_0347.jpg  \n",
            "  inflating: /content/dataset/train/Infected/infected_train_0348.jpg  \n",
            "  inflating: /content/dataset/train/Infected/infected_train_0349.jpg  \n",
            "  inflating: /content/dataset/train/Infected/infected_train_0350.jpg  \n",
            "  inflating: /content/dataset/train/Infected/infected_train_0351.jpg  \n",
            "  inflating: /content/dataset/train/Infected/infected_train_0352.jpg  \n",
            "  inflating: /content/dataset/train/Infected/infected_train_0353.jpg  \n",
            "  inflating: /content/dataset/train/Infected/infected_train_0354.jpg  \n",
            "  inflating: /content/dataset/train/Infected/infected_train_0355.jpg  \n",
            "  inflating: /content/dataset/train/Infected/infected_train_0356.jpg  \n",
            "  inflating: /content/dataset/train/Infected/infected_train_0357.jpg  \n",
            "  inflating: /content/dataset/train/Infected/infected_train_0358.jpg  \n",
            "  inflating: /content/dataset/train/Infected/infected_train_0359.jpg  \n",
            "  inflating: /content/dataset/train/Infected/infected_train_0360.jpg  \n",
            "  inflating: /content/dataset/train/Infected/infected_train_0361.jpg  \n",
            "  inflating: /content/dataset/train/Infected/infected_train_0362.jpg  \n",
            "  inflating: /content/dataset/train/Infected/infected_train_0363.jpg  \n",
            "  inflating: /content/dataset/train/Infected/infected_train_0364.jpg  \n",
            "  inflating: /content/dataset/train/Infected/infected_train_0365.jpg  \n",
            "  inflating: /content/dataset/train/Infected/infected_train_0366.jpg  \n",
            "  inflating: /content/dataset/train/Infected/infected_train_0367.jpg  \n",
            "  inflating: /content/dataset/train/Infected/infected_train_0368.jpg  \n",
            "  inflating: /content/dataset/train/Infected/infected_train_0369.jpg  \n",
            "  inflating: /content/dataset/train/Infected/infected_train_0370.jpg  \n",
            "  inflating: /content/dataset/train/Infected/infected_train_0371.jpg  \n",
            "  inflating: /content/dataset/train/Infected/infected_train_0372.jpg  \n",
            "  inflating: /content/dataset/train/Infected/infected_train_0373.jpg  \n",
            "  inflating: /content/dataset/train/Infected/infected_train_0374.jpg  \n",
            "  inflating: /content/dataset/train/Infected/infected_train_0375.jpg  \n",
            "  inflating: /content/dataset/train/Infected/infected_train_0376.jpg  \n",
            "  inflating: /content/dataset/train/Infected/infected_train_0377.jpg  \n",
            "  inflating: /content/dataset/train/Infected/infected_train_0378.jpg  \n",
            "  inflating: /content/dataset/train/Infected/infected_train_0379.jpg  \n",
            "  inflating: /content/dataset/train/Infected/infected_train_0380.jpg  \n",
            "  inflating: /content/dataset/train/Infected/infected_train_0381.jpg  \n",
            "  inflating: /content/dataset/train/Infected/infected_train_0382.jpg  \n",
            "  inflating: /content/dataset/train/Infected/infected_train_0383.jpg  \n",
            "  inflating: /content/dataset/train/Infected/infected_train_0384.jpg  \n",
            "  inflating: /content/dataset/train/Infected/infected_train_0385.jpg  \n",
            "  inflating: /content/dataset/train/Infected/infected_train_0386.jpg  \n",
            "  inflating: /content/dataset/train/Infected/infected_train_0387.jpg  \n",
            "  inflating: /content/dataset/train/Infected/infected_train_0388.jpg  \n",
            "  inflating: /content/dataset/train/Infected/infected_train_0389.jpg  \n",
            "  inflating: /content/dataset/train/Infected/infected_train_0390.jpg  \n",
            "  inflating: /content/dataset/train/Infected/infected_train_0391.jpg  \n",
            "  inflating: /content/dataset/train/Infected/infected_train_0392.jpg  \n",
            "  inflating: /content/dataset/train/Infected/infected_train_0393.jpg  \n",
            "  inflating: /content/dataset/train/Infected/infected_train_0394.jpg  \n",
            "  inflating: /content/dataset/train/Infected/infected_train_0395.jpg  \n",
            "  inflating: /content/dataset/train/Infected/infected_train_0396.jpg  \n",
            "  inflating: /content/dataset/train/Infected/infected_train_0397.jpg  \n",
            "  inflating: /content/dataset/train/Infected/infected_train_0398.jpg  \n",
            "  inflating: /content/dataset/train/Infected/infected_train_0399.jpg  \n",
            "  inflating: /content/dataset/train/Infected/infected_train_0400.jpg  \n",
            "  inflating: /content/dataset/train/Infected/infected_train_0401.jpg  \n",
            "  inflating: /content/dataset/train/Infected/infected_train_0402.jpg  \n",
            "  inflating: /content/dataset/train/Infected/infected_train_0403.jpg  \n",
            "  inflating: /content/dataset/train/Infected/infected_train_0404.jpg  \n",
            "  inflating: /content/dataset/train/Infected/infected_train_0405.jpg  \n",
            "  inflating: /content/dataset/train/Infected/infected_train_0406.jpg  \n",
            "  inflating: /content/dataset/train/Infected/infected_train_0407.jpg  \n",
            "  inflating: /content/dataset/train/Infected/infected_train_0408.jpg  \n",
            "  inflating: /content/dataset/train/Infected/infected_train_0409.jpg  \n",
            "  inflating: /content/dataset/train/Infected/infected_train_0410.jpg  \n",
            "  inflating: /content/dataset/train/Infected/infected_train_0411.jpg  \n",
            "  inflating: /content/dataset/train/Infected/infected_train_0412.jpg  \n",
            "  inflating: /content/dataset/train/Infected/infected_train_0413.jpg  \n",
            "  inflating: /content/dataset/train/Infected/infected_train_0414.jpg  \n",
            "  inflating: /content/dataset/train/Infected/infected_train_0415.jpg  \n",
            "  inflating: /content/dataset/train/Infected/infected_train_0416.jpg  \n",
            "  inflating: /content/dataset/train/Infected/infected_train_0417.jpg  \n",
            "  inflating: /content/dataset/train/Infected/infected_train_0418.jpg  \n",
            "  inflating: /content/dataset/train/Infected/infected_train_0419.jpg  \n",
            "  inflating: /content/dataset/train/Infected/infected_train_0420.jpg  \n",
            "  inflating: /content/dataset/train/Infected/infected_train_0421.jpg  \n",
            "  inflating: /content/dataset/train/Infected/infected_train_0422.jpg  \n",
            "  inflating: /content/dataset/train/Infected/infected_train_0423.jpg  \n",
            "  inflating: /content/dataset/train/Infected/infected_train_0424.jpg  \n",
            "  inflating: /content/dataset/train/Infected/infected_train_0425.jpg  \n",
            "  inflating: /content/dataset/train/Infected/infected_train_0426.jpg  \n",
            "  inflating: /content/dataset/train/Infected/infected_train_0427.jpg  \n",
            "  inflating: /content/dataset/train/Infected/infected_train_0428.jpg  \n",
            "  inflating: /content/dataset/train/Infected/infected_train_0429.jpg  \n",
            "  inflating: /content/dataset/train/Infected/infected_train_0430.jpg  \n",
            "  inflating: /content/dataset/train/Infected/infected_train_0431.jpg  \n",
            "  inflating: /content/dataset/train/Infected/infected_train_0432.jpg  \n",
            "  inflating: /content/dataset/train/Infected/infected_train_0433.jpg  \n",
            "  inflating: /content/dataset/train/Infected/infected_train_0434.jpg  \n",
            "  inflating: /content/dataset/train/Infected/infected_train_0435.jpg  \n",
            "  inflating: /content/dataset/train/Infected/infected_train_0436.jpg  \n",
            "  inflating: /content/dataset/train/Infected/infected_train_0437.jpg  \n",
            "  inflating: /content/dataset/train/Infected/infected_train_0438.jpg  \n",
            "  inflating: /content/dataset/train/Infected/infected_train_0439.jpg  \n",
            "  inflating: /content/dataset/train/Infected/infected_train_0440.jpg  \n",
            "  inflating: /content/dataset/train/Infected/infected_train_0441.jpg  \n",
            "  inflating: /content/dataset/train/Infected/infected_train_0442.jpg  \n",
            "  inflating: /content/dataset/train/Infected/infected_train_0443.jpg  \n",
            "  inflating: /content/dataset/train/Infected/infected_train_0444.jpg  \n",
            "  inflating: /content/dataset/train/Infected/infected_train_0445.jpg  \n",
            "  inflating: /content/dataset/train/Infected/infected_train_0446.jpg  \n",
            "  inflating: /content/dataset/train/Infected/infected_train_0447.jpg  \n",
            "  inflating: /content/dataset/train/Infected/infected_train_0448.jpg  \n",
            "  inflating: /content/dataset/train/Infected/infected_train_0449.jpg  \n",
            "  inflating: /content/dataset/train/Infected/infected_train_0450.jpg  \n",
            "  inflating: /content/dataset/train/Infected/infected_train_0451.jpg  \n",
            "  inflating: /content/dataset/train/Infected/infected_train_0452.jpg  \n",
            "  inflating: /content/dataset/train/Infected/infected_train_0453.jpg  \n",
            "  inflating: /content/dataset/train/Infected/infected_train_0454.jpg  \n",
            "  inflating: /content/dataset/train/Infected/infected_train_0455.jpg  \n",
            "  inflating: /content/dataset/train/Infected/infected_train_0456.jpg  \n",
            "  inflating: /content/dataset/train/Infected/infected_train_0457.jpg  \n",
            "  inflating: /content/dataset/train/Infected/infected_train_0458.jpg  \n",
            "  inflating: /content/dataset/train/Infected/infected_train_0459.jpg  \n",
            "  inflating: /content/dataset/train/Infected/infected_train_0460.jpg  \n",
            "  inflating: /content/dataset/train/Infected/infected_train_0461.jpg  \n",
            "  inflating: /content/dataset/train/Infected/infected_train_0462.jpg  \n",
            "  inflating: /content/dataset/train/Infected/infected_train_0463.jpg  \n",
            "  inflating: /content/dataset/train/Infected/infected_train_0464.jpg  \n",
            "  inflating: /content/dataset/train/Infected/infected_train_0465.jpg  \n",
            "  inflating: /content/dataset/train/Infected/infected_train_0466.jpg  \n",
            "  inflating: /content/dataset/train/Infected/infected_train_0467.jpg  \n",
            "  inflating: /content/dataset/train/Infected/infected_train_0468.jpg  \n",
            "  inflating: /content/dataset/train/Infected/infected_train_0469.jpg  \n",
            "  inflating: /content/dataset/train/Infected/infected_train_0470.jpg  \n",
            "  inflating: /content/dataset/train/Infected/infected_train_0471.jpg  \n",
            "  inflating: /content/dataset/train/Infected/infected_train_0472.jpg  \n",
            "  inflating: /content/dataset/train/Infected/infected_train_0473.jpg  \n",
            "  inflating: /content/dataset/train/Infected/infected_train_0474.jpg  \n",
            "  inflating: /content/dataset/train/Infected/infected_train_0475.jpg  \n",
            "  inflating: /content/dataset/train/Infected/infected_train_0476.jpg  \n",
            "  inflating: /content/dataset/train/Infected/infected_train_0477.jpg  \n",
            "  inflating: /content/dataset/train/Infected/infected_train_0478.jpg  \n",
            "  inflating: /content/dataset/train/Infected/infected_train_0479.jpg  \n",
            "  inflating: /content/dataset/train/Infected/infected_train_0480.jpg  \n",
            "  inflating: /content/dataset/train/Infected/infected_train_0481.jpg  \n",
            "  inflating: /content/dataset/train/Infected/infected_train_0482.jpg  \n",
            "  inflating: /content/dataset/train/Infected/infected_train_0483.jpg  \n",
            "  inflating: /content/dataset/train/Infected/infected_train_0484.jpg  \n",
            "  inflating: /content/dataset/train/Infected/infected_train_0485.jpg  \n",
            "  inflating: /content/dataset/train/Infected/infected_train_0486.jpg  \n",
            "  inflating: /content/dataset/train/Infected/infected_train_0487.jpg  \n",
            "  inflating: /content/dataset/train/Infected/infected_train_0488.jpg  \n",
            "  inflating: /content/dataset/train/Infected/infected_train_0489.jpg  \n",
            "  inflating: /content/dataset/train/Infected/infected_train_0490.jpg  \n",
            "  inflating: /content/dataset/train/Infected/infected_train_0491.jpg  \n",
            "  inflating: /content/dataset/train/Infected/infected_train_0492.jpg  \n",
            "  inflating: /content/dataset/train/Infected/infected_train_0493.jpg  \n",
            "  inflating: /content/dataset/train/Infected/infected_train_0494.jpg  \n",
            "  inflating: /content/dataset/train/Infected/infected_train_0495.jpg  \n",
            "  inflating: /content/dataset/train/Infected/infected_train_0496.jpg  \n",
            "  inflating: /content/dataset/train/Infected/infected_train_0497.jpg  \n",
            "  inflating: /content/dataset/train/Infected/infected_train_0498.jpg  \n",
            "  inflating: /content/dataset/train/Infected/infected_train_0499.jpg  \n",
            "  inflating: /content/dataset/train/Infected/infected_train_0500.jpg  \n",
            "  inflating: /content/dataset/train/Infected/infected_train_0501.jpg  \n",
            "  inflating: /content/dataset/train/Infected/infected_train_0502.jpg  \n",
            "  inflating: /content/dataset/train/Infected/infected_train_0503.jpg  \n",
            "  inflating: /content/dataset/train/Infected/infected_train_0504.jpg  \n",
            "  inflating: /content/dataset/train/Infected/infected_train_0505.jpg  \n",
            "  inflating: /content/dataset/train/Infected/infected_train_0506.jpg  \n",
            "  inflating: /content/dataset/train/Infected/infected_train_0507.jpg  \n",
            "  inflating: /content/dataset/train/Infected/infected_train_0508.jpg  \n",
            "  inflating: /content/dataset/train/Infected/infected_train_0509.jpg  \n",
            "  inflating: /content/dataset/train/Infected/infected_train_0510.jpg  \n",
            "  inflating: /content/dataset/train/Infected/infected_train_0511.jpg  \n",
            "  inflating: /content/dataset/train/Infected/infected_train_0512.jpg  \n",
            "  inflating: /content/dataset/train/Infected/infected_train_0513.jpg  \n",
            "  inflating: /content/dataset/train/Infected/infected_train_0514.jpg  \n",
            "  inflating: /content/dataset/train/Infected/infected_train_0515.jpg  \n",
            "  inflating: /content/dataset/train/Infected/infected_train_0516.jpg  \n",
            "  inflating: /content/dataset/train/Infected/infected_train_0517.jpg  \n",
            "  inflating: /content/dataset/train/Infected/infected_train_0518.jpg  \n",
            "  inflating: /content/dataset/train/Infected/infected_train_0519.jpg  \n",
            "  inflating: /content/dataset/train/Infected/infected_train_0520.jpg  \n",
            "  inflating: /content/dataset/train/Infected/infected_train_0521.jpg  \n",
            "  inflating: /content/dataset/train/Infected/infected_train_0522.jpg  \n",
            "  inflating: /content/dataset/train/Infected/infected_train_0523.jpg  \n",
            "  inflating: /content/dataset/train/Infected/infected_train_0524.jpg  \n",
            "  inflating: /content/dataset/train/Infected/infected_train_0525.jpg  \n",
            "  inflating: /content/dataset/train/Infected/infected_train_0526.jpg  \n",
            "  inflating: /content/dataset/train/Infected/infected_train_0527.jpg  \n",
            "  inflating: /content/dataset/train/Infected/infected_train_0528.jpg  \n",
            "  inflating: /content/dataset/train/Infected/infected_train_0529.jpg  \n",
            "  inflating: /content/dataset/train/Infected/infected_train_0530.jpg  \n",
            "  inflating: /content/dataset/train/Infected/infected_train_0531.jpg  \n",
            "  inflating: /content/dataset/train/Infected/infected_train_0532.jpg  \n",
            "  inflating: /content/dataset/train/Infected/infected_train_0533.jpg  \n",
            "  inflating: /content/dataset/train/Infected/infected_train_0534.jpg  \n",
            "  inflating: /content/dataset/train/Infected/infected_train_0535.jpg  \n",
            "  inflating: /content/dataset/train/Infected/infected_train_0536.jpg  \n",
            "  inflating: /content/dataset/train/Infected/infected_train_0537.jpg  \n",
            "  inflating: /content/dataset/train/Infected/infected_train_0538.jpg  \n",
            "  inflating: /content/dataset/train/Infected/infected_train_0539.jpg  \n",
            "  inflating: /content/dataset/train/Infected/infected_train_0540.jpg  \n",
            "  inflating: /content/dataset/train/Infected/infected_train_0541.jpg  \n",
            "  inflating: /content/dataset/train/Infected/infected_train_0542.jpg  \n",
            "  inflating: /content/dataset/train/Infected/infected_train_0543.jpg  \n",
            "  inflating: /content/dataset/train/Infected/infected_train_0544.jpg  \n",
            "  inflating: /content/dataset/train/Infected/infected_train_0545.jpg  \n",
            "  inflating: /content/dataset/train/Infected/infected_train_0546.jpg  \n",
            "  inflating: /content/dataset/train/Infected/infected_train_0547.jpg  \n",
            "  inflating: /content/dataset/train/Infected/infected_train_0548.jpg  \n",
            "  inflating: /content/dataset/train/Infected/infected_train_0549.jpg  \n",
            "  inflating: /content/dataset/train/Infected/infected_train_0550.jpg  \n",
            "  inflating: /content/dataset/train/Infected/infected_train_0551.jpg  \n",
            "  inflating: /content/dataset/train/Infected/infected_train_0552.jpg  \n",
            "  inflating: /content/dataset/train/Infected/infected_train_0553.jpg  \n",
            "  inflating: /content/dataset/train/Infected/infected_train_0554.jpg  \n",
            "  inflating: /content/dataset/train/Infected/infected_train_0555.jpg  \n",
            "  inflating: /content/dataset/train/Infected/infected_train_0556.jpg  \n",
            "  inflating: /content/dataset/train/Infected/infected_train_0557.jpg  \n",
            "  inflating: /content/dataset/train/Infected/infected_train_0558.jpg  \n",
            "  inflating: /content/dataset/train/Infected/infected_train_0559.jpg  \n",
            "  inflating: /content/dataset/train/Infected/infected_train_0560.jpg  \n",
            "  inflating: /content/dataset/train/Infected/infected_train_0561.jpg  \n",
            "  inflating: /content/dataset/train/Infected/infected_train_0562.jpg  \n",
            "  inflating: /content/dataset/train/Infected/infected_train_0563.jpg  \n",
            "  inflating: /content/dataset/train/Infected/infected_train_0564.jpg  \n",
            "  inflating: /content/dataset/train/Infected/infected_train_0565.jpg  \n",
            "  inflating: /content/dataset/train/Infected/infected_train_0566.jpg  \n",
            "  inflating: /content/dataset/train/Infected/infected_train_0567.jpg  \n",
            "  inflating: /content/dataset/train/Infected/infected_train_0568.jpg  \n",
            "  inflating: /content/dataset/train/Infected/infected_train_0569.jpg  \n",
            "  inflating: /content/dataset/train/Infected/infected_train_0570.jpg  \n",
            "  inflating: /content/dataset/train/Infected/infected_train_0571.jpg  \n",
            "  inflating: /content/dataset/train/Infected/infected_train_0572.jpg  \n",
            "  inflating: /content/dataset/train/Infected/infected_train_0573.jpg  \n",
            "  inflating: /content/dataset/train/Infected/infected_train_0574.jpg  \n",
            "  inflating: /content/dataset/train/Infected/infected_train_0575.jpg  \n",
            "  inflating: /content/dataset/train/Infected/infected_train_0576.jpg  \n",
            "  inflating: /content/dataset/train/Infected/infected_train_0577.jpg  \n",
            "  inflating: /content/dataset/train/Infected/infected_train_0578.jpg  \n",
            "  inflating: /content/dataset/train/Infected/infected_train_0579.jpg  \n",
            "  inflating: /content/dataset/train/Infected/infected_train_0580.jpg  \n",
            "  inflating: /content/dataset/train/Infected/infected_train_0581.jpg  \n",
            "  inflating: /content/dataset/train/Infected/infected_train_0582.jpg  \n",
            "  inflating: /content/dataset/train/Infected/infected_train_0583.jpg  \n",
            "  inflating: /content/dataset/train/Infected/infected_train_0584.jpg  \n",
            "  inflating: /content/dataset/train/Infected/infected_train_0585.jpg  \n",
            "  inflating: /content/dataset/train/Infected/infected_train_0586.jpg  \n",
            "  inflating: /content/dataset/train/Infected/infected_train_0587.jpg  \n",
            "  inflating: /content/dataset/train/Infected/infected_train_0588.jpg  \n",
            "  inflating: /content/dataset/train/Infected/infected_train_0589.jpg  \n",
            "  inflating: /content/dataset/train/Infected/infected_train_0590.jpg  \n",
            "  inflating: /content/dataset/train/Infected/infected_train_0591.jpg  \n",
            "  inflating: /content/dataset/train/Infected/infected_train_0592.jpg  \n",
            "  inflating: /content/dataset/train/Infected/infected_train_0593.jpg  \n",
            "  inflating: /content/dataset/train/Infected/infected_train_0594.jpg  \n",
            "  inflating: /content/dataset/train/Infected/infected_train_0595.jpg  \n",
            "  inflating: /content/dataset/train/Infected/infected_train_0596.jpg  \n",
            "  inflating: /content/dataset/train/Infected/infected_train_0597.jpg  \n",
            "  inflating: /content/dataset/train/Infected/infected_train_0598.jpg  \n",
            "  inflating: /content/dataset/train/Infected/infected_train_0599.jpg  \n",
            "  inflating: /content/dataset/train/Infected/infected_train_0600.jpg  \n",
            "  inflating: /content/dataset/train/Infected/infected_train_0601.jpg  \n",
            "  inflating: /content/dataset/train/Infected/infected_train_0602.jpg  \n",
            "  inflating: /content/dataset/train/Infected/infected_train_0603.jpg  \n",
            "  inflating: /content/dataset/train/Infected/infected_train_0604.jpg  \n",
            "  inflating: /content/dataset/train/Infected/infected_train_0605.jpg  \n",
            "  inflating: /content/dataset/train/Infected/infected_train_0606.jpg  \n",
            "  inflating: /content/dataset/train/Infected/infected_train_0607.jpg  \n",
            "  inflating: /content/dataset/train/Infected/infected_train_0608.jpg  \n",
            "  inflating: /content/dataset/train/Infected/infected_train_0609.jpg  \n",
            "  inflating: /content/dataset/train/Infected/infected_train_0610.jpg  \n",
            "  inflating: /content/dataset/train/Infected/infected_train_0611.jpg  \n",
            "  inflating: /content/dataset/train/Infected/infected_train_0612.jpg  \n",
            "  inflating: /content/dataset/train/Infected/infected_train_0613.jpg  \n",
            "  inflating: /content/dataset/train/Infected/infected_train_0614.jpg  \n",
            "  inflating: /content/dataset/train/Infected/infected_train_0615.jpg  \n",
            "  inflating: /content/dataset/train/Infected/infected_train_0616.jpg  \n",
            "  inflating: /content/dataset/train/Infected/infected_train_0617.jpg  \n",
            "  inflating: /content/dataset/train/Infected/infected_train_0618.jpg  \n",
            "  inflating: /content/dataset/train/Infected/infected_train_0619.jpg  \n",
            "  inflating: /content/dataset/train/Infected/infected_train_0620.jpg  \n",
            "  inflating: /content/dataset/train/Infected/infected_train_0621.jpg  \n",
            "  inflating: /content/dataset/train/Infected/infected_train_0622.jpg  \n",
            "  inflating: /content/dataset/train/Infected/infected_train_0623.jpg  \n",
            "  inflating: /content/dataset/train/Infected/infected_train_0624.jpg  \n",
            "  inflating: /content/dataset/train/Infected/infected_train_0625.jpg  \n",
            "  inflating: /content/dataset/train/Infected/infected_train_0626.jpg  \n",
            "  inflating: /content/dataset/train/Infected/infected_train_0627.jpg  \n",
            "  inflating: /content/dataset/train/Infected/infected_train_0628.jpg  \n",
            "  inflating: /content/dataset/train/Infected/infected_train_0629.jpg  \n",
            "  inflating: /content/dataset/train/Infected/infected_train_0630.jpg  \n",
            "  inflating: /content/dataset/train/Infected/infected_train_0631.jpg  \n",
            "  inflating: /content/dataset/train/Infected/infected_train_0632.jpg  \n",
            "  inflating: /content/dataset/train/Infected/infected_train_0633.jpg  \n",
            "  inflating: /content/dataset/train/Infected/infected_train_0634.jpg  \n",
            "  inflating: /content/dataset/train/Infected/infected_train_0635.jpg  \n",
            "  inflating: /content/dataset/train/Infected/infected_train_0636.jpg  \n",
            "  inflating: /content/dataset/train/Infected/infected_train_0637.jpg  \n",
            "  inflating: /content/dataset/train/Infected/infected_train_0638.jpg  \n",
            "  inflating: /content/dataset/train/Infected/infected_train_0639.jpg  \n",
            "  inflating: /content/dataset/train/Infected/infected_train_0640.jpg  \n",
            "  inflating: /content/dataset/train/Infected/infected_train_0641.jpg  \n",
            "  inflating: /content/dataset/train/Infected/infected_train_0642.jpg  \n",
            "  inflating: /content/dataset/train/Infected/infected_train_0643.jpg  \n",
            "  inflating: /content/dataset/train/Infected/infected_train_0644.jpg  \n",
            "  inflating: /content/dataset/train/Infected/infected_train_0645.jpg  \n",
            "  inflating: /content/dataset/train/Infected/infected_train_0646.jpg  \n",
            "  inflating: /content/dataset/train/Infected/infected_train_0647.jpg  \n",
            "  inflating: /content/dataset/train/Infected/infected_train_0648.jpg  \n",
            "  inflating: /content/dataset/train/Infected/infected_train_0649.jpg  \n",
            "  inflating: /content/dataset/train/Infected/infected_train_0650.jpg  \n",
            "  inflating: /content/dataset/train/Infected/infected_train_0651.jpg  \n",
            "  inflating: /content/dataset/train/Infected/infected_train_0652.jpg  \n",
            "  inflating: /content/dataset/train/Infected/infected_train_0653.jpg  \n",
            "  inflating: /content/dataset/train/Infected/infected_train_0654.jpg  \n",
            "  inflating: /content/dataset/train/Infected/infected_train_0655.jpg  \n",
            "  inflating: /content/dataset/train/Infected/infected_train_0656.jpg  \n",
            "  inflating: /content/dataset/train/Infected/infected_train_0657.jpg  \n",
            "  inflating: /content/dataset/train/Infected/infected_train_0658.jpg  \n",
            "  inflating: /content/dataset/train/Infected/infected_train_0659.jpg  \n",
            "  inflating: /content/dataset/train/Infected/infected_train_0660.jpg  \n",
            "  inflating: /content/dataset/train/Infected/infected_train_0661.jpg  \n",
            "  inflating: /content/dataset/train/Infected/infected_train_0662.jpg  \n",
            "  inflating: /content/dataset/train/Infected/infected_train_0663.jpg  \n",
            "  inflating: /content/dataset/train/Infected/infected_train_0664.jpg  \n",
            "  inflating: /content/dataset/train/Infected/infected_train_0665.jpg  \n",
            "  inflating: /content/dataset/train/Infected/infected_train_0666.jpg  \n",
            "  inflating: /content/dataset/train/Infected/infected_train_0667.jpg  \n",
            "  inflating: /content/dataset/train/Infected/infected_train_0668.jpg  \n",
            "  inflating: /content/dataset/train/Infected/infected_train_0669.jpg  \n",
            "  inflating: /content/dataset/train/Infected/infected_train_0670.jpg  \n",
            "  inflating: /content/dataset/train/Infected/infected_train_0671.jpg  \n",
            "  inflating: /content/dataset/train/Infected/infected_train_0672.jpg  \n",
            "  inflating: /content/dataset/train/Infected/infected_train_0673.jpg  \n",
            "  inflating: /content/dataset/train/Infected/infected_train_0674.jpg  \n",
            "  inflating: /content/dataset/train/Infected/infected_train_0675.jpg  \n",
            "  inflating: /content/dataset/train/Infected/infected_train_0676.jpg  \n",
            "  inflating: /content/dataset/train/Infected/infected_train_0677.jpg  \n",
            "  inflating: /content/dataset/train/Infected/infected_train_0678.jpg  \n",
            "  inflating: /content/dataset/train/Infected/infected_train_0679.jpg  \n",
            "  inflating: /content/dataset/train/Infected/infected_train_0680.jpg  \n",
            "  inflating: /content/dataset/train/Infected/infected_train_0681.jpg  \n",
            "  inflating: /content/dataset/train/Infected/infected_train_0682.jpg  \n",
            "  inflating: /content/dataset/train/Infected/infected_train_0683.jpg  \n",
            "  inflating: /content/dataset/train/Infected/infected_train_0684.jpg  \n",
            "  inflating: /content/dataset/train/Infected/infected_train_0685.jpg  \n",
            "  inflating: /content/dataset/train/Infected/infected_train_0686.jpg  \n",
            "  inflating: /content/dataset/train/Infected/infected_train_0687.jpg  \n",
            "  inflating: /content/dataset/train/Infected/infected_train_0688.jpg  \n",
            "  inflating: /content/dataset/train/Infected/infected_train_0689.jpg  \n",
            "  inflating: /content/dataset/train/Infected/infected_train_0690.jpg  \n",
            "  inflating: /content/dataset/train/Infected/infected_train_0691.jpg  \n",
            "  inflating: /content/dataset/train/Infected/infected_train_0692.jpg  \n",
            "  inflating: /content/dataset/train/Infected/infected_train_0693.jpg  \n",
            "  inflating: /content/dataset/train/Infected/infected_train_0694.jpg  \n",
            "  inflating: /content/dataset/train/Infected/infected_train_0695.jpg  \n",
            "  inflating: /content/dataset/train/Infected/infected_train_0696.jpg  \n",
            "  inflating: /content/dataset/train/Infected/infected_train_0697.jpg  \n",
            "  inflating: /content/dataset/train/Infected/infected_train_0698.jpg  \n",
            "  inflating: /content/dataset/train/Infected/infected_train_0699.jpg  \n",
            "  inflating: /content/dataset/train/Infected/infected_train_0700.jpg  \n",
            "  inflating: /content/dataset/train/Infected/infected_train_0701.jpg  \n",
            "  inflating: /content/dataset/train/Infected/infected_train_0702.jpg  \n",
            "  inflating: /content/dataset/train/Infected/infected_train_0703.jpg  \n",
            "  inflating: /content/dataset/train/Infected/infected_train_0704.jpg  \n",
            "  inflating: /content/dataset/train/Infected/infected_train_0705.jpg  \n",
            "  inflating: /content/dataset/train/Infected/infected_train_0706.jpg  \n",
            "  inflating: /content/dataset/train/Infected/infected_train_0707.jpg  \n",
            "  inflating: /content/dataset/train/Infected/infected_train_0708.jpg  \n",
            "  inflating: /content/dataset/train/Infected/infected_train_0709.jpg  \n",
            "  inflating: /content/dataset/train/Infected/infected_train_0710.jpg  \n",
            "  inflating: /content/dataset/train/Infected/infected_train_0711.jpg  \n",
            "  inflating: /content/dataset/train/Infected/infected_train_0712.jpg  \n",
            "  inflating: /content/dataset/train/Infected/infected_train_0713.jpg  \n",
            "  inflating: /content/dataset/train/Infected/infected_train_0714.jpg  \n",
            "  inflating: /content/dataset/train/Infected/infected_train_0715.jpg  \n",
            "  inflating: /content/dataset/train/Infected/infected_train_0716.jpg  \n",
            "  inflating: /content/dataset/train/Infected/infected_train_0717.jpg  \n",
            "  inflating: /content/dataset/train/Infected/infected_train_0718.jpg  \n",
            "  inflating: /content/dataset/train/Infected/infected_train_0719.jpg  \n",
            "  inflating: /content/dataset/train/Infected/infected_train_0720.jpg  \n",
            "  inflating: /content/dataset/train/Infected/infected_train_0721.jpg  \n",
            "  inflating: /content/dataset/train/Infected/infected_train_0722.jpg  \n",
            "  inflating: /content/dataset/train/Infected/infected_train_0723.jpg  \n",
            "  inflating: /content/dataset/train/Infected/infected_train_0724.jpg  \n",
            "  inflating: /content/dataset/train/Infected/infected_train_0725.jpg  \n",
            "  inflating: /content/dataset/train/Infected/infected_train_0726.jpg  \n",
            "  inflating: /content/dataset/train/Infected/infected_train_0727.jpg  \n",
            "  inflating: /content/dataset/train/Infected/infected_train_0728.jpg  \n",
            "  inflating: /content/dataset/train/Infected/infected_train_0729.jpg  \n",
            "  inflating: /content/dataset/train/Infected/infected_train_0730.jpg  \n",
            "  inflating: /content/dataset/train/Infected/infected_train_0731.jpg  \n",
            "  inflating: /content/dataset/train/Infected/infected_train_0732.jpg  \n",
            "  inflating: /content/dataset/train/Infected/infected_train_0733.jpg  \n",
            "  inflating: /content/dataset/train/Infected/infected_train_0734.jpg  \n",
            "  inflating: /content/dataset/train/Infected/infected_train_0735.jpg  \n",
            "  inflating: /content/dataset/train/Infected/infected_train_0736.jpg  \n",
            "  inflating: /content/dataset/train/Infected/infected_train_0737.jpg  \n",
            "  inflating: /content/dataset/train/Infected/infected_train_0738.jpg  \n",
            "  inflating: /content/dataset/train/Infected/infected_train_0739.jpg  \n",
            "  inflating: /content/dataset/train/Infected/infected_train_0740.jpg  \n",
            "  inflating: /content/dataset/train/Infected/infected_train_0741.jpg  \n",
            "  inflating: /content/dataset/train/Infected/infected_train_0742.jpg  \n",
            "  inflating: /content/dataset/train/Infected/infected_train_0743.jpg  \n",
            "  inflating: /content/dataset/train/Infected/infected_train_0744.jpg  \n",
            "  inflating: /content/dataset/train/Infected/infected_train_0745.jpg  \n",
            "  inflating: /content/dataset/train/Infected/infected_train_0746.jpg  \n",
            "  inflating: /content/dataset/train/Infected/infected_train_0747.jpg  \n",
            "  inflating: /content/dataset/train/Infected/infected_train_0748.jpg  \n",
            "  inflating: /content/dataset/train/Infected/infected_train_0749.jpg  \n",
            "  inflating: /content/dataset/train/Infected/infected_train_0750.jpg  \n",
            "  inflating: /content/dataset/train/Infected/infected_train_0751.jpg  \n",
            "  inflating: /content/dataset/train/Infected/infected_train_0752.jpg  \n",
            "  inflating: /content/dataset/train/Infected/infected_train_0753.jpg  \n",
            "  inflating: /content/dataset/train/Infected/infected_train_0754.jpg  \n",
            "  inflating: /content/dataset/train/Infected/infected_train_0755.jpg  \n",
            "  inflating: /content/dataset/train/Infected/infected_train_0756.jpg  \n",
            "  inflating: /content/dataset/train/Infected/infected_train_0757.jpg  \n",
            "  inflating: /content/dataset/train/Infected/infected_train_0758.jpg  \n",
            "  inflating: /content/dataset/train/Infected/infected_train_0759.jpg  \n",
            "  inflating: /content/dataset/train/Infected/infected_train_0760.jpg  \n",
            "  inflating: /content/dataset/train/Infected/infected_train_0761.jpg  \n",
            "  inflating: /content/dataset/train/Infected/infected_train_0762.jpg  \n",
            "  inflating: /content/dataset/train/Infected/infected_train_0763.jpg  \n",
            "  inflating: /content/dataset/train/Infected/infected_train_0764.jpg  \n",
            "  inflating: /content/dataset/train/Infected/infected_train_0765.jpg  \n",
            "  inflating: /content/dataset/train/Infected/infected_train_0766.jpg  \n",
            "  inflating: /content/dataset/train/Infected/infected_train_0767.jpg  \n",
            "  inflating: /content/dataset/train/Infected/infected_train_0768.jpg  \n",
            "  inflating: /content/dataset/train/Infected/infected_train_0769.jpg  \n",
            "  inflating: /content/dataset/train/Infected/infected_train_0770.jpg  \n",
            "  inflating: /content/dataset/train/Infected/infected_train_0771.jpg  \n",
            "  inflating: /content/dataset/train/Infected/infected_train_0772.jpg  \n",
            "  inflating: /content/dataset/train/Infected/infected_train_0773.jpg  \n",
            "  inflating: /content/dataset/train/Infected/infected_train_0774.jpg  \n",
            "  inflating: /content/dataset/train/Infected/infected_train_0775.jpg  \n",
            "  inflating: /content/dataset/train/Infected/infected_train_0776.jpg  \n",
            "  inflating: /content/dataset/train/Infected/infected_train_0777.jpg  \n",
            "  inflating: /content/dataset/train/Infected/infected_train_0778.jpg  \n",
            "  inflating: /content/dataset/train/Infected/infected_train_0779.jpg  \n",
            "  inflating: /content/dataset/train/Infected/infected_train_0780.jpg  \n",
            "  inflating: /content/dataset/train/Infected/infected_train_0781.jpg  \n",
            "  inflating: /content/dataset/train/Infected/infected_train_0782.jpg  \n",
            "  inflating: /content/dataset/train/Infected/infected_train_0783.jpg  \n",
            "  inflating: /content/dataset/train/Infected/infected_train_0784.jpg  \n",
            "  inflating: /content/dataset/train/Infected/infected_train_0785.jpg  \n",
            "  inflating: /content/dataset/train/Infected/infected_train_0786.jpg  \n",
            "  inflating: /content/dataset/train/Infected/infected_train_0787.jpg  \n",
            "  inflating: /content/dataset/train/Infected/infected_train_0788.jpg  \n",
            "  inflating: /content/dataset/train/Infected/infected_train_0789.jpg  \n",
            "  inflating: /content/dataset/train/Infected/infected_train_0790.jpg  \n",
            "  inflating: /content/dataset/train/Infected/infected_train_0791.jpg  \n",
            "  inflating: /content/dataset/train/Infected/infected_train_0792.jpg  \n",
            "  inflating: /content/dataset/train/Infected/infected_train_0793.jpg  \n",
            "  inflating: /content/dataset/train/Infected/infected_train_0794.jpg  \n",
            "  inflating: /content/dataset/train/Infected/infected_train_0795.jpg  \n",
            "  inflating: /content/dataset/train/Infected/infected_train_0796.jpg  \n",
            "  inflating: /content/dataset/train/Infected/infected_train_0797.jpg  \n",
            "  inflating: /content/dataset/train/Infected/infected_train_0798.jpg  \n",
            "  inflating: /content/dataset/train/Infected/infected_train_0799.jpg  \n",
            "  inflating: /content/dataset/train/Infected/infected_train_0800.jpg  \n",
            "  inflating: /content/dataset/train/Infected/infected_train_0801.jpg  \n",
            "  inflating: /content/dataset/train/Infected/infected_train_0802.jpg  \n",
            "  inflating: /content/dataset/train/Infected/infected_train_0803.jpg  \n",
            "  inflating: /content/dataset/train/Infected/infected_train_0804.jpg  \n",
            "  inflating: /content/dataset/train/Infected/infected_train_0805.jpg  \n",
            "  inflating: /content/dataset/train/Infected/infected_train_0806.jpg  \n",
            "  inflating: /content/dataset/train/Infected/infected_train_0807.jpg  \n",
            "  inflating: /content/dataset/train/Infected/infected_train_0808.jpg  \n",
            "  inflating: /content/dataset/train/Infected/infected_train_0809.jpg  \n",
            "  inflating: /content/dataset/train/Infected/infected_train_0810.jpg  \n",
            "  inflating: /content/dataset/train/Infected/infected_train_0811.jpg  \n",
            "  inflating: /content/dataset/train/Infected/infected_train_0812.jpg  \n",
            "  inflating: /content/dataset/train/Infected/infected_train_0813.jpg  \n",
            "  inflating: /content/dataset/train/Infected/infected_train_0814.jpg  \n",
            "  inflating: /content/dataset/train/Infected/infected_train_0815.jpg  \n",
            "  inflating: /content/dataset/train/Infected/infected_train_0816.jpg  \n",
            "  inflating: /content/dataset/train/Infected/infected_train_0817.jpg  \n",
            "  inflating: /content/dataset/train/Infected/infected_train_0818.jpg  \n",
            "  inflating: /content/dataset/train/Infected/infected_train_0819.jpg  \n",
            "  inflating: /content/dataset/train/Infected/infected_train_0820.jpg  \n",
            "  inflating: /content/dataset/train/Infected/infected_train_0821.jpg  \n",
            "  inflating: /content/dataset/train/Infected/infected_train_0822.jpg  \n",
            "  inflating: /content/dataset/train/Infected/infected_train_0823.jpg  \n",
            "  inflating: /content/dataset/train/Infected/infected_train_0824.jpg  \n",
            "  inflating: /content/dataset/train/Infected/infected_train_0825.jpg  \n",
            "  inflating: /content/dataset/train/Infected/infected_train_0826.jpg  \n",
            "  inflating: /content/dataset/train/Infected/infected_train_0827.jpg  \n",
            "  inflating: /content/dataset/train/Infected/infected_train_0828.jpg  \n",
            "  inflating: /content/dataset/train/Infected/infected_train_0829.jpg  \n",
            "  inflating: /content/dataset/train/Infected/infected_train_0830.jpg  \n",
            "  inflating: /content/dataset/train/Infected/infected_train_0831.jpg  \n",
            "  inflating: /content/dataset/train/Infected/infected_train_0832.jpg  \n",
            "  inflating: /content/dataset/train/Infected/infected_train_0833.jpg  \n",
            "  inflating: /content/dataset/train/Infected/infected_train_0834.jpg  \n",
            "  inflating: /content/dataset/train/Infected/infected_train_0835.jpg  \n",
            "  inflating: /content/dataset/train/Infected/infected_train_0836.jpg  \n",
            "  inflating: /content/dataset/train/Infected/infected_train_0837.jpg  \n",
            "  inflating: /content/dataset/train/Infected/infected_train_0838.jpg  \n",
            "  inflating: /content/dataset/train/Infected/infected_train_0839.jpg  \n",
            "  inflating: /content/dataset/train/Infected/infected_train_0840.jpg  \n",
            "  inflating: /content/dataset/train/Infected/infected_train_0841.jpg  \n",
            "  inflating: /content/dataset/train/Infected/infected_train_0842.jpg  \n",
            "  inflating: /content/dataset/train/Infected/infected_train_0843.jpg  \n",
            "  inflating: /content/dataset/train/Infected/infected_train_0844.jpg  \n",
            "  inflating: /content/dataset/train/Infected/infected_train_0845.jpg  \n",
            "  inflating: /content/dataset/train/Infected/infected_train_0846.jpg  \n",
            "  inflating: /content/dataset/train/Infected/infected_train_0847.jpg  \n",
            "  inflating: /content/dataset/train/Infected/infected_train_0848.jpg  \n",
            "  inflating: /content/dataset/train/Infected/infected_train_0849.jpg  \n",
            "  inflating: /content/dataset/train/Infected/infected_train_0850.jpg  \n",
            "  inflating: /content/dataset/train/Infected/infected_train_0851.jpg  \n",
            "  inflating: /content/dataset/train/Infected/infected_train_0852.jpg  \n",
            "  inflating: /content/dataset/train/Infected/infected_train_0853.jpg  \n",
            "  inflating: /content/dataset/train/Infected/infected_train_0854.jpg  \n",
            "  inflating: /content/dataset/train/Infected/infected_train_0855.jpg  \n",
            "  inflating: /content/dataset/train/Infected/infected_train_0856.jpg  \n",
            "  inflating: /content/dataset/train/Infected/infected_train_0857.jpg  \n",
            "  inflating: /content/dataset/train/Infected/infected_train_0858.jpg  \n",
            "  inflating: /content/dataset/train/Infected/infected_train_0859.jpg  \n",
            "  inflating: /content/dataset/train/Infected/infected_train_0860.jpg  \n",
            "  inflating: /content/dataset/train/Infected/infected_train_0861.jpg  \n",
            "  inflating: /content/dataset/train/Infected/infected_train_0862.jpg  \n",
            "  inflating: /content/dataset/train/Infected/infected_train_0863.jpg  \n",
            "  inflating: /content/dataset/train/Infected/infected_train_0864.jpg  \n",
            "  inflating: /content/dataset/train/Infected/infected_train_0865.jpg  \n",
            "  inflating: /content/dataset/train/Infected/infected_train_0866.jpg  \n",
            "  inflating: /content/dataset/train/Infected/infected_train_0867.jpg  \n",
            "  inflating: /content/dataset/train/Infected/infected_train_0868.jpg  \n",
            "  inflating: /content/dataset/train/Infected/infected_train_0869.jpg  \n",
            "  inflating: /content/dataset/train/Infected/infected_train_0870.jpg  \n",
            "  inflating: /content/dataset/train/Infected/infected_train_0871.jpg  \n",
            "  inflating: /content/dataset/train/Infected/infected_train_0872.jpg  \n",
            "  inflating: /content/dataset/train/Infected/infected_train_0873.jpg  \n",
            "  inflating: /content/dataset/train/Infected/infected_train_0874.jpg  \n",
            "  inflating: /content/dataset/train/Infected/infected_train_0875.jpg  \n",
            "  inflating: /content/dataset/train/Infected/infected_train_0876.jpg  \n",
            "  inflating: /content/dataset/train/Infected/infected_train_0877.jpg  \n",
            "  inflating: /content/dataset/train/Infected/infected_train_0878.jpg  \n",
            "  inflating: /content/dataset/train/Infected/infected_train_0879.jpg  \n",
            "  inflating: /content/dataset/train/Infected/infected_train_0880.jpg  \n",
            "  inflating: /content/dataset/train/Infected/infected_train_0881.jpg  \n",
            "  inflating: /content/dataset/train/Infected/infected_train_0882.jpg  \n",
            "  inflating: /content/dataset/train/Infected/infected_train_0883.jpg  \n",
            "  inflating: /content/dataset/train/Infected/infected_train_0884.jpg  \n",
            "  inflating: /content/dataset/train/Infected/infected_train_0885.jpg  \n",
            "  inflating: /content/dataset/train/Infected/infected_train_0886.jpg  \n",
            "  inflating: /content/dataset/train/Infected/infected_train_0887.jpg  \n",
            "  inflating: /content/dataset/train/Infected/infected_train_0888.jpg  \n",
            "  inflating: /content/dataset/train/Infected/infected_train_0889.jpg  \n",
            "  inflating: /content/dataset/train/Infected/infected_train_0890.jpg  \n",
            "  inflating: /content/dataset/train/Infected/infected_train_0891.jpg  \n",
            "  inflating: /content/dataset/train/Infected/infected_train_0892.jpg  \n",
            "  inflating: /content/dataset/train/Infected/infected_train_0893.jpg  \n",
            "  inflating: /content/dataset/train/Infected/infected_train_0894.jpg  \n",
            "  inflating: /content/dataset/train/Infected/infected_train_0895.jpg  \n",
            "  inflating: /content/dataset/train/Infected/infected_train_0896.jpg  \n",
            "  inflating: /content/dataset/train/Infected/infected_train_0897.jpg  \n",
            "  inflating: /content/dataset/train/Infected/infected_train_0898.jpg  \n",
            "  inflating: /content/dataset/train/Infected/infected_train_0899.jpg  \n",
            "  inflating: /content/dataset/train/Infected/infected_train_0900.jpg  \n",
            "  inflating: /content/dataset/train/Infected/infected_train_0901.jpg  \n",
            "  inflating: /content/dataset/train/Infected/infected_train_0902.jpg  \n",
            "  inflating: /content/dataset/train/Infected/infected_train_0903.jpg  \n",
            "  inflating: /content/dataset/train/Infected/infected_train_0904.jpg  \n",
            "  inflating: /content/dataset/train/Infected/infected_train_0905.jpg  \n",
            "  inflating: /content/dataset/train/Infected/infected_train_0906.jpg  \n",
            "  inflating: /content/dataset/train/Infected/infected_train_0907.jpg  \n",
            "  inflating: /content/dataset/train/Infected/infected_train_0908.jpg  \n",
            "  inflating: /content/dataset/train/Infected/infected_train_0909.jpg  \n",
            "  inflating: /content/dataset/train/Infected/infected_train_0910.jpg  \n",
            "  inflating: /content/dataset/train/Infected/infected_train_0911.jpg  \n",
            "  inflating: /content/dataset/train/Infected/infected_train_0912.jpg  \n",
            "  inflating: /content/dataset/train/Infected/infected_train_0913.jpg  \n",
            "  inflating: /content/dataset/train/Infected/infected_train_0914.jpg  \n",
            "  inflating: /content/dataset/train/Infected/infected_train_0915.jpg  \n",
            "  inflating: /content/dataset/train/Infected/infected_train_0916.jpg  \n",
            "  inflating: /content/dataset/train/Infected/infected_train_0917.jpg  \n",
            "  inflating: /content/dataset/train/Infected/infected_train_0918.jpg  \n",
            "  inflating: /content/dataset/train/Infected/infected_train_0919.jpg  \n",
            "  inflating: /content/dataset/train/Infected/infected_train_0920.jpg  \n",
            "  inflating: /content/dataset/train/Infected/infected_train_0921.jpg  \n",
            "  inflating: /content/dataset/train/Infected/infected_train_0922.jpg  \n",
            "  inflating: /content/dataset/train/Infected/infected_train_0923.jpg  \n",
            "  inflating: /content/dataset/train/Infected/infected_train_0924.jpg  \n",
            "  inflating: /content/dataset/train/Infected/infected_train_0925.jpg  \n",
            "  inflating: /content/dataset/train/Infected/infected_train_0926.jpg  \n",
            "  inflating: /content/dataset/train/Infected/infected_train_0927.jpg  \n",
            "  inflating: /content/dataset/train/Infected/infected_train_0928.jpg  \n",
            "  inflating: /content/dataset/train/Infected/infected_train_0929.jpg  \n",
            "  inflating: /content/dataset/train/Infected/infected_train_0930.jpg  \n",
            "  inflating: /content/dataset/train/Infected/infected_train_0931.jpg  \n",
            "  inflating: /content/dataset/train/Infected/infected_train_0932.jpg  \n",
            "  inflating: /content/dataset/train/Infected/infected_train_0933.jpg  \n",
            "  inflating: /content/dataset/train/Infected/infected_train_0934.jpg  \n",
            "  inflating: /content/dataset/train/Infected/infected_train_0935.jpg  \n",
            "  inflating: /content/dataset/train/Infected/infected_train_0936.jpg  \n",
            "  inflating: /content/dataset/train/Infected/infected_train_0937.jpg  \n",
            "  inflating: /content/dataset/train/Infected/infected_train_0938.jpg  \n",
            "  inflating: /content/dataset/train/Infected/infected_train_0939.jpg  \n",
            "  inflating: /content/dataset/train/Infected/infected_train_0940.jpg  \n",
            "  inflating: /content/dataset/train/Infected/infected_train_0941.jpg  \n",
            "  inflating: /content/dataset/train/Infected/infected_train_0942.jpg  \n",
            "  inflating: /content/dataset/train/Infected/infected_train_0943.jpg  \n",
            "  inflating: /content/dataset/train/Infected/infected_train_0944.jpg  \n",
            "  inflating: /content/dataset/train/Infected/infected_train_0945.jpg  \n",
            "  inflating: /content/dataset/train/Infected/infected_train_0946.jpg  \n",
            "  inflating: /content/dataset/train/Infected/infected_train_0947.jpg  \n",
            "  inflating: /content/dataset/train/Infected/infected_train_0948.jpg  \n",
            "  inflating: /content/dataset/train/Infected/infected_train_0949.jpg  \n",
            "  inflating: /content/dataset/train/Infected/infected_train_0950.jpg  \n",
            "  inflating: /content/dataset/train/Infected/infected_train_0951.jpg  \n",
            "  inflating: /content/dataset/train/Infected/infected_train_0952.jpg  \n",
            "  inflating: /content/dataset/train/Infected/infected_train_0953.jpg  \n",
            "  inflating: /content/dataset/train/Infected/infected_train_0954.jpg  \n",
            "  inflating: /content/dataset/train/Infected/infected_train_0955.jpg  \n",
            "  inflating: /content/dataset/train/Infected/infected_train_0956.jpg  \n",
            "  inflating: /content/dataset/train/Infected/infected_train_0957.jpg  \n",
            "  inflating: /content/dataset/train/Infected/infected_train_0958.jpg  \n",
            "  inflating: /content/dataset/train/Infected/infected_train_0959.jpg  \n",
            "  inflating: /content/dataset/train/Infected/infected_train_0960.jpg  \n",
            "  inflating: /content/dataset/train/Infected/infected_train_0961.jpg  \n",
            "  inflating: /content/dataset/train/Infected/infected_train_0962.jpg  \n",
            "  inflating: /content/dataset/train/Infected/infected_train_0963.jpg  \n",
            "  inflating: /content/dataset/train/Infected/infected_train_0964.jpg  \n",
            "  inflating: /content/dataset/train/Infected/infected_train_0965.jpg  \n",
            "  inflating: /content/dataset/train/Infected/infected_train_0966.jpg  \n",
            "  inflating: /content/dataset/train/Infected/infected_train_0967.jpg  \n",
            "  inflating: /content/dataset/train/Infected/infected_train_0968.jpg  \n",
            "  inflating: /content/dataset/train/Infected/infected_train_0969.jpg  \n",
            "  inflating: /content/dataset/train/Infected/infected_train_0970.jpg  \n",
            "  inflating: /content/dataset/train/Infected/infected_train_0971.jpg  \n",
            "  inflating: /content/dataset/train/Infected/infected_train_0972.jpg  \n",
            "  inflating: /content/dataset/train/Infected/infected_train_0973.jpg  \n",
            "  inflating: /content/dataset/train/Infected/infected_train_0974.jpg  \n",
            "  inflating: /content/dataset/train/Infected/infected_train_0975.jpg  \n",
            "  inflating: /content/dataset/train/Infected/infected_train_0976.jpg  \n",
            "  inflating: /content/dataset/train/Infected/infected_train_0977.jpg  \n",
            "  inflating: /content/dataset/train/Infected/infected_train_0978.jpg  \n",
            "  inflating: /content/dataset/train/Infected/infected_train_0979.jpg  \n",
            "  inflating: /content/dataset/train/Infected/infected_train_0980.jpg  \n",
            "  inflating: /content/dataset/train/Infected/infected_train_0981.jpg  \n",
            "  inflating: /content/dataset/train/Infected/infected_train_0982.jpg  \n",
            "  inflating: /content/dataset/train/Infected/infected_train_0983.jpg  \n",
            "  inflating: /content/dataset/train/Infected/infected_train_0984.jpg  \n",
            "  inflating: /content/dataset/train/Infected/infected_train_0985.jpg  \n",
            "  inflating: /content/dataset/train/Infected/infected_train_0986.jpg  \n",
            "  inflating: /content/dataset/train/Infected/infected_train_0987.jpg  \n",
            "  inflating: /content/dataset/train/Infected/infected_train_0988.jpg  \n",
            "  inflating: /content/dataset/train/Infected/infected_train_0989.jpg  \n",
            "  inflating: /content/dataset/train/Infected/infected_train_0990.jpg  \n",
            "  inflating: /content/dataset/train/Infected/infected_train_0991.jpg  \n",
            "  inflating: /content/dataset/train/Infected/infected_train_0992.jpg  \n",
            "  inflating: /content/dataset/train/Infected/infected_train_0993.jpg  \n",
            "  inflating: /content/dataset/train/Infected/infected_train_0994.jpg  \n",
            "  inflating: /content/dataset/train/Infected/infected_train_0995.jpg  \n",
            "  inflating: /content/dataset/train/Infected/infected_train_0996.jpg  \n",
            "  inflating: /content/dataset/train/Infected/infected_train_0997.jpg  \n",
            "  inflating: /content/dataset/train/Infected/infected_train_0998.jpg  \n",
            "  inflating: /content/dataset/train/Infected/infected_train_0999.jpg  \n",
            "  inflating: /content/dataset/train/Infected/infected_train_1000.jpg  \n",
            "  inflating: /content/dataset/train/Infected/infected_train_1001.jpg  \n",
            "  inflating: /content/dataset/train/Infected/infected_train_1002.jpg  \n",
            "  inflating: /content/dataset/train/Infected/infected_train_1003.jpg  \n",
            "  inflating: /content/dataset/train/Infected/infected_train_1004.jpg  \n",
            "  inflating: /content/dataset/train/Infected/infected_train_1005.jpg  \n",
            "  inflating: /content/dataset/train/Infected/infected_train_1006.jpg  \n",
            "  inflating: /content/dataset/train/Infected/infected_train_1007.jpg  \n",
            "  inflating: /content/dataset/train/Infected/infected_train_1008.jpg  \n",
            "  inflating: /content/dataset/train/Infected/infected_train_1009.jpg  \n",
            "  inflating: /content/dataset/train/Infected/infected_train_1010.jpg  \n",
            "  inflating: /content/dataset/train/Infected/infected_train_1011.jpg  \n",
            "  inflating: /content/dataset/train/Infected/infected_train_1012.jpg  \n",
            "  inflating: /content/dataset/train/Infected/infected_train_1013.jpg  \n",
            "  inflating: /content/dataset/train/Infected/infected_train_1014.jpg  \n",
            "  inflating: /content/dataset/train/Infected/infected_train_1015.jpg  \n",
            "  inflating: /content/dataset/train/Infected/infected_train_1016.jpg  \n",
            "  inflating: /content/dataset/train/Infected/infected_train_1017.jpg  \n",
            "  inflating: /content/dataset/train/Infected/infected_train_1018.jpg  \n",
            "  inflating: /content/dataset/train/Infected/infected_train_1019.jpg  \n",
            "  inflating: /content/dataset/train/Infected/infected_train_1020.jpg  \n",
            "  inflating: /content/dataset/train/Infected/infected_train_1021.jpg  \n",
            "  inflating: /content/dataset/train/Infected/infected_train_1022.jpg  \n",
            "  inflating: /content/dataset/train/Infected/infected_train_1023.jpg  \n",
            "  inflating: /content/dataset/train/Infected/infected_train_1024.jpg  \n",
            "  inflating: /content/dataset/train/Infected/infected_train_1025.jpg  \n",
            "  inflating: /content/dataset/train/Infected/infected_train_1026.jpg  \n",
            "  inflating: /content/dataset/train/Infected/infected_train_1027.jpg  \n",
            "  inflating: /content/dataset/train/Infected/infected_train_1028.jpg  \n",
            "  inflating: /content/dataset/train/Infected/infected_train_1029.jpg  \n",
            "  inflating: /content/dataset/train/Infected/infected_train_1030.jpg  \n",
            "  inflating: /content/dataset/train/Infected/infected_train_1031.jpg  \n",
            "  inflating: /content/dataset/train/Infected/infected_train_1032.jpg  \n",
            "  inflating: /content/dataset/train/Infected/infected_train_1033.jpg  \n",
            "  inflating: /content/dataset/train/Infected/infected_train_1034.jpg  \n",
            "  inflating: /content/dataset/train/Infected/infected_train_1035.jpg  \n",
            "  inflating: /content/dataset/train/Infected/infected_train_1036.jpg  \n",
            "  inflating: /content/dataset/train/Infected/infected_train_1037.jpg  \n",
            "  inflating: /content/dataset/train/Infected/infected_train_1038.jpg  \n",
            "  inflating: /content/dataset/train/Infected/infected_train_1039.jpg  \n",
            "  inflating: /content/dataset/train/Infected/infected_train_1040.jpg  \n",
            "  inflating: /content/dataset/train/Infected/infected_train_1041.jpg  \n",
            "  inflating: /content/dataset/train/Infected/infected_train_1042.jpg  \n",
            "  inflating: /content/dataset/train/Infected/infected_train_1043.jpg  \n",
            "  inflating: /content/dataset/train/Infected/infected_train_1044.jpg  \n",
            "  inflating: /content/dataset/train/Infected/infected_train_1045.jpg  \n",
            "  inflating: /content/dataset/train/Infected/infected_train_1046.jpg  \n",
            "  inflating: /content/dataset/train/Infected/infected_train_1047.jpg  \n",
            "  inflating: /content/dataset/train/Infected/infected_train_1048.jpg  \n",
            "  inflating: /content/dataset/train/Infected/infected_train_1049.jpg  \n",
            "  inflating: /content/dataset/train/Infected/infected_train_1050.jpg  \n",
            "  inflating: /content/dataset/train/Infected/infected_train_1051.jpg  \n",
            "  inflating: /content/dataset/train/Infected/infected_train_1052.jpg  \n",
            "  inflating: /content/dataset/train/Infected/infected_train_1053.jpg  \n",
            "  inflating: /content/dataset/train/Infected/infected_train_1054.jpg  \n",
            "  inflating: /content/dataset/train/Infected/infected_train_1055.jpg  \n",
            "  inflating: /content/dataset/train/Infected/infected_train_1056.jpg  \n",
            "  inflating: /content/dataset/train/Infected/infected_train_1057.jpg  \n",
            "  inflating: /content/dataset/train/Infected/infected_train_1058.jpg  \n",
            "  inflating: /content/dataset/train/Infected/infected_train_1059.jpg  \n",
            "  inflating: /content/dataset/train/Infected/infected_train_1060.jpg  \n",
            "  inflating: /content/dataset/train/Infected/infected_train_1061.jpg  \n",
            "  inflating: /content/dataset/train/Infected/infected_train_1062.jpg  \n",
            "  inflating: /content/dataset/train/Infected/infected_train_1063.jpg  \n",
            "  inflating: /content/dataset/train/Infected/infected_train_1064.jpg  \n",
            "  inflating: /content/dataset/train/Infected/infected_train_1065.jpg  \n",
            "  inflating: /content/dataset/train/Infected/infected_train_1066.jpg  \n",
            "  inflating: /content/dataset/train/Infected/infected_train_1067.jpg  \n",
            "  inflating: /content/dataset/train/Infected/infected_train_1068.jpg  \n",
            "  inflating: /content/dataset/train/Infected/infected_train_1069.jpg  \n",
            "  inflating: /content/dataset/train/Infected/infected_train_1070.jpg  \n",
            "  inflating: /content/dataset/train/Infected/infected_train_1071.jpg  \n",
            "  inflating: /content/dataset/train/Infected/infected_train_1072.jpg  \n",
            "  inflating: /content/dataset/train/Infected/infected_train_1073.jpg  \n",
            "  inflating: /content/dataset/train/Infected/infected_train_1074.jpg  \n",
            "  inflating: /content/dataset/train/Infected/infected_train_1075.jpg  \n",
            "  inflating: /content/dataset/train/Infected/infected_train_1076.jpg  \n",
            "  inflating: /content/dataset/train/Infected/infected_train_1077.jpg  \n",
            "  inflating: /content/dataset/train/Infected/infected_train_1078.jpg  \n",
            "  inflating: /content/dataset/train/Infected/infected_train_1079.jpg  \n",
            "  inflating: /content/dataset/train/Infected/infected_train_1080.jpg  \n",
            "  inflating: /content/dataset/train/Infected/infected_train_1081.jpg  \n",
            "  inflating: /content/dataset/train/Infected/infected_train_1082.jpg  \n",
            "  inflating: /content/dataset/train/Infected/infected_train_1083.jpg  \n",
            "  inflating: /content/dataset/train/Infected/infected_train_1084.jpg  \n",
            "  inflating: /content/dataset/train/Infected/infected_train_1085.jpg  \n",
            "  inflating: /content/dataset/train/Infected/infected_train_1086.jpg  \n",
            "  inflating: /content/dataset/train/Infected/infected_train_1087.jpg  \n",
            "  inflating: /content/dataset/train/Infected/infected_train_1088.jpg  \n",
            "  inflating: /content/dataset/train/Infected/infected_train_1089.jpg  \n",
            "  inflating: /content/dataset/train/Infected/infected_train_1090.jpg  \n",
            "  inflating: /content/dataset/train/Infected/infected_train_1091.jpg  \n",
            "  inflating: /content/dataset/train/Infected/infected_train_1092.jpg  \n",
            "  inflating: /content/dataset/train/Infected/infected_train_1093.jpg  \n",
            "  inflating: /content/dataset/train/Infected/infected_train_1094.jpg  \n",
            "  inflating: /content/dataset/train/Infected/infected_train_1095.jpg  \n",
            "  inflating: /content/dataset/train/Infected/infected_train_1096.jpg  \n",
            "  inflating: /content/dataset/train/Infected/infected_train_1097.jpg  \n",
            "  inflating: /content/dataset/train/Infected/infected_train_1098.jpg  \n",
            "  inflating: /content/dataset/train/Infected/infected_train_1099.jpg  \n",
            "  inflating: /content/dataset/train/Infected/infected_train_1100.jpg  \n",
            "  inflating: /content/dataset/train/Infected/infected_train_1101.jpg  \n",
            "  inflating: /content/dataset/train/Infected/infected_train_1102.jpg  \n",
            "  inflating: /content/dataset/train/Infected/infected_train_1103.jpg  \n",
            "  inflating: /content/dataset/train/Infected/infected_train_1104.jpg  \n",
            "  inflating: /content/dataset/train/Infected/infected_train_1105.jpg  \n",
            "  inflating: /content/dataset/train/Infected/infected_train_1106.jpg  \n",
            "  inflating: /content/dataset/train/Infected/infected_train_1107.jpg  \n",
            "  inflating: /content/dataset/train/Infected/infected_train_1108.jpg  \n",
            "  inflating: /content/dataset/train/Infected/infected_train_1109.jpg  \n",
            "  inflating: /content/dataset/train/Infected/infected_train_1110.jpg  \n",
            "  inflating: /content/dataset/train/Infected/infected_train_1111.jpg  \n",
            "  inflating: /content/dataset/train/Infected/infected_train_1112.jpg  \n",
            "  inflating: /content/dataset/train/Infected/infected_train_1113.jpg  \n",
            "  inflating: /content/dataset/train/Infected/infected_train_1114.jpg  \n",
            "  inflating: /content/dataset/train/Infected/infected_train_1115.jpg  \n",
            "  inflating: /content/dataset/train/Infected/infected_train_1116.jpg  \n",
            "  inflating: /content/dataset/train/Infected/infected_train_1117.jpg  \n",
            "  inflating: /content/dataset/train/Infected/infected_train_1118.jpg  \n",
            "  inflating: /content/dataset/train/Infected/infected_train_1119.jpg  \n",
            "  inflating: /content/dataset/train/Infected/infected_train_1120.jpg  \n",
            "  inflating: /content/dataset/train/Infected/infected_train_1121.jpg  \n",
            "  inflating: /content/dataset/train/Infected/infected_train_1122.jpg  \n",
            "  inflating: /content/dataset/train/Infected/infected_train_1123.jpg  \n",
            "  inflating: /content/dataset/train/Infected/infected_train_1124.jpg  \n",
            "  inflating: /content/dataset/train/Infected/infected_train_1125.jpg  \n",
            "  inflating: /content/dataset/train/Infected/infected_train_1126.jpg  \n",
            "  inflating: /content/dataset/train/Infected/infected_train_1127.jpg  \n",
            "  inflating: /content/dataset/train/Infected/infected_train_1128.jpg  \n",
            "  inflating: /content/dataset/train/Infected/infected_train_1129.jpg  \n",
            "  inflating: /content/dataset/train/Infected/infected_train_1130.jpg  \n",
            "  inflating: /content/dataset/train/Infected/infected_train_1131.jpg  \n",
            "  inflating: /content/dataset/train/Infected/infected_train_1132.jpg  \n",
            "  inflating: /content/dataset/train/Infected/infected_train_1133.jpg  \n",
            "  inflating: /content/dataset/train/Infected/infected_train_1134.jpg  \n",
            "  inflating: /content/dataset/train/Infected/infected_train_1135.jpg  \n",
            "  inflating: /content/dataset/train/Infected/infected_train_1136.jpg  \n",
            "  inflating: /content/dataset/train/Infected/infected_train_1137.jpg  \n",
            "  inflating: /content/dataset/train/Infected/infected_train_1138.jpg  \n",
            "  inflating: /content/dataset/train/Infected/infected_train_1139.jpg  \n",
            "  inflating: /content/dataset/train/Infected/infected_train_1140.jpg  \n",
            "  inflating: /content/dataset/train/Infected/infected_train_1141.jpg  \n",
            "  inflating: /content/dataset/train/Infected/infected_train_1142.jpg  \n",
            "  inflating: /content/dataset/train/Infected/infected_train_1143.jpg  \n",
            "  inflating: /content/dataset/train/Infected/infected_train_1144.jpg  \n",
            "  inflating: /content/dataset/train/Infected/infected_train_1145.jpg  \n",
            "  inflating: /content/dataset/train/Infected/infected_train_1146.jpg  \n",
            "  inflating: /content/dataset/train/Infected/infected_train_1147.jpg  \n",
            "  inflating: /content/dataset/train/Infected/infected_train_1148.jpg  \n",
            "  inflating: /content/dataset/train/Infected/infected_train_1149.jpg  \n",
            "  inflating: /content/dataset/train/Infected/infected_train_1150.jpg  \n",
            "  inflating: /content/dataset/train/Infected/infected_train_1151.jpg  \n",
            "  inflating: /content/dataset/train/Infected/infected_train_1152.jpg  \n",
            "  inflating: /content/dataset/train/Infected/infected_train_1153.jpg  \n",
            "  inflating: /content/dataset/train/Infected/infected_train_1154.jpg  \n",
            "  inflating: /content/dataset/train/Infected/infected_train_1155.jpg  \n",
            "  inflating: /content/dataset/train/Infected/infected_train_1156.jpg  \n",
            "  inflating: /content/dataset/train/Infected/infected_train_1157.jpg  \n",
            "  inflating: /content/dataset/train/Infected/infected_train_1158.jpg  \n",
            "  inflating: /content/dataset/train/Infected/infected_train_1159.jpg  \n",
            "  inflating: /content/dataset/train/Infected/infected_train_1160.jpg  \n",
            "  inflating: /content/dataset/train/Infected/infected_train_1161.jpg  \n",
            "  inflating: /content/dataset/train/Infected/infected_train_1162.jpg  \n",
            "  inflating: /content/dataset/train/Infected/infected_train_1163.jpg  \n",
            "  inflating: /content/dataset/train/Infected/infected_train_1164.jpg  \n",
            "  inflating: /content/dataset/train/Infected/infected_train_1165.jpg  \n",
            "  inflating: /content/dataset/train/Infected/infected_train_1166.jpg  \n",
            "  inflating: /content/dataset/train/Infected/infected_train_1167.jpg  \n",
            "  inflating: /content/dataset/train/Infected/infected_train_1168.jpg  \n",
            "  inflating: /content/dataset/train/Infected/infected_train_1169.jpg  \n",
            "  inflating: /content/dataset/train/Infected/infected_train_1170.jpg  \n",
            "  inflating: /content/dataset/train/Infected/infected_train_1171.jpg  \n",
            "  inflating: /content/dataset/train/Infected/infected_train_1172.jpg  \n",
            "  inflating: /content/dataset/train/Infected/infected_train_1173.jpg  \n",
            "  inflating: /content/dataset/train/Infected/infected_train_1174.jpg  \n",
            "  inflating: /content/dataset/train/Infected/infected_train_1175.jpg  \n",
            "  inflating: /content/dataset/train/Infected/infected_train_1176.jpg  \n",
            "  inflating: /content/dataset/train/Infected/infected_train_1177.jpg  \n",
            "  inflating: /content/dataset/train/Infected/infected_train_1178.jpg  \n",
            "  inflating: /content/dataset/train/Infected/infected_train_1179.jpg  \n",
            "  inflating: /content/dataset/train/Infected/infected_train_1180.jpg  \n",
            "  inflating: /content/dataset/train/Infected/infected_train_1181.jpg  \n",
            "  inflating: /content/dataset/train/Infected/infected_train_1182.jpg  \n",
            "  inflating: /content/dataset/train/Infected/infected_train_1183.jpg  \n",
            "  inflating: /content/dataset/train/Infected/infected_train_1184.jpg  \n",
            "  inflating: /content/dataset/train/Infected/infected_train_1185.jpg  \n",
            "  inflating: /content/dataset/train/Infected/infected_train_1186.jpg  \n",
            "  inflating: /content/dataset/train/Infected/infected_train_1187.jpg  \n",
            "  inflating: /content/dataset/train/Infected/infected_train_1188.jpg  \n",
            "  inflating: /content/dataset/train/Infected/infected_train_1189.jpg  \n",
            "  inflating: /content/dataset/train/Infected/infected_train_1190.jpg  \n",
            "  inflating: /content/dataset/train/Infected/infected_train_1191.jpg  \n",
            "  inflating: /content/dataset/train/Infected/infected_train_1192.jpg  \n",
            "  inflating: /content/dataset/train/Infected/infected_train_1193.jpg  \n",
            "  inflating: /content/dataset/train/Infected/infected_train_1194.jpg  \n",
            "  inflating: /content/dataset/train/Infected/infected_train_1195.jpg  \n",
            "  inflating: /content/dataset/train/Infected/infected_train_1196.jpg  \n",
            "  inflating: /content/dataset/train/Infected/infected_train_1197.jpg  \n",
            "  inflating: /content/dataset/train/Infected/infected_train_1198.jpg  \n",
            "  inflating: /content/dataset/train/Infected/infected_train_1199.jpg  \n",
            "  inflating: /content/dataset/train/Infected/infected_train_1200.jpg  \n",
            "   creating: /content/dataset/train/Uninfected/\n",
            "  inflating: /content/dataset/train/Uninfected/uninfected_train_0001.jpg  \n",
            "  inflating: /content/dataset/train/Uninfected/uninfected_train_0002.jpg  \n",
            "  inflating: /content/dataset/train/Uninfected/uninfected_train_0003.jpg  \n",
            "  inflating: /content/dataset/train/Uninfected/uninfected_train_0004.jpg  \n",
            "  inflating: /content/dataset/train/Uninfected/uninfected_train_0005.jpg  \n",
            "  inflating: /content/dataset/train/Uninfected/uninfected_train_0006.jpg  \n",
            "  inflating: /content/dataset/train/Uninfected/uninfected_train_0007.jpg  \n",
            "  inflating: /content/dataset/train/Uninfected/uninfected_train_0008.jpg  \n",
            "  inflating: /content/dataset/train/Uninfected/uninfected_train_0009.jpg  \n",
            "  inflating: /content/dataset/train/Uninfected/uninfected_train_0010.jpg  \n",
            "  inflating: /content/dataset/train/Uninfected/uninfected_train_0011.jpg  \n",
            "  inflating: /content/dataset/train/Uninfected/uninfected_train_0012.jpg  \n",
            "  inflating: /content/dataset/train/Uninfected/uninfected_train_0013.jpg  \n",
            "  inflating: /content/dataset/train/Uninfected/uninfected_train_0014.jpg  \n",
            "  inflating: /content/dataset/train/Uninfected/uninfected_train_0015.jpg  \n",
            "  inflating: /content/dataset/train/Uninfected/uninfected_train_0016.jpg  \n",
            "  inflating: /content/dataset/train/Uninfected/uninfected_train_0017.jpg  \n",
            "  inflating: /content/dataset/train/Uninfected/uninfected_train_0018.jpg  \n",
            "  inflating: /content/dataset/train/Uninfected/uninfected_train_0019.jpg  \n",
            "  inflating: /content/dataset/train/Uninfected/uninfected_train_0020.jpg  \n",
            "  inflating: /content/dataset/train/Uninfected/uninfected_train_0021.jpg  \n",
            "  inflating: /content/dataset/train/Uninfected/uninfected_train_0022.jpg  \n",
            "  inflating: /content/dataset/train/Uninfected/uninfected_train_0023.jpg  \n",
            "  inflating: /content/dataset/train/Uninfected/uninfected_train_0024.jpg  \n",
            "  inflating: /content/dataset/train/Uninfected/uninfected_train_0025.jpg  \n",
            "  inflating: /content/dataset/train/Uninfected/uninfected_train_0026.jpg  \n",
            "  inflating: /content/dataset/train/Uninfected/uninfected_train_0027.jpg  \n",
            "  inflating: /content/dataset/train/Uninfected/uninfected_train_0028.jpg  \n",
            "  inflating: /content/dataset/train/Uninfected/uninfected_train_0029.jpg  \n",
            "  inflating: /content/dataset/train/Uninfected/uninfected_train_0030.jpg  \n",
            "  inflating: /content/dataset/train/Uninfected/uninfected_train_0031.jpg  \n",
            "  inflating: /content/dataset/train/Uninfected/uninfected_train_0032.jpg  \n",
            "  inflating: /content/dataset/train/Uninfected/uninfected_train_0033.jpg  \n",
            "  inflating: /content/dataset/train/Uninfected/uninfected_train_0034.jpg  \n",
            "  inflating: /content/dataset/train/Uninfected/uninfected_train_0035.jpg  \n",
            "  inflating: /content/dataset/train/Uninfected/uninfected_train_0036.jpg  \n",
            "  inflating: /content/dataset/train/Uninfected/uninfected_train_0037.jpg  \n",
            "  inflating: /content/dataset/train/Uninfected/uninfected_train_0038.jpg  \n",
            "  inflating: /content/dataset/train/Uninfected/uninfected_train_0039.jpg  \n",
            "  inflating: /content/dataset/train/Uninfected/uninfected_train_0040.jpg  \n",
            "  inflating: /content/dataset/train/Uninfected/uninfected_train_0041.jpg  \n",
            "  inflating: /content/dataset/train/Uninfected/uninfected_train_0042.jpg  \n",
            "  inflating: /content/dataset/train/Uninfected/uninfected_train_0043.jpg  \n",
            "  inflating: /content/dataset/train/Uninfected/uninfected_train_0044.jpg  \n",
            "  inflating: /content/dataset/train/Uninfected/uninfected_train_0045.jpg  \n",
            "  inflating: /content/dataset/train/Uninfected/uninfected_train_0046.jpg  \n",
            "  inflating: /content/dataset/train/Uninfected/uninfected_train_0047.jpg  \n",
            "  inflating: /content/dataset/train/Uninfected/uninfected_train_0048.jpg  \n",
            "  inflating: /content/dataset/train/Uninfected/uninfected_train_0049.jpg  \n",
            "  inflating: /content/dataset/train/Uninfected/uninfected_train_0050.jpg  \n",
            "  inflating: /content/dataset/train/Uninfected/uninfected_train_0051.jpg  \n",
            "  inflating: /content/dataset/train/Uninfected/uninfected_train_0052.jpg  \n",
            "  inflating: /content/dataset/train/Uninfected/uninfected_train_0053.jpg  \n",
            "  inflating: /content/dataset/train/Uninfected/uninfected_train_0054.jpg  \n",
            "  inflating: /content/dataset/train/Uninfected/uninfected_train_0055.jpg  \n",
            "  inflating: /content/dataset/train/Uninfected/uninfected_train_0056.jpg  \n",
            "  inflating: /content/dataset/train/Uninfected/uninfected_train_0057.jpg  \n",
            "  inflating: /content/dataset/train/Uninfected/uninfected_train_0058.jpg  \n",
            "  inflating: /content/dataset/train/Uninfected/uninfected_train_0059.jpg  \n",
            "  inflating: /content/dataset/train/Uninfected/uninfected_train_0060.jpg  \n",
            "  inflating: /content/dataset/train/Uninfected/uninfected_train_0061.jpg  \n",
            "  inflating: /content/dataset/train/Uninfected/uninfected_train_0062.jpg  \n",
            "  inflating: /content/dataset/train/Uninfected/uninfected_train_0063.jpg  \n",
            "  inflating: /content/dataset/train/Uninfected/uninfected_train_0064.jpg  \n",
            "  inflating: /content/dataset/train/Uninfected/uninfected_train_0065.jpg  \n",
            "  inflating: /content/dataset/train/Uninfected/uninfected_train_0066.jpg  \n",
            "  inflating: /content/dataset/train/Uninfected/uninfected_train_0067.jpg  \n",
            "  inflating: /content/dataset/train/Uninfected/uninfected_train_0068.jpg  \n",
            "  inflating: /content/dataset/train/Uninfected/uninfected_train_0069.jpg  \n",
            "  inflating: /content/dataset/train/Uninfected/uninfected_train_0070.jpg  \n",
            "  inflating: /content/dataset/train/Uninfected/uninfected_train_0071.jpg  \n",
            "  inflating: /content/dataset/train/Uninfected/uninfected_train_0072.jpg  \n",
            "  inflating: /content/dataset/train/Uninfected/uninfected_train_0073.jpg  \n",
            "  inflating: /content/dataset/train/Uninfected/uninfected_train_0074.jpg  \n",
            "  inflating: /content/dataset/train/Uninfected/uninfected_train_0075.jpg  \n",
            "  inflating: /content/dataset/train/Uninfected/uninfected_train_0076.jpg  \n",
            "  inflating: /content/dataset/train/Uninfected/uninfected_train_0077.jpg  \n",
            "  inflating: /content/dataset/train/Uninfected/uninfected_train_0078.jpg  \n",
            "  inflating: /content/dataset/train/Uninfected/uninfected_train_0079.jpg  \n",
            "  inflating: /content/dataset/train/Uninfected/uninfected_train_0080.jpg  \n",
            "  inflating: /content/dataset/train/Uninfected/uninfected_train_0081.jpg  \n",
            "  inflating: /content/dataset/train/Uninfected/uninfected_train_0082.jpg  \n",
            "  inflating: /content/dataset/train/Uninfected/uninfected_train_0083.jpg  \n",
            "  inflating: /content/dataset/train/Uninfected/uninfected_train_0084.jpg  \n",
            "  inflating: /content/dataset/train/Uninfected/uninfected_train_0085.jpg  \n",
            "  inflating: /content/dataset/train/Uninfected/uninfected_train_0086.jpg  \n",
            "  inflating: /content/dataset/train/Uninfected/uninfected_train_0087.jpg  \n",
            "  inflating: /content/dataset/train/Uninfected/uninfected_train_0088.jpg  \n",
            "  inflating: /content/dataset/train/Uninfected/uninfected_train_0089.jpg  \n",
            "  inflating: /content/dataset/train/Uninfected/uninfected_train_0090.jpg  \n",
            "  inflating: /content/dataset/train/Uninfected/uninfected_train_0091.jpg  \n",
            "  inflating: /content/dataset/train/Uninfected/uninfected_train_0092.jpg  \n",
            "  inflating: /content/dataset/train/Uninfected/uninfected_train_0093.jpg  \n",
            "  inflating: /content/dataset/train/Uninfected/uninfected_train_0094.jpg  \n",
            "  inflating: /content/dataset/train/Uninfected/uninfected_train_0095.jpg  \n",
            "  inflating: /content/dataset/train/Uninfected/uninfected_train_0096.jpg  \n",
            "  inflating: /content/dataset/train/Uninfected/uninfected_train_0097.jpg  \n",
            "  inflating: /content/dataset/train/Uninfected/uninfected_train_0098.jpg  \n",
            "  inflating: /content/dataset/train/Uninfected/uninfected_train_0099.jpg  \n",
            "  inflating: /content/dataset/train/Uninfected/uninfected_train_0100.jpg  \n",
            "  inflating: /content/dataset/train/Uninfected/uninfected_train_0101.jpg  \n",
            "  inflating: /content/dataset/train/Uninfected/uninfected_train_0102.jpg  \n",
            "  inflating: /content/dataset/train/Uninfected/uninfected_train_0103.jpg  \n",
            "  inflating: /content/dataset/train/Uninfected/uninfected_train_0104.jpg  \n",
            "  inflating: /content/dataset/train/Uninfected/uninfected_train_0105.jpg  \n",
            "  inflating: /content/dataset/train/Uninfected/uninfected_train_0106.jpg  \n",
            "  inflating: /content/dataset/train/Uninfected/uninfected_train_0107.jpg  \n",
            "  inflating: /content/dataset/train/Uninfected/uninfected_train_0108.jpg  \n",
            "  inflating: /content/dataset/train/Uninfected/uninfected_train_0109.jpg  \n",
            "  inflating: /content/dataset/train/Uninfected/uninfected_train_0110.jpg  \n",
            "  inflating: /content/dataset/train/Uninfected/uninfected_train_0111.jpg  \n",
            "  inflating: /content/dataset/train/Uninfected/uninfected_train_0112.jpg  \n",
            "  inflating: /content/dataset/train/Uninfected/uninfected_train_0113.jpg  \n",
            "  inflating: /content/dataset/train/Uninfected/uninfected_train_0114.jpg  \n",
            "  inflating: /content/dataset/train/Uninfected/uninfected_train_0115.jpg  \n",
            "  inflating: /content/dataset/train/Uninfected/uninfected_train_0116.jpg  \n",
            "  inflating: /content/dataset/train/Uninfected/uninfected_train_0117.jpg  \n",
            "  inflating: /content/dataset/train/Uninfected/uninfected_train_0118.jpg  \n",
            "  inflating: /content/dataset/train/Uninfected/uninfected_train_0119.jpg  \n",
            "  inflating: /content/dataset/train/Uninfected/uninfected_train_0120.jpg  \n",
            "  inflating: /content/dataset/train/Uninfected/uninfected_train_0121.jpg  \n",
            "  inflating: /content/dataset/train/Uninfected/uninfected_train_0122.jpg  \n",
            "  inflating: /content/dataset/train/Uninfected/uninfected_train_0123.jpg  \n",
            "  inflating: /content/dataset/train/Uninfected/uninfected_train_0124.jpg  \n",
            "  inflating: /content/dataset/train/Uninfected/uninfected_train_0125.jpg  \n",
            "  inflating: /content/dataset/train/Uninfected/uninfected_train_0126.jpg  \n",
            "  inflating: /content/dataset/train/Uninfected/uninfected_train_0127.jpg  \n",
            "  inflating: /content/dataset/train/Uninfected/uninfected_train_0128.jpg  \n",
            "  inflating: /content/dataset/train/Uninfected/uninfected_train_0129.jpg  \n",
            "  inflating: /content/dataset/train/Uninfected/uninfected_train_0130.jpg  \n",
            "  inflating: /content/dataset/train/Uninfected/uninfected_train_0131.jpg  \n",
            "  inflating: /content/dataset/train/Uninfected/uninfected_train_0132.jpg  \n",
            "  inflating: /content/dataset/train/Uninfected/uninfected_train_0133.jpg  \n",
            "  inflating: /content/dataset/train/Uninfected/uninfected_train_0134.jpg  \n",
            "  inflating: /content/dataset/train/Uninfected/uninfected_train_0135.jpg  \n",
            "  inflating: /content/dataset/train/Uninfected/uninfected_train_0136.jpg  \n",
            "  inflating: /content/dataset/train/Uninfected/uninfected_train_0137.jpg  \n",
            "  inflating: /content/dataset/train/Uninfected/uninfected_train_0138.jpg  \n",
            "  inflating: /content/dataset/train/Uninfected/uninfected_train_0139.jpg  \n",
            "  inflating: /content/dataset/train/Uninfected/uninfected_train_0140.jpg  \n",
            "  inflating: /content/dataset/train/Uninfected/uninfected_train_0141.jpg  \n",
            "  inflating: /content/dataset/train/Uninfected/uninfected_train_0142.jpg  \n",
            "  inflating: /content/dataset/train/Uninfected/uninfected_train_0143.jpg  \n",
            "  inflating: /content/dataset/train/Uninfected/uninfected_train_0144.jpg  \n",
            "  inflating: /content/dataset/train/Uninfected/uninfected_train_0145.jpg  \n",
            "  inflating: /content/dataset/train/Uninfected/uninfected_train_0146.jpg  \n",
            "  inflating: /content/dataset/train/Uninfected/uninfected_train_0147.jpg  \n",
            "  inflating: /content/dataset/train/Uninfected/uninfected_train_0148.jpg  \n",
            "  inflating: /content/dataset/train/Uninfected/uninfected_train_0149.jpg  \n",
            "  inflating: /content/dataset/train/Uninfected/uninfected_train_0150.jpg  \n",
            "  inflating: /content/dataset/train/Uninfected/uninfected_train_0151.jpg  \n",
            "  inflating: /content/dataset/train/Uninfected/uninfected_train_0152.jpg  \n",
            "  inflating: /content/dataset/train/Uninfected/uninfected_train_0153.jpg  \n",
            "  inflating: /content/dataset/train/Uninfected/uninfected_train_0154.jpg  \n",
            "  inflating: /content/dataset/train/Uninfected/uninfected_train_0155.jpg  \n",
            "  inflating: /content/dataset/train/Uninfected/uninfected_train_0156.jpg  \n",
            "  inflating: /content/dataset/train/Uninfected/uninfected_train_0157.jpg  \n",
            "  inflating: /content/dataset/train/Uninfected/uninfected_train_0158.jpg  \n",
            "  inflating: /content/dataset/train/Uninfected/uninfected_train_0159.jpg  \n",
            "  inflating: /content/dataset/train/Uninfected/uninfected_train_0160.jpg  \n",
            "  inflating: /content/dataset/train/Uninfected/uninfected_train_0161.jpg  \n",
            "  inflating: /content/dataset/train/Uninfected/uninfected_train_0162.jpg  \n",
            "  inflating: /content/dataset/train/Uninfected/uninfected_train_0163.jpg  \n",
            "  inflating: /content/dataset/train/Uninfected/uninfected_train_0164.jpg  \n",
            "  inflating: /content/dataset/train/Uninfected/uninfected_train_0165.jpg  \n",
            "  inflating: /content/dataset/train/Uninfected/uninfected_train_0166.jpg  \n",
            "  inflating: /content/dataset/train/Uninfected/uninfected_train_0167.jpg  \n",
            "  inflating: /content/dataset/train/Uninfected/uninfected_train_0168.jpg  \n",
            "  inflating: /content/dataset/train/Uninfected/uninfected_train_0169.jpg  \n",
            "  inflating: /content/dataset/train/Uninfected/uninfected_train_0170.jpg  \n",
            "  inflating: /content/dataset/train/Uninfected/uninfected_train_0171.jpg  \n",
            "  inflating: /content/dataset/train/Uninfected/uninfected_train_0172.jpg  \n",
            "  inflating: /content/dataset/train/Uninfected/uninfected_train_0173.jpg  \n",
            "  inflating: /content/dataset/train/Uninfected/uninfected_train_0174.jpg  \n",
            "  inflating: /content/dataset/train/Uninfected/uninfected_train_0175.jpg  \n",
            "  inflating: /content/dataset/train/Uninfected/uninfected_train_0176.jpg  \n",
            "  inflating: /content/dataset/train/Uninfected/uninfected_train_0177.jpg  \n",
            "  inflating: /content/dataset/train/Uninfected/uninfected_train_0178.jpg  \n",
            "  inflating: /content/dataset/train/Uninfected/uninfected_train_0179.jpg  \n",
            "  inflating: /content/dataset/train/Uninfected/uninfected_train_0180.jpg  \n",
            "  inflating: /content/dataset/train/Uninfected/uninfected_train_0181.jpg  \n",
            "  inflating: /content/dataset/train/Uninfected/uninfected_train_0182.jpg  \n",
            "  inflating: /content/dataset/train/Uninfected/uninfected_train_0183.jpg  \n",
            "  inflating: /content/dataset/train/Uninfected/uninfected_train_0184.jpg  \n",
            "  inflating: /content/dataset/train/Uninfected/uninfected_train_0185.jpg  \n",
            "  inflating: /content/dataset/train/Uninfected/uninfected_train_0186.jpg  \n",
            "  inflating: /content/dataset/train/Uninfected/uninfected_train_0187.jpg  \n",
            "  inflating: /content/dataset/train/Uninfected/uninfected_train_0188.jpg  \n",
            "  inflating: /content/dataset/train/Uninfected/uninfected_train_0189.jpg  \n",
            "  inflating: /content/dataset/train/Uninfected/uninfected_train_0190.jpg  \n",
            "  inflating: /content/dataset/train/Uninfected/uninfected_train_0191.jpg  \n",
            "  inflating: /content/dataset/train/Uninfected/uninfected_train_0192.jpg  \n",
            "  inflating: /content/dataset/train/Uninfected/uninfected_train_0193.jpg  \n",
            "  inflating: /content/dataset/train/Uninfected/uninfected_train_0194.jpg  \n",
            "  inflating: /content/dataset/train/Uninfected/uninfected_train_0195.jpg  \n",
            "  inflating: /content/dataset/train/Uninfected/uninfected_train_0196.jpg  \n",
            "  inflating: /content/dataset/train/Uninfected/uninfected_train_0197.jpg  \n",
            "  inflating: /content/dataset/train/Uninfected/uninfected_train_0198.jpg  \n",
            "  inflating: /content/dataset/train/Uninfected/uninfected_train_0199.jpg  \n",
            "  inflating: /content/dataset/train/Uninfected/uninfected_train_0200.jpg  \n",
            "  inflating: /content/dataset/train/Uninfected/uninfected_train_0201.jpg  \n",
            "  inflating: /content/dataset/train/Uninfected/uninfected_train_0202.jpg  \n",
            "  inflating: /content/dataset/train/Uninfected/uninfected_train_0203.jpg  \n",
            "  inflating: /content/dataset/train/Uninfected/uninfected_train_0204.jpg  \n",
            "  inflating: /content/dataset/train/Uninfected/uninfected_train_0205.jpg  \n",
            "  inflating: /content/dataset/train/Uninfected/uninfected_train_0206.jpg  \n",
            "  inflating: /content/dataset/train/Uninfected/uninfected_train_0207.jpg  \n",
            "  inflating: /content/dataset/train/Uninfected/uninfected_train_0208.jpg  \n",
            "  inflating: /content/dataset/train/Uninfected/uninfected_train_0209.jpg  \n",
            "  inflating: /content/dataset/train/Uninfected/uninfected_train_0210.jpg  \n",
            "  inflating: /content/dataset/train/Uninfected/uninfected_train_0211.jpg  \n",
            "  inflating: /content/dataset/train/Uninfected/uninfected_train_0212.jpg  \n",
            "  inflating: /content/dataset/train/Uninfected/uninfected_train_0213.jpg  \n",
            "  inflating: /content/dataset/train/Uninfected/uninfected_train_0214.jpg  \n",
            "  inflating: /content/dataset/train/Uninfected/uninfected_train_0215.jpg  \n",
            "  inflating: /content/dataset/train/Uninfected/uninfected_train_0216.jpg  \n",
            "  inflating: /content/dataset/train/Uninfected/uninfected_train_0217.jpg  \n",
            "  inflating: /content/dataset/train/Uninfected/uninfected_train_0218.jpg  \n",
            "  inflating: /content/dataset/train/Uninfected/uninfected_train_0219.jpg  \n",
            "  inflating: /content/dataset/train/Uninfected/uninfected_train_0220.jpg  \n",
            "  inflating: /content/dataset/train/Uninfected/uninfected_train_0221.jpg  \n",
            "  inflating: /content/dataset/train/Uninfected/uninfected_train_0222.jpg  \n",
            "  inflating: /content/dataset/train/Uninfected/uninfected_train_0223.jpg  \n",
            "  inflating: /content/dataset/train/Uninfected/uninfected_train_0224.jpg  \n",
            "  inflating: /content/dataset/train/Uninfected/uninfected_train_0225.jpg  \n",
            "  inflating: /content/dataset/train/Uninfected/uninfected_train_0226.jpg  \n",
            "  inflating: /content/dataset/train/Uninfected/uninfected_train_0227.jpg  \n",
            "  inflating: /content/dataset/train/Uninfected/uninfected_train_0228.jpg  \n",
            "  inflating: /content/dataset/train/Uninfected/uninfected_train_0229.jpg  \n",
            "  inflating: /content/dataset/train/Uninfected/uninfected_train_0230.jpg  \n",
            "  inflating: /content/dataset/train/Uninfected/uninfected_train_0231.jpg  \n",
            "  inflating: /content/dataset/train/Uninfected/uninfected_train_0232.jpg  \n",
            "  inflating: /content/dataset/train/Uninfected/uninfected_train_0233.jpg  \n",
            "  inflating: /content/dataset/train/Uninfected/uninfected_train_0234.jpg  \n",
            "  inflating: /content/dataset/train/Uninfected/uninfected_train_0235.jpg  \n",
            "  inflating: /content/dataset/train/Uninfected/uninfected_train_0236.jpg  \n",
            "  inflating: /content/dataset/train/Uninfected/uninfected_train_0237.jpg  \n",
            "  inflating: /content/dataset/train/Uninfected/uninfected_train_0238.jpg  \n",
            "  inflating: /content/dataset/train/Uninfected/uninfected_train_0239.jpg  \n",
            "  inflating: /content/dataset/train/Uninfected/uninfected_train_0240.jpg  \n",
            "  inflating: /content/dataset/train/Uninfected/uninfected_train_0241.jpg  \n",
            "  inflating: /content/dataset/train/Uninfected/uninfected_train_0242.jpg  \n",
            "  inflating: /content/dataset/train/Uninfected/uninfected_train_0243.jpg  \n",
            "  inflating: /content/dataset/train/Uninfected/uninfected_train_0244.jpg  \n",
            "  inflating: /content/dataset/train/Uninfected/uninfected_train_0245.jpg  \n",
            "  inflating: /content/dataset/train/Uninfected/uninfected_train_0246.jpg  \n",
            "  inflating: /content/dataset/train/Uninfected/uninfected_train_0247.jpg  \n",
            "  inflating: /content/dataset/train/Uninfected/uninfected_train_0248.jpg  \n",
            "  inflating: /content/dataset/train/Uninfected/uninfected_train_0249.jpg  \n",
            "  inflating: /content/dataset/train/Uninfected/uninfected_train_0250.jpg  \n",
            "  inflating: /content/dataset/train/Uninfected/uninfected_train_0251.jpg  \n",
            "  inflating: /content/dataset/train/Uninfected/uninfected_train_0252.jpg  \n",
            "  inflating: /content/dataset/train/Uninfected/uninfected_train_0253.jpg  \n",
            "  inflating: /content/dataset/train/Uninfected/uninfected_train_0254.jpg  \n",
            "  inflating: /content/dataset/train/Uninfected/uninfected_train_0255.jpg  \n",
            "  inflating: /content/dataset/train/Uninfected/uninfected_train_0256.jpg  \n",
            "  inflating: /content/dataset/train/Uninfected/uninfected_train_0257.jpg  \n",
            "  inflating: /content/dataset/train/Uninfected/uninfected_train_0258.jpg  \n",
            "  inflating: /content/dataset/train/Uninfected/uninfected_train_0259.jpg  \n",
            "  inflating: /content/dataset/train/Uninfected/uninfected_train_0260.jpg  \n",
            "  inflating: /content/dataset/train/Uninfected/uninfected_train_0261.jpg  \n",
            "  inflating: /content/dataset/train/Uninfected/uninfected_train_0262.jpg  \n",
            "  inflating: /content/dataset/train/Uninfected/uninfected_train_0263.jpg  \n",
            "  inflating: /content/dataset/train/Uninfected/uninfected_train_0264.jpg  \n",
            "  inflating: /content/dataset/train/Uninfected/uninfected_train_0265.jpg  \n",
            "  inflating: /content/dataset/train/Uninfected/uninfected_train_0266.jpg  \n",
            "  inflating: /content/dataset/train/Uninfected/uninfected_train_0267.jpg  \n",
            "  inflating: /content/dataset/train/Uninfected/uninfected_train_0268.jpg  \n",
            "  inflating: /content/dataset/train/Uninfected/uninfected_train_0269.jpg  \n",
            "  inflating: /content/dataset/train/Uninfected/uninfected_train_0270.jpg  \n",
            "  inflating: /content/dataset/train/Uninfected/uninfected_train_0271.jpg  \n",
            "  inflating: /content/dataset/train/Uninfected/uninfected_train_0272.jpg  \n",
            "  inflating: /content/dataset/train/Uninfected/uninfected_train_0273.jpg  \n",
            "  inflating: /content/dataset/train/Uninfected/uninfected_train_0274.jpg  \n",
            "  inflating: /content/dataset/train/Uninfected/uninfected_train_0275.jpg  \n",
            "  inflating: /content/dataset/train/Uninfected/uninfected_train_0276.jpg  \n",
            "  inflating: /content/dataset/train/Uninfected/uninfected_train_0277.jpg  \n",
            "  inflating: /content/dataset/train/Uninfected/uninfected_train_0278.jpg  \n",
            "  inflating: /content/dataset/train/Uninfected/uninfected_train_0279.jpg  \n",
            "  inflating: /content/dataset/train/Uninfected/uninfected_train_0280.jpg  \n",
            "  inflating: /content/dataset/train/Uninfected/uninfected_train_0281.jpg  \n",
            "  inflating: /content/dataset/train/Uninfected/uninfected_train_0282.jpg  \n",
            "  inflating: /content/dataset/train/Uninfected/uninfected_train_0283.jpg  \n",
            "  inflating: /content/dataset/train/Uninfected/uninfected_train_0284.jpg  \n",
            "  inflating: /content/dataset/train/Uninfected/uninfected_train_0285.jpg  \n",
            "  inflating: /content/dataset/train/Uninfected/uninfected_train_0286.jpg  \n",
            "  inflating: /content/dataset/train/Uninfected/uninfected_train_0287.jpg  \n",
            "  inflating: /content/dataset/train/Uninfected/uninfected_train_0288.jpg  \n",
            "  inflating: /content/dataset/train/Uninfected/uninfected_train_0289.jpg  \n",
            "  inflating: /content/dataset/train/Uninfected/uninfected_train_0290.jpg  \n",
            "  inflating: /content/dataset/train/Uninfected/uninfected_train_0291.jpg  \n",
            "  inflating: /content/dataset/train/Uninfected/uninfected_train_0292.jpg  \n",
            "  inflating: /content/dataset/train/Uninfected/uninfected_train_0293.jpg  \n",
            "  inflating: /content/dataset/train/Uninfected/uninfected_train_0294.jpg  \n",
            "  inflating: /content/dataset/train/Uninfected/uninfected_train_0295.jpg  \n",
            "  inflating: /content/dataset/train/Uninfected/uninfected_train_0296.jpg  \n",
            "  inflating: /content/dataset/train/Uninfected/uninfected_train_0297.jpg  \n",
            "  inflating: /content/dataset/train/Uninfected/uninfected_train_0298.jpg  \n",
            "  inflating: /content/dataset/train/Uninfected/uninfected_train_0299.jpg  \n",
            "  inflating: /content/dataset/train/Uninfected/uninfected_train_0300.jpg  \n",
            "  inflating: /content/dataset/train/Uninfected/uninfected_train_0301.jpg  \n",
            "  inflating: /content/dataset/train/Uninfected/uninfected_train_0302.jpg  \n",
            "  inflating: /content/dataset/train/Uninfected/uninfected_train_0303.jpg  \n",
            "  inflating: /content/dataset/train/Uninfected/uninfected_train_0304.jpg  \n",
            "  inflating: /content/dataset/train/Uninfected/uninfected_train_0305.jpg  \n",
            "  inflating: /content/dataset/train/Uninfected/uninfected_train_0306.jpg  \n",
            "  inflating: /content/dataset/train/Uninfected/uninfected_train_0307.jpg  \n",
            "  inflating: /content/dataset/train/Uninfected/uninfected_train_0308.jpg  \n",
            "  inflating: /content/dataset/train/Uninfected/uninfected_train_0309.jpg  \n",
            "  inflating: /content/dataset/train/Uninfected/uninfected_train_0310.jpg  \n",
            "  inflating: /content/dataset/train/Uninfected/uninfected_train_0311.jpg  \n",
            "  inflating: /content/dataset/train/Uninfected/uninfected_train_0312.jpg  \n",
            "  inflating: /content/dataset/train/Uninfected/uninfected_train_0313.jpg  \n",
            "  inflating: /content/dataset/train/Uninfected/uninfected_train_0314.jpg  \n",
            "  inflating: /content/dataset/train/Uninfected/uninfected_train_0315.jpg  \n",
            "  inflating: /content/dataset/train/Uninfected/uninfected_train_0316.jpg  \n",
            "  inflating: /content/dataset/train/Uninfected/uninfected_train_0317.jpg  \n",
            "  inflating: /content/dataset/train/Uninfected/uninfected_train_0318.jpg  \n",
            "  inflating: /content/dataset/train/Uninfected/uninfected_train_0319.jpg  \n",
            "  inflating: /content/dataset/train/Uninfected/uninfected_train_0320.jpg  \n",
            "  inflating: /content/dataset/train/Uninfected/uninfected_train_0321.jpg  \n",
            "  inflating: /content/dataset/train/Uninfected/uninfected_train_0322.jpg  \n",
            "  inflating: /content/dataset/train/Uninfected/uninfected_train_0323.jpg  \n",
            "  inflating: /content/dataset/train/Uninfected/uninfected_train_0324.jpg  \n",
            "  inflating: /content/dataset/train/Uninfected/uninfected_train_0325.jpg  \n",
            "  inflating: /content/dataset/train/Uninfected/uninfected_train_0326.jpg  \n",
            "  inflating: /content/dataset/train/Uninfected/uninfected_train_0327.jpg  \n",
            "  inflating: /content/dataset/train/Uninfected/uninfected_train_0328.jpg  \n",
            "  inflating: /content/dataset/train/Uninfected/uninfected_train_0329.jpg  \n",
            "  inflating: /content/dataset/train/Uninfected/uninfected_train_0330.jpg  \n",
            "  inflating: /content/dataset/train/Uninfected/uninfected_train_0331.jpg  \n",
            "  inflating: /content/dataset/train/Uninfected/uninfected_train_0332.jpg  \n",
            "  inflating: /content/dataset/train/Uninfected/uninfected_train_0333.jpg  \n",
            "  inflating: /content/dataset/train/Uninfected/uninfected_train_0334.jpg  \n",
            "  inflating: /content/dataset/train/Uninfected/uninfected_train_0335.jpg  \n",
            "  inflating: /content/dataset/train/Uninfected/uninfected_train_0336.jpg  \n",
            "  inflating: /content/dataset/train/Uninfected/uninfected_train_0337.jpg  \n",
            "  inflating: /content/dataset/train/Uninfected/uninfected_train_0338.jpg  \n",
            "  inflating: /content/dataset/train/Uninfected/uninfected_train_0339.jpg  \n",
            "  inflating: /content/dataset/train/Uninfected/uninfected_train_0340.jpg  \n",
            "  inflating: /content/dataset/train/Uninfected/uninfected_train_0341.jpg  \n",
            "  inflating: /content/dataset/train/Uninfected/uninfected_train_0342.jpg  \n",
            "  inflating: /content/dataset/train/Uninfected/uninfected_train_0343.jpg  \n",
            "  inflating: /content/dataset/train/Uninfected/uninfected_train_0344.jpg  \n",
            "  inflating: /content/dataset/train/Uninfected/uninfected_train_0345.jpg  \n",
            "  inflating: /content/dataset/train/Uninfected/uninfected_train_0346.jpg  \n",
            "  inflating: /content/dataset/train/Uninfected/uninfected_train_0347.jpg  \n",
            "  inflating: /content/dataset/train/Uninfected/uninfected_train_0348.jpg  \n",
            "  inflating: /content/dataset/train/Uninfected/uninfected_train_0349.jpg  \n",
            "  inflating: /content/dataset/train/Uninfected/uninfected_train_0350.jpg  \n",
            "  inflating: /content/dataset/train/Uninfected/uninfected_train_0351.jpg  \n",
            "  inflating: /content/dataset/train/Uninfected/uninfected_train_0352.jpg  \n",
            "  inflating: /content/dataset/train/Uninfected/uninfected_train_0353.jpg  \n",
            "  inflating: /content/dataset/train/Uninfected/uninfected_train_0354.jpg  \n",
            "  inflating: /content/dataset/train/Uninfected/uninfected_train_0355.jpg  \n",
            "  inflating: /content/dataset/train/Uninfected/uninfected_train_0356.jpg  \n",
            "  inflating: /content/dataset/train/Uninfected/uninfected_train_0357.jpg  \n",
            "  inflating: /content/dataset/train/Uninfected/uninfected_train_0358.jpg  \n",
            "  inflating: /content/dataset/train/Uninfected/uninfected_train_0359.jpg  \n",
            "  inflating: /content/dataset/train/Uninfected/uninfected_train_0360.jpg  \n",
            "  inflating: /content/dataset/train/Uninfected/uninfected_train_0361.jpg  \n",
            "  inflating: /content/dataset/train/Uninfected/uninfected_train_0362.jpg  \n",
            "  inflating: /content/dataset/train/Uninfected/uninfected_train_0363.jpg  \n",
            "  inflating: /content/dataset/train/Uninfected/uninfected_train_0364.jpg  \n",
            "  inflating: /content/dataset/train/Uninfected/uninfected_train_0365.jpg  \n",
            "  inflating: /content/dataset/train/Uninfected/uninfected_train_0366.jpg  \n",
            "  inflating: /content/dataset/train/Uninfected/uninfected_train_0367.jpg  \n",
            "  inflating: /content/dataset/train/Uninfected/uninfected_train_0368.jpg  \n",
            "  inflating: /content/dataset/train/Uninfected/uninfected_train_0369.jpg  \n",
            "  inflating: /content/dataset/train/Uninfected/uninfected_train_0370.jpg  \n",
            "  inflating: /content/dataset/train/Uninfected/uninfected_train_0371.jpg  \n",
            "  inflating: /content/dataset/train/Uninfected/uninfected_train_0372.jpg  \n",
            "  inflating: /content/dataset/train/Uninfected/uninfected_train_0373.jpg  \n",
            "  inflating: /content/dataset/train/Uninfected/uninfected_train_0374.jpg  \n",
            "  inflating: /content/dataset/train/Uninfected/uninfected_train_0375.jpg  \n",
            "  inflating: /content/dataset/train/Uninfected/uninfected_train_0376.jpg  \n",
            "  inflating: /content/dataset/train/Uninfected/uninfected_train_0377.jpg  \n",
            "  inflating: /content/dataset/train/Uninfected/uninfected_train_0378.jpg  \n",
            "  inflating: /content/dataset/train/Uninfected/uninfected_train_0379.jpg  \n",
            "  inflating: /content/dataset/train/Uninfected/uninfected_train_0380.jpg  \n",
            "  inflating: /content/dataset/train/Uninfected/uninfected_train_0381.jpg  \n",
            "  inflating: /content/dataset/train/Uninfected/uninfected_train_0382.jpg  \n",
            "  inflating: /content/dataset/train/Uninfected/uninfected_train_0383.jpg  \n",
            "  inflating: /content/dataset/train/Uninfected/uninfected_train_0384.jpg  \n",
            "  inflating: /content/dataset/train/Uninfected/uninfected_train_0385.jpg  \n",
            "  inflating: /content/dataset/train/Uninfected/uninfected_train_0386.jpg  \n",
            "  inflating: /content/dataset/train/Uninfected/uninfected_train_0387.jpg  \n",
            "  inflating: /content/dataset/train/Uninfected/uninfected_train_0388.jpg  \n",
            "  inflating: /content/dataset/train/Uninfected/uninfected_train_0389.jpg  \n",
            "  inflating: /content/dataset/train/Uninfected/uninfected_train_0390.jpg  \n",
            "  inflating: /content/dataset/train/Uninfected/uninfected_train_0391.jpg  \n",
            "  inflating: /content/dataset/train/Uninfected/uninfected_train_0392.jpg  \n",
            "  inflating: /content/dataset/train/Uninfected/uninfected_train_0393.jpg  \n",
            "  inflating: /content/dataset/train/Uninfected/uninfected_train_0394.jpg  \n",
            "  inflating: /content/dataset/train/Uninfected/uninfected_train_0395.jpg  \n",
            "  inflating: /content/dataset/train/Uninfected/uninfected_train_0396.jpg  \n",
            "  inflating: /content/dataset/train/Uninfected/uninfected_train_0397.jpg  \n",
            "  inflating: /content/dataset/train/Uninfected/uninfected_train_0398.jpg  \n",
            "  inflating: /content/dataset/train/Uninfected/uninfected_train_0399.jpg  \n",
            "  inflating: /content/dataset/train/Uninfected/uninfected_train_0400.jpg  \n",
            "  inflating: /content/dataset/train/Uninfected/uninfected_train_0401.jpg  \n",
            "  inflating: /content/dataset/train/Uninfected/uninfected_train_0402.jpg  \n",
            "  inflating: /content/dataset/train/Uninfected/uninfected_train_0403.jpg  \n",
            "  inflating: /content/dataset/train/Uninfected/uninfected_train_0404.jpg  \n",
            "  inflating: /content/dataset/train/Uninfected/uninfected_train_0405.jpg  \n",
            "  inflating: /content/dataset/train/Uninfected/uninfected_train_0406.jpg  \n",
            "  inflating: /content/dataset/train/Uninfected/uninfected_train_0407.jpg  \n",
            "  inflating: /content/dataset/train/Uninfected/uninfected_train_0408.jpg  \n",
            "  inflating: /content/dataset/train/Uninfected/uninfected_train_0409.jpg  \n",
            "  inflating: /content/dataset/train/Uninfected/uninfected_train_0410.jpg  \n",
            "  inflating: /content/dataset/train/Uninfected/uninfected_train_0411.jpg  \n",
            "  inflating: /content/dataset/train/Uninfected/uninfected_train_0412.jpg  \n",
            "  inflating: /content/dataset/train/Uninfected/uninfected_train_0413.jpg  \n",
            "  inflating: /content/dataset/train/Uninfected/uninfected_train_0414.jpg  \n",
            "  inflating: /content/dataset/train/Uninfected/uninfected_train_0415.jpg  \n",
            "  inflating: /content/dataset/train/Uninfected/uninfected_train_0416.jpg  \n",
            "  inflating: /content/dataset/train/Uninfected/uninfected_train_0417.jpg  \n",
            "  inflating: /content/dataset/train/Uninfected/uninfected_train_0418.jpg  \n",
            "  inflating: /content/dataset/train/Uninfected/uninfected_train_0419.jpg  \n",
            "  inflating: /content/dataset/train/Uninfected/uninfected_train_0420.jpg  \n",
            "  inflating: /content/dataset/train/Uninfected/uninfected_train_0421.jpg  \n",
            "  inflating: /content/dataset/train/Uninfected/uninfected_train_0422.jpg  \n",
            "  inflating: /content/dataset/train/Uninfected/uninfected_train_0423.jpg  \n",
            "  inflating: /content/dataset/train/Uninfected/uninfected_train_0424.jpg  \n",
            "  inflating: /content/dataset/train/Uninfected/uninfected_train_0425.jpg  \n",
            "  inflating: /content/dataset/train/Uninfected/uninfected_train_0426.jpg  \n",
            "  inflating: /content/dataset/train/Uninfected/uninfected_train_0427.jpg  \n",
            "  inflating: /content/dataset/train/Uninfected/uninfected_train_0428.jpg  \n",
            "  inflating: /content/dataset/train/Uninfected/uninfected_train_0429.jpg  \n",
            "  inflating: /content/dataset/train/Uninfected/uninfected_train_0430.jpg  \n",
            "  inflating: /content/dataset/train/Uninfected/uninfected_train_0431.jpg  \n",
            "  inflating: /content/dataset/train/Uninfected/uninfected_train_0432.jpg  \n",
            "  inflating: /content/dataset/train/Uninfected/uninfected_train_0433.jpg  \n",
            "  inflating: /content/dataset/train/Uninfected/uninfected_train_0434.jpg  \n",
            "  inflating: /content/dataset/train/Uninfected/uninfected_train_0435.jpg  \n",
            "  inflating: /content/dataset/train/Uninfected/uninfected_train_0436.jpg  \n",
            "  inflating: /content/dataset/train/Uninfected/uninfected_train_0437.jpg  \n",
            "  inflating: /content/dataset/train/Uninfected/uninfected_train_0438.jpg  \n",
            "  inflating: /content/dataset/train/Uninfected/uninfected_train_0439.jpg  \n",
            "  inflating: /content/dataset/train/Uninfected/uninfected_train_0440.jpg  \n",
            "  inflating: /content/dataset/train/Uninfected/uninfected_train_0441.jpg  \n",
            "  inflating: /content/dataset/train/Uninfected/uninfected_train_0442.jpg  \n",
            "  inflating: /content/dataset/train/Uninfected/uninfected_train_0443.jpg  \n",
            "  inflating: /content/dataset/train/Uninfected/uninfected_train_0444.jpg  \n",
            "  inflating: /content/dataset/train/Uninfected/uninfected_train_0445.jpg  \n",
            "  inflating: /content/dataset/train/Uninfected/uninfected_train_0446.jpg  \n",
            "  inflating: /content/dataset/train/Uninfected/uninfected_train_0447.jpg  \n",
            "  inflating: /content/dataset/train/Uninfected/uninfected_train_0448.jpg  \n",
            "  inflating: /content/dataset/train/Uninfected/uninfected_train_0449.jpg  \n",
            "  inflating: /content/dataset/train/Uninfected/uninfected_train_0450.jpg  \n",
            "  inflating: /content/dataset/train/Uninfected/uninfected_train_0451.jpg  \n",
            "  inflating: /content/dataset/train/Uninfected/uninfected_train_0452.jpg  \n",
            "  inflating: /content/dataset/train/Uninfected/uninfected_train_0453.jpg  \n",
            "  inflating: /content/dataset/train/Uninfected/uninfected_train_0454.jpg  \n",
            "  inflating: /content/dataset/train/Uninfected/uninfected_train_0455.jpg  \n",
            "  inflating: /content/dataset/train/Uninfected/uninfected_train_0456.jpg  \n",
            "  inflating: /content/dataset/train/Uninfected/uninfected_train_0457.jpg  \n",
            "  inflating: /content/dataset/train/Uninfected/uninfected_train_0458.jpg  \n",
            "  inflating: /content/dataset/train/Uninfected/uninfected_train_0459.jpg  \n",
            "  inflating: /content/dataset/train/Uninfected/uninfected_train_0460.jpg  \n",
            "  inflating: /content/dataset/train/Uninfected/uninfected_train_0461.jpg  \n",
            "  inflating: /content/dataset/train/Uninfected/uninfected_train_0462.jpg  \n",
            "  inflating: /content/dataset/train/Uninfected/uninfected_train_0463.jpg  \n",
            "  inflating: /content/dataset/train/Uninfected/uninfected_train_0464.jpg  \n",
            "  inflating: /content/dataset/train/Uninfected/uninfected_train_0465.jpg  \n",
            "  inflating: /content/dataset/train/Uninfected/uninfected_train_0466.jpg  \n",
            "  inflating: /content/dataset/train/Uninfected/uninfected_train_0467.jpg  \n",
            "  inflating: /content/dataset/train/Uninfected/uninfected_train_0468.jpg  \n",
            "  inflating: /content/dataset/train/Uninfected/uninfected_train_0469.jpg  \n",
            "  inflating: /content/dataset/train/Uninfected/uninfected_train_0470.jpg  \n",
            "  inflating: /content/dataset/train/Uninfected/uninfected_train_0471.jpg  \n",
            "  inflating: /content/dataset/train/Uninfected/uninfected_train_0472.jpg  \n",
            "  inflating: /content/dataset/train/Uninfected/uninfected_train_0473.jpg  \n",
            "  inflating: /content/dataset/train/Uninfected/uninfected_train_0474.jpg  \n",
            "  inflating: /content/dataset/train/Uninfected/uninfected_train_0475.jpg  \n",
            "  inflating: /content/dataset/train/Uninfected/uninfected_train_0476.jpg  \n",
            "  inflating: /content/dataset/train/Uninfected/uninfected_train_0477.jpg  \n",
            "  inflating: /content/dataset/train/Uninfected/uninfected_train_0478.jpg  \n",
            "  inflating: /content/dataset/train/Uninfected/uninfected_train_0479.jpg  \n",
            "  inflating: /content/dataset/train/Uninfected/uninfected_train_0480.jpg  \n",
            "  inflating: /content/dataset/train/Uninfected/uninfected_train_0481.jpg  \n",
            "  inflating: /content/dataset/train/Uninfected/uninfected_train_0482.jpg  \n",
            "  inflating: /content/dataset/train/Uninfected/uninfected_train_0483.jpg  \n",
            "  inflating: /content/dataset/train/Uninfected/uninfected_train_0484.jpg  \n",
            "  inflating: /content/dataset/train/Uninfected/uninfected_train_0485.jpg  \n",
            "  inflating: /content/dataset/train/Uninfected/uninfected_train_0486.jpg  \n",
            "  inflating: /content/dataset/train/Uninfected/uninfected_train_0487.jpg  \n",
            "  inflating: /content/dataset/train/Uninfected/uninfected_train_0488.jpg  \n",
            "  inflating: /content/dataset/train/Uninfected/uninfected_train_0489.jpg  \n",
            "  inflating: /content/dataset/train/Uninfected/uninfected_train_0490.jpg  \n",
            "  inflating: /content/dataset/train/Uninfected/uninfected_train_0491.jpg  \n",
            "  inflating: /content/dataset/train/Uninfected/uninfected_train_0492.jpg  \n",
            "  inflating: /content/dataset/train/Uninfected/uninfected_train_0493.jpg  \n",
            "  inflating: /content/dataset/train/Uninfected/uninfected_train_0494.jpg  \n",
            "  inflating: /content/dataset/train/Uninfected/uninfected_train_0495.jpg  \n",
            "  inflating: /content/dataset/train/Uninfected/uninfected_train_0496.jpg  \n",
            "  inflating: /content/dataset/train/Uninfected/uninfected_train_0497.jpg  \n",
            "  inflating: /content/dataset/train/Uninfected/uninfected_train_0498.jpg  \n",
            "  inflating: /content/dataset/train/Uninfected/uninfected_train_0499.jpg  \n",
            "  inflating: /content/dataset/train/Uninfected/uninfected_train_0500.jpg  \n",
            "  inflating: /content/dataset/train/Uninfected/uninfected_train_0501.jpg  \n",
            "  inflating: /content/dataset/train/Uninfected/uninfected_train_0502.jpg  \n",
            "  inflating: /content/dataset/train/Uninfected/uninfected_train_0503.jpg  \n",
            "  inflating: /content/dataset/train/Uninfected/uninfected_train_0504.jpg  \n",
            "  inflating: /content/dataset/train/Uninfected/uninfected_train_0505.jpg  \n",
            "  inflating: /content/dataset/train/Uninfected/uninfected_train_0506.jpg  \n",
            "  inflating: /content/dataset/train/Uninfected/uninfected_train_0507.jpg  \n",
            "  inflating: /content/dataset/train/Uninfected/uninfected_train_0508.jpg  \n",
            "  inflating: /content/dataset/train/Uninfected/uninfected_train_0509.jpg  \n",
            "  inflating: /content/dataset/train/Uninfected/uninfected_train_0510.jpg  \n",
            "  inflating: /content/dataset/train/Uninfected/uninfected_train_0511.jpg  \n",
            "  inflating: /content/dataset/train/Uninfected/uninfected_train_0512.jpg  \n",
            "  inflating: /content/dataset/train/Uninfected/uninfected_train_0513.jpg  \n",
            "  inflating: /content/dataset/train/Uninfected/uninfected_train_0514.jpg  \n",
            "  inflating: /content/dataset/train/Uninfected/uninfected_train_0515.jpg  \n",
            "  inflating: /content/dataset/train/Uninfected/uninfected_train_0516.jpg  \n",
            "  inflating: /content/dataset/train/Uninfected/uninfected_train_0517.jpg  \n",
            "  inflating: /content/dataset/train/Uninfected/uninfected_train_0518.jpg  \n",
            "  inflating: /content/dataset/train/Uninfected/uninfected_train_0519.jpg  \n",
            "  inflating: /content/dataset/train/Uninfected/uninfected_train_0520.jpg  \n",
            "  inflating: /content/dataset/train/Uninfected/uninfected_train_0521.jpg  \n",
            "  inflating: /content/dataset/train/Uninfected/uninfected_train_0522.jpg  \n",
            "  inflating: /content/dataset/train/Uninfected/uninfected_train_0523.jpg  \n",
            "  inflating: /content/dataset/train/Uninfected/uninfected_train_0524.jpg  \n",
            "  inflating: /content/dataset/train/Uninfected/uninfected_train_0525.jpg  \n",
            "  inflating: /content/dataset/train/Uninfected/uninfected_train_0526.jpg  \n",
            "  inflating: /content/dataset/train/Uninfected/uninfected_train_0527.jpg  \n",
            "  inflating: /content/dataset/train/Uninfected/uninfected_train_0528.jpg  \n",
            "  inflating: /content/dataset/train/Uninfected/uninfected_train_0529.jpg  \n",
            "  inflating: /content/dataset/train/Uninfected/uninfected_train_0530.jpg  \n",
            "  inflating: /content/dataset/train/Uninfected/uninfected_train_0531.jpg  \n",
            "  inflating: /content/dataset/train/Uninfected/uninfected_train_0532.jpg  \n",
            "  inflating: /content/dataset/train/Uninfected/uninfected_train_0533.jpg  \n",
            "  inflating: /content/dataset/train/Uninfected/uninfected_train_0534.jpg  \n",
            "  inflating: /content/dataset/train/Uninfected/uninfected_train_0535.jpg  \n",
            "  inflating: /content/dataset/train/Uninfected/uninfected_train_0536.jpg  \n",
            "  inflating: /content/dataset/train/Uninfected/uninfected_train_0537.jpg  \n",
            "  inflating: /content/dataset/train/Uninfected/uninfected_train_0538.jpg  \n",
            "  inflating: /content/dataset/train/Uninfected/uninfected_train_0539.jpg  \n",
            "  inflating: /content/dataset/train/Uninfected/uninfected_train_0540.jpg  \n",
            "  inflating: /content/dataset/train/Uninfected/uninfected_train_0541.jpg  \n",
            "  inflating: /content/dataset/train/Uninfected/uninfected_train_0542.jpg  \n",
            "  inflating: /content/dataset/train/Uninfected/uninfected_train_0543.jpg  \n",
            "  inflating: /content/dataset/train/Uninfected/uninfected_train_0544.jpg  \n",
            "  inflating: /content/dataset/train/Uninfected/uninfected_train_0545.jpg  \n",
            "  inflating: /content/dataset/train/Uninfected/uninfected_train_0546.jpg  \n",
            "  inflating: /content/dataset/train/Uninfected/uninfected_train_0547.jpg  \n",
            "  inflating: /content/dataset/train/Uninfected/uninfected_train_0548.jpg  \n",
            "  inflating: /content/dataset/train/Uninfected/uninfected_train_0549.jpg  \n",
            "  inflating: /content/dataset/train/Uninfected/uninfected_train_0550.jpg  \n",
            "  inflating: /content/dataset/train/Uninfected/uninfected_train_0551.jpg  \n",
            "  inflating: /content/dataset/train/Uninfected/uninfected_train_0552.jpg  \n",
            "  inflating: /content/dataset/train/Uninfected/uninfected_train_0553.jpg  \n",
            "  inflating: /content/dataset/train/Uninfected/uninfected_train_0554.jpg  \n",
            "  inflating: /content/dataset/train/Uninfected/uninfected_train_0555.jpg  \n",
            "  inflating: /content/dataset/train/Uninfected/uninfected_train_0556.jpg  \n",
            "  inflating: /content/dataset/train/Uninfected/uninfected_train_0557.jpg  \n",
            "  inflating: /content/dataset/train/Uninfected/uninfected_train_0558.jpg  \n",
            "  inflating: /content/dataset/train/Uninfected/uninfected_train_0559.jpg  \n",
            "  inflating: /content/dataset/train/Uninfected/uninfected_train_0560.jpg  \n",
            "  inflating: /content/dataset/train/Uninfected/uninfected_train_0561.jpg  \n",
            "  inflating: /content/dataset/train/Uninfected/uninfected_train_0562.jpg  \n",
            "  inflating: /content/dataset/train/Uninfected/uninfected_train_0563.jpg  \n",
            "  inflating: /content/dataset/train/Uninfected/uninfected_train_0564.jpg  \n",
            "  inflating: /content/dataset/train/Uninfected/uninfected_train_0565.jpg  \n",
            "  inflating: /content/dataset/train/Uninfected/uninfected_train_0566.jpg  \n",
            "  inflating: /content/dataset/train/Uninfected/uninfected_train_0567.jpg  \n",
            "  inflating: /content/dataset/train/Uninfected/uninfected_train_0568.jpg  \n",
            "  inflating: /content/dataset/train/Uninfected/uninfected_train_0569.jpg  \n",
            "  inflating: /content/dataset/train/Uninfected/uninfected_train_0570.jpg  \n",
            "  inflating: /content/dataset/train/Uninfected/uninfected_train_0571.jpg  \n",
            "  inflating: /content/dataset/train/Uninfected/uninfected_train_0572.jpg  \n",
            "  inflating: /content/dataset/train/Uninfected/uninfected_train_0573.jpg  \n",
            "  inflating: /content/dataset/train/Uninfected/uninfected_train_0574.jpg  \n",
            "  inflating: /content/dataset/train/Uninfected/uninfected_train_0575.jpg  \n",
            "  inflating: /content/dataset/train/Uninfected/uninfected_train_0576.jpg  \n",
            "  inflating: /content/dataset/train/Uninfected/uninfected_train_0577.jpg  \n",
            "  inflating: /content/dataset/train/Uninfected/uninfected_train_0578.jpg  \n",
            "  inflating: /content/dataset/train/Uninfected/uninfected_train_0579.jpg  \n",
            "  inflating: /content/dataset/train/Uninfected/uninfected_train_0580.jpg  \n",
            "  inflating: /content/dataset/train/Uninfected/uninfected_train_0581.jpg  \n",
            "  inflating: /content/dataset/train/Uninfected/uninfected_train_0582.jpg  \n",
            "  inflating: /content/dataset/train/Uninfected/uninfected_train_0583.jpg  \n",
            "  inflating: /content/dataset/train/Uninfected/uninfected_train_0584.jpg  \n",
            "  inflating: /content/dataset/train/Uninfected/uninfected_train_0585.jpg  \n",
            "  inflating: /content/dataset/train/Uninfected/uninfected_train_0586.jpg  \n",
            "  inflating: /content/dataset/train/Uninfected/uninfected_train_0587.jpg  \n",
            "  inflating: /content/dataset/train/Uninfected/uninfected_train_0588.jpg  \n",
            "  inflating: /content/dataset/train/Uninfected/uninfected_train_0589.jpg  \n",
            "  inflating: /content/dataset/train/Uninfected/uninfected_train_0590.jpg  \n",
            "  inflating: /content/dataset/train/Uninfected/uninfected_train_0591.jpg  \n",
            "  inflating: /content/dataset/train/Uninfected/uninfected_train_0592.jpg  \n",
            "  inflating: /content/dataset/train/Uninfected/uninfected_train_0593.jpg  \n",
            "  inflating: /content/dataset/train/Uninfected/uninfected_train_0594.jpg  \n",
            "  inflating: /content/dataset/train/Uninfected/uninfected_train_0595.jpg  \n",
            "  inflating: /content/dataset/train/Uninfected/uninfected_train_0596.jpg  \n",
            "  inflating: /content/dataset/train/Uninfected/uninfected_train_0597.jpg  \n",
            "  inflating: /content/dataset/train/Uninfected/uninfected_train_0598.jpg  \n",
            "  inflating: /content/dataset/train/Uninfected/uninfected_train_0599.jpg  \n",
            "  inflating: /content/dataset/train/Uninfected/uninfected_train_0600.jpg  \n",
            "  inflating: /content/dataset/train/Uninfected/uninfected_train_0601.jpg  \n",
            "  inflating: /content/dataset/train/Uninfected/uninfected_train_0602.jpg  \n",
            "  inflating: /content/dataset/train/Uninfected/uninfected_train_0603.jpg  \n",
            "  inflating: /content/dataset/train/Uninfected/uninfected_train_0604.jpg  \n",
            "  inflating: /content/dataset/train/Uninfected/uninfected_train_0605.jpg  \n",
            "  inflating: /content/dataset/train/Uninfected/uninfected_train_0606.jpg  \n",
            "  inflating: /content/dataset/train/Uninfected/uninfected_train_0607.jpg  \n",
            "  inflating: /content/dataset/train/Uninfected/uninfected_train_0608.jpg  \n",
            "  inflating: /content/dataset/train/Uninfected/uninfected_train_0609.jpg  \n",
            "  inflating: /content/dataset/train/Uninfected/uninfected_train_0610.jpg  \n",
            "  inflating: /content/dataset/train/Uninfected/uninfected_train_0611.jpg  \n",
            "  inflating: /content/dataset/train/Uninfected/uninfected_train_0612.jpg  \n",
            "  inflating: /content/dataset/train/Uninfected/uninfected_train_0613.jpg  \n",
            "  inflating: /content/dataset/train/Uninfected/uninfected_train_0614.jpg  \n",
            "  inflating: /content/dataset/train/Uninfected/uninfected_train_0615.jpg  \n",
            "  inflating: /content/dataset/train/Uninfected/uninfected_train_0616.jpg  \n",
            "  inflating: /content/dataset/train/Uninfected/uninfected_train_0617.jpg  \n",
            "  inflating: /content/dataset/train/Uninfected/uninfected_train_0618.jpg  \n",
            "  inflating: /content/dataset/train/Uninfected/uninfected_train_0619.jpg  \n",
            "  inflating: /content/dataset/train/Uninfected/uninfected_train_0620.jpg  \n",
            "  inflating: /content/dataset/train/Uninfected/uninfected_train_0621.jpg  \n",
            "  inflating: /content/dataset/train/Uninfected/uninfected_train_0622.jpg  \n",
            "  inflating: /content/dataset/train/Uninfected/uninfected_train_0623.jpg  \n",
            "  inflating: /content/dataset/train/Uninfected/uninfected_train_0624.jpg  \n",
            "  inflating: /content/dataset/train/Uninfected/uninfected_train_0625.jpg  \n",
            "  inflating: /content/dataset/train/Uninfected/uninfected_train_0626.jpg  \n",
            "  inflating: /content/dataset/train/Uninfected/uninfected_train_0627.jpg  \n",
            "  inflating: /content/dataset/train/Uninfected/uninfected_train_0628.jpg  \n",
            "  inflating: /content/dataset/train/Uninfected/uninfected_train_0629.jpg  \n",
            "  inflating: /content/dataset/train/Uninfected/uninfected_train_0630.jpg  \n",
            "  inflating: /content/dataset/train/Uninfected/uninfected_train_0631.jpg  \n",
            "  inflating: /content/dataset/train/Uninfected/uninfected_train_0632.jpg  \n",
            "  inflating: /content/dataset/train/Uninfected/uninfected_train_0633.jpg  \n",
            "  inflating: /content/dataset/train/Uninfected/uninfected_train_0634.jpg  \n",
            "  inflating: /content/dataset/train/Uninfected/uninfected_train_0635.jpg  \n",
            "  inflating: /content/dataset/train/Uninfected/uninfected_train_0636.jpg  \n",
            "  inflating: /content/dataset/train/Uninfected/uninfected_train_0637.jpg  \n",
            "  inflating: /content/dataset/train/Uninfected/uninfected_train_0638.jpg  \n",
            "  inflating: /content/dataset/train/Uninfected/uninfected_train_0639.jpg  \n",
            "  inflating: /content/dataset/train/Uninfected/uninfected_train_0640.jpg  \n",
            "  inflating: /content/dataset/train/Uninfected/uninfected_train_0641.jpg  \n",
            "  inflating: /content/dataset/train/Uninfected/uninfected_train_0642.jpg  \n",
            "  inflating: /content/dataset/train/Uninfected/uninfected_train_0643.jpg  \n",
            "  inflating: /content/dataset/train/Uninfected/uninfected_train_0644.jpg  \n",
            "  inflating: /content/dataset/train/Uninfected/uninfected_train_0645.jpg  \n",
            "  inflating: /content/dataset/train/Uninfected/uninfected_train_0646.jpg  \n",
            "  inflating: /content/dataset/train/Uninfected/uninfected_train_0647.jpg  \n",
            "  inflating: /content/dataset/train/Uninfected/uninfected_train_0648.jpg  \n",
            "  inflating: /content/dataset/train/Uninfected/uninfected_train_0649.jpg  \n",
            "  inflating: /content/dataset/train/Uninfected/uninfected_train_0650.jpg  \n",
            "  inflating: /content/dataset/train/Uninfected/uninfected_train_0651.jpg  \n",
            "  inflating: /content/dataset/train/Uninfected/uninfected_train_0652.jpg  \n",
            "  inflating: /content/dataset/train/Uninfected/uninfected_train_0653.jpg  \n",
            "  inflating: /content/dataset/train/Uninfected/uninfected_train_0654.jpg  \n",
            "  inflating: /content/dataset/train/Uninfected/uninfected_train_0655.jpg  \n",
            "  inflating: /content/dataset/train/Uninfected/uninfected_train_0656.jpg  \n",
            "  inflating: /content/dataset/train/Uninfected/uninfected_train_0657.jpg  \n",
            "  inflating: /content/dataset/train/Uninfected/uninfected_train_0658.jpg  \n",
            "  inflating: /content/dataset/train/Uninfected/uninfected_train_0659.jpg  \n",
            "  inflating: /content/dataset/train/Uninfected/uninfected_train_0660.jpg  \n",
            "  inflating: /content/dataset/train/Uninfected/uninfected_train_0661.jpg  \n",
            "  inflating: /content/dataset/train/Uninfected/uninfected_train_0662.jpg  \n",
            "  inflating: /content/dataset/train/Uninfected/uninfected_train_0663.jpg  \n",
            "  inflating: /content/dataset/train/Uninfected/uninfected_train_0664.jpg  \n",
            "  inflating: /content/dataset/train/Uninfected/uninfected_train_0665.jpg  \n",
            "  inflating: /content/dataset/train/Uninfected/uninfected_train_0666.jpg  \n",
            "  inflating: /content/dataset/train/Uninfected/uninfected_train_0667.jpg  \n",
            "  inflating: /content/dataset/train/Uninfected/uninfected_train_0668.jpg  \n",
            "  inflating: /content/dataset/train/Uninfected/uninfected_train_0669.jpg  \n",
            "  inflating: /content/dataset/train/Uninfected/uninfected_train_0670.jpg  \n",
            "  inflating: /content/dataset/train/Uninfected/uninfected_train_0671.jpg  \n",
            "  inflating: /content/dataset/train/Uninfected/uninfected_train_0672.jpg  \n",
            "  inflating: /content/dataset/train/Uninfected/uninfected_train_0673.jpg  \n",
            "  inflating: /content/dataset/train/Uninfected/uninfected_train_0674.jpg  \n",
            "  inflating: /content/dataset/train/Uninfected/uninfected_train_0675.jpg  \n",
            "  inflating: /content/dataset/train/Uninfected/uninfected_train_0676.jpg  \n",
            "  inflating: /content/dataset/train/Uninfected/uninfected_train_0677.jpg  \n",
            "  inflating: /content/dataset/train/Uninfected/uninfected_train_0678.jpg  \n",
            "  inflating: /content/dataset/train/Uninfected/uninfected_train_0679.jpg  \n",
            "  inflating: /content/dataset/train/Uninfected/uninfected_train_0680.jpg  \n",
            "  inflating: /content/dataset/train/Uninfected/uninfected_train_0681.jpg  \n",
            "  inflating: /content/dataset/train/Uninfected/uninfected_train_0682.jpg  \n",
            "  inflating: /content/dataset/train/Uninfected/uninfected_train_0683.jpg  \n",
            "  inflating: /content/dataset/train/Uninfected/uninfected_train_0684.jpg  \n",
            "  inflating: /content/dataset/train/Uninfected/uninfected_train_0685.jpg  \n",
            "  inflating: /content/dataset/train/Uninfected/uninfected_train_0686.jpg  \n",
            "  inflating: /content/dataset/train/Uninfected/uninfected_train_0687.jpg  \n",
            "  inflating: /content/dataset/train/Uninfected/uninfected_train_0688.jpg  \n",
            "  inflating: /content/dataset/train/Uninfected/uninfected_train_0689.jpg  \n",
            "  inflating: /content/dataset/train/Uninfected/uninfected_train_0690.jpg  \n",
            "  inflating: /content/dataset/train/Uninfected/uninfected_train_0691.jpg  \n",
            "  inflating: /content/dataset/train/Uninfected/uninfected_train_0692.jpg  \n",
            "  inflating: /content/dataset/train/Uninfected/uninfected_train_0693.jpg  \n",
            "  inflating: /content/dataset/train/Uninfected/uninfected_train_0694.jpg  \n",
            "  inflating: /content/dataset/train/Uninfected/uninfected_train_0695.jpg  \n",
            "  inflating: /content/dataset/train/Uninfected/uninfected_train_0696.jpg  \n",
            "  inflating: /content/dataset/train/Uninfected/uninfected_train_0697.jpg  \n",
            "  inflating: /content/dataset/train/Uninfected/uninfected_train_0698.jpg  \n",
            "  inflating: /content/dataset/train/Uninfected/uninfected_train_0699.jpg  \n",
            "  inflating: /content/dataset/train/Uninfected/uninfected_train_0700.jpg  \n",
            "  inflating: /content/dataset/train/Uninfected/uninfected_train_0701.jpg  \n",
            "  inflating: /content/dataset/train/Uninfected/uninfected_train_0702.jpg  \n",
            "  inflating: /content/dataset/train/Uninfected/uninfected_train_0703.jpg  \n",
            "  inflating: /content/dataset/train/Uninfected/uninfected_train_0704.jpg  \n",
            "  inflating: /content/dataset/train/Uninfected/uninfected_train_0705.jpg  \n",
            "  inflating: /content/dataset/train/Uninfected/uninfected_train_0706.jpg  \n",
            "  inflating: /content/dataset/train/Uninfected/uninfected_train_0707.jpg  \n",
            "  inflating: /content/dataset/train/Uninfected/uninfected_train_0708.jpg  \n",
            "  inflating: /content/dataset/train/Uninfected/uninfected_train_0709.jpg  \n",
            "  inflating: /content/dataset/train/Uninfected/uninfected_train_0710.jpg  \n",
            "  inflating: /content/dataset/train/Uninfected/uninfected_train_0711.jpg  \n",
            "  inflating: /content/dataset/train/Uninfected/uninfected_train_0712.jpg  \n",
            "  inflating: /content/dataset/train/Uninfected/uninfected_train_0713.jpg  \n",
            "  inflating: /content/dataset/train/Uninfected/uninfected_train_0714.jpg  \n",
            "  inflating: /content/dataset/train/Uninfected/uninfected_train_0715.jpg  \n",
            "  inflating: /content/dataset/train/Uninfected/uninfected_train_0716.jpg  \n",
            "  inflating: /content/dataset/train/Uninfected/uninfected_train_0717.jpg  \n",
            "  inflating: /content/dataset/train/Uninfected/uninfected_train_0718.jpg  \n",
            "  inflating: /content/dataset/train/Uninfected/uninfected_train_0719.jpg  \n",
            "  inflating: /content/dataset/train/Uninfected/uninfected_train_0720.jpg  \n",
            "  inflating: /content/dataset/train/Uninfected/uninfected_train_0721.jpg  \n",
            "  inflating: /content/dataset/train/Uninfected/uninfected_train_0722.jpg  \n",
            "  inflating: /content/dataset/train/Uninfected/uninfected_train_0723.jpg  \n",
            "  inflating: /content/dataset/train/Uninfected/uninfected_train_0724.jpg  \n",
            "  inflating: /content/dataset/train/Uninfected/uninfected_train_0725.jpg  \n",
            "  inflating: /content/dataset/train/Uninfected/uninfected_train_0726.jpg  \n",
            "  inflating: /content/dataset/train/Uninfected/uninfected_train_0727.jpg  \n",
            "  inflating: /content/dataset/train/Uninfected/uninfected_train_0728.jpg  \n",
            "  inflating: /content/dataset/train/Uninfected/uninfected_train_0729.jpg  \n",
            "  inflating: /content/dataset/train/Uninfected/uninfected_train_0730.jpg  \n",
            "  inflating: /content/dataset/train/Uninfected/uninfected_train_0731.jpg  \n",
            "  inflating: /content/dataset/train/Uninfected/uninfected_train_0732.jpg  \n",
            "  inflating: /content/dataset/train/Uninfected/uninfected_train_0733.jpg  \n",
            "  inflating: /content/dataset/train/Uninfected/uninfected_train_0734.jpg  \n",
            "  inflating: /content/dataset/train/Uninfected/uninfected_train_0735.jpg  \n",
            "  inflating: /content/dataset/train/Uninfected/uninfected_train_0736.jpg  \n",
            "  inflating: /content/dataset/train/Uninfected/uninfected_train_0737.jpg  \n",
            "  inflating: /content/dataset/train/Uninfected/uninfected_train_0738.jpg  \n",
            "  inflating: /content/dataset/train/Uninfected/uninfected_train_0739.jpg  \n",
            "  inflating: /content/dataset/train/Uninfected/uninfected_train_0740.jpg  \n",
            "  inflating: /content/dataset/train/Uninfected/uninfected_train_0741.jpg  \n",
            "  inflating: /content/dataset/train/Uninfected/uninfected_train_0742.jpg  \n",
            "  inflating: /content/dataset/train/Uninfected/uninfected_train_0743.jpg  \n",
            "  inflating: /content/dataset/train/Uninfected/uninfected_train_0744.jpg  \n",
            "  inflating: /content/dataset/train/Uninfected/uninfected_train_0745.jpg  \n",
            "  inflating: /content/dataset/train/Uninfected/uninfected_train_0746.jpg  \n",
            "  inflating: /content/dataset/train/Uninfected/uninfected_train_0747.jpg  \n",
            "  inflating: /content/dataset/train/Uninfected/uninfected_train_0748.jpg  \n",
            "  inflating: /content/dataset/train/Uninfected/uninfected_train_0749.jpg  \n",
            "  inflating: /content/dataset/train/Uninfected/uninfected_train_0750.jpg  \n",
            "  inflating: /content/dataset/train/Uninfected/uninfected_train_0751.jpg  \n",
            "  inflating: /content/dataset/train/Uninfected/uninfected_train_0752.jpg  \n",
            "  inflating: /content/dataset/train/Uninfected/uninfected_train_0753.jpg  \n",
            "  inflating: /content/dataset/train/Uninfected/uninfected_train_0754.jpg  \n",
            "  inflating: /content/dataset/train/Uninfected/uninfected_train_0755.jpg  \n",
            "  inflating: /content/dataset/train/Uninfected/uninfected_train_0756.jpg  \n",
            "  inflating: /content/dataset/train/Uninfected/uninfected_train_0757.jpg  \n",
            "  inflating: /content/dataset/train/Uninfected/uninfected_train_0758.jpg  \n",
            "  inflating: /content/dataset/train/Uninfected/uninfected_train_0759.jpg  \n",
            "  inflating: /content/dataset/train/Uninfected/uninfected_train_0760.jpg  \n",
            "  inflating: /content/dataset/train/Uninfected/uninfected_train_0761.jpg  \n",
            "  inflating: /content/dataset/train/Uninfected/uninfected_train_0762.jpg  \n",
            "  inflating: /content/dataset/train/Uninfected/uninfected_train_0763.jpg  \n",
            "  inflating: /content/dataset/train/Uninfected/uninfected_train_0764.jpg  \n",
            "  inflating: /content/dataset/train/Uninfected/uninfected_train_0765.jpg  \n",
            "  inflating: /content/dataset/train/Uninfected/uninfected_train_0766.jpg  \n",
            "  inflating: /content/dataset/train/Uninfected/uninfected_train_0767.jpg  \n",
            "  inflating: /content/dataset/train/Uninfected/uninfected_train_0768.jpg  \n",
            "  inflating: /content/dataset/train/Uninfected/uninfected_train_0769.jpg  \n",
            "  inflating: /content/dataset/train/Uninfected/uninfected_train_0770.jpg  \n",
            "  inflating: /content/dataset/train/Uninfected/uninfected_train_0771.jpg  \n",
            "  inflating: /content/dataset/train/Uninfected/uninfected_train_0772.jpg  \n",
            "  inflating: /content/dataset/train/Uninfected/uninfected_train_0773.jpg  \n",
            "  inflating: /content/dataset/train/Uninfected/uninfected_train_0774.jpg  \n",
            "  inflating: /content/dataset/train/Uninfected/uninfected_train_0775.jpg  \n",
            "  inflating: /content/dataset/train/Uninfected/uninfected_train_0776.jpg  \n",
            "  inflating: /content/dataset/train/Uninfected/uninfected_train_0777.jpg  \n",
            "  inflating: /content/dataset/train/Uninfected/uninfected_train_0778.jpg  \n",
            "  inflating: /content/dataset/train/Uninfected/uninfected_train_0779.jpg  \n",
            "  inflating: /content/dataset/train/Uninfected/uninfected_train_0780.jpg  \n",
            "  inflating: /content/dataset/train/Uninfected/uninfected_train_0781.jpg  \n",
            "  inflating: /content/dataset/train/Uninfected/uninfected_train_0782.jpg  \n",
            "  inflating: /content/dataset/train/Uninfected/uninfected_train_0783.jpg  \n",
            "  inflating: /content/dataset/train/Uninfected/uninfected_train_0784.jpg  \n",
            "  inflating: /content/dataset/train/Uninfected/uninfected_train_0785.jpg  \n",
            "  inflating: /content/dataset/train/Uninfected/uninfected_train_0786.jpg  \n",
            "  inflating: /content/dataset/train/Uninfected/uninfected_train_0787.jpg  \n",
            "  inflating: /content/dataset/train/Uninfected/uninfected_train_0788.jpg  \n",
            "  inflating: /content/dataset/train/Uninfected/uninfected_train_0789.jpg  \n",
            "  inflating: /content/dataset/train/Uninfected/uninfected_train_0790.jpg  \n",
            "  inflating: /content/dataset/train/Uninfected/uninfected_train_0791.jpg  \n",
            "  inflating: /content/dataset/train/Uninfected/uninfected_train_0792.jpg  \n",
            "  inflating: /content/dataset/train/Uninfected/uninfected_train_0793.jpg  \n",
            "  inflating: /content/dataset/train/Uninfected/uninfected_train_0794.jpg  \n",
            "  inflating: /content/dataset/train/Uninfected/uninfected_train_0795.jpg  \n",
            "  inflating: /content/dataset/train/Uninfected/uninfected_train_0796.jpg  \n",
            "  inflating: /content/dataset/train/Uninfected/uninfected_train_0797.jpg  \n",
            "  inflating: /content/dataset/train/Uninfected/uninfected_train_0798.jpg  \n",
            "  inflating: /content/dataset/train/Uninfected/uninfected_train_0799.jpg  \n",
            "  inflating: /content/dataset/train/Uninfected/uninfected_train_0800.jpg  \n",
            "  inflating: /content/dataset/train/Uninfected/uninfected_train_0801.jpg  \n",
            "  inflating: /content/dataset/train/Uninfected/uninfected_train_0802.jpg  \n",
            "  inflating: /content/dataset/train/Uninfected/uninfected_train_0803.jpg  \n",
            "  inflating: /content/dataset/train/Uninfected/uninfected_train_0804.jpg  \n",
            "  inflating: /content/dataset/train/Uninfected/uninfected_train_0805.jpg  \n",
            "  inflating: /content/dataset/train/Uninfected/uninfected_train_0806.jpg  \n",
            "  inflating: /content/dataset/train/Uninfected/uninfected_train_0807.jpg  \n",
            "  inflating: /content/dataset/train/Uninfected/uninfected_train_0808.jpg  \n",
            "  inflating: /content/dataset/train/Uninfected/uninfected_train_0809.jpg  \n",
            "  inflating: /content/dataset/train/Uninfected/uninfected_train_0810.jpg  \n",
            "  inflating: /content/dataset/train/Uninfected/uninfected_train_0811.jpg  \n",
            "  inflating: /content/dataset/train/Uninfected/uninfected_train_0812.jpg  \n",
            "  inflating: /content/dataset/train/Uninfected/uninfected_train_0813.jpg  \n",
            "  inflating: /content/dataset/train/Uninfected/uninfected_train_0814.jpg  \n",
            "  inflating: /content/dataset/train/Uninfected/uninfected_train_0815.jpg  \n",
            "  inflating: /content/dataset/train/Uninfected/uninfected_train_0816.jpg  \n",
            "  inflating: /content/dataset/train/Uninfected/uninfected_train_0817.jpg  \n",
            "  inflating: /content/dataset/train/Uninfected/uninfected_train_0818.jpg  \n",
            "  inflating: /content/dataset/train/Uninfected/uninfected_train_0819.jpg  \n",
            "  inflating: /content/dataset/train/Uninfected/uninfected_train_0820.jpg  \n",
            "  inflating: /content/dataset/train/Uninfected/uninfected_train_0821.jpg  \n",
            "  inflating: /content/dataset/train/Uninfected/uninfected_train_0822.jpg  \n",
            "  inflating: /content/dataset/train/Uninfected/uninfected_train_0823.jpg  \n",
            "  inflating: /content/dataset/train/Uninfected/uninfected_train_0824.jpg  \n",
            "  inflating: /content/dataset/train/Uninfected/uninfected_train_0825.jpg  \n",
            "  inflating: /content/dataset/train/Uninfected/uninfected_train_0826.jpg  \n",
            "  inflating: /content/dataset/train/Uninfected/uninfected_train_0827.jpg  \n",
            "  inflating: /content/dataset/train/Uninfected/uninfected_train_0828.jpg  \n",
            "  inflating: /content/dataset/train/Uninfected/uninfected_train_0829.jpg  \n",
            "  inflating: /content/dataset/train/Uninfected/uninfected_train_0830.jpg  \n",
            "  inflating: /content/dataset/train/Uninfected/uninfected_train_0831.jpg  \n",
            "  inflating: /content/dataset/train/Uninfected/uninfected_train_0832.jpg  \n",
            "  inflating: /content/dataset/train/Uninfected/uninfected_train_0833.jpg  \n",
            "  inflating: /content/dataset/train/Uninfected/uninfected_train_0834.jpg  \n",
            "  inflating: /content/dataset/train/Uninfected/uninfected_train_0835.jpg  \n",
            "  inflating: /content/dataset/train/Uninfected/uninfected_train_0836.jpg  \n",
            "  inflating: /content/dataset/train/Uninfected/uninfected_train_0837.jpg  \n",
            "  inflating: /content/dataset/train/Uninfected/uninfected_train_0838.jpg  \n",
            "  inflating: /content/dataset/train/Uninfected/uninfected_train_0839.jpg  \n",
            "  inflating: /content/dataset/train/Uninfected/uninfected_train_0840.jpg  \n",
            "  inflating: /content/dataset/train/Uninfected/uninfected_train_0841.jpg  \n",
            "  inflating: /content/dataset/train/Uninfected/uninfected_train_0842.jpg  \n",
            "  inflating: /content/dataset/train/Uninfected/uninfected_train_0843.jpg  \n",
            "  inflating: /content/dataset/train/Uninfected/uninfected_train_0844.jpg  \n",
            "  inflating: /content/dataset/train/Uninfected/uninfected_train_0845.jpg  \n",
            "  inflating: /content/dataset/train/Uninfected/uninfected_train_0846.jpg  \n",
            "  inflating: /content/dataset/train/Uninfected/uninfected_train_0847.jpg  \n",
            "  inflating: /content/dataset/train/Uninfected/uninfected_train_0848.jpg  \n",
            "  inflating: /content/dataset/train/Uninfected/uninfected_train_0849.jpg  \n",
            "  inflating: /content/dataset/train/Uninfected/uninfected_train_0850.jpg  \n",
            "  inflating: /content/dataset/train/Uninfected/uninfected_train_0851.jpg  \n",
            "  inflating: /content/dataset/train/Uninfected/uninfected_train_0852.jpg  \n",
            "  inflating: /content/dataset/train/Uninfected/uninfected_train_0853.jpg  \n",
            "  inflating: /content/dataset/train/Uninfected/uninfected_train_0854.jpg  \n",
            "  inflating: /content/dataset/train/Uninfected/uninfected_train_0855.jpg  \n",
            "  inflating: /content/dataset/train/Uninfected/uninfected_train_0856.jpg  \n",
            "  inflating: /content/dataset/train/Uninfected/uninfected_train_0857.jpg  \n",
            "  inflating: /content/dataset/train/Uninfected/uninfected_train_0858.jpg  \n",
            "  inflating: /content/dataset/train/Uninfected/uninfected_train_0859.jpg  \n",
            "  inflating: /content/dataset/train/Uninfected/uninfected_train_0860.jpg  \n",
            "  inflating: /content/dataset/train/Uninfected/uninfected_train_0861.jpg  \n",
            "  inflating: /content/dataset/train/Uninfected/uninfected_train_0862.jpg  \n",
            "  inflating: /content/dataset/train/Uninfected/uninfected_train_0863.jpg  \n",
            "  inflating: /content/dataset/train/Uninfected/uninfected_train_0864.jpg  \n",
            "  inflating: /content/dataset/train/Uninfected/uninfected_train_0865.jpg  \n",
            "  inflating: /content/dataset/train/Uninfected/uninfected_train_0866.jpg  \n",
            "  inflating: /content/dataset/train/Uninfected/uninfected_train_0867.jpg  \n",
            "  inflating: /content/dataset/train/Uninfected/uninfected_train_0868.jpg  \n",
            "  inflating: /content/dataset/train/Uninfected/uninfected_train_0869.jpg  \n",
            "  inflating: /content/dataset/train/Uninfected/uninfected_train_0870.jpg  \n",
            "  inflating: /content/dataset/train/Uninfected/uninfected_train_0871.jpg  \n",
            "  inflating: /content/dataset/train/Uninfected/uninfected_train_0872.jpg  \n",
            "  inflating: /content/dataset/train/Uninfected/uninfected_train_0873.jpg  \n",
            "  inflating: /content/dataset/train/Uninfected/uninfected_train_0874.jpg  \n",
            "  inflating: /content/dataset/train/Uninfected/uninfected_train_0875.jpg  \n",
            "  inflating: /content/dataset/train/Uninfected/uninfected_train_0876.jpg  \n",
            "  inflating: /content/dataset/train/Uninfected/uninfected_train_0877.jpg  \n",
            "  inflating: /content/dataset/train/Uninfected/uninfected_train_0878.jpg  \n",
            "  inflating: /content/dataset/train/Uninfected/uninfected_train_0879.jpg  \n",
            "  inflating: /content/dataset/train/Uninfected/uninfected_train_0880.jpg  \n",
            "  inflating: /content/dataset/train/Uninfected/uninfected_train_0881.jpg  \n",
            "  inflating: /content/dataset/train/Uninfected/uninfected_train_0882.jpg  \n",
            "  inflating: /content/dataset/train/Uninfected/uninfected_train_0883.jpg  \n",
            "  inflating: /content/dataset/train/Uninfected/uninfected_train_0884.jpg  \n",
            "  inflating: /content/dataset/train/Uninfected/uninfected_train_0885.jpg  \n",
            "  inflating: /content/dataset/train/Uninfected/uninfected_train_0886.jpg  \n",
            "  inflating: /content/dataset/train/Uninfected/uninfected_train_0887.jpg  \n",
            "  inflating: /content/dataset/train/Uninfected/uninfected_train_0888.jpg  \n",
            "  inflating: /content/dataset/train/Uninfected/uninfected_train_0889.jpg  \n",
            "  inflating: /content/dataset/train/Uninfected/uninfected_train_0890.jpg  \n",
            "  inflating: /content/dataset/train/Uninfected/uninfected_train_0891.jpg  \n",
            "  inflating: /content/dataset/train/Uninfected/uninfected_train_0892.jpg  \n",
            "  inflating: /content/dataset/train/Uninfected/uninfected_train_0893.jpg  \n",
            "  inflating: /content/dataset/train/Uninfected/uninfected_train_0894.jpg  \n",
            "  inflating: /content/dataset/train/Uninfected/uninfected_train_0895.jpg  \n",
            "  inflating: /content/dataset/train/Uninfected/uninfected_train_0896.jpg  \n",
            "  inflating: /content/dataset/train/Uninfected/uninfected_train_0897.jpg  \n",
            "  inflating: /content/dataset/train/Uninfected/uninfected_train_0898.jpg  \n",
            "  inflating: /content/dataset/train/Uninfected/uninfected_train_0899.jpg  \n",
            "  inflating: /content/dataset/train/Uninfected/uninfected_train_0900.jpg  \n",
            "  inflating: /content/dataset/train/Uninfected/uninfected_train_0901.jpg  \n",
            "  inflating: /content/dataset/train/Uninfected/uninfected_train_0902.jpg  \n",
            "  inflating: /content/dataset/train/Uninfected/uninfected_train_0903.jpg  \n",
            "  inflating: /content/dataset/train/Uninfected/uninfected_train_0904.jpg  \n",
            "  inflating: /content/dataset/train/Uninfected/uninfected_train_0905.jpg  \n",
            "  inflating: /content/dataset/train/Uninfected/uninfected_train_0906.jpg  \n",
            "  inflating: /content/dataset/train/Uninfected/uninfected_train_0907.jpg  \n",
            "  inflating: /content/dataset/train/Uninfected/uninfected_train_0908.jpg  \n",
            "  inflating: /content/dataset/train/Uninfected/uninfected_train_0909.jpg  \n",
            "  inflating: /content/dataset/train/Uninfected/uninfected_train_0910.jpg  \n",
            "  inflating: /content/dataset/train/Uninfected/uninfected_train_0911.jpg  \n",
            "  inflating: /content/dataset/train/Uninfected/uninfected_train_0912.jpg  \n",
            "  inflating: /content/dataset/train/Uninfected/uninfected_train_0913.jpg  \n",
            "  inflating: /content/dataset/train/Uninfected/uninfected_train_0914.jpg  \n",
            "  inflating: /content/dataset/train/Uninfected/uninfected_train_0915.jpg  \n",
            "  inflating: /content/dataset/train/Uninfected/uninfected_train_0916.jpg  \n",
            "  inflating: /content/dataset/train/Uninfected/uninfected_train_0917.jpg  \n",
            "  inflating: /content/dataset/train/Uninfected/uninfected_train_0918.jpg  \n",
            "  inflating: /content/dataset/train/Uninfected/uninfected_train_0919.jpg  \n",
            "  inflating: /content/dataset/train/Uninfected/uninfected_train_0920.jpg  \n",
            "  inflating: /content/dataset/train/Uninfected/uninfected_train_0921.jpg  \n",
            "  inflating: /content/dataset/train/Uninfected/uninfected_train_0922.jpg  \n",
            "  inflating: /content/dataset/train/Uninfected/uninfected_train_0923.jpg  \n",
            "  inflating: /content/dataset/train/Uninfected/uninfected_train_0924.jpg  \n",
            "  inflating: /content/dataset/train/Uninfected/uninfected_train_0925.jpg  \n",
            "  inflating: /content/dataset/train/Uninfected/uninfected_train_0926.jpg  \n",
            "  inflating: /content/dataset/train/Uninfected/uninfected_train_0927.jpg  \n",
            "  inflating: /content/dataset/train/Uninfected/uninfected_train_0928.jpg  \n",
            "  inflating: /content/dataset/train/Uninfected/uninfected_train_0929.jpg  \n",
            "  inflating: /content/dataset/train/Uninfected/uninfected_train_0930.jpg  \n",
            "  inflating: /content/dataset/train/Uninfected/uninfected_train_0931.jpg  \n",
            "  inflating: /content/dataset/train/Uninfected/uninfected_train_0932.jpg  \n",
            "  inflating: /content/dataset/train/Uninfected/uninfected_train_0933.jpg  \n",
            "  inflating: /content/dataset/train/Uninfected/uninfected_train_0934.jpg  \n",
            "  inflating: /content/dataset/train/Uninfected/uninfected_train_0935.jpg  \n",
            "  inflating: /content/dataset/train/Uninfected/uninfected_train_0936.jpg  \n",
            "  inflating: /content/dataset/train/Uninfected/uninfected_train_0937.jpg  \n",
            "  inflating: /content/dataset/train/Uninfected/uninfected_train_0938.jpg  \n",
            "  inflating: /content/dataset/train/Uninfected/uninfected_train_0939.jpg  \n",
            "  inflating: /content/dataset/train/Uninfected/uninfected_train_0940.jpg  \n",
            "  inflating: /content/dataset/train/Uninfected/uninfected_train_0941.jpg  \n",
            "  inflating: /content/dataset/train/Uninfected/uninfected_train_0942.jpg  \n",
            "  inflating: /content/dataset/train/Uninfected/uninfected_train_0943.jpg  \n",
            "  inflating: /content/dataset/train/Uninfected/uninfected_train_0944.jpg  \n",
            "  inflating: /content/dataset/train/Uninfected/uninfected_train_0945.jpg  \n",
            "  inflating: /content/dataset/train/Uninfected/uninfected_train_0946.jpg  \n",
            "  inflating: /content/dataset/train/Uninfected/uninfected_train_0947.jpg  \n",
            "  inflating: /content/dataset/train/Uninfected/uninfected_train_0948.jpg  \n",
            "  inflating: /content/dataset/train/Uninfected/uninfected_train_0949.jpg  \n",
            "  inflating: /content/dataset/train/Uninfected/uninfected_train_0950.jpg  \n",
            "  inflating: /content/dataset/train/Uninfected/uninfected_train_0951.jpg  \n",
            "  inflating: /content/dataset/train/Uninfected/uninfected_train_0952.jpg  \n",
            "  inflating: /content/dataset/train/Uninfected/uninfected_train_0953.jpg  \n",
            "  inflating: /content/dataset/train/Uninfected/uninfected_train_0954.jpg  \n",
            "  inflating: /content/dataset/train/Uninfected/uninfected_train_0955.jpg  \n",
            "  inflating: /content/dataset/train/Uninfected/uninfected_train_0956.jpg  \n",
            "  inflating: /content/dataset/train/Uninfected/uninfected_train_0957.jpg  \n",
            "  inflating: /content/dataset/train/Uninfected/uninfected_train_0958.jpg  \n",
            "  inflating: /content/dataset/train/Uninfected/uninfected_train_0959.jpg  \n",
            "  inflating: /content/dataset/train/Uninfected/uninfected_train_0960.jpg  \n",
            "  inflating: /content/dataset/train/Uninfected/uninfected_train_0961.jpg  \n",
            "  inflating: /content/dataset/train/Uninfected/uninfected_train_0962.jpg  \n",
            "  inflating: /content/dataset/train/Uninfected/uninfected_train_0963.jpg  \n",
            "  inflating: /content/dataset/train/Uninfected/uninfected_train_0964.jpg  \n",
            "  inflating: /content/dataset/train/Uninfected/uninfected_train_0965.jpg  \n",
            "  inflating: /content/dataset/train/Uninfected/uninfected_train_0966.jpg  \n",
            "  inflating: /content/dataset/train/Uninfected/uninfected_train_0967.jpg  \n",
            "  inflating: /content/dataset/train/Uninfected/uninfected_train_0968.jpg  \n",
            "  inflating: /content/dataset/train/Uninfected/uninfected_train_0969.jpg  \n",
            "  inflating: /content/dataset/train/Uninfected/uninfected_train_0970.jpg  \n",
            "  inflating: /content/dataset/train/Uninfected/uninfected_train_0971.jpg  \n",
            "  inflating: /content/dataset/train/Uninfected/uninfected_train_0972.jpg  \n",
            "  inflating: /content/dataset/train/Uninfected/uninfected_train_0973.jpg  \n",
            "  inflating: /content/dataset/train/Uninfected/uninfected_train_0974.jpg  \n",
            "  inflating: /content/dataset/train/Uninfected/uninfected_train_0975.jpg  \n",
            "  inflating: /content/dataset/train/Uninfected/uninfected_train_0976.jpg  \n",
            "  inflating: /content/dataset/train/Uninfected/uninfected_train_0977.jpg  \n",
            "  inflating: /content/dataset/train/Uninfected/uninfected_train_0978.jpg  \n",
            "  inflating: /content/dataset/train/Uninfected/uninfected_train_0979.jpg  \n",
            "  inflating: /content/dataset/train/Uninfected/uninfected_train_0980.jpg  \n",
            "  inflating: /content/dataset/train/Uninfected/uninfected_train_0981.jpg  \n",
            "  inflating: /content/dataset/train/Uninfected/uninfected_train_0982.jpg  \n",
            "  inflating: /content/dataset/train/Uninfected/uninfected_train_0983.jpg  \n",
            "  inflating: /content/dataset/train/Uninfected/uninfected_train_0984.jpg  \n",
            "  inflating: /content/dataset/train/Uninfected/uninfected_train_0985.jpg  \n",
            "  inflating: /content/dataset/train/Uninfected/uninfected_train_0986.jpg  \n",
            "  inflating: /content/dataset/train/Uninfected/uninfected_train_0987.jpg  \n",
            "  inflating: /content/dataset/train/Uninfected/uninfected_train_0988.jpg  \n",
            "  inflating: /content/dataset/train/Uninfected/uninfected_train_0989.jpg  \n",
            "  inflating: /content/dataset/train/Uninfected/uninfected_train_0990.jpg  \n",
            "  inflating: /content/dataset/train/Uninfected/uninfected_train_0991.jpg  \n",
            "  inflating: /content/dataset/train/Uninfected/uninfected_train_0992.jpg  \n",
            "  inflating: /content/dataset/train/Uninfected/uninfected_train_0993.jpg  \n",
            "  inflating: /content/dataset/train/Uninfected/uninfected_train_0994.jpg  \n",
            "  inflating: /content/dataset/train/Uninfected/uninfected_train_0995.jpg  \n",
            "  inflating: /content/dataset/train/Uninfected/uninfected_train_0996.jpg  \n",
            "  inflating: /content/dataset/train/Uninfected/uninfected_train_0997.jpg  \n",
            "  inflating: /content/dataset/train/Uninfected/uninfected_train_0998.jpg  \n",
            "  inflating: /content/dataset/train/Uninfected/uninfected_train_0999.jpg  \n",
            "  inflating: /content/dataset/train/Uninfected/uninfected_train_1000.jpg  \n",
            "  inflating: /content/dataset/train/Uninfected/uninfected_train_1001.jpg  \n",
            "  inflating: /content/dataset/train/Uninfected/uninfected_train_1002.jpg  \n",
            "  inflating: /content/dataset/train/Uninfected/uninfected_train_1003.jpg  \n",
            "  inflating: /content/dataset/train/Uninfected/uninfected_train_1004.jpg  \n",
            "  inflating: /content/dataset/train/Uninfected/uninfected_train_1005.jpg  \n",
            "  inflating: /content/dataset/train/Uninfected/uninfected_train_1006.jpg  \n",
            "  inflating: /content/dataset/train/Uninfected/uninfected_train_1007.jpg  \n",
            "  inflating: /content/dataset/train/Uninfected/uninfected_train_1008.jpg  \n",
            "  inflating: /content/dataset/train/Uninfected/uninfected_train_1009.jpg  \n",
            "  inflating: /content/dataset/train/Uninfected/uninfected_train_1010.jpg  \n",
            "  inflating: /content/dataset/train/Uninfected/uninfected_train_1011.jpg  \n",
            "  inflating: /content/dataset/train/Uninfected/uninfected_train_1012.jpg  \n",
            "  inflating: /content/dataset/train/Uninfected/uninfected_train_1013.jpg  \n",
            "  inflating: /content/dataset/train/Uninfected/uninfected_train_1014.jpg  \n",
            "  inflating: /content/dataset/train/Uninfected/uninfected_train_1015.jpg  \n",
            "  inflating: /content/dataset/train/Uninfected/uninfected_train_1016.jpg  \n",
            "  inflating: /content/dataset/train/Uninfected/uninfected_train_1017.jpg  \n",
            "  inflating: /content/dataset/train/Uninfected/uninfected_train_1018.jpg  \n",
            "  inflating: /content/dataset/train/Uninfected/uninfected_train_1019.jpg  \n",
            "  inflating: /content/dataset/train/Uninfected/uninfected_train_1020.jpg  \n",
            "  inflating: /content/dataset/train/Uninfected/uninfected_train_1021.jpg  \n",
            "  inflating: /content/dataset/train/Uninfected/uninfected_train_1022.jpg  \n",
            "  inflating: /content/dataset/train/Uninfected/uninfected_train_1023.jpg  \n",
            "  inflating: /content/dataset/train/Uninfected/uninfected_train_1024.jpg  \n",
            "  inflating: /content/dataset/train/Uninfected/uninfected_train_1025.jpg  \n",
            "  inflating: /content/dataset/train/Uninfected/uninfected_train_1026.jpg  \n",
            "  inflating: /content/dataset/train/Uninfected/uninfected_train_1027.jpg  \n",
            "  inflating: /content/dataset/train/Uninfected/uninfected_train_1028.jpg  \n",
            "  inflating: /content/dataset/train/Uninfected/uninfected_train_1029.jpg  \n",
            "  inflating: /content/dataset/train/Uninfected/uninfected_train_1030.jpg  \n",
            "  inflating: /content/dataset/train/Uninfected/uninfected_train_1031.jpg  \n",
            "  inflating: /content/dataset/train/Uninfected/uninfected_train_1032.jpg  \n",
            "  inflating: /content/dataset/train/Uninfected/uninfected_train_1033.jpg  \n",
            "  inflating: /content/dataset/train/Uninfected/uninfected_train_1034.jpg  \n",
            "  inflating: /content/dataset/train/Uninfected/uninfected_train_1035.jpg  \n",
            "  inflating: /content/dataset/train/Uninfected/uninfected_train_1036.jpg  \n",
            "  inflating: /content/dataset/train/Uninfected/uninfected_train_1037.jpg  \n",
            "  inflating: /content/dataset/train/Uninfected/uninfected_train_1038.jpg  \n",
            "  inflating: /content/dataset/train/Uninfected/uninfected_train_1039.jpg  \n",
            "  inflating: /content/dataset/train/Uninfected/uninfected_train_1040.jpg  \n",
            "  inflating: /content/dataset/train/Uninfected/uninfected_train_1041.jpg  \n",
            "  inflating: /content/dataset/train/Uninfected/uninfected_train_1042.jpg  \n",
            "  inflating: /content/dataset/train/Uninfected/uninfected_train_1043.jpg  \n",
            "  inflating: /content/dataset/train/Uninfected/uninfected_train_1044.jpg  \n",
            "  inflating: /content/dataset/train/Uninfected/uninfected_train_1045.jpg  \n",
            "  inflating: /content/dataset/train/Uninfected/uninfected_train_1046.jpg  \n",
            "  inflating: /content/dataset/train/Uninfected/uninfected_train_1047.jpg  \n",
            "  inflating: /content/dataset/train/Uninfected/uninfected_train_1048.jpg  \n",
            "  inflating: /content/dataset/train/Uninfected/uninfected_train_1049.jpg  \n",
            "  inflating: /content/dataset/train/Uninfected/uninfected_train_1050.jpg  \n",
            "  inflating: /content/dataset/train/Uninfected/uninfected_train_1051.jpg  \n",
            "  inflating: /content/dataset/train/Uninfected/uninfected_train_1052.jpg  \n",
            "  inflating: /content/dataset/train/Uninfected/uninfected_train_1053.jpg  \n",
            "  inflating: /content/dataset/train/Uninfected/uninfected_train_1054.jpg  \n",
            "  inflating: /content/dataset/train/Uninfected/uninfected_train_1055.jpg  \n",
            "  inflating: /content/dataset/train/Uninfected/uninfected_train_1056.jpg  \n",
            "  inflating: /content/dataset/train/Uninfected/uninfected_train_1057.jpg  \n",
            "  inflating: /content/dataset/train/Uninfected/uninfected_train_1058.jpg  \n",
            "  inflating: /content/dataset/train/Uninfected/uninfected_train_1059.jpg  \n",
            "  inflating: /content/dataset/train/Uninfected/uninfected_train_1060.jpg  \n",
            "  inflating: /content/dataset/train/Uninfected/uninfected_train_1061.jpg  \n",
            "  inflating: /content/dataset/train/Uninfected/uninfected_train_1062.jpg  \n",
            "  inflating: /content/dataset/train/Uninfected/uninfected_train_1063.jpg  \n",
            "  inflating: /content/dataset/train/Uninfected/uninfected_train_1064.jpg  \n",
            "  inflating: /content/dataset/train/Uninfected/uninfected_train_1065.jpg  \n",
            "  inflating: /content/dataset/train/Uninfected/uninfected_train_1066.jpg  \n",
            "  inflating: /content/dataset/train/Uninfected/uninfected_train_1067.jpg  \n",
            "  inflating: /content/dataset/train/Uninfected/uninfected_train_1068.jpg  \n",
            "  inflating: /content/dataset/train/Uninfected/uninfected_train_1069.jpg  \n",
            "  inflating: /content/dataset/train/Uninfected/uninfected_train_1070.jpg  \n",
            "  inflating: /content/dataset/train/Uninfected/uninfected_train_1071.jpg  \n",
            "  inflating: /content/dataset/train/Uninfected/uninfected_train_1072.jpg  \n",
            "  inflating: /content/dataset/train/Uninfected/uninfected_train_1073.jpg  \n",
            "  inflating: /content/dataset/train/Uninfected/uninfected_train_1074.jpg  \n",
            "  inflating: /content/dataset/train/Uninfected/uninfected_train_1075.jpg  \n",
            "  inflating: /content/dataset/train/Uninfected/uninfected_train_1076.jpg  \n",
            "  inflating: /content/dataset/train/Uninfected/uninfected_train_1077.jpg  \n",
            "  inflating: /content/dataset/train/Uninfected/uninfected_train_1078.jpg  \n",
            "  inflating: /content/dataset/train/Uninfected/uninfected_train_1079.jpg  \n",
            "  inflating: /content/dataset/train/Uninfected/uninfected_train_1080.jpg  \n",
            "  inflating: /content/dataset/train/Uninfected/uninfected_train_1081.jpg  \n",
            "  inflating: /content/dataset/train/Uninfected/uninfected_train_1082.jpg  \n",
            "  inflating: /content/dataset/train/Uninfected/uninfected_train_1083.jpg  \n",
            "  inflating: /content/dataset/train/Uninfected/uninfected_train_1084.jpg  \n",
            "  inflating: /content/dataset/train/Uninfected/uninfected_train_1085.jpg  \n",
            "  inflating: /content/dataset/train/Uninfected/uninfected_train_1086.jpg  \n",
            "  inflating: /content/dataset/train/Uninfected/uninfected_train_1087.jpg  \n",
            "  inflating: /content/dataset/train/Uninfected/uninfected_train_1088.jpg  \n",
            "  inflating: /content/dataset/train/Uninfected/uninfected_train_1089.jpg  \n",
            "  inflating: /content/dataset/train/Uninfected/uninfected_train_1090.jpg  \n",
            "  inflating: /content/dataset/train/Uninfected/uninfected_train_1091.jpg  \n",
            "  inflating: /content/dataset/train/Uninfected/uninfected_train_1092.jpg  \n",
            "  inflating: /content/dataset/train/Uninfected/uninfected_train_1093.jpg  \n",
            "  inflating: /content/dataset/train/Uninfected/uninfected_train_1094.jpg  \n",
            "  inflating: /content/dataset/train/Uninfected/uninfected_train_1095.jpg  \n",
            "  inflating: /content/dataset/train/Uninfected/uninfected_train_1096.jpg  \n",
            "  inflating: /content/dataset/train/Uninfected/uninfected_train_1097.jpg  \n",
            "  inflating: /content/dataset/train/Uninfected/uninfected_train_1098.jpg  \n",
            "  inflating: /content/dataset/train/Uninfected/uninfected_train_1099.jpg  \n",
            "  inflating: /content/dataset/train/Uninfected/uninfected_train_1100.jpg  \n",
            "  inflating: /content/dataset/train/Uninfected/uninfected_train_1101.jpg  \n",
            "  inflating: /content/dataset/train/Uninfected/uninfected_train_1102.jpg  \n",
            "  inflating: /content/dataset/train/Uninfected/uninfected_train_1103.jpg  \n",
            "  inflating: /content/dataset/train/Uninfected/uninfected_train_1104.jpg  \n",
            "  inflating: /content/dataset/train/Uninfected/uninfected_train_1105.jpg  \n",
            "  inflating: /content/dataset/train/Uninfected/uninfected_train_1106.jpg  \n",
            "  inflating: /content/dataset/train/Uninfected/uninfected_train_1107.jpg  \n",
            "  inflating: /content/dataset/train/Uninfected/uninfected_train_1108.jpg  \n",
            "  inflating: /content/dataset/train/Uninfected/uninfected_train_1109.jpg  \n",
            "  inflating: /content/dataset/train/Uninfected/uninfected_train_1110.jpg  \n",
            "  inflating: /content/dataset/train/Uninfected/uninfected_train_1111.jpg  \n",
            "  inflating: /content/dataset/train/Uninfected/uninfected_train_1112.jpg  \n",
            "  inflating: /content/dataset/train/Uninfected/uninfected_train_1113.jpg  \n",
            "  inflating: /content/dataset/train/Uninfected/uninfected_train_1114.jpg  \n",
            "  inflating: /content/dataset/train/Uninfected/uninfected_train_1115.jpg  \n",
            "  inflating: /content/dataset/train/Uninfected/uninfected_train_1116.jpg  \n",
            "  inflating: /content/dataset/train/Uninfected/uninfected_train_1117.jpg  \n",
            "  inflating: /content/dataset/train/Uninfected/uninfected_train_1118.jpg  \n",
            "  inflating: /content/dataset/train/Uninfected/uninfected_train_1119.jpg  \n",
            "  inflating: /content/dataset/train/Uninfected/uninfected_train_1120.jpg  \n",
            "  inflating: /content/dataset/train/Uninfected/uninfected_train_1121.jpg  \n",
            "  inflating: /content/dataset/train/Uninfected/uninfected_train_1122.jpg  \n",
            "  inflating: /content/dataset/train/Uninfected/uninfected_train_1123.jpg  \n",
            "  inflating: /content/dataset/train/Uninfected/uninfected_train_1124.jpg  \n",
            "  inflating: /content/dataset/train/Uninfected/uninfected_train_1125.jpg  \n",
            "  inflating: /content/dataset/train/Uninfected/uninfected_train_1126.jpg  \n",
            "  inflating: /content/dataset/train/Uninfected/uninfected_train_1127.jpg  \n",
            "  inflating: /content/dataset/train/Uninfected/uninfected_train_1128.jpg  \n",
            "  inflating: /content/dataset/train/Uninfected/uninfected_train_1129.jpg  \n",
            "  inflating: /content/dataset/train/Uninfected/uninfected_train_1130.jpg  \n",
            "  inflating: /content/dataset/train/Uninfected/uninfected_train_1131.jpg  \n",
            "  inflating: /content/dataset/train/Uninfected/uninfected_train_1132.jpg  \n",
            "  inflating: /content/dataset/train/Uninfected/uninfected_train_1133.jpg  \n",
            "  inflating: /content/dataset/train/Uninfected/uninfected_train_1134.jpg  \n",
            "  inflating: /content/dataset/train/Uninfected/uninfected_train_1135.jpg  \n",
            "  inflating: /content/dataset/train/Uninfected/uninfected_train_1136.jpg  \n",
            "  inflating: /content/dataset/train/Uninfected/uninfected_train_1137.jpg  \n",
            "  inflating: /content/dataset/train/Uninfected/uninfected_train_1138.jpg  \n",
            "  inflating: /content/dataset/train/Uninfected/uninfected_train_1139.jpg  \n",
            "  inflating: /content/dataset/train/Uninfected/uninfected_train_1140.jpg  \n",
            "  inflating: /content/dataset/train/Uninfected/uninfected_train_1141.jpg  \n",
            "  inflating: /content/dataset/train/Uninfected/uninfected_train_1142.jpg  \n",
            "  inflating: /content/dataset/train/Uninfected/uninfected_train_1143.jpg  \n",
            "  inflating: /content/dataset/train/Uninfected/uninfected_train_1144.jpg  \n",
            "  inflating: /content/dataset/train/Uninfected/uninfected_train_1145.jpg  \n",
            "  inflating: /content/dataset/train/Uninfected/uninfected_train_1146.jpg  \n",
            "  inflating: /content/dataset/train/Uninfected/uninfected_train_1147.jpg  \n",
            "  inflating: /content/dataset/train/Uninfected/uninfected_train_1148.jpg  \n",
            "  inflating: /content/dataset/train/Uninfected/uninfected_train_1149.jpg  \n",
            "  inflating: /content/dataset/train/Uninfected/uninfected_train_1150.jpg  \n",
            "  inflating: /content/dataset/train/Uninfected/uninfected_train_1151.jpg  \n",
            "  inflating: /content/dataset/train/Uninfected/uninfected_train_1152.jpg  \n",
            "  inflating: /content/dataset/train/Uninfected/uninfected_train_1153.jpg  \n",
            "  inflating: /content/dataset/train/Uninfected/uninfected_train_1154.jpg  \n",
            "  inflating: /content/dataset/train/Uninfected/uninfected_train_1155.jpg  \n",
            "  inflating: /content/dataset/train/Uninfected/uninfected_train_1156.jpg  \n",
            "  inflating: /content/dataset/train/Uninfected/uninfected_train_1157.jpg  \n",
            "  inflating: /content/dataset/train/Uninfected/uninfected_train_1158.jpg  \n",
            "  inflating: /content/dataset/train/Uninfected/uninfected_train_1159.jpg  \n",
            "  inflating: /content/dataset/train/Uninfected/uninfected_train_1160.jpg  \n",
            "  inflating: /content/dataset/train/Uninfected/uninfected_train_1161.jpg  \n",
            "  inflating: /content/dataset/train/Uninfected/uninfected_train_1162.jpg  \n",
            "  inflating: /content/dataset/train/Uninfected/uninfected_train_1163.jpg  \n",
            "  inflating: /content/dataset/train/Uninfected/uninfected_train_1164.jpg  \n",
            "  inflating: /content/dataset/train/Uninfected/uninfected_train_1165.jpg  \n",
            "  inflating: /content/dataset/train/Uninfected/uninfected_train_1166.jpg  \n",
            "  inflating: /content/dataset/train/Uninfected/uninfected_train_1167.jpg  \n",
            "  inflating: /content/dataset/train/Uninfected/uninfected_train_1168.jpg  \n",
            "  inflating: /content/dataset/train/Uninfected/uninfected_train_1169.jpg  \n",
            "  inflating: /content/dataset/train/Uninfected/uninfected_train_1170.jpg  \n",
            "  inflating: /content/dataset/train/Uninfected/uninfected_train_1171.jpg  \n",
            "  inflating: /content/dataset/train/Uninfected/uninfected_train_1172.jpg  \n",
            "  inflating: /content/dataset/train/Uninfected/uninfected_train_1173.jpg  \n",
            "  inflating: /content/dataset/train/Uninfected/uninfected_train_1174.jpg  \n",
            "  inflating: /content/dataset/train/Uninfected/uninfected_train_1175.jpg  \n",
            "  inflating: /content/dataset/train/Uninfected/uninfected_train_1176.jpg  \n",
            "  inflating: /content/dataset/train/Uninfected/uninfected_train_1177.jpg  \n",
            "  inflating: /content/dataset/train/Uninfected/uninfected_train_1178.jpg  \n",
            "  inflating: /content/dataset/train/Uninfected/uninfected_train_1179.jpg  \n",
            "  inflating: /content/dataset/train/Uninfected/uninfected_train_1180.jpg  \n",
            "  inflating: /content/dataset/train/Uninfected/uninfected_train_1181.jpg  \n",
            "  inflating: /content/dataset/train/Uninfected/uninfected_train_1182.jpg  \n",
            "  inflating: /content/dataset/train/Uninfected/uninfected_train_1183.jpg  \n",
            "  inflating: /content/dataset/train/Uninfected/uninfected_train_1184.jpg  \n",
            "  inflating: /content/dataset/train/Uninfected/uninfected_train_1185.jpg  \n",
            "  inflating: /content/dataset/train/Uninfected/uninfected_train_1186.jpg  \n",
            "  inflating: /content/dataset/train/Uninfected/uninfected_train_1187.jpg  \n",
            "  inflating: /content/dataset/train/Uninfected/uninfected_train_1188.jpg  \n",
            "  inflating: /content/dataset/train/Uninfected/uninfected_train_1189.jpg  \n",
            "  inflating: /content/dataset/train/Uninfected/uninfected_train_1190.jpg  \n",
            "  inflating: /content/dataset/train/Uninfected/uninfected_train_1191.jpg  \n",
            "  inflating: /content/dataset/train/Uninfected/uninfected_train_1192.jpg  \n",
            "  inflating: /content/dataset/train/Uninfected/uninfected_train_1193.jpg  \n",
            "  inflating: /content/dataset/train/Uninfected/uninfected_train_1194.jpg  \n",
            "  inflating: /content/dataset/train/Uninfected/uninfected_train_1195.jpg  \n",
            "  inflating: /content/dataset/train/Uninfected/uninfected_train_1196.jpg  \n",
            "  inflating: /content/dataset/train/Uninfected/uninfected_train_1197.jpg  \n",
            "  inflating: /content/dataset/train/Uninfected/uninfected_train_1198.jpg  \n",
            "  inflating: /content/dataset/train/Uninfected/uninfected_train_1199.jpg  \n",
            "  inflating: /content/dataset/train/Uninfected/uninfected_train_1200.jpg  \n"
          ]
        }
      ]
    },
    {
      "cell_type": "code",
      "source": [
        "!pip install ultralytics"
      ],
      "metadata": {
        "colab": {
          "base_uri": "https://localhost:8080/"
        },
        "id": "EdUXHOXutULT",
        "outputId": "a486350f-c39f-43b8-e5a0-d79bb063efaf"
      },
      "execution_count": null,
      "outputs": [
        {
          "output_type": "stream",
          "name": "stdout",
          "text": [
            "Collecting ultralytics\n",
            "  Downloading ultralytics-8.3.100-py3-none-any.whl.metadata (37 kB)\n",
            "Requirement already satisfied: numpy<=2.1.1,>=1.23.0 in /usr/local/lib/python3.11/dist-packages (from ultralytics) (2.0.2)\n",
            "Requirement already satisfied: matplotlib>=3.3.0 in /usr/local/lib/python3.11/dist-packages (from ultralytics) (3.10.0)\n",
            "Requirement already satisfied: opencv-python>=4.6.0 in /usr/local/lib/python3.11/dist-packages (from ultralytics) (4.11.0.86)\n",
            "Requirement already satisfied: pillow>=7.1.2 in /usr/local/lib/python3.11/dist-packages (from ultralytics) (11.1.0)\n",
            "Requirement already satisfied: pyyaml>=5.3.1 in /usr/local/lib/python3.11/dist-packages (from ultralytics) (6.0.2)\n",
            "Requirement already satisfied: requests>=2.23.0 in /usr/local/lib/python3.11/dist-packages (from ultralytics) (2.32.3)\n",
            "Requirement already satisfied: scipy>=1.4.1 in /usr/local/lib/python3.11/dist-packages (from ultralytics) (1.14.1)\n",
            "Requirement already satisfied: torch>=1.8.0 in /usr/local/lib/python3.11/dist-packages (from ultralytics) (2.6.0+cu124)\n",
            "Requirement already satisfied: torchvision>=0.9.0 in /usr/local/lib/python3.11/dist-packages (from ultralytics) (0.21.0+cu124)\n",
            "Requirement already satisfied: tqdm>=4.64.0 in /usr/local/lib/python3.11/dist-packages (from ultralytics) (4.67.1)\n",
            "Requirement already satisfied: psutil in /usr/local/lib/python3.11/dist-packages (from ultralytics) (5.9.5)\n",
            "Requirement already satisfied: py-cpuinfo in /usr/local/lib/python3.11/dist-packages (from ultralytics) (9.0.0)\n",
            "Requirement already satisfied: pandas>=1.1.4 in /usr/local/lib/python3.11/dist-packages (from ultralytics) (2.2.2)\n",
            "Requirement already satisfied: seaborn>=0.11.0 in /usr/local/lib/python3.11/dist-packages (from ultralytics) (0.13.2)\n",
            "Collecting ultralytics-thop>=2.0.0 (from ultralytics)\n",
            "  Downloading ultralytics_thop-2.0.14-py3-none-any.whl.metadata (9.4 kB)\n",
            "Requirement already satisfied: contourpy>=1.0.1 in /usr/local/lib/python3.11/dist-packages (from matplotlib>=3.3.0->ultralytics) (1.3.1)\n",
            "Requirement already satisfied: cycler>=0.10 in /usr/local/lib/python3.11/dist-packages (from matplotlib>=3.3.0->ultralytics) (0.12.1)\n",
            "Requirement already satisfied: fonttools>=4.22.0 in /usr/local/lib/python3.11/dist-packages (from matplotlib>=3.3.0->ultralytics) (4.56.0)\n",
            "Requirement already satisfied: kiwisolver>=1.3.1 in /usr/local/lib/python3.11/dist-packages (from matplotlib>=3.3.0->ultralytics) (1.4.8)\n",
            "Requirement already satisfied: packaging>=20.0 in /usr/local/lib/python3.11/dist-packages (from matplotlib>=3.3.0->ultralytics) (24.2)\n",
            "Requirement already satisfied: pyparsing>=2.3.1 in /usr/local/lib/python3.11/dist-packages (from matplotlib>=3.3.0->ultralytics) (3.2.3)\n",
            "Requirement already satisfied: python-dateutil>=2.7 in /usr/local/lib/python3.11/dist-packages (from matplotlib>=3.3.0->ultralytics) (2.8.2)\n",
            "Requirement already satisfied: pytz>=2020.1 in /usr/local/lib/python3.11/dist-packages (from pandas>=1.1.4->ultralytics) (2025.2)\n",
            "Requirement already satisfied: tzdata>=2022.7 in /usr/local/lib/python3.11/dist-packages (from pandas>=1.1.4->ultralytics) (2025.2)\n",
            "Requirement already satisfied: charset-normalizer<4,>=2 in /usr/local/lib/python3.11/dist-packages (from requests>=2.23.0->ultralytics) (3.4.1)\n",
            "Requirement already satisfied: idna<4,>=2.5 in /usr/local/lib/python3.11/dist-packages (from requests>=2.23.0->ultralytics) (3.10)\n",
            "Requirement already satisfied: urllib3<3,>=1.21.1 in /usr/local/lib/python3.11/dist-packages (from requests>=2.23.0->ultralytics) (2.3.0)\n",
            "Requirement already satisfied: certifi>=2017.4.17 in /usr/local/lib/python3.11/dist-packages (from requests>=2.23.0->ultralytics) (2025.1.31)\n",
            "Requirement already satisfied: filelock in /usr/local/lib/python3.11/dist-packages (from torch>=1.8.0->ultralytics) (3.18.0)\n",
            "Requirement already satisfied: typing-extensions>=4.10.0 in /usr/local/lib/python3.11/dist-packages (from torch>=1.8.0->ultralytics) (4.13.0)\n",
            "Requirement already satisfied: networkx in /usr/local/lib/python3.11/dist-packages (from torch>=1.8.0->ultralytics) (3.4.2)\n",
            "Requirement already satisfied: jinja2 in /usr/local/lib/python3.11/dist-packages (from torch>=1.8.0->ultralytics) (3.1.6)\n",
            "Requirement already satisfied: fsspec in /usr/local/lib/python3.11/dist-packages (from torch>=1.8.0->ultralytics) (2025.3.0)\n",
            "Collecting nvidia-cuda-nvrtc-cu12==12.4.127 (from torch>=1.8.0->ultralytics)\n",
            "  Downloading nvidia_cuda_nvrtc_cu12-12.4.127-py3-none-manylinux2014_x86_64.whl.metadata (1.5 kB)\n",
            "Collecting nvidia-cuda-runtime-cu12==12.4.127 (from torch>=1.8.0->ultralytics)\n",
            "  Downloading nvidia_cuda_runtime_cu12-12.4.127-py3-none-manylinux2014_x86_64.whl.metadata (1.5 kB)\n",
            "Collecting nvidia-cuda-cupti-cu12==12.4.127 (from torch>=1.8.0->ultralytics)\n",
            "  Downloading nvidia_cuda_cupti_cu12-12.4.127-py3-none-manylinux2014_x86_64.whl.metadata (1.6 kB)\n",
            "Collecting nvidia-cudnn-cu12==9.1.0.70 (from torch>=1.8.0->ultralytics)\n",
            "  Downloading nvidia_cudnn_cu12-9.1.0.70-py3-none-manylinux2014_x86_64.whl.metadata (1.6 kB)\n",
            "Collecting nvidia-cublas-cu12==12.4.5.8 (from torch>=1.8.0->ultralytics)\n",
            "  Downloading nvidia_cublas_cu12-12.4.5.8-py3-none-manylinux2014_x86_64.whl.metadata (1.5 kB)\n",
            "Collecting nvidia-cufft-cu12==11.2.1.3 (from torch>=1.8.0->ultralytics)\n",
            "  Downloading nvidia_cufft_cu12-11.2.1.3-py3-none-manylinux2014_x86_64.whl.metadata (1.5 kB)\n",
            "Collecting nvidia-curand-cu12==10.3.5.147 (from torch>=1.8.0->ultralytics)\n",
            "  Downloading nvidia_curand_cu12-10.3.5.147-py3-none-manylinux2014_x86_64.whl.metadata (1.5 kB)\n",
            "Collecting nvidia-cusolver-cu12==11.6.1.9 (from torch>=1.8.0->ultralytics)\n",
            "  Downloading nvidia_cusolver_cu12-11.6.1.9-py3-none-manylinux2014_x86_64.whl.metadata (1.6 kB)\n",
            "Collecting nvidia-cusparse-cu12==12.3.1.170 (from torch>=1.8.0->ultralytics)\n",
            "  Downloading nvidia_cusparse_cu12-12.3.1.170-py3-none-manylinux2014_x86_64.whl.metadata (1.6 kB)\n",
            "Requirement already satisfied: nvidia-cusparselt-cu12==0.6.2 in /usr/local/lib/python3.11/dist-packages (from torch>=1.8.0->ultralytics) (0.6.2)\n",
            "Requirement already satisfied: nvidia-nccl-cu12==2.21.5 in /usr/local/lib/python3.11/dist-packages (from torch>=1.8.0->ultralytics) (2.21.5)\n",
            "Requirement already satisfied: nvidia-nvtx-cu12==12.4.127 in /usr/local/lib/python3.11/dist-packages (from torch>=1.8.0->ultralytics) (12.4.127)\n",
            "Collecting nvidia-nvjitlink-cu12==12.4.127 (from torch>=1.8.0->ultralytics)\n",
            "  Downloading nvidia_nvjitlink_cu12-12.4.127-py3-none-manylinux2014_x86_64.whl.metadata (1.5 kB)\n",
            "Requirement already satisfied: triton==3.2.0 in /usr/local/lib/python3.11/dist-packages (from torch>=1.8.0->ultralytics) (3.2.0)\n",
            "Requirement already satisfied: sympy==1.13.1 in /usr/local/lib/python3.11/dist-packages (from torch>=1.8.0->ultralytics) (1.13.1)\n",
            "Requirement already satisfied: mpmath<1.4,>=1.1.0 in /usr/local/lib/python3.11/dist-packages (from sympy==1.13.1->torch>=1.8.0->ultralytics) (1.3.0)\n",
            "Requirement already satisfied: six>=1.5 in /usr/local/lib/python3.11/dist-packages (from python-dateutil>=2.7->matplotlib>=3.3.0->ultralytics) (1.17.0)\n",
            "Requirement already satisfied: MarkupSafe>=2.0 in /usr/local/lib/python3.11/dist-packages (from jinja2->torch>=1.8.0->ultralytics) (3.0.2)\n",
            "Downloading ultralytics-8.3.100-py3-none-any.whl (977 kB)\n",
            "\u001b[2K   \u001b[90m━━━━━━━━━━━━━━━━━━━━━━━━━━━━━━━━━━━━━━━━\u001b[0m \u001b[32m977.1/977.1 kB\u001b[0m \u001b[31m26.6 MB/s\u001b[0m eta \u001b[36m0:00:00\u001b[0m\n",
            "\u001b[?25hDownloading nvidia_cublas_cu12-12.4.5.8-py3-none-manylinux2014_x86_64.whl (363.4 MB)\n",
            "\u001b[2K   \u001b[90m━━━━━━━━━━━━━━━━━━━━━━━━━━━━━━━━━━━━━━━━\u001b[0m \u001b[32m363.4/363.4 MB\u001b[0m \u001b[31m4.1 MB/s\u001b[0m eta \u001b[36m0:00:00\u001b[0m\n",
            "\u001b[?25hDownloading nvidia_cuda_cupti_cu12-12.4.127-py3-none-manylinux2014_x86_64.whl (13.8 MB)\n",
            "\u001b[2K   \u001b[90m━━━━━━━━━━━━━━━━━━━━━━━━━━━━━━━━━━━━━━━━\u001b[0m \u001b[32m13.8/13.8 MB\u001b[0m \u001b[31m66.2 MB/s\u001b[0m eta \u001b[36m0:00:00\u001b[0m\n",
            "\u001b[?25hDownloading nvidia_cuda_nvrtc_cu12-12.4.127-py3-none-manylinux2014_x86_64.whl (24.6 MB)\n",
            "\u001b[2K   \u001b[90m━━━━━━━━━━━━━━━━━━━━━━━━━━━━━━━━━━━━━━━━\u001b[0m \u001b[32m24.6/24.6 MB\u001b[0m \u001b[31m35.8 MB/s\u001b[0m eta \u001b[36m0:00:00\u001b[0m\n",
            "\u001b[?25hDownloading nvidia_cuda_runtime_cu12-12.4.127-py3-none-manylinux2014_x86_64.whl (883 kB)\n",
            "\u001b[2K   \u001b[90m━━━━━━━━━━━━━━━━━━━━━━━━━━━━━━━━━━━━━━━━\u001b[0m \u001b[32m883.7/883.7 kB\u001b[0m \u001b[31m31.2 MB/s\u001b[0m eta \u001b[36m0:00:00\u001b[0m\n",
            "\u001b[?25hDownloading nvidia_cudnn_cu12-9.1.0.70-py3-none-manylinux2014_x86_64.whl (664.8 MB)\n",
            "\u001b[2K   \u001b[90m━━━━━━━━━━━━━━━━━━━━━━━━━━━━━━━━━━━━━━━━\u001b[0m \u001b[32m664.8/664.8 MB\u001b[0m \u001b[31m2.5 MB/s\u001b[0m eta \u001b[36m0:00:00\u001b[0m\n",
            "\u001b[?25hDownloading nvidia_cufft_cu12-11.2.1.3-py3-none-manylinux2014_x86_64.whl (211.5 MB)\n",
            "\u001b[2K   \u001b[90m━━━━━━━━━━━━━━━━━━━━━━━━━━━━━━━━━━━━━━━━\u001b[0m \u001b[32m211.5/211.5 MB\u001b[0m \u001b[31m5.8 MB/s\u001b[0m eta \u001b[36m0:00:00\u001b[0m\n",
            "\u001b[?25hDownloading nvidia_curand_cu12-10.3.5.147-py3-none-manylinux2014_x86_64.whl (56.3 MB)\n",
            "\u001b[2K   \u001b[90m━━━━━━━━━━━━━━━━━━━━━━━━━━━━━━━━━━━━━━━━\u001b[0m \u001b[32m56.3/56.3 MB\u001b[0m \u001b[31m12.9 MB/s\u001b[0m eta \u001b[36m0:00:00\u001b[0m\n",
            "\u001b[?25hDownloading nvidia_cusolver_cu12-11.6.1.9-py3-none-manylinux2014_x86_64.whl (127.9 MB)\n",
            "\u001b[2K   \u001b[90m━━━━━━━━━━━━━━━━━━━━━━━━━━━━━━━━━━━━━━━━\u001b[0m \u001b[32m127.9/127.9 MB\u001b[0m \u001b[31m7.5 MB/s\u001b[0m eta \u001b[36m0:00:00\u001b[0m\n",
            "\u001b[?25hDownloading nvidia_cusparse_cu12-12.3.1.170-py3-none-manylinux2014_x86_64.whl (207.5 MB)\n",
            "\u001b[2K   \u001b[90m━━━━━━━━━━━━━━━━━━━━━━━━━━━━━━━━━━━━━━━━\u001b[0m \u001b[32m207.5/207.5 MB\u001b[0m \u001b[31m5.9 MB/s\u001b[0m eta \u001b[36m0:00:00\u001b[0m\n",
            "\u001b[?25hDownloading nvidia_nvjitlink_cu12-12.4.127-py3-none-manylinux2014_x86_64.whl (21.1 MB)\n",
            "\u001b[2K   \u001b[90m━━━━━━━━━━━━━━━━━━━━━━━━━━━━━━━━━━━━━━━━\u001b[0m \u001b[32m21.1/21.1 MB\u001b[0m \u001b[31m79.2 MB/s\u001b[0m eta \u001b[36m0:00:00\u001b[0m\n",
            "\u001b[?25hDownloading ultralytics_thop-2.0.14-py3-none-any.whl (26 kB)\n",
            "Installing collected packages: nvidia-nvjitlink-cu12, nvidia-curand-cu12, nvidia-cufft-cu12, nvidia-cuda-runtime-cu12, nvidia-cuda-nvrtc-cu12, nvidia-cuda-cupti-cu12, nvidia-cublas-cu12, nvidia-cusparse-cu12, nvidia-cudnn-cu12, nvidia-cusolver-cu12, ultralytics-thop, ultralytics\n",
            "  Attempting uninstall: nvidia-nvjitlink-cu12\n",
            "    Found existing installation: nvidia-nvjitlink-cu12 12.5.82\n",
            "    Uninstalling nvidia-nvjitlink-cu12-12.5.82:\n",
            "      Successfully uninstalled nvidia-nvjitlink-cu12-12.5.82\n",
            "  Attempting uninstall: nvidia-curand-cu12\n",
            "    Found existing installation: nvidia-curand-cu12 10.3.6.82\n",
            "    Uninstalling nvidia-curand-cu12-10.3.6.82:\n",
            "      Successfully uninstalled nvidia-curand-cu12-10.3.6.82\n",
            "  Attempting uninstall: nvidia-cufft-cu12\n",
            "    Found existing installation: nvidia-cufft-cu12 11.2.3.61\n",
            "    Uninstalling nvidia-cufft-cu12-11.2.3.61:\n",
            "      Successfully uninstalled nvidia-cufft-cu12-11.2.3.61\n",
            "  Attempting uninstall: nvidia-cuda-runtime-cu12\n",
            "    Found existing installation: nvidia-cuda-runtime-cu12 12.5.82\n",
            "    Uninstalling nvidia-cuda-runtime-cu12-12.5.82:\n",
            "      Successfully uninstalled nvidia-cuda-runtime-cu12-12.5.82\n",
            "  Attempting uninstall: nvidia-cuda-nvrtc-cu12\n",
            "    Found existing installation: nvidia-cuda-nvrtc-cu12 12.5.82\n",
            "    Uninstalling nvidia-cuda-nvrtc-cu12-12.5.82:\n",
            "      Successfully uninstalled nvidia-cuda-nvrtc-cu12-12.5.82\n",
            "  Attempting uninstall: nvidia-cuda-cupti-cu12\n",
            "    Found existing installation: nvidia-cuda-cupti-cu12 12.5.82\n",
            "    Uninstalling nvidia-cuda-cupti-cu12-12.5.82:\n",
            "      Successfully uninstalled nvidia-cuda-cupti-cu12-12.5.82\n",
            "  Attempting uninstall: nvidia-cublas-cu12\n",
            "    Found existing installation: nvidia-cublas-cu12 12.5.3.2\n",
            "    Uninstalling nvidia-cublas-cu12-12.5.3.2:\n",
            "      Successfully uninstalled nvidia-cublas-cu12-12.5.3.2\n",
            "  Attempting uninstall: nvidia-cusparse-cu12\n",
            "    Found existing installation: nvidia-cusparse-cu12 12.5.1.3\n",
            "    Uninstalling nvidia-cusparse-cu12-12.5.1.3:\n",
            "      Successfully uninstalled nvidia-cusparse-cu12-12.5.1.3\n",
            "  Attempting uninstall: nvidia-cudnn-cu12\n",
            "    Found existing installation: nvidia-cudnn-cu12 9.3.0.75\n",
            "    Uninstalling nvidia-cudnn-cu12-9.3.0.75:\n",
            "      Successfully uninstalled nvidia-cudnn-cu12-9.3.0.75\n",
            "  Attempting uninstall: nvidia-cusolver-cu12\n",
            "    Found existing installation: nvidia-cusolver-cu12 11.6.3.83\n",
            "    Uninstalling nvidia-cusolver-cu12-11.6.3.83:\n",
            "      Successfully uninstalled nvidia-cusolver-cu12-11.6.3.83\n",
            "Successfully installed nvidia-cublas-cu12-12.4.5.8 nvidia-cuda-cupti-cu12-12.4.127 nvidia-cuda-nvrtc-cu12-12.4.127 nvidia-cuda-runtime-cu12-12.4.127 nvidia-cudnn-cu12-9.1.0.70 nvidia-cufft-cu12-11.2.1.3 nvidia-curand-cu12-10.3.5.147 nvidia-cusolver-cu12-11.6.1.9 nvidia-cusparse-cu12-12.3.1.170 nvidia-nvjitlink-cu12-12.4.127 ultralytics-8.3.100 ultralytics-thop-2.0.14\n"
          ]
        }
      ]
    },
    {
      "cell_type": "code",
      "source": [
        "from ultralytics import YOLO\n",
        "\n",
        "# Load YOLOv8 classification model\n",
        "model = YOLO(\"yolo11x-cls.pt\")\n",
        "\n",
        "# Train the model\n",
        "model.train(data=\"/content/dataset\", epochs=50, imgsz=224, batch=32)\n"
      ],
      "metadata": {
        "colab": {
          "base_uri": "https://localhost:8080/"
        },
        "id": "MUt1Z51ktz7k",
        "outputId": "0b8a1a89-8b47-452b-b785-cfa8ca7ea4e0"
      },
      "execution_count": null,
      "outputs": [
        {
          "metadata": {
            "tags": null
          },
          "name": "stdout",
          "output_type": "stream",
          "text": [
            "Downloading https://github.com/ultralytics/assets/releases/download/v8.3.0/yolo11x-cls.pt to 'yolo11x-cls.pt'...\n"
          ]
        },
        {
          "metadata": {
            "tags": null
          },
          "name": "stderr",
          "output_type": "stream",
          "text": [
            "100%|██████████| 56.9M/56.9M [00:00<00:00, 111MB/s]\n"
          ]
        },
        {
          "metadata": {
            "tags": null
          },
          "name": "stdout",
          "output_type": "stream",
          "text": [
            "Ultralytics 8.3.100 🚀 Python-3.11.11 torch-2.6.0+cu124 CUDA:0 (Tesla T4, 15095MiB)\n",
            "\u001b[34m\u001b[1mengine/trainer: \u001b[0mtask=classify, mode=train, model=yolo11x-cls.pt, data=/content/dataset, epochs=50, time=None, patience=100, batch=32, imgsz=224, save=True, save_period=-1, cache=False, device=None, workers=8, project=None, name=train, exist_ok=False, pretrained=True, optimizer=auto, verbose=True, seed=0, deterministic=True, single_cls=False, rect=False, cos_lr=False, close_mosaic=10, resume=False, amp=True, fraction=1.0, profile=False, freeze=None, multi_scale=False, overlap_mask=True, mask_ratio=4, dropout=0.0, val=True, split=val, save_json=False, save_hybrid=False, conf=None, iou=0.7, max_det=300, half=False, dnn=False, plots=True, source=None, vid_stride=1, stream_buffer=False, visualize=False, augment=False, agnostic_nms=False, classes=None, retina_masks=False, embed=None, show=False, save_frames=False, save_txt=False, save_conf=False, save_crop=False, show_labels=True, show_conf=True, show_boxes=True, line_width=None, format=torchscript, keras=False, optimize=False, int8=False, dynamic=False, simplify=True, opset=None, workspace=None, nms=False, lr0=0.01, lrf=0.01, momentum=0.937, weight_decay=0.0005, warmup_epochs=3.0, warmup_momentum=0.8, warmup_bias_lr=0.1, box=7.5, cls=0.5, dfl=1.5, pose=12.0, kobj=1.0, nbs=64, hsv_h=0.015, hsv_s=0.7, hsv_v=0.4, degrees=0.0, translate=0.1, scale=0.5, shear=0.0, perspective=0.0, flipud=0.0, fliplr=0.5, bgr=0.0, mosaic=1.0, mixup=0.0, copy_paste=0.0, copy_paste_mode=flip, auto_augment=randaugment, erasing=0.4, crop_fraction=1.0, cfg=None, tracker=botsort.yaml, save_dir=runs/classify/train\n",
            "\u001b[34m\u001b[1mtrain:\u001b[0m /content/dataset/train... found 2400 images in 2 classes ✅ \n",
            "\u001b[34m\u001b[1mval:\u001b[0m None...\n",
            "\u001b[34m\u001b[1mtest:\u001b[0m /content/dataset/test... found 600 images in 2 classes ✅ \n",
            "Overriding model.yaml nc=80 with nc=2\n",
            "\n",
            "                   from  n    params  module                                       arguments                     \n",
            "  0                  -1  1      2784  ultralytics.nn.modules.conv.Conv             [3, 96, 3, 2]                 \n",
            "  1                  -1  1    166272  ultralytics.nn.modules.conv.Conv             [96, 192, 3, 2]               \n",
            "  2                  -1  2    389760  ultralytics.nn.modules.block.C3k2            [192, 384, 2, True, 0.25]     \n",
            "  3                  -1  1   1327872  ultralytics.nn.modules.conv.Conv             [384, 384, 3, 2]              \n",
            "  4                  -1  2   1553664  ultralytics.nn.modules.block.C3k2            [384, 768, 2, True, 0.25]     \n",
            "  5                  -1  1   5309952  ultralytics.nn.modules.conv.Conv             [768, 768, 3, 2]              \n",
            "  6                  -1  2   5022720  ultralytics.nn.modules.block.C3k2            [768, 768, 2, True]           \n",
            "  7                  -1  1   5309952  ultralytics.nn.modules.conv.Conv             [768, 768, 3, 2]              \n",
            "  8                  -1  2   5022720  ultralytics.nn.modules.block.C3k2            [768, 768, 2, True]           \n",
            "  9                  -1  2   3264768  ultralytics.nn.modules.block.C2PSA           [768, 768, 2]                 \n",
            " 10                  -1  1    988162  ultralytics.nn.modules.head.Classify         [768, 2]                      \n",
            "YOLO11x-cls summary: 176 layers, 28,358,626 parameters, 28,358,626 gradients, 111.0 GFLOPs\n",
            "Transferred 492/494 items from pretrained weights\n",
            "\u001b[34m\u001b[1mTensorBoard: \u001b[0mStart with 'tensorboard --logdir runs/classify/train', view at http://localhost:6006/\n",
            "\u001b[34m\u001b[1mAMP: \u001b[0mrunning Automatic Mixed Precision (AMP) checks...\n",
            "Downloading https://github.com/ultralytics/assets/releases/download/v8.3.0/yolo11n.pt to 'yolo11n.pt'...\n"
          ]
        },
        {
          "metadata": {
            "tags": null
          },
          "name": "stderr",
          "output_type": "stream",
          "text": [
            "100%|██████████| 5.35M/5.35M [00:00<00:00, 97.1MB/s]\n"
          ]
        },
        {
          "metadata": {
            "tags": null
          },
          "name": "stdout",
          "output_type": "stream",
          "text": [
            "\u001b[34m\u001b[1mAMP: \u001b[0mchecks passed ✅\n"
          ]
        },
        {
          "metadata": {
            "tags": null
          },
          "name": "stderr",
          "output_type": "stream",
          "text": [
            "\u001b[34m\u001b[1mtrain: \u001b[0mScanning /content/dataset/train... 2400 images, 0 corrupt: 100%|██████████| 2400/2400 [00:04<00:00, 489.15it/s]"
          ]
        },
        {
          "metadata": {
            "tags": null
          },
          "name": "stdout",
          "output_type": "stream",
          "text": [
            "\u001b[34m\u001b[1mtrain: \u001b[0mNew cache created: /content/dataset/train.cache\n"
          ]
        },
        {
          "metadata": {
            "tags": null
          },
          "name": "stderr",
          "output_type": "stream",
          "text": [
            "\n",
            "\u001b[34m\u001b[1mval: \u001b[0mScanning /content/dataset/test... 600 images, 0 corrupt: 100%|██████████| 600/600 [00:01<00:00, 460.74it/s]"
          ]
        },
        {
          "metadata": {
            "tags": null
          },
          "name": "stdout",
          "output_type": "stream",
          "text": [
            "\u001b[34m\u001b[1mval: \u001b[0mNew cache created: /content/dataset/test.cache\n"
          ]
        },
        {
          "metadata": {
            "tags": null
          },
          "name": "stderr",
          "output_type": "stream",
          "text": [
            "\n"
          ]
        },
        {
          "metadata": {
            "tags": null
          },
          "name": "stdout",
          "output_type": "stream",
          "text": [
            "\u001b[34m\u001b[1moptimizer:\u001b[0m 'optimizer=auto' found, ignoring 'lr0=0.01' and 'momentum=0.937' and determining best 'optimizer', 'lr0' and 'momentum' automatically... \n",
            "\u001b[34m\u001b[1moptimizer:\u001b[0m AdamW(lr=0.001667, momentum=0.9) with parameter groups 82 weight(decay=0.0), 83 weight(decay=0.0005), 83 bias(decay=0.0)\n",
            "\u001b[34m\u001b[1mTensorBoard: \u001b[0mmodel graph visualization added ✅\n",
            "Image sizes 224 train, 224 val\n",
            "Using 2 dataloader workers\n",
            "Logging results to \u001b[1mruns/classify/train\u001b[0m\n",
            "Starting training for 50 epochs...\n",
            "\n",
            "      Epoch    GPU_mem       loss  Instances       Size\n"
          ]
        },
        {
          "metadata": {
            "tags": null
          },
          "name": "stderr",
          "output_type": "stream",
          "text": [
            "       1/50       2.7G     0.6786         32        224:   3%|▎         | 2/75 [00:02<01:07,  1.09it/s]"
          ]
        },
        {
          "metadata": {
            "tags": null
          },
          "name": "stdout",
          "output_type": "stream",
          "text": [
            "Downloading https://ultralytics.com/assets/Arial.ttf to '/root/.config/Ultralytics/Arial.ttf'...\n"
          ]
        },
        {
          "metadata": {
            "tags": null
          },
          "name": "stderr",
          "output_type": "stream",
          "text": [
            "       1/50      2.92G     0.6529         32        224:   5%|▌         | 4/75 [00:02<00:38,  1.84it/s]\n",
            "100%|██████████| 755k/755k [00:00<00:00, 21.4MB/s]\n",
            "       1/50      2.92G     0.1412         32        224: 100%|██████████| 75/75 [01:23<00:00,  1.11s/it]\n",
            "               classes   top1_acc   top5_acc: 100%|██████████| 10/10 [00:14<00:00,  1.42s/it]"
          ]
        },
        {
          "metadata": {
            "tags": null
          },
          "name": "stdout",
          "output_type": "stream",
          "text": [
            "                   all      0.902          1\n"
          ]
        },
        {
          "metadata": {
            "tags": null
          },
          "name": "stderr",
          "output_type": "stream",
          "text": [
            "\n"
          ]
        },
        {
          "metadata": {
            "tags": null
          },
          "name": "stdout",
          "output_type": "stream",
          "text": [
            "\n",
            "      Epoch    GPU_mem       loss  Instances       Size\n"
          ]
        },
        {
          "metadata": {
            "tags": null
          },
          "name": "stderr",
          "output_type": "stream",
          "text": [
            "       2/50      3.49G     0.1494         32        224: 100%|██████████| 75/75 [01:23<00:00,  1.11s/it]\n",
            "               classes   top1_acc   top5_acc: 100%|██████████| 10/10 [00:13<00:00,  1.36s/it]"
          ]
        },
        {
          "metadata": {
            "tags": null
          },
          "name": "stdout",
          "output_type": "stream",
          "text": [
            "                   all      0.777          1\n"
          ]
        },
        {
          "metadata": {
            "tags": null
          },
          "name": "stderr",
          "output_type": "stream",
          "text": [
            "\n"
          ]
        },
        {
          "metadata": {
            "tags": null
          },
          "name": "stdout",
          "output_type": "stream",
          "text": [
            "\n",
            "      Epoch    GPU_mem       loss  Instances       Size\n"
          ]
        },
        {
          "metadata": {
            "tags": null
          },
          "name": "stderr",
          "output_type": "stream",
          "text": [
            "       3/50      3.55G      0.129         32        224: 100%|██████████| 75/75 [01:24<00:00,  1.12s/it]\n",
            "               classes   top1_acc   top5_acc: 100%|██████████| 10/10 [00:13<00:00,  1.38s/it]"
          ]
        },
        {
          "metadata": {
            "tags": null
          },
          "name": "stdout",
          "output_type": "stream",
          "text": [
            "                   all      0.643          1\n"
          ]
        },
        {
          "metadata": {
            "tags": null
          },
          "name": "stderr",
          "output_type": "stream",
          "text": [
            "\n"
          ]
        },
        {
          "metadata": {
            "tags": null
          },
          "name": "stdout",
          "output_type": "stream",
          "text": [
            "\n",
            "      Epoch    GPU_mem       loss  Instances       Size\n"
          ]
        },
        {
          "metadata": {
            "tags": null
          },
          "name": "stderr",
          "output_type": "stream",
          "text": [
            "       4/50      3.61G     0.1279         32        224: 100%|██████████| 75/75 [01:21<00:00,  1.09s/it]\n",
            "               classes   top1_acc   top5_acc: 100%|██████████| 10/10 [00:13<00:00,  1.37s/it]"
          ]
        },
        {
          "metadata": {
            "tags": null
          },
          "name": "stdout",
          "output_type": "stream",
          "text": [
            "                   all       0.85          1\n"
          ]
        },
        {
          "metadata": {
            "tags": null
          },
          "name": "stderr",
          "output_type": "stream",
          "text": [
            "\n"
          ]
        },
        {
          "metadata": {
            "tags": null
          },
          "name": "stdout",
          "output_type": "stream",
          "text": [
            "\n",
            "      Epoch    GPU_mem       loss  Instances       Size\n"
          ]
        },
        {
          "metadata": {
            "tags": null
          },
          "name": "stderr",
          "output_type": "stream",
          "text": [
            "       5/50      3.67G    0.09308         32        224: 100%|██████████| 75/75 [01:22<00:00,  1.10s/it]\n",
            "               classes   top1_acc   top5_acc: 100%|██████████| 10/10 [00:13<00:00,  1.33s/it]"
          ]
        },
        {
          "metadata": {
            "tags": null
          },
          "name": "stdout",
          "output_type": "stream",
          "text": [
            "                   all      0.693          1\n"
          ]
        },
        {
          "metadata": {
            "tags": null
          },
          "name": "stderr",
          "output_type": "stream",
          "text": [
            "\n"
          ]
        },
        {
          "metadata": {
            "tags": null
          },
          "name": "stdout",
          "output_type": "stream",
          "text": [
            "\n",
            "      Epoch    GPU_mem       loss  Instances       Size\n"
          ]
        },
        {
          "metadata": {
            "tags": null
          },
          "name": "stderr",
          "output_type": "stream",
          "text": [
            "       6/50      3.72G    0.07681         32        224: 100%|██████████| 75/75 [01:21<00:00,  1.09s/it]\n",
            "               classes   top1_acc   top5_acc: 100%|██████████| 10/10 [00:13<00:00,  1.32s/it]"
          ]
        },
        {
          "metadata": {
            "tags": null
          },
          "name": "stdout",
          "output_type": "stream",
          "text": [
            "                   all      0.823          1\n"
          ]
        },
        {
          "metadata": {
            "tags": null
          },
          "name": "stderr",
          "output_type": "stream",
          "text": [
            "\n"
          ]
        },
        {
          "metadata": {
            "tags": null
          },
          "name": "stdout",
          "output_type": "stream",
          "text": [
            "\n",
            "      Epoch    GPU_mem       loss  Instances       Size\n"
          ]
        },
        {
          "metadata": {
            "tags": null
          },
          "name": "stderr",
          "output_type": "stream",
          "text": [
            "       7/50      4.11G     0.0732         32        224: 100%|██████████| 75/75 [01:26<00:00,  1.16s/it]\n",
            "               classes   top1_acc   top5_acc: 100%|██████████| 10/10 [00:11<00:00,  1.18s/it]"
          ]
        },
        {
          "metadata": {
            "tags": null
          },
          "name": "stdout",
          "output_type": "stream",
          "text": [
            "                   all      0.805          1\n"
          ]
        },
        {
          "metadata": {
            "tags": null
          },
          "name": "stderr",
          "output_type": "stream",
          "text": [
            "\n"
          ]
        },
        {
          "metadata": {
            "tags": null
          },
          "name": "stdout",
          "output_type": "stream",
          "text": [
            "\n",
            "      Epoch    GPU_mem       loss  Instances       Size\n"
          ]
        },
        {
          "metadata": {
            "tags": null
          },
          "name": "stderr",
          "output_type": "stream",
          "text": [
            "       8/50      4.16G    0.04356         32        224: 100%|██████████| 75/75 [01:21<00:00,  1.09s/it]\n",
            "               classes   top1_acc   top5_acc: 100%|██████████| 10/10 [00:13<00:00,  1.32s/it]"
          ]
        },
        {
          "metadata": {
            "tags": null
          },
          "name": "stdout",
          "output_type": "stream",
          "text": [
            "                   all      0.958          1\n"
          ]
        },
        {
          "metadata": {
            "tags": null
          },
          "name": "stderr",
          "output_type": "stream",
          "text": [
            "\n"
          ]
        },
        {
          "metadata": {
            "tags": null
          },
          "name": "stdout",
          "output_type": "stream",
          "text": [
            "\n",
            "      Epoch    GPU_mem       loss  Instances       Size\n"
          ]
        },
        {
          "metadata": {
            "tags": null
          },
          "name": "stderr",
          "output_type": "stream",
          "text": [
            "       9/50      4.37G    0.05012         32        224: 100%|██████████| 75/75 [01:22<00:00,  1.10s/it]\n",
            "               classes   top1_acc   top5_acc: 100%|██████████| 10/10 [00:12<00:00,  1.29s/it]"
          ]
        },
        {
          "metadata": {
            "tags": null
          },
          "name": "stdout",
          "output_type": "stream",
          "text": [
            "                   all      0.955          1\n"
          ]
        },
        {
          "metadata": {
            "tags": null
          },
          "name": "stderr",
          "output_type": "stream",
          "text": [
            "\n"
          ]
        },
        {
          "metadata": {
            "tags": null
          },
          "name": "stdout",
          "output_type": "stream",
          "text": [
            "\n",
            "      Epoch    GPU_mem       loss  Instances       Size\n"
          ]
        },
        {
          "metadata": {
            "tags": null
          },
          "name": "stderr",
          "output_type": "stream",
          "text": [
            "      10/50      4.42G    0.08598         32        224: 100%|██████████| 75/75 [01:20<00:00,  1.07s/it]\n",
            "               classes   top1_acc   top5_acc: 100%|██████████| 10/10 [00:13<00:00,  1.36s/it]"
          ]
        },
        {
          "metadata": {
            "tags": null
          },
          "name": "stdout",
          "output_type": "stream",
          "text": [
            "                   all       0.89          1\n"
          ]
        },
        {
          "metadata": {
            "tags": null
          },
          "name": "stderr",
          "output_type": "stream",
          "text": [
            "\n"
          ]
        },
        {
          "metadata": {
            "tags": null
          },
          "name": "stdout",
          "output_type": "stream",
          "text": [
            "\n",
            "      Epoch    GPU_mem       loss  Instances       Size\n"
          ]
        },
        {
          "metadata": {
            "tags": null
          },
          "name": "stderr",
          "output_type": "stream",
          "text": [
            "      11/50      4.62G    0.03957         32        224: 100%|██████████| 75/75 [01:21<00:00,  1.08s/it]\n",
            "               classes   top1_acc   top5_acc: 100%|██████████| 10/10 [00:12<00:00,  1.27s/it]"
          ]
        },
        {
          "metadata": {
            "tags": null
          },
          "name": "stdout",
          "output_type": "stream",
          "text": [
            "                   all       0.98          1\n"
          ]
        },
        {
          "metadata": {
            "tags": null
          },
          "name": "stderr",
          "output_type": "stream",
          "text": [
            "\n"
          ]
        },
        {
          "metadata": {
            "tags": null
          },
          "name": "stdout",
          "output_type": "stream",
          "text": [
            "\n",
            "      Epoch    GPU_mem       loss  Instances       Size\n"
          ]
        },
        {
          "metadata": {
            "tags": null
          },
          "name": "stderr",
          "output_type": "stream",
          "text": [
            "      12/50      4.68G    0.03572         32        224: 100%|██████████| 75/75 [01:21<00:00,  1.09s/it]\n",
            "               classes   top1_acc   top5_acc: 100%|██████████| 10/10 [00:13<00:00,  1.32s/it]"
          ]
        },
        {
          "metadata": {
            "tags": null
          },
          "name": "stdout",
          "output_type": "stream",
          "text": [
            "                   all       0.89          1\n"
          ]
        },
        {
          "metadata": {
            "tags": null
          },
          "name": "stderr",
          "output_type": "stream",
          "text": [
            "\n"
          ]
        },
        {
          "metadata": {
            "tags": null
          },
          "name": "stdout",
          "output_type": "stream",
          "text": [
            "\n",
            "      Epoch    GPU_mem       loss  Instances       Size\n"
          ]
        },
        {
          "metadata": {
            "tags": null
          },
          "name": "stderr",
          "output_type": "stream",
          "text": [
            "      13/50      5.07G    0.05953         32        224: 100%|██████████| 75/75 [01:23<00:00,  1.11s/it]\n",
            "               classes   top1_acc   top5_acc: 100%|██████████| 10/10 [00:13<00:00,  1.36s/it]"
          ]
        },
        {
          "metadata": {
            "tags": null
          },
          "name": "stdout",
          "output_type": "stream",
          "text": [
            "                   all      0.953          1\n"
          ]
        },
        {
          "metadata": {
            "tags": null
          },
          "name": "stderr",
          "output_type": "stream",
          "text": [
            "\n"
          ]
        },
        {
          "metadata": {
            "tags": null
          },
          "name": "stdout",
          "output_type": "stream",
          "text": [
            "\n",
            "      Epoch    GPU_mem       loss  Instances       Size\n"
          ]
        },
        {
          "metadata": {
            "tags": null
          },
          "name": "stderr",
          "output_type": "stream",
          "text": [
            "      14/50      5.12G    0.04145         32        224: 100%|██████████| 75/75 [01:19<00:00,  1.06s/it]\n",
            "               classes   top1_acc   top5_acc: 100%|██████████| 10/10 [00:11<00:00,  1.12s/it]"
          ]
        },
        {
          "metadata": {
            "tags": null
          },
          "name": "stdout",
          "output_type": "stream",
          "text": [
            "                   all      0.982          1\n"
          ]
        },
        {
          "metadata": {
            "tags": null
          },
          "name": "stderr",
          "output_type": "stream",
          "text": [
            "\n"
          ]
        },
        {
          "metadata": {
            "tags": null
          },
          "name": "stdout",
          "output_type": "stream",
          "text": [
            "\n",
            "      Epoch    GPU_mem       loss  Instances       Size\n"
          ]
        },
        {
          "metadata": {
            "tags": null
          },
          "name": "stderr",
          "output_type": "stream",
          "text": [
            "      15/50      5.32G    0.01959         32        224: 100%|██████████| 75/75 [01:22<00:00,  1.10s/it]\n",
            "               classes   top1_acc   top5_acc: 100%|██████████| 10/10 [00:12<00:00,  1.26s/it]"
          ]
        },
        {
          "metadata": {
            "tags": null
          },
          "name": "stdout",
          "output_type": "stream",
          "text": [
            "                   all      0.968          1\n"
          ]
        },
        {
          "metadata": {
            "tags": null
          },
          "name": "stderr",
          "output_type": "stream",
          "text": [
            "\n"
          ]
        },
        {
          "metadata": {
            "tags": null
          },
          "name": "stdout",
          "output_type": "stream",
          "text": [
            "\n",
            "      Epoch    GPU_mem       loss  Instances       Size\n"
          ]
        },
        {
          "metadata": {
            "tags": null
          },
          "name": "stderr",
          "output_type": "stream",
          "text": [
            "      16/50      5.38G    0.01273         32        224: 100%|██████████| 75/75 [01:21<00:00,  1.09s/it]\n",
            "               classes   top1_acc   top5_acc: 100%|██████████| 10/10 [00:12<00:00,  1.27s/it]"
          ]
        },
        {
          "metadata": {
            "tags": null
          },
          "name": "stdout",
          "output_type": "stream",
          "text": [
            "                   all          1          1\n"
          ]
        },
        {
          "metadata": {
            "tags": null
          },
          "name": "stderr",
          "output_type": "stream",
          "text": [
            "\n"
          ]
        },
        {
          "metadata": {
            "tags": null
          },
          "name": "stdout",
          "output_type": "stream",
          "text": [
            "\n",
            "      Epoch    GPU_mem       loss  Instances       Size\n"
          ]
        },
        {
          "metadata": {
            "tags": null
          },
          "name": "stderr",
          "output_type": "stream",
          "text": [
            "      17/50      5.44G     0.0189         32        224: 100%|██████████| 75/75 [01:20<00:00,  1.07s/it]\n",
            "               classes   top1_acc   top5_acc: 100%|██████████| 10/10 [00:13<00:00,  1.35s/it]"
          ]
        },
        {
          "metadata": {
            "tags": null
          },
          "name": "stdout",
          "output_type": "stream",
          "text": [
            "                   all       0.96          1\n"
          ]
        },
        {
          "metadata": {
            "tags": null
          },
          "name": "stderr",
          "output_type": "stream",
          "text": [
            "\n"
          ]
        },
        {
          "metadata": {
            "tags": null
          },
          "name": "stdout",
          "output_type": "stream",
          "text": [
            "\n",
            "      Epoch    GPU_mem       loss  Instances       Size\n"
          ]
        },
        {
          "metadata": {
            "tags": null
          },
          "name": "stderr",
          "output_type": "stream",
          "text": [
            "      18/50       5.5G   0.009999         32        224: 100%|██████████| 75/75 [01:22<00:00,  1.10s/it]\n",
            "               classes   top1_acc   top5_acc: 100%|██████████| 10/10 [00:14<00:00,  1.41s/it]"
          ]
        },
        {
          "metadata": {
            "tags": null
          },
          "name": "stdout",
          "output_type": "stream",
          "text": [
            "                   all          1          1\n"
          ]
        },
        {
          "metadata": {
            "tags": null
          },
          "name": "stderr",
          "output_type": "stream",
          "text": [
            "\n"
          ]
        },
        {
          "metadata": {
            "tags": null
          },
          "name": "stdout",
          "output_type": "stream",
          "text": [
            "\n",
            "      Epoch    GPU_mem       loss  Instances       Size\n"
          ]
        },
        {
          "metadata": {
            "tags": null
          },
          "name": "stderr",
          "output_type": "stream",
          "text": [
            "      19/50      5.77G   0.003836         32        224: 100%|██████████| 75/75 [01:22<00:00,  1.10s/it]\n",
            "               classes   top1_acc   top5_acc: 100%|██████████| 10/10 [00:14<00:00,  1.46s/it]"
          ]
        },
        {
          "metadata": {
            "tags": null
          },
          "name": "stdout",
          "output_type": "stream",
          "text": [
            "                   all          1          1\n"
          ]
        },
        {
          "metadata": {
            "tags": null
          },
          "name": "stderr",
          "output_type": "stream",
          "text": [
            "\n"
          ]
        },
        {
          "metadata": {
            "tags": null
          },
          "name": "stdout",
          "output_type": "stream",
          "text": [
            "\n",
            "      Epoch    GPU_mem       loss  Instances       Size\n"
          ]
        },
        {
          "metadata": {
            "tags": null
          },
          "name": "stderr",
          "output_type": "stream",
          "text": [
            "      20/50      5.83G    0.01264         32        224: 100%|██████████| 75/75 [01:21<00:00,  1.09s/it]\n",
            "               classes   top1_acc   top5_acc: 100%|██████████| 10/10 [00:12<00:00,  1.29s/it]"
          ]
        },
        {
          "metadata": {
            "tags": null
          },
          "name": "stdout",
          "output_type": "stream",
          "text": [
            "                   all      0.997          1\n"
          ]
        },
        {
          "metadata": {
            "tags": null
          },
          "name": "stderr",
          "output_type": "stream",
          "text": [
            "\n"
          ]
        },
        {
          "metadata": {
            "tags": null
          },
          "name": "stdout",
          "output_type": "stream",
          "text": [
            "\n",
            "      Epoch    GPU_mem       loss  Instances       Size\n"
          ]
        },
        {
          "metadata": {
            "tags": null
          },
          "name": "stderr",
          "output_type": "stream",
          "text": [
            "      21/50       6.1G    0.01413         32        224: 100%|██████████| 75/75 [01:24<00:00,  1.13s/it]\n",
            "               classes   top1_acc   top5_acc: 100%|██████████| 10/10 [00:13<00:00,  1.31s/it]"
          ]
        },
        {
          "metadata": {
            "tags": null
          },
          "name": "stdout",
          "output_type": "stream",
          "text": [
            "                   all      0.988          1\n"
          ]
        },
        {
          "metadata": {
            "tags": null
          },
          "name": "stderr",
          "output_type": "stream",
          "text": [
            "\n"
          ]
        },
        {
          "metadata": {
            "tags": null
          },
          "name": "stdout",
          "output_type": "stream",
          "text": [
            "\n",
            "      Epoch    GPU_mem       loss  Instances       Size\n"
          ]
        },
        {
          "metadata": {
            "tags": null
          },
          "name": "stderr",
          "output_type": "stream",
          "text": [
            "      22/50      6.16G    0.02166         32        224: 100%|██████████| 75/75 [01:26<00:00,  1.15s/it]\n",
            "               classes   top1_acc   top5_acc: 100%|██████████| 10/10 [00:14<00:00,  1.47s/it]"
          ]
        },
        {
          "metadata": {
            "tags": null
          },
          "name": "stdout",
          "output_type": "stream",
          "text": [
            "                   all      0.993          1\n"
          ]
        },
        {
          "metadata": {
            "tags": null
          },
          "name": "stderr",
          "output_type": "stream",
          "text": [
            "\n"
          ]
        },
        {
          "metadata": {
            "tags": null
          },
          "name": "stdout",
          "output_type": "stream",
          "text": [
            "\n",
            "      Epoch    GPU_mem       loss  Instances       Size\n"
          ]
        },
        {
          "metadata": {
            "tags": null
          },
          "name": "stderr",
          "output_type": "stream",
          "text": [
            "      23/50      6.43G    0.01569         32        224: 100%|██████████| 75/75 [01:24<00:00,  1.12s/it]\n",
            "               classes   top1_acc   top5_acc: 100%|██████████| 10/10 [00:13<00:00,  1.33s/it]"
          ]
        },
        {
          "metadata": {
            "tags": null
          },
          "name": "stdout",
          "output_type": "stream",
          "text": [
            "                   all      0.902          1\n"
          ]
        },
        {
          "metadata": {
            "tags": null
          },
          "name": "stderr",
          "output_type": "stream",
          "text": [
            "\n"
          ]
        },
        {
          "metadata": {
            "tags": null
          },
          "name": "stdout",
          "output_type": "stream",
          "text": [
            "\n",
            "      Epoch    GPU_mem       loss  Instances       Size\n"
          ]
        },
        {
          "metadata": {
            "tags": null
          },
          "name": "stderr",
          "output_type": "stream",
          "text": [
            "      24/50      6.49G   0.009808         32        224: 100%|██████████| 75/75 [01:25<00:00,  1.14s/it]\n",
            "               classes   top1_acc   top5_acc: 100%|██████████| 10/10 [00:12<00:00,  1.24s/it]"
          ]
        },
        {
          "metadata": {
            "tags": null
          },
          "name": "stdout",
          "output_type": "stream",
          "text": [
            "                   all      0.933          1\n"
          ]
        },
        {
          "metadata": {
            "tags": null
          },
          "name": "stderr",
          "output_type": "stream",
          "text": [
            "\n"
          ]
        },
        {
          "metadata": {
            "tags": null
          },
          "name": "stdout",
          "output_type": "stream",
          "text": [
            "\n",
            "      Epoch    GPU_mem       loss  Instances       Size\n"
          ]
        },
        {
          "metadata": {
            "tags": null
          },
          "name": "stderr",
          "output_type": "stream",
          "text": [
            "      25/50       6.9G    0.01291         32        224: 100%|██████████| 75/75 [01:23<00:00,  1.11s/it]\n",
            "               classes   top1_acc   top5_acc: 100%|██████████| 10/10 [00:14<00:00,  1.46s/it]"
          ]
        },
        {
          "metadata": {
            "tags": null
          },
          "name": "stdout",
          "output_type": "stream",
          "text": [
            "                   all          1          1\n"
          ]
        },
        {
          "metadata": {
            "tags": null
          },
          "name": "stderr",
          "output_type": "stream",
          "text": [
            "\n"
          ]
        },
        {
          "metadata": {
            "tags": null
          },
          "name": "stdout",
          "output_type": "stream",
          "text": [
            "\n",
            "      Epoch    GPU_mem       loss  Instances       Size\n"
          ]
        },
        {
          "metadata": {
            "tags": null
          },
          "name": "stderr",
          "output_type": "stream",
          "text": [
            "      26/50      6.96G    0.01606         32        224: 100%|██████████| 75/75 [01:24<00:00,  1.12s/it]\n",
            "               classes   top1_acc   top5_acc: 100%|██████████| 10/10 [00:13<00:00,  1.34s/it]"
          ]
        },
        {
          "metadata": {
            "tags": null
          },
          "name": "stdout",
          "output_type": "stream",
          "text": [
            "                   all      0.997          1\n"
          ]
        },
        {
          "metadata": {
            "tags": null
          },
          "name": "stderr",
          "output_type": "stream",
          "text": [
            "\n"
          ]
        },
        {
          "metadata": {
            "tags": null
          },
          "name": "stdout",
          "output_type": "stream",
          "text": [
            "\n",
            "      Epoch    GPU_mem       loss  Instances       Size\n"
          ]
        },
        {
          "metadata": {
            "tags": null
          },
          "name": "stderr",
          "output_type": "stream",
          "text": [
            "      27/50      7.02G   0.004648         32        224: 100%|██████████| 75/75 [01:24<00:00,  1.12s/it]\n",
            "               classes   top1_acc   top5_acc: 100%|██████████| 10/10 [00:12<00:00,  1.24s/it]"
          ]
        },
        {
          "metadata": {
            "tags": null
          },
          "name": "stdout",
          "output_type": "stream",
          "text": [
            "                   all      0.995          1\n"
          ]
        },
        {
          "metadata": {
            "tags": null
          },
          "name": "stderr",
          "output_type": "stream",
          "text": [
            "\n"
          ]
        },
        {
          "metadata": {
            "tags": null
          },
          "name": "stdout",
          "output_type": "stream",
          "text": [
            "\n",
            "      Epoch    GPU_mem       loss  Instances       Size\n"
          ]
        },
        {
          "metadata": {
            "tags": null
          },
          "name": "stderr",
          "output_type": "stream",
          "text": [
            "      28/50      7.07G    0.01068         32        224: 100%|██████████| 75/75 [01:26<00:00,  1.15s/it]\n",
            "               classes   top1_acc   top5_acc: 100%|██████████| 10/10 [00:12<00:00,  1.29s/it]"
          ]
        },
        {
          "metadata": {
            "tags": null
          },
          "name": "stdout",
          "output_type": "stream",
          "text": [
            "                   all      0.998          1\n"
          ]
        },
        {
          "metadata": {
            "tags": null
          },
          "name": "stderr",
          "output_type": "stream",
          "text": [
            "\n"
          ]
        },
        {
          "metadata": {
            "tags": null
          },
          "name": "stdout",
          "output_type": "stream",
          "text": [
            "\n",
            "      Epoch    GPU_mem       loss  Instances       Size\n"
          ]
        },
        {
          "metadata": {
            "tags": null
          },
          "name": "stderr",
          "output_type": "stream",
          "text": [
            "      29/50      7.35G    0.00543         32        224: 100%|██████████| 75/75 [01:21<00:00,  1.09s/it]\n",
            "               classes   top1_acc   top5_acc: 100%|██████████| 10/10 [00:14<00:00,  1.41s/it]"
          ]
        },
        {
          "metadata": {
            "tags": null
          },
          "name": "stdout",
          "output_type": "stream",
          "text": [
            "                   all          1          1\n"
          ]
        },
        {
          "metadata": {
            "tags": null
          },
          "name": "stderr",
          "output_type": "stream",
          "text": [
            "\n"
          ]
        },
        {
          "metadata": {
            "tags": null
          },
          "name": "stdout",
          "output_type": "stream",
          "text": [
            "\n",
            "      Epoch    GPU_mem       loss  Instances       Size\n"
          ]
        },
        {
          "metadata": {
            "tags": null
          },
          "name": "stderr",
          "output_type": "stream",
          "text": [
            "      30/50      7.41G    0.01179         32        224: 100%|██████████| 75/75 [01:23<00:00,  1.11s/it]\n",
            "               classes   top1_acc   top5_acc: 100%|██████████| 10/10 [00:16<00:00,  1.64s/it]"
          ]
        },
        {
          "metadata": {
            "tags": null
          },
          "name": "stdout",
          "output_type": "stream",
          "text": [
            "                   all       0.98          1\n"
          ]
        },
        {
          "metadata": {
            "tags": null
          },
          "name": "stderr",
          "output_type": "stream",
          "text": [
            "\n"
          ]
        },
        {
          "metadata": {
            "tags": null
          },
          "name": "stdout",
          "output_type": "stream",
          "text": [
            "\n",
            "      Epoch    GPU_mem       loss  Instances       Size\n"
          ]
        },
        {
          "metadata": {
            "tags": null
          },
          "name": "stderr",
          "output_type": "stream",
          "text": [
            "      31/50      7.68G   0.005203         32        224: 100%|██████████| 75/75 [01:26<00:00,  1.15s/it]\n",
            "               classes   top1_acc   top5_acc: 100%|██████████| 10/10 [00:11<00:00,  1.14s/it]"
          ]
        },
        {
          "metadata": {
            "tags": null
          },
          "name": "stdout",
          "output_type": "stream",
          "text": [
            "                   all          1          1\n"
          ]
        },
        {
          "metadata": {
            "tags": null
          },
          "name": "stderr",
          "output_type": "stream",
          "text": [
            "\n"
          ]
        },
        {
          "metadata": {
            "tags": null
          },
          "name": "stdout",
          "output_type": "stream",
          "text": [
            "\n",
            "      Epoch    GPU_mem       loss  Instances       Size\n"
          ]
        },
        {
          "metadata": {
            "tags": null
          },
          "name": "stderr",
          "output_type": "stream",
          "text": [
            "      32/50      7.74G   0.002793         32        224: 100%|██████████| 75/75 [01:24<00:00,  1.13s/it]\n",
            "               classes   top1_acc   top5_acc: 100%|██████████| 10/10 [00:13<00:00,  1.37s/it]"
          ]
        },
        {
          "metadata": {
            "tags": null
          },
          "name": "stdout",
          "output_type": "stream",
          "text": [
            "                   all      0.998          1\n"
          ]
        },
        {
          "metadata": {
            "tags": null
          },
          "name": "stderr",
          "output_type": "stream",
          "text": [
            "\n"
          ]
        },
        {
          "metadata": {
            "tags": null
          },
          "name": "stdout",
          "output_type": "stream",
          "text": [
            "\n",
            "      Epoch    GPU_mem       loss  Instances       Size\n"
          ]
        },
        {
          "metadata": {
            "tags": null
          },
          "name": "stderr",
          "output_type": "stream",
          "text": [
            "      33/50      8.01G   0.003021         32        224: 100%|██████████| 75/75 [01:25<00:00,  1.14s/it]\n",
            "               classes   top1_acc   top5_acc: 100%|██████████| 10/10 [00:13<00:00,  1.30s/it]"
          ]
        },
        {
          "metadata": {
            "tags": null
          },
          "name": "stdout",
          "output_type": "stream",
          "text": [
            "                   all      0.838          1\n"
          ]
        },
        {
          "metadata": {
            "tags": null
          },
          "name": "stderr",
          "output_type": "stream",
          "text": [
            "\n"
          ]
        },
        {
          "metadata": {
            "tags": null
          },
          "name": "stdout",
          "output_type": "stream",
          "text": [
            "\n",
            "      Epoch    GPU_mem       loss  Instances       Size\n"
          ]
        },
        {
          "metadata": {
            "tags": null
          },
          "name": "stderr",
          "output_type": "stream",
          "text": [
            "      34/50      8.07G   0.005805         32        224: 100%|██████████| 75/75 [01:25<00:00,  1.14s/it]\n",
            "               classes   top1_acc   top5_acc: 100%|██████████| 10/10 [00:13<00:00,  1.32s/it]"
          ]
        },
        {
          "metadata": {
            "tags": null
          },
          "name": "stdout",
          "output_type": "stream",
          "text": [
            "                   all       0.99          1\n"
          ]
        },
        {
          "metadata": {
            "tags": null
          },
          "name": "stderr",
          "output_type": "stream",
          "text": [
            "\n"
          ]
        },
        {
          "metadata": {
            "tags": null
          },
          "name": "stdout",
          "output_type": "stream",
          "text": [
            "\n",
            "      Epoch    GPU_mem       loss  Instances       Size\n"
          ]
        },
        {
          "metadata": {
            "tags": null
          },
          "name": "stderr",
          "output_type": "stream",
          "text": [
            "      35/50      8.34G   0.007005         32        224: 100%|██████████| 75/75 [01:24<00:00,  1.13s/it]\n",
            "               classes   top1_acc   top5_acc: 100%|██████████| 10/10 [00:12<00:00,  1.26s/it]"
          ]
        },
        {
          "metadata": {
            "tags": null
          },
          "name": "stdout",
          "output_type": "stream",
          "text": [
            "                   all      0.993          1\n"
          ]
        },
        {
          "metadata": {
            "tags": null
          },
          "name": "stderr",
          "output_type": "stream",
          "text": [
            "\n"
          ]
        },
        {
          "metadata": {
            "tags": null
          },
          "name": "stdout",
          "output_type": "stream",
          "text": [
            "\n",
            "      Epoch    GPU_mem       loss  Instances       Size\n"
          ]
        },
        {
          "metadata": {
            "tags": null
          },
          "name": "stderr",
          "output_type": "stream",
          "text": [
            "      36/50       8.4G   0.003944         32        224: 100%|██████████| 75/75 [01:21<00:00,  1.09s/it]\n",
            "               classes   top1_acc   top5_acc: 100%|██████████| 10/10 [00:15<00:00,  1.52s/it]"
          ]
        },
        {
          "metadata": {
            "tags": null
          },
          "name": "stdout",
          "output_type": "stream",
          "text": [
            "                   all      0.998          1\n"
          ]
        },
        {
          "metadata": {
            "tags": null
          },
          "name": "stderr",
          "output_type": "stream",
          "text": [
            "\n"
          ]
        },
        {
          "metadata": {
            "tags": null
          },
          "name": "stdout",
          "output_type": "stream",
          "text": [
            "\n",
            "      Epoch    GPU_mem       loss  Instances       Size\n"
          ]
        },
        {
          "metadata": {
            "tags": null
          },
          "name": "stderr",
          "output_type": "stream",
          "text": [
            "      37/50      8.67G   0.003361         32        224: 100%|██████████| 75/75 [01:23<00:00,  1.12s/it]\n",
            "               classes   top1_acc   top5_acc: 100%|██████████| 10/10 [00:13<00:00,  1.35s/it]"
          ]
        },
        {
          "metadata": {
            "tags": null
          },
          "name": "stdout",
          "output_type": "stream",
          "text": [
            "                   all      0.963          1\n"
          ]
        },
        {
          "metadata": {
            "tags": null
          },
          "name": "stderr",
          "output_type": "stream",
          "text": [
            "\n"
          ]
        },
        {
          "metadata": {
            "tags": null
          },
          "name": "stdout",
          "output_type": "stream",
          "text": [
            "\n",
            "      Epoch    GPU_mem       loss  Instances       Size\n"
          ]
        },
        {
          "metadata": {
            "tags": null
          },
          "name": "stderr",
          "output_type": "stream",
          "text": [
            "      38/50      8.73G   0.009212         32        224: 100%|██████████| 75/75 [01:21<00:00,  1.09s/it]\n",
            "               classes   top1_acc   top5_acc: 100%|██████████| 10/10 [00:14<00:00,  1.43s/it]"
          ]
        },
        {
          "metadata": {
            "tags": null
          },
          "name": "stdout",
          "output_type": "stream",
          "text": [
            "                   all       0.91          1\n"
          ]
        },
        {
          "metadata": {
            "tags": null
          },
          "name": "stderr",
          "output_type": "stream",
          "text": [
            "\n"
          ]
        },
        {
          "metadata": {
            "tags": null
          },
          "name": "stdout",
          "output_type": "stream",
          "text": [
            "\n",
            "      Epoch    GPU_mem       loss  Instances       Size\n"
          ]
        },
        {
          "metadata": {
            "tags": null
          },
          "name": "stderr",
          "output_type": "stream",
          "text": [
            "      39/50         9G    0.00896         32        224: 100%|██████████| 75/75 [01:21<00:00,  1.09s/it]\n",
            "               classes   top1_acc   top5_acc: 100%|██████████| 10/10 [00:12<00:00,  1.30s/it]"
          ]
        },
        {
          "metadata": {
            "tags": null
          },
          "name": "stdout",
          "output_type": "stream",
          "text": [
            "                   all      0.945          1\n"
          ]
        },
        {
          "metadata": {
            "tags": null
          },
          "name": "stderr",
          "output_type": "stream",
          "text": [
            "\n"
          ]
        },
        {
          "metadata": {
            "tags": null
          },
          "name": "stdout",
          "output_type": "stream",
          "text": [
            "\n",
            "      Epoch    GPU_mem       loss  Instances       Size\n"
          ]
        },
        {
          "metadata": {
            "tags": null
          },
          "name": "stderr",
          "output_type": "stream",
          "text": [
            "      40/50      9.06G   0.002906         32        224: 100%|██████████| 75/75 [01:22<00:00,  1.11s/it]\n",
            "               classes   top1_acc   top5_acc: 100%|██████████| 10/10 [00:11<00:00,  1.10s/it]"
          ]
        },
        {
          "metadata": {
            "tags": null
          },
          "name": "stdout",
          "output_type": "stream",
          "text": [
            "                   all       0.99          1\n"
          ]
        },
        {
          "metadata": {
            "tags": null
          },
          "name": "stderr",
          "output_type": "stream",
          "text": [
            "\n"
          ]
        },
        {
          "metadata": {
            "tags": null
          },
          "name": "stdout",
          "output_type": "stream",
          "text": [
            "\n",
            "      Epoch    GPU_mem       loss  Instances       Size\n"
          ]
        },
        {
          "metadata": {
            "tags": null
          },
          "name": "stderr",
          "output_type": "stream",
          "text": [
            "      41/50      9.33G   0.002968         32        224: 100%|██████████| 75/75 [01:23<00:00,  1.12s/it]\n",
            "               classes   top1_acc   top5_acc: 100%|██████████| 10/10 [00:12<00:00,  1.27s/it]"
          ]
        },
        {
          "metadata": {
            "tags": null
          },
          "name": "stdout",
          "output_type": "stream",
          "text": [
            "                   all          1          1\n"
          ]
        },
        {
          "metadata": {
            "tags": null
          },
          "name": "stderr",
          "output_type": "stream",
          "text": [
            "\n"
          ]
        },
        {
          "metadata": {
            "tags": null
          },
          "name": "stdout",
          "output_type": "stream",
          "text": [
            "\n",
            "      Epoch    GPU_mem       loss  Instances       Size\n"
          ]
        },
        {
          "metadata": {
            "tags": null
          },
          "name": "stderr",
          "output_type": "stream",
          "text": [
            "      42/50      9.39G   0.005358         32        224: 100%|██████████| 75/75 [01:22<00:00,  1.10s/it]\n",
            "               classes   top1_acc   top5_acc: 100%|██████████| 10/10 [00:11<00:00,  1.18s/it]"
          ]
        },
        {
          "metadata": {
            "tags": null
          },
          "name": "stdout",
          "output_type": "stream",
          "text": [
            "                   all          1          1\n"
          ]
        },
        {
          "metadata": {
            "tags": null
          },
          "name": "stderr",
          "output_type": "stream",
          "text": [
            "\n"
          ]
        },
        {
          "metadata": {
            "tags": null
          },
          "name": "stdout",
          "output_type": "stream",
          "text": [
            "\n",
            "      Epoch    GPU_mem       loss  Instances       Size\n"
          ]
        },
        {
          "metadata": {
            "tags": null
          },
          "name": "stderr",
          "output_type": "stream",
          "text": [
            "      43/50      9.66G  0.0007279         32        224: 100%|██████████| 75/75 [01:21<00:00,  1.09s/it]\n",
            "               classes   top1_acc   top5_acc: 100%|██████████| 10/10 [00:13<00:00,  1.34s/it]"
          ]
        },
        {
          "metadata": {
            "tags": null
          },
          "name": "stdout",
          "output_type": "stream",
          "text": [
            "                   all          1          1\n"
          ]
        },
        {
          "metadata": {
            "tags": null
          },
          "name": "stderr",
          "output_type": "stream",
          "text": [
            "\n"
          ]
        },
        {
          "metadata": {
            "tags": null
          },
          "name": "stdout",
          "output_type": "stream",
          "text": [
            "\n",
            "      Epoch    GPU_mem       loss  Instances       Size\n"
          ]
        },
        {
          "metadata": {
            "tags": null
          },
          "name": "stderr",
          "output_type": "stream",
          "text": [
            "      44/50      9.72G   0.002391         32        224: 100%|██████████| 75/75 [01:23<00:00,  1.11s/it]\n",
            "               classes   top1_acc   top5_acc: 100%|██████████| 10/10 [00:12<00:00,  1.24s/it]"
          ]
        },
        {
          "metadata": {
            "tags": null
          },
          "name": "stdout",
          "output_type": "stream",
          "text": [
            "                   all          1          1\n"
          ]
        },
        {
          "metadata": {
            "tags": null
          },
          "name": "stderr",
          "output_type": "stream",
          "text": [
            "\n"
          ]
        },
        {
          "metadata": {
            "tags": null
          },
          "name": "stdout",
          "output_type": "stream",
          "text": [
            "\n",
            "      Epoch    GPU_mem       loss  Instances       Size\n"
          ]
        },
        {
          "output_type": "stream",
          "name": "stderr",
          "text": [
            "      45/50      9.99G   0.002084         32        224: 100%|██████████| 75/75 [01:21<00:00,  1.08s/it]\n",
            "               classes   top1_acc   top5_acc: 100%|██████████| 10/10 [00:12<00:00,  1.21s/it]"
          ]
        },
        {
          "output_type": "stream",
          "name": "stdout",
          "text": [
            "                   all      0.998          1\n"
          ]
        },
        {
          "output_type": "stream",
          "name": "stderr",
          "text": [
            "\n"
          ]
        },
        {
          "output_type": "stream",
          "name": "stdout",
          "text": [
            "\n",
            "      Epoch    GPU_mem       loss  Instances       Size\n"
          ]
        },
        {
          "output_type": "stream",
          "name": "stderr",
          "text": [
            "      46/50      10.1G   0.001517         32        224: 100%|██████████| 75/75 [01:19<00:00,  1.06s/it]\n",
            "               classes   top1_acc   top5_acc: 100%|██████████| 10/10 [00:15<00:00,  1.53s/it]"
          ]
        },
        {
          "output_type": "stream",
          "name": "stdout",
          "text": [
            "                   all          1          1\n"
          ]
        },
        {
          "output_type": "stream",
          "name": "stderr",
          "text": [
            "\n"
          ]
        },
        {
          "output_type": "stream",
          "name": "stdout",
          "text": [
            "\n",
            "      Epoch    GPU_mem       loss  Instances       Size\n"
          ]
        },
        {
          "output_type": "stream",
          "name": "stderr",
          "text": [
            "      47/50      10.4G   0.002433         32        224: 100%|██████████| 75/75 [01:20<00:00,  1.08s/it]\n",
            "               classes   top1_acc   top5_acc: 100%|██████████| 10/10 [00:12<00:00,  1.27s/it]"
          ]
        },
        {
          "output_type": "stream",
          "name": "stdout",
          "text": [
            "                   all      0.998          1\n"
          ]
        },
        {
          "output_type": "stream",
          "name": "stderr",
          "text": [
            "\n"
          ]
        },
        {
          "output_type": "stream",
          "name": "stdout",
          "text": [
            "\n",
            "      Epoch    GPU_mem       loss  Instances       Size\n"
          ]
        },
        {
          "output_type": "stream",
          "name": "stderr",
          "text": [
            "      48/50      10.5G   0.001018         32        224: 100%|██████████| 75/75 [01:19<00:00,  1.06s/it]\n",
            "               classes   top1_acc   top5_acc: 100%|██████████| 10/10 [00:13<00:00,  1.37s/it]"
          ]
        },
        {
          "output_type": "stream",
          "name": "stdout",
          "text": [
            "                   all      0.998          1\n"
          ]
        },
        {
          "output_type": "stream",
          "name": "stderr",
          "text": [
            "\n"
          ]
        },
        {
          "output_type": "stream",
          "name": "stdout",
          "text": [
            "\n",
            "      Epoch    GPU_mem       loss  Instances       Size\n"
          ]
        },
        {
          "output_type": "stream",
          "name": "stderr",
          "text": [
            "      49/50      10.9G  0.0004546         32        224: 100%|██████████| 75/75 [01:23<00:00,  1.11s/it]\n",
            "               classes   top1_acc   top5_acc: 100%|██████████| 10/10 [00:10<00:00,  1.09s/it]"
          ]
        },
        {
          "output_type": "stream",
          "name": "stdout",
          "text": [
            "                   all      0.998          1\n"
          ]
        },
        {
          "output_type": "stream",
          "name": "stderr",
          "text": [
            "\n"
          ]
        },
        {
          "output_type": "stream",
          "name": "stdout",
          "text": [
            "\n",
            "      Epoch    GPU_mem       loss  Instances       Size\n"
          ]
        },
        {
          "output_type": "stream",
          "name": "stderr",
          "text": [
            "      50/50        11G   0.001299         32        224: 100%|██████████| 75/75 [01:21<00:00,  1.09s/it]\n",
            "               classes   top1_acc   top5_acc: 100%|██████████| 10/10 [00:13<00:00,  1.36s/it]"
          ]
        },
        {
          "output_type": "stream",
          "name": "stdout",
          "text": [
            "                   all      0.998          1\n"
          ]
        },
        {
          "output_type": "stream",
          "name": "stderr",
          "text": [
            "\n"
          ]
        },
        {
          "output_type": "stream",
          "name": "stdout",
          "text": [
            "\n",
            "50 epochs completed in 1.369 hours.\n",
            "Optimizer stripped from runs/classify/train/weights/last.pt, 57.0MB\n",
            "Optimizer stripped from runs/classify/train/weights/best.pt, 57.0MB\n",
            "\n",
            "Validating runs/classify/train/weights/best.pt...\n",
            "Ultralytics 8.3.100 🚀 Python-3.11.11 torch-2.6.0+cu124 CUDA:0 (Tesla T4, 15095MiB)\n",
            "YOLO11x-cls summary (fused): 94 layers, 28,334,978 parameters, 0 gradients, 110.3 GFLOPs\n",
            "WARNING ⚠️ Dataset 'split=val' not found, using 'split=test' instead.\n",
            "\u001b[34m\u001b[1mtrain:\u001b[0m /content/dataset/train... found 2400 images in 2 classes ✅ \n",
            "\u001b[34m\u001b[1mval:\u001b[0m /content/dataset/test... found 600 images in 2 classes ✅ \n",
            "\u001b[34m\u001b[1mtest:\u001b[0m /content/dataset/test... found 600 images in 2 classes ✅ \n"
          ]
        },
        {
          "output_type": "stream",
          "name": "stderr",
          "text": [
            "               classes   top1_acc   top5_acc: 100%|██████████| 10/10 [00:14<00:00,  1.43s/it]\n"
          ]
        },
        {
          "output_type": "stream",
          "name": "stdout",
          "text": [
            "                   all          1          1\n",
            "Speed: 0.1ms preprocess, 2.0ms inference, 0.0ms loss, 0.0ms postprocess per image\n",
            "Results saved to \u001b[1mruns/classify/train\u001b[0m\n"
          ]
        },
        {
          "output_type": "execute_result",
          "data": {
            "text/plain": [
              "ultralytics.utils.metrics.ClassifyMetrics object with attributes:\n",
              "\n",
              "confusion_matrix: <ultralytics.utils.metrics.ConfusionMatrix object at 0x7eada74b8150>\n",
              "curves: []\n",
              "curves_results: []\n",
              "fitness: 1.0\n",
              "keys: ['metrics/accuracy_top1', 'metrics/accuracy_top5']\n",
              "results_dict: {'metrics/accuracy_top1': 1.0, 'metrics/accuracy_top5': 1.0, 'fitness': 1.0}\n",
              "save_dir: PosixPath('runs/classify/train')\n",
              "speed: {'preprocess': 0.06813116333281262, 'inference': 2.0213149849981464, 'loss': 0.00020557666478756193, 'postprocess': 0.0005026749947016167}\n",
              "task: 'classify'\n",
              "top1: 1.0\n",
              "top5: 1.0"
            ]
          },
          "metadata": {},
          "execution_count": 5
        }
      ]
    },
    {
      "cell_type": "code",
      "source": [
        "!cp -r /content/runs/classify/train /content/drive/MyDrive/Yolo_Training_Results/\n"
      ],
      "metadata": {
        "id": "04wm9Dc3uWxi"
      },
      "execution_count": null,
      "outputs": []
    },
    {
      "cell_type": "code",
      "source": [
        "!zip -r /content/drive/MyDrive/Yolo_Training_Results/training_results.zip /content/runs/classify/train/\n"
      ],
      "metadata": {
        "colab": {
          "base_uri": "https://localhost:8080/"
        },
        "id": "GcJY2-28Bjj6",
        "outputId": "34c9f256-9a15-4987-8749-f0679128ce81"
      },
      "execution_count": null,
      "outputs": [
        {
          "output_type": "stream",
          "name": "stdout",
          "text": [
            "  adding: content/runs/classify/train/ (stored 0%)\n",
            "  adding: content/runs/classify/train/train_batch1.jpg (deflated 2%)\n",
            "  adding: content/runs/classify/train/val_batch1_labels.jpg (deflated 2%)\n",
            "  adding: content/runs/classify/train/results.png (deflated 9%)\n",
            "  adding: content/runs/classify/train/val_batch0_labels.jpg (deflated 3%)\n",
            "  adding: content/runs/classify/train/confusion_matrix.png (deflated 34%)\n",
            "  adding: content/runs/classify/train/train_batch3001.jpg (deflated 4%)\n",
            "  adding: content/runs/classify/train/results.csv (deflated 67%)\n",
            "  adding: content/runs/classify/train/events.out.tfevents.1743567590.308a8f5ef08c.397.0 (deflated 94%)\n",
            "  adding: content/runs/classify/train/confusion_matrix_normalized.png (deflated 35%)\n",
            "  adding: content/runs/classify/train/train_batch3000.jpg (deflated 4%)\n",
            "  adding: content/runs/classify/train/val_batch2_pred.jpg (deflated 2%)\n",
            "  adding: content/runs/classify/train/weights/ (stored 0%)\n",
            "  adding: content/runs/classify/train/weights/best.pt (deflated 8%)\n",
            "  adding: content/runs/classify/train/weights/last.pt (deflated 8%)\n",
            "  adding: content/runs/classify/train/train_batch3002.jpg (deflated 4%)\n",
            "  adding: content/runs/classify/train/val_batch0_pred.jpg (deflated 3%)\n",
            "  adding: content/runs/classify/train/args.yaml (deflated 53%)\n",
            "  adding: content/runs/classify/train/val_batch2_labels.jpg (deflated 2%)\n",
            "  adding: content/runs/classify/train/train_batch2.jpg (deflated 4%)\n",
            "  adding: content/runs/classify/train/train_batch0.jpg (deflated 5%)\n",
            "  adding: content/runs/classify/train/val_batch1_pred.jpg (deflated 2%)\n"
          ]
        }
      ]
    },
    {
      "cell_type": "code",
      "source": [
        "!cp \"/content/drive/MyDrive/Test-Infected.mp4\" \"/content/testinfect.mp4\"\n"
      ],
      "metadata": {
        "id": "9okmKTdpBqnM"
      },
      "execution_count": null,
      "outputs": []
    },
    {
      "cell_type": "code",
      "source": [
        "!pip install ultralytics"
      ],
      "metadata": {
        "colab": {
          "base_uri": "https://localhost:8080/"
        },
        "id": "u1nJvwKv1YwO",
        "outputId": "1145aa19-a4b0-4faa-fafa-64fc2f5a54f5"
      },
      "execution_count": null,
      "outputs": [
        {
          "output_type": "stream",
          "name": "stdout",
          "text": [
            "Collecting ultralytics\n",
            "  Downloading ultralytics-8.3.100-py3-none-any.whl.metadata (37 kB)\n",
            "Requirement already satisfied: numpy<=2.1.1,>=1.23.0 in /usr/local/lib/python3.11/dist-packages (from ultralytics) (1.26.4)\n",
            "Requirement already satisfied: matplotlib>=3.3.0 in /usr/local/lib/python3.11/dist-packages (from ultralytics) (3.10.0)\n",
            "Requirement already satisfied: opencv-python>=4.6.0 in /usr/local/lib/python3.11/dist-packages (from ultralytics) (4.11.0.86)\n",
            "Requirement already satisfied: pillow>=7.1.2 in /usr/local/lib/python3.11/dist-packages (from ultralytics) (11.1.0)\n",
            "Requirement already satisfied: pyyaml>=5.3.1 in /usr/local/lib/python3.11/dist-packages (from ultralytics) (6.0.2)\n",
            "Requirement already satisfied: requests>=2.23.0 in /usr/local/lib/python3.11/dist-packages (from ultralytics) (2.32.3)\n",
            "Requirement already satisfied: scipy>=1.4.1 in /usr/local/lib/python3.11/dist-packages (from ultralytics) (1.13.1)\n",
            "Requirement already satisfied: torch>=1.8.0 in /usr/local/lib/python3.11/dist-packages (from ultralytics) (2.5.1+cu124)\n",
            "Requirement already satisfied: torchvision>=0.9.0 in /usr/local/lib/python3.11/dist-packages (from ultralytics) (0.20.1+cu124)\n",
            "Requirement already satisfied: tqdm>=4.64.0 in /usr/local/lib/python3.11/dist-packages (from ultralytics) (4.67.1)\n",
            "Requirement already satisfied: psutil in /usr/local/lib/python3.11/dist-packages (from ultralytics) (5.9.5)\n",
            "Requirement already satisfied: py-cpuinfo in /usr/local/lib/python3.11/dist-packages (from ultralytics) (9.0.0)\n",
            "Requirement already satisfied: pandas>=1.1.4 in /usr/local/lib/python3.11/dist-packages (from ultralytics) (2.2.2)\n",
            "Requirement already satisfied: seaborn>=0.11.0 in /usr/local/lib/python3.11/dist-packages (from ultralytics) (0.13.2)\n",
            "Collecting ultralytics-thop>=2.0.0 (from ultralytics)\n",
            "  Downloading ultralytics_thop-2.0.14-py3-none-any.whl.metadata (9.4 kB)\n",
            "Requirement already satisfied: contourpy>=1.0.1 in /usr/local/lib/python3.11/dist-packages (from matplotlib>=3.3.0->ultralytics) (1.3.1)\n",
            "Requirement already satisfied: cycler>=0.10 in /usr/local/lib/python3.11/dist-packages (from matplotlib>=3.3.0->ultralytics) (0.12.1)\n",
            "Requirement already satisfied: fonttools>=4.22.0 in /usr/local/lib/python3.11/dist-packages (from matplotlib>=3.3.0->ultralytics) (4.56.0)\n",
            "Requirement already satisfied: kiwisolver>=1.3.1 in /usr/local/lib/python3.11/dist-packages (from matplotlib>=3.3.0->ultralytics) (1.4.8)\n",
            "Requirement already satisfied: packaging>=20.0 in /usr/local/lib/python3.11/dist-packages (from matplotlib>=3.3.0->ultralytics) (24.2)\n",
            "Requirement already satisfied: pyparsing>=2.3.1 in /usr/local/lib/python3.11/dist-packages (from matplotlib>=3.3.0->ultralytics) (3.2.1)\n",
            "Requirement already satisfied: python-dateutil>=2.7 in /usr/local/lib/python3.11/dist-packages (from matplotlib>=3.3.0->ultralytics) (2.8.2)\n",
            "Requirement already satisfied: pytz>=2020.1 in /usr/local/lib/python3.11/dist-packages (from pandas>=1.1.4->ultralytics) (2025.1)\n",
            "Requirement already satisfied: tzdata>=2022.7 in /usr/local/lib/python3.11/dist-packages (from pandas>=1.1.4->ultralytics) (2025.1)\n",
            "Requirement already satisfied: charset-normalizer<4,>=2 in /usr/local/lib/python3.11/dist-packages (from requests>=2.23.0->ultralytics) (3.4.1)\n",
            "Requirement already satisfied: idna<4,>=2.5 in /usr/local/lib/python3.11/dist-packages (from requests>=2.23.0->ultralytics) (3.10)\n",
            "Requirement already satisfied: urllib3<3,>=1.21.1 in /usr/local/lib/python3.11/dist-packages (from requests>=2.23.0->ultralytics) (2.3.0)\n",
            "Requirement already satisfied: certifi>=2017.4.17 in /usr/local/lib/python3.11/dist-packages (from requests>=2.23.0->ultralytics) (2025.1.31)\n",
            "Requirement already satisfied: filelock in /usr/local/lib/python3.11/dist-packages (from torch>=1.8.0->ultralytics) (3.17.0)\n",
            "Requirement already satisfied: typing-extensions>=4.8.0 in /usr/local/lib/python3.11/dist-packages (from torch>=1.8.0->ultralytics) (4.12.2)\n",
            "Requirement already satisfied: networkx in /usr/local/lib/python3.11/dist-packages (from torch>=1.8.0->ultralytics) (3.4.2)\n",
            "Requirement already satisfied: jinja2 in /usr/local/lib/python3.11/dist-packages (from torch>=1.8.0->ultralytics) (3.1.5)\n",
            "Requirement already satisfied: fsspec in /usr/local/lib/python3.11/dist-packages (from torch>=1.8.0->ultralytics) (2024.10.0)\n",
            "Collecting nvidia-cuda-nvrtc-cu12==12.4.127 (from torch>=1.8.0->ultralytics)\n",
            "  Downloading nvidia_cuda_nvrtc_cu12-12.4.127-py3-none-manylinux2014_x86_64.whl.metadata (1.5 kB)\n",
            "Collecting nvidia-cuda-runtime-cu12==12.4.127 (from torch>=1.8.0->ultralytics)\n",
            "  Downloading nvidia_cuda_runtime_cu12-12.4.127-py3-none-manylinux2014_x86_64.whl.metadata (1.5 kB)\n",
            "Collecting nvidia-cuda-cupti-cu12==12.4.127 (from torch>=1.8.0->ultralytics)\n",
            "  Downloading nvidia_cuda_cupti_cu12-12.4.127-py3-none-manylinux2014_x86_64.whl.metadata (1.6 kB)\n",
            "Collecting nvidia-cudnn-cu12==9.1.0.70 (from torch>=1.8.0->ultralytics)\n",
            "  Downloading nvidia_cudnn_cu12-9.1.0.70-py3-none-manylinux2014_x86_64.whl.metadata (1.6 kB)\n",
            "Collecting nvidia-cublas-cu12==12.4.5.8 (from torch>=1.8.0->ultralytics)\n",
            "  Downloading nvidia_cublas_cu12-12.4.5.8-py3-none-manylinux2014_x86_64.whl.metadata (1.5 kB)\n",
            "Collecting nvidia-cufft-cu12==11.2.1.3 (from torch>=1.8.0->ultralytics)\n",
            "  Downloading nvidia_cufft_cu12-11.2.1.3-py3-none-manylinux2014_x86_64.whl.metadata (1.5 kB)\n",
            "Collecting nvidia-curand-cu12==10.3.5.147 (from torch>=1.8.0->ultralytics)\n",
            "  Downloading nvidia_curand_cu12-10.3.5.147-py3-none-manylinux2014_x86_64.whl.metadata (1.5 kB)\n",
            "Collecting nvidia-cusolver-cu12==11.6.1.9 (from torch>=1.8.0->ultralytics)\n",
            "  Downloading nvidia_cusolver_cu12-11.6.1.9-py3-none-manylinux2014_x86_64.whl.metadata (1.6 kB)\n",
            "Collecting nvidia-cusparse-cu12==12.3.1.170 (from torch>=1.8.0->ultralytics)\n",
            "  Downloading nvidia_cusparse_cu12-12.3.1.170-py3-none-manylinux2014_x86_64.whl.metadata (1.6 kB)\n",
            "Requirement already satisfied: nvidia-nccl-cu12==2.21.5 in /usr/local/lib/python3.11/dist-packages (from torch>=1.8.0->ultralytics) (2.21.5)\n",
            "Requirement already satisfied: nvidia-nvtx-cu12==12.4.127 in /usr/local/lib/python3.11/dist-packages (from torch>=1.8.0->ultralytics) (12.4.127)\n",
            "Collecting nvidia-nvjitlink-cu12==12.4.127 (from torch>=1.8.0->ultralytics)\n",
            "  Downloading nvidia_nvjitlink_cu12-12.4.127-py3-none-manylinux2014_x86_64.whl.metadata (1.5 kB)\n",
            "Requirement already satisfied: triton==3.1.0 in /usr/local/lib/python3.11/dist-packages (from torch>=1.8.0->ultralytics) (3.1.0)\n",
            "Requirement already satisfied: sympy==1.13.1 in /usr/local/lib/python3.11/dist-packages (from torch>=1.8.0->ultralytics) (1.13.1)\n",
            "Requirement already satisfied: mpmath<1.4,>=1.1.0 in /usr/local/lib/python3.11/dist-packages (from sympy==1.13.1->torch>=1.8.0->ultralytics) (1.3.0)\n",
            "Requirement already satisfied: six>=1.5 in /usr/local/lib/python3.11/dist-packages (from python-dateutil>=2.7->matplotlib>=3.3.0->ultralytics) (1.17.0)\n",
            "Requirement already satisfied: MarkupSafe>=2.0 in /usr/local/lib/python3.11/dist-packages (from jinja2->torch>=1.8.0->ultralytics) (3.0.2)\n",
            "Downloading ultralytics-8.3.100-py3-none-any.whl (977 kB)\n",
            "\u001b[2K   \u001b[90m━━━━━━━━━━━━━━━━━━━━━━━━━━━━━━━━━━━━━━━━\u001b[0m \u001b[32m977.1/977.1 kB\u001b[0m \u001b[31m51.2 MB/s\u001b[0m eta \u001b[36m0:00:00\u001b[0m\n",
            "\u001b[?25hDownloading nvidia_cublas_cu12-12.4.5.8-py3-none-manylinux2014_x86_64.whl (363.4 MB)\n",
            "\u001b[2K   \u001b[90m━━━━━━━━━━━━━━━━━━━━━━━━━━━━━━━━━━━━━━━━\u001b[0m \u001b[32m363.4/363.4 MB\u001b[0m \u001b[31m3.9 MB/s\u001b[0m eta \u001b[36m0:00:00\u001b[0m\n",
            "\u001b[?25hDownloading nvidia_cuda_cupti_cu12-12.4.127-py3-none-manylinux2014_x86_64.whl (13.8 MB)\n",
            "\u001b[2K   \u001b[90m━━━━━━━━━━━━━━━━━━━━━━━━━━━━━━━━━━━━━━━━\u001b[0m \u001b[32m13.8/13.8 MB\u001b[0m \u001b[31m113.9 MB/s\u001b[0m eta \u001b[36m0:00:00\u001b[0m\n",
            "\u001b[?25hDownloading nvidia_cuda_nvrtc_cu12-12.4.127-py3-none-manylinux2014_x86_64.whl (24.6 MB)\n",
            "\u001b[2K   \u001b[90m━━━━━━━━━━━━━━━━━━━━━━━━━━━━━━━━━━━━━━━━\u001b[0m \u001b[32m24.6/24.6 MB\u001b[0m \u001b[31m81.2 MB/s\u001b[0m eta \u001b[36m0:00:00\u001b[0m\n",
            "\u001b[?25hDownloading nvidia_cuda_runtime_cu12-12.4.127-py3-none-manylinux2014_x86_64.whl (883 kB)\n",
            "\u001b[2K   \u001b[90m━━━━━━━━━━━━━━━━━━━━━━━━━━━━━━━━━━━━━━━━\u001b[0m \u001b[32m883.7/883.7 kB\u001b[0m \u001b[31m53.8 MB/s\u001b[0m eta \u001b[36m0:00:00\u001b[0m\n",
            "\u001b[?25hDownloading nvidia_cudnn_cu12-9.1.0.70-py3-none-manylinux2014_x86_64.whl (664.8 MB)\n",
            "\u001b[2K   \u001b[90m━━━━━━━━━━━━━━━━━━━━━━━━━━━━━━━━━━━━━━━━\u001b[0m \u001b[32m664.8/664.8 MB\u001b[0m \u001b[31m846.0 kB/s\u001b[0m eta \u001b[36m0:00:00\u001b[0m\n",
            "\u001b[?25hDownloading nvidia_cufft_cu12-11.2.1.3-py3-none-manylinux2014_x86_64.whl (211.5 MB)\n",
            "\u001b[2K   \u001b[90m━━━━━━━━━━━━━━━━━━━━━━━━━━━━━━━━━━━━━━━━\u001b[0m \u001b[32m211.5/211.5 MB\u001b[0m \u001b[31m5.8 MB/s\u001b[0m eta \u001b[36m0:00:00\u001b[0m\n",
            "\u001b[?25hDownloading nvidia_curand_cu12-10.3.5.147-py3-none-manylinux2014_x86_64.whl (56.3 MB)\n",
            "\u001b[2K   \u001b[90m━━━━━━━━━━━━━━━━━━━━━━━━━━━━━━━━━━━━━━━━\u001b[0m \u001b[32m56.3/56.3 MB\u001b[0m \u001b[31m12.5 MB/s\u001b[0m eta \u001b[36m0:00:00\u001b[0m\n",
            "\u001b[?25hDownloading nvidia_cusolver_cu12-11.6.1.9-py3-none-manylinux2014_x86_64.whl (127.9 MB)\n",
            "\u001b[2K   \u001b[90m━━━━━━━━━━━━━━━━━━━━━━━━━━━━━━━━━━━━━━━━\u001b[0m \u001b[32m127.9/127.9 MB\u001b[0m \u001b[31m6.9 MB/s\u001b[0m eta \u001b[36m0:00:00\u001b[0m\n",
            "\u001b[?25hDownloading nvidia_cusparse_cu12-12.3.1.170-py3-none-manylinux2014_x86_64.whl (207.5 MB)\n",
            "\u001b[2K   \u001b[90m━━━━━━━━━━━━━━━━━━━━━━━━━━━━━━━━━━━━━━━━\u001b[0m \u001b[32m207.5/207.5 MB\u001b[0m \u001b[31m6.1 MB/s\u001b[0m eta \u001b[36m0:00:00\u001b[0m\n",
            "\u001b[?25hDownloading nvidia_nvjitlink_cu12-12.4.127-py3-none-manylinux2014_x86_64.whl (21.1 MB)\n",
            "\u001b[2K   \u001b[90m━━━━━━━━━━━━━━━━━━━━━━━━━━━━━━━━━━━━━━━━\u001b[0m \u001b[32m21.1/21.1 MB\u001b[0m \u001b[31m85.5 MB/s\u001b[0m eta \u001b[36m0:00:00\u001b[0m\n",
            "\u001b[?25hDownloading ultralytics_thop-2.0.14-py3-none-any.whl (26 kB)\n",
            "Installing collected packages: nvidia-nvjitlink-cu12, nvidia-curand-cu12, nvidia-cufft-cu12, nvidia-cuda-runtime-cu12, nvidia-cuda-nvrtc-cu12, nvidia-cuda-cupti-cu12, nvidia-cublas-cu12, nvidia-cusparse-cu12, nvidia-cudnn-cu12, nvidia-cusolver-cu12, ultralytics-thop, ultralytics\n",
            "  Attempting uninstall: nvidia-nvjitlink-cu12\n",
            "    Found existing installation: nvidia-nvjitlink-cu12 12.5.82\n",
            "    Uninstalling nvidia-nvjitlink-cu12-12.5.82:\n",
            "      Successfully uninstalled nvidia-nvjitlink-cu12-12.5.82\n",
            "  Attempting uninstall: nvidia-curand-cu12\n",
            "    Found existing installation: nvidia-curand-cu12 10.3.6.82\n",
            "    Uninstalling nvidia-curand-cu12-10.3.6.82:\n",
            "      Successfully uninstalled nvidia-curand-cu12-10.3.6.82\n",
            "  Attempting uninstall: nvidia-cufft-cu12\n",
            "    Found existing installation: nvidia-cufft-cu12 11.2.3.61\n",
            "    Uninstalling nvidia-cufft-cu12-11.2.3.61:\n",
            "      Successfully uninstalled nvidia-cufft-cu12-11.2.3.61\n",
            "  Attempting uninstall: nvidia-cuda-runtime-cu12\n",
            "    Found existing installation: nvidia-cuda-runtime-cu12 12.5.82\n",
            "    Uninstalling nvidia-cuda-runtime-cu12-12.5.82:\n",
            "      Successfully uninstalled nvidia-cuda-runtime-cu12-12.5.82\n",
            "  Attempting uninstall: nvidia-cuda-nvrtc-cu12\n",
            "    Found existing installation: nvidia-cuda-nvrtc-cu12 12.5.82\n",
            "    Uninstalling nvidia-cuda-nvrtc-cu12-12.5.82:\n",
            "      Successfully uninstalled nvidia-cuda-nvrtc-cu12-12.5.82\n",
            "  Attempting uninstall: nvidia-cuda-cupti-cu12\n",
            "    Found existing installation: nvidia-cuda-cupti-cu12 12.5.82\n",
            "    Uninstalling nvidia-cuda-cupti-cu12-12.5.82:\n",
            "      Successfully uninstalled nvidia-cuda-cupti-cu12-12.5.82\n",
            "  Attempting uninstall: nvidia-cublas-cu12\n",
            "    Found existing installation: nvidia-cublas-cu12 12.5.3.2\n",
            "    Uninstalling nvidia-cublas-cu12-12.5.3.2:\n",
            "      Successfully uninstalled nvidia-cublas-cu12-12.5.3.2\n",
            "  Attempting uninstall: nvidia-cusparse-cu12\n",
            "    Found existing installation: nvidia-cusparse-cu12 12.5.1.3\n",
            "    Uninstalling nvidia-cusparse-cu12-12.5.1.3:\n",
            "      Successfully uninstalled nvidia-cusparse-cu12-12.5.1.3\n",
            "  Attempting uninstall: nvidia-cudnn-cu12\n",
            "    Found existing installation: nvidia-cudnn-cu12 9.3.0.75\n",
            "    Uninstalling nvidia-cudnn-cu12-9.3.0.75:\n",
            "      Successfully uninstalled nvidia-cudnn-cu12-9.3.0.75\n",
            "  Attempting uninstall: nvidia-cusolver-cu12\n",
            "    Found existing installation: nvidia-cusolver-cu12 11.6.3.83\n",
            "    Uninstalling nvidia-cusolver-cu12-11.6.3.83:\n",
            "      Successfully uninstalled nvidia-cusolver-cu12-11.6.3.83\n",
            "Successfully installed nvidia-cublas-cu12-12.4.5.8 nvidia-cuda-cupti-cu12-12.4.127 nvidia-cuda-nvrtc-cu12-12.4.127 nvidia-cuda-runtime-cu12-12.4.127 nvidia-cudnn-cu12-9.1.0.70 nvidia-cufft-cu12-11.2.1.3 nvidia-curand-cu12-10.3.5.147 nvidia-cusolver-cu12-11.6.1.9 nvidia-cusparse-cu12-12.3.1.170 nvidia-nvjitlink-cu12-12.4.127 ultralytics-8.3.100 ultralytics-thop-2.0.14\n"
          ]
        }
      ]
    },
    {
      "cell_type": "code",
      "source": [
        "from ultralytics import YOLO\n",
        "\n",
        "# Load the trained model\n",
        "model = YOLO(\"/content/drive/MyDrive/Yolo_Training_Results/weights/best.pt\")\n",
        "\n",
        "# Run inference on the video\n",
        "results = model.predict(\"/content/drive/MyDrive/IMG_0072.MOV\", save=True, save_txt= True)\n",
        "\n",
        "print(\"this is results:\")\n",
        "print(results)\n"
      ],
      "metadata": {
        "colab": {
          "base_uri": "https://localhost:8080/"
        },
        "id": "CXarZuDw1mNF",
        "outputId": "dc5e75f5-a2d2-44a3-c426-a0a63ab52d2f"
      },
      "execution_count": null,
      "outputs": [
        {
          "output_type": "stream",
          "name": "stdout",
          "text": [
            "\n",
            "\n",
            "WARNING ⚠️ inference results will accumulate in RAM unless `stream=True` is passed, causing potential out-of-memory\n",
            "errors for large sources or long-running streams and videos. See https://docs.ultralytics.com/modes/predict/ for help.\n",
            "\n",
            "Example:\n",
            "    results = model(source=..., stream=True)  # generator of Results objects\n",
            "    for r in results:\n",
            "        boxes = r.boxes  # Boxes object for bbox outputs\n",
            "        masks = r.masks  # Masks object for segment masks outputs\n",
            "        probs = r.probs  # Class probabilities for classification outputs\n",
            "\n",
            "video 1/1 (frame 1/559) /content/drive/MyDrive/IMG_0072.MOV: 224x224 Infected 1.00, Uninfected 0.00, 13.9ms\n",
            "video 1/1 (frame 2/559) /content/drive/MyDrive/IMG_0072.MOV: 224x224 Infected 1.00, Uninfected 0.00, 13.8ms\n",
            "video 1/1 (frame 3/559) /content/drive/MyDrive/IMG_0072.MOV: 224x224 Infected 1.00, Uninfected 0.00, 15.3ms\n",
            "video 1/1 (frame 4/559) /content/drive/MyDrive/IMG_0072.MOV: 224x224 Infected 1.00, Uninfected 0.00, 13.9ms\n",
            "video 1/1 (frame 5/559) /content/drive/MyDrive/IMG_0072.MOV: 224x224 Infected 1.00, Uninfected 0.00, 13.8ms\n",
            "video 1/1 (frame 6/559) /content/drive/MyDrive/IMG_0072.MOV: 224x224 Infected 1.00, Uninfected 0.00, 13.8ms\n",
            "video 1/1 (frame 7/559) /content/drive/MyDrive/IMG_0072.MOV: 224x224 Infected 1.00, Uninfected 0.00, 14.5ms\n",
            "video 1/1 (frame 8/559) /content/drive/MyDrive/IMG_0072.MOV: 224x224 Infected 1.00, Uninfected 0.00, 13.8ms\n",
            "video 1/1 (frame 9/559) /content/drive/MyDrive/IMG_0072.MOV: 224x224 Infected 1.00, Uninfected 0.00, 13.8ms\n",
            "video 1/1 (frame 10/559) /content/drive/MyDrive/IMG_0072.MOV: 224x224 Infected 1.00, Uninfected 0.00, 13.8ms\n",
            "video 1/1 (frame 11/559) /content/drive/MyDrive/IMG_0072.MOV: 224x224 Infected 1.00, Uninfected 0.00, 14.6ms\n",
            "video 1/1 (frame 12/559) /content/drive/MyDrive/IMG_0072.MOV: 224x224 Infected 1.00, Uninfected 0.00, 13.8ms\n",
            "video 1/1 (frame 13/559) /content/drive/MyDrive/IMG_0072.MOV: 224x224 Infected 1.00, Uninfected 0.00, 13.9ms\n",
            "video 1/1 (frame 14/559) /content/drive/MyDrive/IMG_0072.MOV: 224x224 Infected 1.00, Uninfected 0.00, 13.8ms\n",
            "video 1/1 (frame 15/559) /content/drive/MyDrive/IMG_0072.MOV: 224x224 Infected 1.00, Uninfected 0.00, 22.6ms\n",
            "video 1/1 (frame 16/559) /content/drive/MyDrive/IMG_0072.MOV: 224x224 Infected 1.00, Uninfected 0.00, 13.8ms\n",
            "video 1/1 (frame 17/559) /content/drive/MyDrive/IMG_0072.MOV: 224x224 Infected 1.00, Uninfected 0.00, 13.9ms\n",
            "video 1/1 (frame 18/559) /content/drive/MyDrive/IMG_0072.MOV: 224x224 Infected 1.00, Uninfected 0.00, 13.8ms\n",
            "video 1/1 (frame 19/559) /content/drive/MyDrive/IMG_0072.MOV: 224x224 Infected 1.00, Uninfected 0.00, 16.2ms\n",
            "video 1/1 (frame 20/559) /content/drive/MyDrive/IMG_0072.MOV: 224x224 Infected 1.00, Uninfected 0.00, 13.9ms\n",
            "video 1/1 (frame 21/559) /content/drive/MyDrive/IMG_0072.MOV: 224x224 Infected 1.00, Uninfected 0.00, 13.9ms\n",
            "video 1/1 (frame 22/559) /content/drive/MyDrive/IMG_0072.MOV: 224x224 Infected 1.00, Uninfected 0.00, 13.9ms\n",
            "video 1/1 (frame 23/559) /content/drive/MyDrive/IMG_0072.MOV: 224x224 Infected 1.00, Uninfected 0.00, 14.4ms\n",
            "video 1/1 (frame 24/559) /content/drive/MyDrive/IMG_0072.MOV: 224x224 Infected 1.00, Uninfected 0.00, 14.6ms\n",
            "video 1/1 (frame 25/559) /content/drive/MyDrive/IMG_0072.MOV: 224x224 Infected 1.00, Uninfected 0.00, 13.8ms\n",
            "video 1/1 (frame 26/559) /content/drive/MyDrive/IMG_0072.MOV: 224x224 Infected 1.00, Uninfected 0.00, 13.8ms\n",
            "video 1/1 (frame 27/559) /content/drive/MyDrive/IMG_0072.MOV: 224x224 Infected 1.00, Uninfected 0.00, 16.0ms\n",
            "video 1/1 (frame 28/559) /content/drive/MyDrive/IMG_0072.MOV: 224x224 Infected 1.00, Uninfected 0.00, 14.5ms\n",
            "video 1/1 (frame 29/559) /content/drive/MyDrive/IMG_0072.MOV: 224x224 Infected 1.00, Uninfected 0.00, 13.9ms\n",
            "video 1/1 (frame 30/559) /content/drive/MyDrive/IMG_0072.MOV: 224x224 Infected 1.00, Uninfected 0.00, 13.8ms\n",
            "video 1/1 (frame 31/559) /content/drive/MyDrive/IMG_0072.MOV: 224x224 Infected 1.00, Uninfected 0.00, 14.4ms\n",
            "video 1/1 (frame 32/559) /content/drive/MyDrive/IMG_0072.MOV: 224x224 Infected 1.00, Uninfected 0.00, 13.9ms\n",
            "video 1/1 (frame 33/559) /content/drive/MyDrive/IMG_0072.MOV: 224x224 Infected 1.00, Uninfected 0.00, 13.8ms\n",
            "video 1/1 (frame 34/559) /content/drive/MyDrive/IMG_0072.MOV: 224x224 Infected 1.00, Uninfected 0.00, 13.8ms\n",
            "video 1/1 (frame 35/559) /content/drive/MyDrive/IMG_0072.MOV: 224x224 Infected 1.00, Uninfected 0.00, 13.9ms\n",
            "video 1/1 (frame 36/559) /content/drive/MyDrive/IMG_0072.MOV: 224x224 Infected 1.00, Uninfected 0.00, 13.9ms\n",
            "video 1/1 (frame 37/559) /content/drive/MyDrive/IMG_0072.MOV: 224x224 Infected 1.00, Uninfected 0.00, 13.8ms\n",
            "video 1/1 (frame 38/559) /content/drive/MyDrive/IMG_0072.MOV: 224x224 Infected 1.00, Uninfected 0.00, 13.8ms\n",
            "video 1/1 (frame 39/559) /content/drive/MyDrive/IMG_0072.MOV: 224x224 Infected 1.00, Uninfected 0.00, 14.4ms\n",
            "video 1/1 (frame 40/559) /content/drive/MyDrive/IMG_0072.MOV: 224x224 Infected 1.00, Uninfected 0.00, 14.8ms\n",
            "video 1/1 (frame 41/559) /content/drive/MyDrive/IMG_0072.MOV: 224x224 Infected 1.00, Uninfected 0.00, 15.0ms\n",
            "video 1/1 (frame 42/559) /content/drive/MyDrive/IMG_0072.MOV: 224x224 Infected 1.00, Uninfected 0.00, 13.9ms\n",
            "video 1/1 (frame 43/559) /content/drive/MyDrive/IMG_0072.MOV: 224x224 Infected 1.00, Uninfected 0.00, 14.5ms\n",
            "video 1/1 (frame 44/559) /content/drive/MyDrive/IMG_0072.MOV: 224x224 Infected 1.00, Uninfected 0.00, 14.0ms\n",
            "video 1/1 (frame 45/559) /content/drive/MyDrive/IMG_0072.MOV: 224x224 Infected 1.00, Uninfected 0.00, 13.9ms\n",
            "video 1/1 (frame 46/559) /content/drive/MyDrive/IMG_0072.MOV: 224x224 Infected 1.00, Uninfected 0.00, 13.9ms\n",
            "video 1/1 (frame 47/559) /content/drive/MyDrive/IMG_0072.MOV: 224x224 Infected 1.00, Uninfected 0.00, 15.3ms\n",
            "video 1/1 (frame 48/559) /content/drive/MyDrive/IMG_0072.MOV: 224x224 Infected 1.00, Uninfected 0.00, 13.8ms\n",
            "video 1/1 (frame 49/559) /content/drive/MyDrive/IMG_0072.MOV: 224x224 Infected 1.00, Uninfected 0.00, 13.8ms\n",
            "video 1/1 (frame 50/559) /content/drive/MyDrive/IMG_0072.MOV: 224x224 Infected 1.00, Uninfected 0.00, 13.8ms\n",
            "video 1/1 (frame 51/559) /content/drive/MyDrive/IMG_0072.MOV: 224x224 Infected 1.00, Uninfected 0.00, 14.6ms\n",
            "video 1/1 (frame 52/559) /content/drive/MyDrive/IMG_0072.MOV: 224x224 Infected 1.00, Uninfected 0.00, 13.9ms\n",
            "video 1/1 (frame 53/559) /content/drive/MyDrive/IMG_0072.MOV: 224x224 Infected 1.00, Uninfected 0.00, 13.9ms\n",
            "video 1/1 (frame 54/559) /content/drive/MyDrive/IMG_0072.MOV: 224x224 Infected 1.00, Uninfected 0.00, 14.9ms\n",
            "video 1/1 (frame 55/559) /content/drive/MyDrive/IMG_0072.MOV: 224x224 Infected 1.00, Uninfected 0.00, 13.8ms\n",
            "video 1/1 (frame 56/559) /content/drive/MyDrive/IMG_0072.MOV: 224x224 Infected 1.00, Uninfected 0.00, 13.8ms\n",
            "video 1/1 (frame 57/559) /content/drive/MyDrive/IMG_0072.MOV: 224x224 Infected 1.00, Uninfected 0.00, 13.8ms\n",
            "video 1/1 (frame 58/559) /content/drive/MyDrive/IMG_0072.MOV: 224x224 Infected 1.00, Uninfected 0.00, 13.9ms\n",
            "video 1/1 (frame 59/559) /content/drive/MyDrive/IMG_0072.MOV: 224x224 Infected 1.00, Uninfected 0.00, 14.3ms\n",
            "video 1/1 (frame 60/559) /content/drive/MyDrive/IMG_0072.MOV: 224x224 Infected 1.00, Uninfected 0.00, 13.9ms\n",
            "video 1/1 (frame 61/559) /content/drive/MyDrive/IMG_0072.MOV: 224x224 Infected 1.00, Uninfected 0.00, 13.9ms\n",
            "video 1/1 (frame 62/559) /content/drive/MyDrive/IMG_0072.MOV: 224x224 Infected 1.00, Uninfected 0.00, 13.8ms\n",
            "video 1/1 (frame 63/559) /content/drive/MyDrive/IMG_0072.MOV: 224x224 Infected 1.00, Uninfected 0.00, 14.5ms\n",
            "video 1/1 (frame 64/559) /content/drive/MyDrive/IMG_0072.MOV: 224x224 Infected 1.00, Uninfected 0.00, 13.9ms\n",
            "video 1/1 (frame 65/559) /content/drive/MyDrive/IMG_0072.MOV: 224x224 Infected 1.00, Uninfected 0.00, 14.8ms\n",
            "video 1/1 (frame 66/559) /content/drive/MyDrive/IMG_0072.MOV: 224x224 Infected 1.00, Uninfected 0.00, 13.8ms\n",
            "video 1/1 (frame 67/559) /content/drive/MyDrive/IMG_0072.MOV: 224x224 Infected 1.00, Uninfected 0.00, 14.9ms\n",
            "video 1/1 (frame 68/559) /content/drive/MyDrive/IMG_0072.MOV: 224x224 Infected 1.00, Uninfected 0.00, 14.0ms\n",
            "video 1/1 (frame 69/559) /content/drive/MyDrive/IMG_0072.MOV: 224x224 Infected 1.00, Uninfected 0.00, 13.9ms\n",
            "video 1/1 (frame 70/559) /content/drive/MyDrive/IMG_0072.MOV: 224x224 Infected 1.00, Uninfected 0.00, 13.8ms\n",
            "video 1/1 (frame 71/559) /content/drive/MyDrive/IMG_0072.MOV: 224x224 Infected 1.00, Uninfected 0.00, 14.5ms\n",
            "video 1/1 (frame 72/559) /content/drive/MyDrive/IMG_0072.MOV: 224x224 Infected 1.00, Uninfected 0.00, 13.9ms\n",
            "video 1/1 (frame 73/559) /content/drive/MyDrive/IMG_0072.MOV: 224x224 Infected 1.00, Uninfected 0.00, 13.8ms\n",
            "video 1/1 (frame 74/559) /content/drive/MyDrive/IMG_0072.MOV: 224x224 Infected 1.00, Uninfected 0.00, 14.6ms\n",
            "video 1/1 (frame 75/559) /content/drive/MyDrive/IMG_0072.MOV: 224x224 Infected 1.00, Uninfected 0.00, 13.8ms\n",
            "video 1/1 (frame 76/559) /content/drive/MyDrive/IMG_0072.MOV: 224x224 Infected 1.00, Uninfected 0.00, 13.9ms\n",
            "video 1/1 (frame 77/559) /content/drive/MyDrive/IMG_0072.MOV: 224x224 Infected 1.00, Uninfected 0.00, 13.9ms\n",
            "video 1/1 (frame 78/559) /content/drive/MyDrive/IMG_0072.MOV: 224x224 Infected 1.00, Uninfected 0.00, 13.8ms\n",
            "video 1/1 (frame 79/559) /content/drive/MyDrive/IMG_0072.MOV: 224x224 Infected 1.00, Uninfected 0.00, 14.0ms\n",
            "video 1/1 (frame 80/559) /content/drive/MyDrive/IMG_0072.MOV: 224x224 Infected 1.00, Uninfected 0.00, 13.9ms\n",
            "video 1/1 (frame 81/559) /content/drive/MyDrive/IMG_0072.MOV: 224x224 Infected 1.00, Uninfected 0.00, 13.8ms\n",
            "video 1/1 (frame 82/559) /content/drive/MyDrive/IMG_0072.MOV: 224x224 Infected 1.00, Uninfected 0.00, 13.8ms\n",
            "video 1/1 (frame 83/559) /content/drive/MyDrive/IMG_0072.MOV: 224x224 Infected 1.00, Uninfected 0.00, 14.5ms\n",
            "video 1/1 (frame 84/559) /content/drive/MyDrive/IMG_0072.MOV: 224x224 Infected 1.00, Uninfected 0.00, 13.8ms\n",
            "video 1/1 (frame 85/559) /content/drive/MyDrive/IMG_0072.MOV: 224x224 Infected 1.00, Uninfected 0.00, 13.8ms\n",
            "video 1/1 (frame 86/559) /content/drive/MyDrive/IMG_0072.MOV: 224x224 Infected 1.00, Uninfected 0.00, 13.8ms\n",
            "video 1/1 (frame 87/559) /content/drive/MyDrive/IMG_0072.MOV: 224x224 Infected 1.00, Uninfected 0.00, 14.3ms\n",
            "video 1/1 (frame 88/559) /content/drive/MyDrive/IMG_0072.MOV: 224x224 Infected 1.00, Uninfected 0.00, 13.9ms\n",
            "video 1/1 (frame 89/559) /content/drive/MyDrive/IMG_0072.MOV: 224x224 Infected 1.00, Uninfected 0.00, 13.8ms\n",
            "video 1/1 (frame 90/559) /content/drive/MyDrive/IMG_0072.MOV: 224x224 Infected 1.00, Uninfected 0.00, 13.9ms\n",
            "video 1/1 (frame 91/559) /content/drive/MyDrive/IMG_0072.MOV: 224x224 Infected 1.00, Uninfected 0.00, 14.3ms\n",
            "video 1/1 (frame 92/559) /content/drive/MyDrive/IMG_0072.MOV: 224x224 Infected 1.00, Uninfected 0.00, 14.4ms\n",
            "video 1/1 (frame 93/559) /content/drive/MyDrive/IMG_0072.MOV: 224x224 Infected 1.00, Uninfected 0.00, 13.9ms\n",
            "video 1/1 (frame 94/559) /content/drive/MyDrive/IMG_0072.MOV: 224x224 Infected 1.00, Uninfected 0.00, 13.9ms\n",
            "video 1/1 (frame 95/559) /content/drive/MyDrive/IMG_0072.MOV: 224x224 Infected 1.00, Uninfected 0.00, 13.9ms\n",
            "video 1/1 (frame 96/559) /content/drive/MyDrive/IMG_0072.MOV: 224x224 Infected 1.00, Uninfected 0.00, 13.9ms\n",
            "video 1/1 (frame 97/559) /content/drive/MyDrive/IMG_0072.MOV: 224x224 Infected 1.00, Uninfected 0.00, 13.8ms\n",
            "video 1/1 (frame 98/559) /content/drive/MyDrive/IMG_0072.MOV: 224x224 Infected 1.00, Uninfected 0.00, 13.9ms\n",
            "video 1/1 (frame 99/559) /content/drive/MyDrive/IMG_0072.MOV: 224x224 Infected 1.00, Uninfected 0.00, 13.9ms\n",
            "video 1/1 (frame 100/559) /content/drive/MyDrive/IMG_0072.MOV: 224x224 Infected 1.00, Uninfected 0.00, 13.8ms\n",
            "video 1/1 (frame 101/559) /content/drive/MyDrive/IMG_0072.MOV: 224x224 Infected 1.00, Uninfected 0.00, 13.8ms\n",
            "video 1/1 (frame 102/559) /content/drive/MyDrive/IMG_0072.MOV: 224x224 Infected 1.00, Uninfected 0.00, 16.4ms\n",
            "video 1/1 (frame 103/559) /content/drive/MyDrive/IMG_0072.MOV: 224x224 Infected 1.00, Uninfected 0.00, 17.4ms\n",
            "video 1/1 (frame 104/559) /content/drive/MyDrive/IMG_0072.MOV: 224x224 Infected 1.00, Uninfected 0.00, 19.9ms\n",
            "video 1/1 (frame 105/559) /content/drive/MyDrive/IMG_0072.MOV: 224x224 Infected 1.00, Uninfected 0.00, 14.5ms\n",
            "video 1/1 (frame 106/559) /content/drive/MyDrive/IMG_0072.MOV: 224x224 Infected 1.00, Uninfected 0.00, 13.9ms\n",
            "video 1/1 (frame 107/559) /content/drive/MyDrive/IMG_0072.MOV: 224x224 Infected 1.00, Uninfected 0.00, 14.0ms\n",
            "video 1/1 (frame 108/559) /content/drive/MyDrive/IMG_0072.MOV: 224x224 Infected 1.00, Uninfected 0.00, 22.1ms\n",
            "video 1/1 (frame 109/559) /content/drive/MyDrive/IMG_0072.MOV: 224x224 Infected 1.00, Uninfected 0.00, 13.9ms\n",
            "video 1/1 (frame 110/559) /content/drive/MyDrive/IMG_0072.MOV: 224x224 Infected 1.00, Uninfected 0.00, 13.9ms\n",
            "video 1/1 (frame 111/559) /content/drive/MyDrive/IMG_0072.MOV: 224x224 Infected 1.00, Uninfected 0.00, 16.6ms\n",
            "video 1/1 (frame 112/559) /content/drive/MyDrive/IMG_0072.MOV: 224x224 Infected 1.00, Uninfected 0.00, 13.9ms\n",
            "video 1/1 (frame 113/559) /content/drive/MyDrive/IMG_0072.MOV: 224x224 Infected 1.00, Uninfected 0.00, 14.8ms\n",
            "video 1/1 (frame 114/559) /content/drive/MyDrive/IMG_0072.MOV: 224x224 Infected 1.00, Uninfected 0.00, 14.1ms\n",
            "video 1/1 (frame 115/559) /content/drive/MyDrive/IMG_0072.MOV: 224x224 Infected 1.00, Uninfected 0.00, 16.2ms\n",
            "video 1/1 (frame 116/559) /content/drive/MyDrive/IMG_0072.MOV: 224x224 Infected 1.00, Uninfected 0.00, 13.9ms\n",
            "video 1/1 (frame 117/559) /content/drive/MyDrive/IMG_0072.MOV: 224x224 Infected 1.00, Uninfected 0.00, 13.9ms\n",
            "video 1/1 (frame 118/559) /content/drive/MyDrive/IMG_0072.MOV: 224x224 Infected 1.00, Uninfected 0.00, 14.0ms\n",
            "video 1/1 (frame 119/559) /content/drive/MyDrive/IMG_0072.MOV: 224x224 Infected 1.00, Uninfected 0.00, 15.4ms\n",
            "video 1/1 (frame 120/559) /content/drive/MyDrive/IMG_0072.MOV: 224x224 Infected 1.00, Uninfected 0.00, 14.4ms\n",
            "video 1/1 (frame 121/559) /content/drive/MyDrive/IMG_0072.MOV: 224x224 Infected 1.00, Uninfected 0.00, 16.2ms\n",
            "video 1/1 (frame 122/559) /content/drive/MyDrive/IMG_0072.MOV: 224x224 Infected 1.00, Uninfected 0.00, 16.4ms\n",
            "video 1/1 (frame 123/559) /content/drive/MyDrive/IMG_0072.MOV: 224x224 Infected 1.00, Uninfected 0.00, 14.4ms\n",
            "video 1/1 (frame 124/559) /content/drive/MyDrive/IMG_0072.MOV: 224x224 Infected 1.00, Uninfected 0.00, 22.1ms\n",
            "video 1/1 (frame 125/559) /content/drive/MyDrive/IMG_0072.MOV: 224x224 Infected 1.00, Uninfected 0.00, 14.9ms\n",
            "video 1/1 (frame 126/559) /content/drive/MyDrive/IMG_0072.MOV: 224x224 Infected 1.00, Uninfected 0.00, 14.0ms\n",
            "video 1/1 (frame 127/559) /content/drive/MyDrive/IMG_0072.MOV: 224x224 Infected 1.00, Uninfected 0.00, 19.1ms\n",
            "video 1/1 (frame 128/559) /content/drive/MyDrive/IMG_0072.MOV: 224x224 Infected 1.00, Uninfected 0.00, 19.0ms\n",
            "video 1/1 (frame 129/559) /content/drive/MyDrive/IMG_0072.MOV: 224x224 Infected 1.00, Uninfected 0.00, 13.9ms\n",
            "video 1/1 (frame 130/559) /content/drive/MyDrive/IMG_0072.MOV: 224x224 Infected 1.00, Uninfected 0.00, 14.9ms\n",
            "video 1/1 (frame 131/559) /content/drive/MyDrive/IMG_0072.MOV: 224x224 Infected 1.00, Uninfected 0.00, 18.6ms\n",
            "video 1/1 (frame 132/559) /content/drive/MyDrive/IMG_0072.MOV: 224x224 Infected 1.00, Uninfected 0.00, 17.4ms\n",
            "video 1/1 (frame 133/559) /content/drive/MyDrive/IMG_0072.MOV: 224x224 Infected 1.00, Uninfected 0.00, 13.8ms\n",
            "video 1/1 (frame 134/559) /content/drive/MyDrive/IMG_0072.MOV: 224x224 Infected 1.00, Uninfected 0.00, 13.9ms\n",
            "video 1/1 (frame 135/559) /content/drive/MyDrive/IMG_0072.MOV: 224x224 Infected 1.00, Uninfected 0.00, 14.5ms\n",
            "video 1/1 (frame 136/559) /content/drive/MyDrive/IMG_0072.MOV: 224x224 Infected 1.00, Uninfected 0.00, 13.9ms\n",
            "video 1/1 (frame 137/559) /content/drive/MyDrive/IMG_0072.MOV: 224x224 Infected 1.00, Uninfected 0.00, 13.8ms\n",
            "video 1/1 (frame 138/559) /content/drive/MyDrive/IMG_0072.MOV: 224x224 Infected 1.00, Uninfected 0.00, 13.8ms\n",
            "video 1/1 (frame 139/559) /content/drive/MyDrive/IMG_0072.MOV: 224x224 Infected 1.00, Uninfected 0.00, 15.3ms\n",
            "video 1/1 (frame 140/559) /content/drive/MyDrive/IMG_0072.MOV: 224x224 Infected 1.00, Uninfected 0.00, 13.8ms\n",
            "video 1/1 (frame 141/559) /content/drive/MyDrive/IMG_0072.MOV: 224x224 Infected 1.00, Uninfected 0.00, 13.8ms\n",
            "video 1/1 (frame 142/559) /content/drive/MyDrive/IMG_0072.MOV: 224x224 Infected 1.00, Uninfected 0.00, 13.8ms\n",
            "video 1/1 (frame 143/559) /content/drive/MyDrive/IMG_0072.MOV: 224x224 Infected 1.00, Uninfected 0.00, 14.5ms\n",
            "video 1/1 (frame 144/559) /content/drive/MyDrive/IMG_0072.MOV: 224x224 Infected 1.00, Uninfected 0.00, 13.8ms\n",
            "video 1/1 (frame 145/559) /content/drive/MyDrive/IMG_0072.MOV: 224x224 Infected 1.00, Uninfected 0.00, 13.9ms\n",
            "video 1/1 (frame 146/559) /content/drive/MyDrive/IMG_0072.MOV: 224x224 Infected 1.00, Uninfected 0.00, 14.6ms\n",
            "video 1/1 (frame 147/559) /content/drive/MyDrive/IMG_0072.MOV: 224x224 Infected 1.00, Uninfected 0.00, 16.3ms\n",
            "video 1/1 (frame 148/559) /content/drive/MyDrive/IMG_0072.MOV: 224x224 Infected 1.00, Uninfected 0.00, 14.3ms\n",
            "video 1/1 (frame 149/559) /content/drive/MyDrive/IMG_0072.MOV: 224x224 Infected 1.00, Uninfected 0.00, 13.8ms\n",
            "video 1/1 (frame 150/559) /content/drive/MyDrive/IMG_0072.MOV: 224x224 Infected 1.00, Uninfected 0.00, 13.9ms\n",
            "video 1/1 (frame 151/559) /content/drive/MyDrive/IMG_0072.MOV: 224x224 Infected 1.00, Uninfected 0.00, 15.3ms\n",
            "video 1/1 (frame 152/559) /content/drive/MyDrive/IMG_0072.MOV: 224x224 Infected 1.00, Uninfected 0.00, 13.8ms\n",
            "video 1/1 (frame 153/559) /content/drive/MyDrive/IMG_0072.MOV: 224x224 Infected 1.00, Uninfected 0.00, 13.9ms\n",
            "video 1/1 (frame 154/559) /content/drive/MyDrive/IMG_0072.MOV: 224x224 Infected 1.00, Uninfected 0.00, 13.8ms\n",
            "video 1/1 (frame 155/559) /content/drive/MyDrive/IMG_0072.MOV: 224x224 Infected 1.00, Uninfected 0.00, 14.3ms\n",
            "video 1/1 (frame 156/559) /content/drive/MyDrive/IMG_0072.MOV: 224x224 Uninfected 0.95, Infected 0.05, 14.3ms\n",
            "video 1/1 (frame 157/559) /content/drive/MyDrive/IMG_0072.MOV: 224x224 Uninfected 1.00, Infected 0.00, 13.8ms\n",
            "video 1/1 (frame 158/559) /content/drive/MyDrive/IMG_0072.MOV: 224x224 Infected 1.00, Uninfected 0.00, 13.8ms\n",
            "video 1/1 (frame 159/559) /content/drive/MyDrive/IMG_0072.MOV: 224x224 Infected 1.00, Uninfected 0.00, 13.8ms\n",
            "video 1/1 (frame 160/559) /content/drive/MyDrive/IMG_0072.MOV: 224x224 Infected 1.00, Uninfected 0.00, 13.8ms\n",
            "video 1/1 (frame 161/559) /content/drive/MyDrive/IMG_0072.MOV: 224x224 Infected 1.00, Uninfected 0.00, 13.9ms\n",
            "video 1/1 (frame 162/559) /content/drive/MyDrive/IMG_0072.MOV: 224x224 Infected 1.00, Uninfected 0.00, 13.8ms\n",
            "video 1/1 (frame 163/559) /content/drive/MyDrive/IMG_0072.MOV: 224x224 Infected 1.00, Uninfected 0.00, 14.1ms\n",
            "video 1/1 (frame 164/559) /content/drive/MyDrive/IMG_0072.MOV: 224x224 Infected 1.00, Uninfected 0.00, 13.9ms\n",
            "video 1/1 (frame 165/559) /content/drive/MyDrive/IMG_0072.MOV: 224x224 Infected 1.00, Uninfected 0.00, 13.8ms\n",
            "video 1/1 (frame 166/559) /content/drive/MyDrive/IMG_0072.MOV: 224x224 Infected 1.00, Uninfected 0.00, 13.9ms\n",
            "video 1/1 (frame 167/559) /content/drive/MyDrive/IMG_0072.MOV: 224x224 Infected 1.00, Uninfected 0.00, 15.9ms\n",
            "video 1/1 (frame 168/559) /content/drive/MyDrive/IMG_0072.MOV: 224x224 Infected 1.00, Uninfected 0.00, 13.8ms\n",
            "video 1/1 (frame 169/559) /content/drive/MyDrive/IMG_0072.MOV: 224x224 Infected 1.00, Uninfected 0.00, 13.9ms\n",
            "video 1/1 (frame 170/559) /content/drive/MyDrive/IMG_0072.MOV: 224x224 Infected 1.00, Uninfected 0.00, 13.8ms\n",
            "video 1/1 (frame 171/559) /content/drive/MyDrive/IMG_0072.MOV: 224x224 Infected 1.00, Uninfected 0.00, 14.2ms\n",
            "video 1/1 (frame 172/559) /content/drive/MyDrive/IMG_0072.MOV: 224x224 Infected 1.00, Uninfected 0.00, 14.9ms\n",
            "video 1/1 (frame 173/559) /content/drive/MyDrive/IMG_0072.MOV: 224x224 Infected 1.00, Uninfected 0.00, 13.8ms\n",
            "video 1/1 (frame 174/559) /content/drive/MyDrive/IMG_0072.MOV: 224x224 Infected 1.00, Uninfected 0.00, 13.9ms\n",
            "video 1/1 (frame 175/559) /content/drive/MyDrive/IMG_0072.MOV: 224x224 Infected 1.00, Uninfected 0.00, 14.5ms\n",
            "video 1/1 (frame 176/559) /content/drive/MyDrive/IMG_0072.MOV: 224x224 Infected 1.00, Uninfected 0.00, 14.7ms\n",
            "video 1/1 (frame 177/559) /content/drive/MyDrive/IMG_0072.MOV: 224x224 Infected 1.00, Uninfected 0.00, 14.3ms\n",
            "video 1/1 (frame 178/559) /content/drive/MyDrive/IMG_0072.MOV: 224x224 Infected 1.00, Uninfected 0.00, 13.9ms\n",
            "video 1/1 (frame 179/559) /content/drive/MyDrive/IMG_0072.MOV: 224x224 Infected 1.00, Uninfected 0.00, 14.0ms\n",
            "video 1/1 (frame 180/559) /content/drive/MyDrive/IMG_0072.MOV: 224x224 Infected 1.00, Uninfected 0.00, 13.9ms\n",
            "video 1/1 (frame 181/559) /content/drive/MyDrive/IMG_0072.MOV: 224x224 Infected 1.00, Uninfected 0.00, 13.9ms\n",
            "video 1/1 (frame 182/559) /content/drive/MyDrive/IMG_0072.MOV: 224x224 Infected 1.00, Uninfected 0.00, 13.9ms\n",
            "video 1/1 (frame 183/559) /content/drive/MyDrive/IMG_0072.MOV: 224x224 Infected 1.00, Uninfected 0.00, 13.8ms\n",
            "video 1/1 (frame 184/559) /content/drive/MyDrive/IMG_0072.MOV: 224x224 Infected 1.00, Uninfected 0.00, 13.9ms\n",
            "video 1/1 (frame 185/559) /content/drive/MyDrive/IMG_0072.MOV: 224x224 Infected 1.00, Uninfected 0.00, 13.8ms\n",
            "video 1/1 (frame 186/559) /content/drive/MyDrive/IMG_0072.MOV: 224x224 Infected 1.00, Uninfected 0.00, 13.8ms\n",
            "video 1/1 (frame 187/559) /content/drive/MyDrive/IMG_0072.MOV: 224x224 Infected 1.00, Uninfected 0.00, 18.4ms\n",
            "video 1/1 (frame 188/559) /content/drive/MyDrive/IMG_0072.MOV: 224x224 Infected 1.00, Uninfected 0.00, 13.8ms\n",
            "video 1/1 (frame 189/559) /content/drive/MyDrive/IMG_0072.MOV: 224x224 Infected 1.00, Uninfected 0.00, 13.9ms\n",
            "video 1/1 (frame 190/559) /content/drive/MyDrive/IMG_0072.MOV: 224x224 Infected 1.00, Uninfected 0.00, 13.9ms\n",
            "video 1/1 (frame 191/559) /content/drive/MyDrive/IMG_0072.MOV: 224x224 Infected 1.00, Uninfected 0.00, 14.4ms\n",
            "video 1/1 (frame 192/559) /content/drive/MyDrive/IMG_0072.MOV: 224x224 Infected 1.00, Uninfected 0.00, 13.9ms\n",
            "video 1/1 (frame 193/559) /content/drive/MyDrive/IMG_0072.MOV: 224x224 Infected 1.00, Uninfected 0.00, 13.8ms\n",
            "video 1/1 (frame 194/559) /content/drive/MyDrive/IMG_0072.MOV: 224x224 Infected 1.00, Uninfected 0.00, 13.8ms\n",
            "video 1/1 (frame 195/559) /content/drive/MyDrive/IMG_0072.MOV: 224x224 Infected 1.00, Uninfected 0.00, 14.5ms\n",
            "video 1/1 (frame 196/559) /content/drive/MyDrive/IMG_0072.MOV: 224x224 Infected 1.00, Uninfected 0.00, 14.5ms\n",
            "video 1/1 (frame 197/559) /content/drive/MyDrive/IMG_0072.MOV: 224x224 Infected 1.00, Uninfected 0.00, 13.8ms\n",
            "video 1/1 (frame 198/559) /content/drive/MyDrive/IMG_0072.MOV: 224x224 Infected 1.00, Uninfected 0.00, 13.9ms\n",
            "video 1/1 (frame 199/559) /content/drive/MyDrive/IMG_0072.MOV: 224x224 Infected 1.00, Uninfected 0.00, 14.4ms\n",
            "video 1/1 (frame 200/559) /content/drive/MyDrive/IMG_0072.MOV: 224x224 Infected 1.00, Uninfected 0.00, 19.7ms\n",
            "video 1/1 (frame 201/559) /content/drive/MyDrive/IMG_0072.MOV: 224x224 Infected 1.00, Uninfected 0.00, 13.8ms\n",
            "video 1/1 (frame 202/559) /content/drive/MyDrive/IMG_0072.MOV: 224x224 Infected 1.00, Uninfected 0.00, 13.9ms\n",
            "video 1/1 (frame 203/559) /content/drive/MyDrive/IMG_0072.MOV: 224x224 Infected 1.00, Uninfected 0.00, 14.6ms\n",
            "video 1/1 (frame 204/559) /content/drive/MyDrive/IMG_0072.MOV: 224x224 Infected 1.00, Uninfected 0.00, 14.1ms\n",
            "video 1/1 (frame 205/559) /content/drive/MyDrive/IMG_0072.MOV: 224x224 Infected 1.00, Uninfected 0.00, 13.8ms\n",
            "video 1/1 (frame 206/559) /content/drive/MyDrive/IMG_0072.MOV: 224x224 Infected 1.00, Uninfected 0.00, 13.8ms\n",
            "video 1/1 (frame 207/559) /content/drive/MyDrive/IMG_0072.MOV: 224x224 Infected 1.00, Uninfected 0.00, 16.3ms\n",
            "video 1/1 (frame 208/559) /content/drive/MyDrive/IMG_0072.MOV: 224x224 Infected 1.00, Uninfected 0.00, 13.8ms\n",
            "video 1/1 (frame 209/559) /content/drive/MyDrive/IMG_0072.MOV: 224x224 Infected 1.00, Uninfected 0.00, 13.9ms\n",
            "video 1/1 (frame 210/559) /content/drive/MyDrive/IMG_0072.MOV: 224x224 Infected 1.00, Uninfected 0.00, 14.6ms\n",
            "video 1/1 (frame 211/559) /content/drive/MyDrive/IMG_0072.MOV: 224x224 Infected 1.00, Uninfected 0.00, 14.6ms\n",
            "video 1/1 (frame 212/559) /content/drive/MyDrive/IMG_0072.MOV: 224x224 Infected 1.00, Uninfected 0.00, 15.2ms\n",
            "video 1/1 (frame 213/559) /content/drive/MyDrive/IMG_0072.MOV: 224x224 Infected 1.00, Uninfected 0.00, 13.9ms\n",
            "video 1/1 (frame 214/559) /content/drive/MyDrive/IMG_0072.MOV: 224x224 Infected 1.00, Uninfected 0.00, 13.9ms\n",
            "video 1/1 (frame 215/559) /content/drive/MyDrive/IMG_0072.MOV: 224x224 Infected 1.00, Uninfected 0.00, 14.4ms\n",
            "video 1/1 (frame 216/559) /content/drive/MyDrive/IMG_0072.MOV: 224x224 Infected 1.00, Uninfected 0.00, 14.4ms\n",
            "video 1/1 (frame 217/559) /content/drive/MyDrive/IMG_0072.MOV: 224x224 Infected 1.00, Uninfected 0.00, 14.6ms\n",
            "video 1/1 (frame 218/559) /content/drive/MyDrive/IMG_0072.MOV: 224x224 Infected 1.00, Uninfected 0.00, 13.9ms\n",
            "video 1/1 (frame 219/559) /content/drive/MyDrive/IMG_0072.MOV: 224x224 Infected 1.00, Uninfected 0.00, 14.3ms\n",
            "video 1/1 (frame 220/559) /content/drive/MyDrive/IMG_0072.MOV: 224x224 Infected 1.00, Uninfected 0.00, 14.2ms\n",
            "video 1/1 (frame 221/559) /content/drive/MyDrive/IMG_0072.MOV: 224x224 Infected 1.00, Uninfected 0.00, 13.8ms\n",
            "video 1/1 (frame 222/559) /content/drive/MyDrive/IMG_0072.MOV: 224x224 Infected 1.00, Uninfected 0.00, 13.8ms\n",
            "video 1/1 (frame 223/559) /content/drive/MyDrive/IMG_0072.MOV: 224x224 Infected 1.00, Uninfected 0.00, 14.5ms\n",
            "video 1/1 (frame 224/559) /content/drive/MyDrive/IMG_0072.MOV: 224x224 Infected 1.00, Uninfected 0.00, 13.8ms\n",
            "video 1/1 (frame 225/559) /content/drive/MyDrive/IMG_0072.MOV: 224x224 Infected 1.00, Uninfected 0.00, 13.8ms\n",
            "video 1/1 (frame 226/559) /content/drive/MyDrive/IMG_0072.MOV: 224x224 Infected 1.00, Uninfected 0.00, 13.8ms\n",
            "video 1/1 (frame 227/559) /content/drive/MyDrive/IMG_0072.MOV: 224x224 Infected 1.00, Uninfected 0.00, 14.5ms\n",
            "video 1/1 (frame 228/559) /content/drive/MyDrive/IMG_0072.MOV: 224x224 Infected 1.00, Uninfected 0.00, 13.9ms\n",
            "video 1/1 (frame 229/559) /content/drive/MyDrive/IMG_0072.MOV: 224x224 Infected 1.00, Uninfected 0.00, 13.9ms\n",
            "video 1/1 (frame 230/559) /content/drive/MyDrive/IMG_0072.MOV: 224x224 Infected 1.00, Uninfected 0.00, 13.9ms\n",
            "video 1/1 (frame 231/559) /content/drive/MyDrive/IMG_0072.MOV: 224x224 Infected 1.00, Uninfected 0.00, 15.8ms\n",
            "video 1/1 (frame 232/559) /content/drive/MyDrive/IMG_0072.MOV: 224x224 Infected 1.00, Uninfected 0.00, 14.5ms\n",
            "video 1/1 (frame 233/559) /content/drive/MyDrive/IMG_0072.MOV: 224x224 Infected 1.00, Uninfected 0.00, 14.4ms\n",
            "video 1/1 (frame 234/559) /content/drive/MyDrive/IMG_0072.MOV: 224x224 Infected 1.00, Uninfected 0.00, 14.5ms\n",
            "video 1/1 (frame 235/559) /content/drive/MyDrive/IMG_0072.MOV: 224x224 Infected 1.00, Uninfected 0.00, 14.5ms\n",
            "video 1/1 (frame 236/559) /content/drive/MyDrive/IMG_0072.MOV: 224x224 Infected 1.00, Uninfected 0.00, 15.0ms\n",
            "video 1/1 (frame 237/559) /content/drive/MyDrive/IMG_0072.MOV: 224x224 Infected 1.00, Uninfected 0.00, 15.0ms\n",
            "video 1/1 (frame 238/559) /content/drive/MyDrive/IMG_0072.MOV: 224x224 Infected 1.00, Uninfected 0.00, 13.8ms\n",
            "video 1/1 (frame 239/559) /content/drive/MyDrive/IMG_0072.MOV: 224x224 Infected 1.00, Uninfected 0.00, 14.6ms\n",
            "video 1/1 (frame 240/559) /content/drive/MyDrive/IMG_0072.MOV: 224x224 Infected 1.00, Uninfected 0.00, 13.8ms\n",
            "video 1/1 (frame 241/559) /content/drive/MyDrive/IMG_0072.MOV: 224x224 Infected 1.00, Uninfected 0.00, 13.8ms\n",
            "video 1/1 (frame 242/559) /content/drive/MyDrive/IMG_0072.MOV: 224x224 Infected 1.00, Uninfected 0.00, 13.9ms\n",
            "video 1/1 (frame 243/559) /content/drive/MyDrive/IMG_0072.MOV: 224x224 Infected 1.00, Uninfected 0.00, 13.9ms\n",
            "video 1/1 (frame 244/559) /content/drive/MyDrive/IMG_0072.MOV: 224x224 Infected 1.00, Uninfected 0.00, 13.9ms\n",
            "video 1/1 (frame 245/559) /content/drive/MyDrive/IMG_0072.MOV: 224x224 Infected 1.00, Uninfected 0.00, 13.9ms\n",
            "video 1/1 (frame 246/559) /content/drive/MyDrive/IMG_0072.MOV: 224x224 Infected 1.00, Uninfected 0.00, 13.9ms\n",
            "video 1/1 (frame 247/559) /content/drive/MyDrive/IMG_0072.MOV: 224x224 Infected 1.00, Uninfected 0.00, 13.9ms\n",
            "video 1/1 (frame 248/559) /content/drive/MyDrive/IMG_0072.MOV: 224x224 Infected 1.00, Uninfected 0.00, 14.4ms\n",
            "video 1/1 (frame 249/559) /content/drive/MyDrive/IMG_0072.MOV: 224x224 Infected 1.00, Uninfected 0.00, 18.8ms\n",
            "video 1/1 (frame 250/559) /content/drive/MyDrive/IMG_0072.MOV: 224x224 Infected 1.00, Uninfected 0.00, 14.5ms\n",
            "video 1/1 (frame 251/559) /content/drive/MyDrive/IMG_0072.MOV: 224x224 Infected 1.00, Uninfected 0.00, 15.7ms\n",
            "video 1/1 (frame 252/559) /content/drive/MyDrive/IMG_0072.MOV: 224x224 Infected 1.00, Uninfected 0.00, 16.7ms\n",
            "video 1/1 (frame 253/559) /content/drive/MyDrive/IMG_0072.MOV: 224x224 Infected 1.00, Uninfected 0.00, 13.9ms\n",
            "video 1/1 (frame 254/559) /content/drive/MyDrive/IMG_0072.MOV: 224x224 Infected 1.00, Uninfected 0.00, 14.3ms\n",
            "video 1/1 (frame 255/559) /content/drive/MyDrive/IMG_0072.MOV: 224x224 Infected 1.00, Uninfected 0.00, 14.0ms\n",
            "video 1/1 (frame 256/559) /content/drive/MyDrive/IMG_0072.MOV: 224x224 Infected 1.00, Uninfected 0.00, 14.0ms\n",
            "video 1/1 (frame 257/559) /content/drive/MyDrive/IMG_0072.MOV: 224x224 Infected 1.00, Uninfected 0.00, 14.0ms\n",
            "video 1/1 (frame 258/559) /content/drive/MyDrive/IMG_0072.MOV: 224x224 Infected 1.00, Uninfected 0.00, 14.6ms\n",
            "video 1/1 (frame 259/559) /content/drive/MyDrive/IMG_0072.MOV: 224x224 Infected 1.00, Uninfected 0.00, 13.9ms\n",
            "video 1/1 (frame 260/559) /content/drive/MyDrive/IMG_0072.MOV: 224x224 Infected 1.00, Uninfected 0.00, 14.9ms\n",
            "video 1/1 (frame 261/559) /content/drive/MyDrive/IMG_0072.MOV: 224x224 Infected 1.00, Uninfected 0.00, 19.7ms\n",
            "video 1/1 (frame 262/559) /content/drive/MyDrive/IMG_0072.MOV: 224x224 Infected 1.00, Uninfected 0.00, 16.0ms\n",
            "video 1/1 (frame 263/559) /content/drive/MyDrive/IMG_0072.MOV: 224x224 Infected 1.00, Uninfected 0.00, 16.6ms\n",
            "video 1/1 (frame 264/559) /content/drive/MyDrive/IMG_0072.MOV: 224x224 Infected 1.00, Uninfected 0.00, 13.9ms\n",
            "video 1/1 (frame 265/559) /content/drive/MyDrive/IMG_0072.MOV: 224x224 Infected 1.00, Uninfected 0.00, 13.9ms\n",
            "video 1/1 (frame 266/559) /content/drive/MyDrive/IMG_0072.MOV: 224x224 Infected 1.00, Uninfected 0.00, 16.3ms\n",
            "video 1/1 (frame 267/559) /content/drive/MyDrive/IMG_0072.MOV: 224x224 Infected 1.00, Uninfected 0.00, 14.0ms\n",
            "video 1/1 (frame 268/559) /content/drive/MyDrive/IMG_0072.MOV: 224x224 Infected 1.00, Uninfected 0.00, 14.0ms\n",
            "video 1/1 (frame 269/559) /content/drive/MyDrive/IMG_0072.MOV: 224x224 Infected 1.00, Uninfected 0.00, 13.9ms\n",
            "video 1/1 (frame 270/559) /content/drive/MyDrive/IMG_0072.MOV: 224x224 Infected 1.00, Uninfected 0.00, 13.9ms\n",
            "video 1/1 (frame 271/559) /content/drive/MyDrive/IMG_0072.MOV: 224x224 Infected 1.00, Uninfected 0.00, 13.9ms\n",
            "video 1/1 (frame 272/559) /content/drive/MyDrive/IMG_0072.MOV: 224x224 Infected 1.00, Uninfected 0.00, 18.3ms\n",
            "video 1/1 (frame 273/559) /content/drive/MyDrive/IMG_0072.MOV: 224x224 Infected 1.00, Uninfected 0.00, 18.2ms\n",
            "video 1/1 (frame 274/559) /content/drive/MyDrive/IMG_0072.MOV: 224x224 Infected 1.00, Uninfected 0.00, 21.3ms\n",
            "video 1/1 (frame 275/559) /content/drive/MyDrive/IMG_0072.MOV: 224x224 Infected 1.00, Uninfected 0.00, 14.4ms\n",
            "video 1/1 (frame 276/559) /content/drive/MyDrive/IMG_0072.MOV: 224x224 Infected 1.00, Uninfected 0.00, 15.5ms\n",
            "video 1/1 (frame 277/559) /content/drive/MyDrive/IMG_0072.MOV: 224x224 Infected 1.00, Uninfected 0.00, 16.1ms\n",
            "video 1/1 (frame 278/559) /content/drive/MyDrive/IMG_0072.MOV: 224x224 Infected 1.00, Uninfected 0.00, 16.8ms\n",
            "video 1/1 (frame 279/559) /content/drive/MyDrive/IMG_0072.MOV: 224x224 Infected 1.00, Uninfected 0.00, 14.5ms\n",
            "video 1/1 (frame 280/559) /content/drive/MyDrive/IMG_0072.MOV: 224x224 Infected 1.00, Uninfected 0.00, 13.8ms\n",
            "video 1/1 (frame 281/559) /content/drive/MyDrive/IMG_0072.MOV: 224x224 Infected 1.00, Uninfected 0.00, 13.9ms\n",
            "video 1/1 (frame 282/559) /content/drive/MyDrive/IMG_0072.MOV: 224x224 Infected 1.00, Uninfected 0.00, 14.5ms\n",
            "video 1/1 (frame 283/559) /content/drive/MyDrive/IMG_0072.MOV: 224x224 Infected 1.00, Uninfected 0.00, 14.3ms\n",
            "video 1/1 (frame 284/559) /content/drive/MyDrive/IMG_0072.MOV: 224x224 Infected 1.00, Uninfected 0.00, 14.6ms\n",
            "video 1/1 (frame 285/559) /content/drive/MyDrive/IMG_0072.MOV: 224x224 Infected 1.00, Uninfected 0.00, 15.3ms\n",
            "video 1/1 (frame 286/559) /content/drive/MyDrive/IMG_0072.MOV: 224x224 Infected 1.00, Uninfected 0.00, 13.9ms\n",
            "video 1/1 (frame 287/559) /content/drive/MyDrive/IMG_0072.MOV: 224x224 Infected 1.00, Uninfected 0.00, 13.9ms\n",
            "video 1/1 (frame 288/559) /content/drive/MyDrive/IMG_0072.MOV: 224x224 Infected 1.00, Uninfected 0.00, 13.8ms\n",
            "video 1/1 (frame 289/559) /content/drive/MyDrive/IMG_0072.MOV: 224x224 Infected 1.00, Uninfected 0.00, 13.8ms\n",
            "video 1/1 (frame 290/559) /content/drive/MyDrive/IMG_0072.MOV: 224x224 Infected 1.00, Uninfected 0.00, 13.9ms\n",
            "video 1/1 (frame 291/559) /content/drive/MyDrive/IMG_0072.MOV: 224x224 Infected 1.00, Uninfected 0.00, 13.9ms\n",
            "video 1/1 (frame 292/559) /content/drive/MyDrive/IMG_0072.MOV: 224x224 Infected 1.00, Uninfected 0.00, 14.1ms\n",
            "video 1/1 (frame 293/559) /content/drive/MyDrive/IMG_0072.MOV: 224x224 Infected 1.00, Uninfected 0.00, 13.9ms\n",
            "video 1/1 (frame 294/559) /content/drive/MyDrive/IMG_0072.MOV: 224x224 Infected 1.00, Uninfected 0.00, 13.8ms\n",
            "video 1/1 (frame 295/559) /content/drive/MyDrive/IMG_0072.MOV: 224x224 Infected 1.00, Uninfected 0.00, 14.8ms\n",
            "video 1/1 (frame 296/559) /content/drive/MyDrive/IMG_0072.MOV: 224x224 Infected 1.00, Uninfected 0.00, 13.9ms\n",
            "video 1/1 (frame 297/559) /content/drive/MyDrive/IMG_0072.MOV: 224x224 Infected 1.00, Uninfected 0.00, 13.8ms\n",
            "video 1/1 (frame 298/559) /content/drive/MyDrive/IMG_0072.MOV: 224x224 Infected 1.00, Uninfected 0.00, 13.9ms\n",
            "video 1/1 (frame 299/559) /content/drive/MyDrive/IMG_0072.MOV: 224x224 Infected 1.00, Uninfected 0.00, 14.5ms\n",
            "video 1/1 (frame 300/559) /content/drive/MyDrive/IMG_0072.MOV: 224x224 Infected 1.00, Uninfected 0.00, 13.9ms\n",
            "video 1/1 (frame 301/559) /content/drive/MyDrive/IMG_0072.MOV: 224x224 Infected 1.00, Uninfected 0.00, 13.9ms\n",
            "video 1/1 (frame 302/559) /content/drive/MyDrive/IMG_0072.MOV: 224x224 Infected 1.00, Uninfected 0.00, 13.8ms\n",
            "video 1/1 (frame 303/559) /content/drive/MyDrive/IMG_0072.MOV: 224x224 Infected 1.00, Uninfected 0.00, 14.5ms\n",
            "video 1/1 (frame 304/559) /content/drive/MyDrive/IMG_0072.MOV: 224x224 Infected 1.00, Uninfected 0.00, 13.8ms\n",
            "video 1/1 (frame 305/559) /content/drive/MyDrive/IMG_0072.MOV: 224x224 Infected 1.00, Uninfected 0.00, 13.8ms\n",
            "video 1/1 (frame 306/559) /content/drive/MyDrive/IMG_0072.MOV: 224x224 Infected 1.00, Uninfected 0.00, 13.9ms\n",
            "video 1/1 (frame 307/559) /content/drive/MyDrive/IMG_0072.MOV: 224x224 Infected 1.00, Uninfected 0.00, 13.9ms\n",
            "video 1/1 (frame 308/559) /content/drive/MyDrive/IMG_0072.MOV: 224x224 Infected 1.00, Uninfected 0.00, 13.9ms\n",
            "video 1/1 (frame 309/559) /content/drive/MyDrive/IMG_0072.MOV: 224x224 Infected 1.00, Uninfected 0.00, 14.6ms\n",
            "video 1/1 (frame 310/559) /content/drive/MyDrive/IMG_0072.MOV: 224x224 Infected 1.00, Uninfected 0.00, 13.8ms\n",
            "video 1/1 (frame 311/559) /content/drive/MyDrive/IMG_0072.MOV: 224x224 Infected 1.00, Uninfected 0.00, 14.4ms\n",
            "video 1/1 (frame 312/559) /content/drive/MyDrive/IMG_0072.MOV: 224x224 Infected 1.00, Uninfected 0.00, 13.9ms\n",
            "video 1/1 (frame 313/559) /content/drive/MyDrive/IMG_0072.MOV: 224x224 Infected 1.00, Uninfected 0.00, 13.8ms\n",
            "video 1/1 (frame 314/559) /content/drive/MyDrive/IMG_0072.MOV: 224x224 Infected 1.00, Uninfected 0.00, 13.9ms\n",
            "video 1/1 (frame 315/559) /content/drive/MyDrive/IMG_0072.MOV: 224x224 Infected 1.00, Uninfected 0.00, 14.2ms\n",
            "video 1/1 (frame 316/559) /content/drive/MyDrive/IMG_0072.MOV: 224x224 Infected 1.00, Uninfected 0.00, 14.7ms\n",
            "video 1/1 (frame 317/559) /content/drive/MyDrive/IMG_0072.MOV: 224x224 Infected 1.00, Uninfected 0.00, 13.9ms\n",
            "video 1/1 (frame 318/559) /content/drive/MyDrive/IMG_0072.MOV: 224x224 Infected 1.00, Uninfected 0.00, 13.9ms\n",
            "video 1/1 (frame 319/559) /content/drive/MyDrive/IMG_0072.MOV: 224x224 Infected 1.00, Uninfected 0.00, 14.4ms\n",
            "video 1/1 (frame 320/559) /content/drive/MyDrive/IMG_0072.MOV: 224x224 Infected 1.00, Uninfected 0.00, 13.9ms\n",
            "video 1/1 (frame 321/559) /content/drive/MyDrive/IMG_0072.MOV: 224x224 Infected 1.00, Uninfected 0.00, 14.7ms\n",
            "video 1/1 (frame 322/559) /content/drive/MyDrive/IMG_0072.MOV: 224x224 Infected 1.00, Uninfected 0.00, 13.9ms\n",
            "video 1/1 (frame 323/559) /content/drive/MyDrive/IMG_0072.MOV: 224x224 Infected 1.00, Uninfected 0.00, 14.5ms\n",
            "video 1/1 (frame 324/559) /content/drive/MyDrive/IMG_0072.MOV: 224x224 Infected 1.00, Uninfected 0.00, 13.9ms\n",
            "video 1/1 (frame 325/559) /content/drive/MyDrive/IMG_0072.MOV: 224x224 Infected 1.00, Uninfected 0.00, 14.2ms\n",
            "video 1/1 (frame 326/559) /content/drive/MyDrive/IMG_0072.MOV: 224x224 Infected 1.00, Uninfected 0.00, 13.9ms\n",
            "video 1/1 (frame 327/559) /content/drive/MyDrive/IMG_0072.MOV: 224x224 Infected 1.00, Uninfected 0.00, 14.6ms\n",
            "video 1/1 (frame 328/559) /content/drive/MyDrive/IMG_0072.MOV: 224x224 Infected 1.00, Uninfected 0.00, 13.9ms\n",
            "video 1/1 (frame 329/559) /content/drive/MyDrive/IMG_0072.MOV: 224x224 Infected 1.00, Uninfected 0.00, 13.8ms\n",
            "video 1/1 (frame 330/559) /content/drive/MyDrive/IMG_0072.MOV: 224x224 Infected 1.00, Uninfected 0.00, 13.9ms\n",
            "video 1/1 (frame 331/559) /content/drive/MyDrive/IMG_0072.MOV: 224x224 Infected 1.00, Uninfected 0.00, 14.2ms\n",
            "video 1/1 (frame 332/559) /content/drive/MyDrive/IMG_0072.MOV: 224x224 Infected 1.00, Uninfected 0.00, 13.8ms\n",
            "video 1/1 (frame 333/559) /content/drive/MyDrive/IMG_0072.MOV: 224x224 Infected 1.00, Uninfected 0.00, 13.9ms\n",
            "video 1/1 (frame 334/559) /content/drive/MyDrive/IMG_0072.MOV: 224x224 Infected 1.00, Uninfected 0.00, 13.8ms\n",
            "video 1/1 (frame 335/559) /content/drive/MyDrive/IMG_0072.MOV: 224x224 Infected 1.00, Uninfected 0.00, 13.9ms\n",
            "video 1/1 (frame 336/559) /content/drive/MyDrive/IMG_0072.MOV: 224x224 Infected 1.00, Uninfected 0.00, 14.5ms\n",
            "video 1/1 (frame 337/559) /content/drive/MyDrive/IMG_0072.MOV: 224x224 Infected 1.00, Uninfected 0.00, 13.9ms\n",
            "video 1/1 (frame 338/559) /content/drive/MyDrive/IMG_0072.MOV: 224x224 Infected 1.00, Uninfected 0.00, 13.8ms\n",
            "video 1/1 (frame 339/559) /content/drive/MyDrive/IMG_0072.MOV: 224x224 Infected 1.00, Uninfected 0.00, 14.4ms\n",
            "video 1/1 (frame 340/559) /content/drive/MyDrive/IMG_0072.MOV: 224x224 Infected 1.00, Uninfected 0.00, 13.9ms\n",
            "video 1/1 (frame 341/559) /content/drive/MyDrive/IMG_0072.MOV: 224x224 Infected 1.00, Uninfected 0.00, 13.9ms\n",
            "video 1/1 (frame 342/559) /content/drive/MyDrive/IMG_0072.MOV: 224x224 Infected 1.00, Uninfected 0.00, 13.8ms\n",
            "video 1/1 (frame 343/559) /content/drive/MyDrive/IMG_0072.MOV: 224x224 Infected 1.00, Uninfected 0.00, 14.4ms\n",
            "video 1/1 (frame 344/559) /content/drive/MyDrive/IMG_0072.MOV: 224x224 Infected 1.00, Uninfected 0.00, 13.8ms\n",
            "video 1/1 (frame 345/559) /content/drive/MyDrive/IMG_0072.MOV: 224x224 Infected 1.00, Uninfected 0.00, 13.9ms\n",
            "video 1/1 (frame 346/559) /content/drive/MyDrive/IMG_0072.MOV: 224x224 Infected 1.00, Uninfected 0.00, 13.9ms\n",
            "video 1/1 (frame 347/559) /content/drive/MyDrive/IMG_0072.MOV: 224x224 Infected 1.00, Uninfected 0.00, 15.3ms\n",
            "video 1/1 (frame 348/559) /content/drive/MyDrive/IMG_0072.MOV: 224x224 Infected 1.00, Uninfected 0.00, 14.1ms\n",
            "video 1/1 (frame 349/559) /content/drive/MyDrive/IMG_0072.MOV: 224x224 Infected 1.00, Uninfected 0.00, 13.8ms\n",
            "video 1/1 (frame 350/559) /content/drive/MyDrive/IMG_0072.MOV: 224x224 Infected 1.00, Uninfected 0.00, 13.8ms\n",
            "video 1/1 (frame 351/559) /content/drive/MyDrive/IMG_0072.MOV: 224x224 Infected 1.00, Uninfected 0.00, 18.1ms\n",
            "video 1/1 (frame 352/559) /content/drive/MyDrive/IMG_0072.MOV: 224x224 Infected 1.00, Uninfected 0.00, 13.9ms\n",
            "video 1/1 (frame 353/559) /content/drive/MyDrive/IMG_0072.MOV: 224x224 Infected 1.00, Uninfected 0.00, 13.8ms\n",
            "video 1/1 (frame 354/559) /content/drive/MyDrive/IMG_0072.MOV: 224x224 Infected 1.00, Uninfected 0.00, 13.8ms\n",
            "video 1/1 (frame 355/559) /content/drive/MyDrive/IMG_0072.MOV: 224x224 Infected 1.00, Uninfected 0.00, 13.8ms\n",
            "video 1/1 (frame 356/559) /content/drive/MyDrive/IMG_0072.MOV: 224x224 Infected 1.00, Uninfected 0.00, 14.5ms\n",
            "video 1/1 (frame 357/559) /content/drive/MyDrive/IMG_0072.MOV: 224x224 Infected 1.00, Uninfected 0.00, 13.8ms\n",
            "video 1/1 (frame 358/559) /content/drive/MyDrive/IMG_0072.MOV: 224x224 Infected 1.00, Uninfected 0.00, 14.7ms\n",
            "video 1/1 (frame 359/559) /content/drive/MyDrive/IMG_0072.MOV: 224x224 Infected 1.00, Uninfected 0.00, 14.9ms\n",
            "video 1/1 (frame 360/559) /content/drive/MyDrive/IMG_0072.MOV: 224x224 Infected 1.00, Uninfected 0.00, 14.7ms\n",
            "video 1/1 (frame 361/559) /content/drive/MyDrive/IMG_0072.MOV: 224x224 Infected 1.00, Uninfected 0.00, 13.8ms\n",
            "video 1/1 (frame 362/559) /content/drive/MyDrive/IMG_0072.MOV: 224x224 Infected 1.00, Uninfected 0.00, 13.9ms\n",
            "video 1/1 (frame 363/559) /content/drive/MyDrive/IMG_0072.MOV: 224x224 Infected 1.00, Uninfected 0.00, 14.6ms\n",
            "video 1/1 (frame 364/559) /content/drive/MyDrive/IMG_0072.MOV: 224x224 Infected 1.00, Uninfected 0.00, 13.9ms\n",
            "video 1/1 (frame 365/559) /content/drive/MyDrive/IMG_0072.MOV: 224x224 Infected 1.00, Uninfected 0.00, 13.8ms\n",
            "video 1/1 (frame 366/559) /content/drive/MyDrive/IMG_0072.MOV: 224x224 Infected 1.00, Uninfected 0.00, 13.8ms\n",
            "video 1/1 (frame 367/559) /content/drive/MyDrive/IMG_0072.MOV: 224x224 Infected 1.00, Uninfected 0.00, 14.4ms\n",
            "video 1/1 (frame 368/559) /content/drive/MyDrive/IMG_0072.MOV: 224x224 Infected 1.00, Uninfected 0.00, 14.7ms\n",
            "video 1/1 (frame 369/559) /content/drive/MyDrive/IMG_0072.MOV: 224x224 Infected 1.00, Uninfected 0.00, 14.8ms\n",
            "video 1/1 (frame 370/559) /content/drive/MyDrive/IMG_0072.MOV: 224x224 Infected 1.00, Uninfected 0.00, 14.1ms\n",
            "video 1/1 (frame 371/559) /content/drive/MyDrive/IMG_0072.MOV: 224x224 Infected 1.00, Uninfected 0.00, 14.5ms\n",
            "video 1/1 (frame 372/559) /content/drive/MyDrive/IMG_0072.MOV: 224x224 Infected 1.00, Uninfected 0.00, 13.8ms\n",
            "video 1/1 (frame 373/559) /content/drive/MyDrive/IMG_0072.MOV: 224x224 Infected 1.00, Uninfected 0.00, 13.8ms\n",
            "video 1/1 (frame 374/559) /content/drive/MyDrive/IMG_0072.MOV: 224x224 Infected 1.00, Uninfected 0.00, 13.8ms\n",
            "video 1/1 (frame 375/559) /content/drive/MyDrive/IMG_0072.MOV: 224x224 Infected 1.00, Uninfected 0.00, 14.4ms\n",
            "video 1/1 (frame 376/559) /content/drive/MyDrive/IMG_0072.MOV: 224x224 Infected 1.00, Uninfected 0.00, 13.8ms\n",
            "video 1/1 (frame 377/559) /content/drive/MyDrive/IMG_0072.MOV: 224x224 Infected 1.00, Uninfected 0.00, 13.9ms\n",
            "video 1/1 (frame 378/559) /content/drive/MyDrive/IMG_0072.MOV: 224x224 Infected 1.00, Uninfected 0.00, 13.9ms\n",
            "video 1/1 (frame 379/559) /content/drive/MyDrive/IMG_0072.MOV: 224x224 Infected 1.00, Uninfected 0.00, 15.8ms\n",
            "video 1/1 (frame 380/559) /content/drive/MyDrive/IMG_0072.MOV: 224x224 Infected 1.00, Uninfected 0.00, 14.6ms\n",
            "video 1/1 (frame 381/559) /content/drive/MyDrive/IMG_0072.MOV: 224x224 Infected 1.00, Uninfected 0.00, 18.5ms\n",
            "video 1/1 (frame 382/559) /content/drive/MyDrive/IMG_0072.MOV: 224x224 Infected 1.00, Uninfected 0.00, 13.8ms\n",
            "video 1/1 (frame 383/559) /content/drive/MyDrive/IMG_0072.MOV: 224x224 Infected 1.00, Uninfected 0.00, 14.9ms\n",
            "video 1/1 (frame 384/559) /content/drive/MyDrive/IMG_0072.MOV: 224x224 Infected 1.00, Uninfected 0.00, 14.4ms\n",
            "video 1/1 (frame 385/559) /content/drive/MyDrive/IMG_0072.MOV: 224x224 Infected 1.00, Uninfected 0.00, 13.8ms\n",
            "video 1/1 (frame 386/559) /content/drive/MyDrive/IMG_0072.MOV: 224x224 Infected 1.00, Uninfected 0.00, 13.8ms\n",
            "video 1/1 (frame 387/559) /content/drive/MyDrive/IMG_0072.MOV: 224x224 Infected 1.00, Uninfected 0.00, 14.4ms\n",
            "video 1/1 (frame 388/559) /content/drive/MyDrive/IMG_0072.MOV: 224x224 Infected 1.00, Uninfected 0.00, 13.8ms\n",
            "video 1/1 (frame 389/559) /content/drive/MyDrive/IMG_0072.MOV: 224x224 Infected 1.00, Uninfected 0.00, 13.9ms\n",
            "video 1/1 (frame 390/559) /content/drive/MyDrive/IMG_0072.MOV: 224x224 Infected 1.00, Uninfected 0.00, 13.9ms\n",
            "video 1/1 (frame 391/559) /content/drive/MyDrive/IMG_0072.MOV: 224x224 Infected 1.00, Uninfected 0.00, 13.9ms\n",
            "video 1/1 (frame 392/559) /content/drive/MyDrive/IMG_0072.MOV: 224x224 Infected 1.00, Uninfected 0.00, 13.9ms\n",
            "video 1/1 (frame 393/559) /content/drive/MyDrive/IMG_0072.MOV: 224x224 Infected 1.00, Uninfected 0.00, 14.6ms\n",
            "video 1/1 (frame 394/559) /content/drive/MyDrive/IMG_0072.MOV: 224x224 Infected 1.00, Uninfected 0.00, 13.8ms\n",
            "video 1/1 (frame 395/559) /content/drive/MyDrive/IMG_0072.MOV: 224x224 Infected 1.00, Uninfected 0.00, 14.6ms\n",
            "video 1/1 (frame 396/559) /content/drive/MyDrive/IMG_0072.MOV: 224x224 Infected 1.00, Uninfected 0.00, 15.1ms\n",
            "video 1/1 (frame 397/559) /content/drive/MyDrive/IMG_0072.MOV: 224x224 Infected 1.00, Uninfected 0.00, 14.7ms\n",
            "video 1/1 (frame 398/559) /content/drive/MyDrive/IMG_0072.MOV: 224x224 Infected 1.00, Uninfected 0.00, 19.0ms\n",
            "video 1/1 (frame 399/559) /content/drive/MyDrive/IMG_0072.MOV: 224x224 Infected 1.00, Uninfected 0.00, 13.9ms\n",
            "video 1/1 (frame 400/559) /content/drive/MyDrive/IMG_0072.MOV: 224x224 Infected 1.00, Uninfected 0.00, 23.9ms\n",
            "video 1/1 (frame 401/559) /content/drive/MyDrive/IMG_0072.MOV: 224x224 Infected 1.00, Uninfected 0.00, 15.4ms\n",
            "video 1/1 (frame 402/559) /content/drive/MyDrive/IMG_0072.MOV: 224x224 Infected 1.00, Uninfected 0.00, 23.5ms\n",
            "video 1/1 (frame 403/559) /content/drive/MyDrive/IMG_0072.MOV: 224x224 Infected 1.00, Uninfected 0.00, 26.6ms\n",
            "video 1/1 (frame 404/559) /content/drive/MyDrive/IMG_0072.MOV: 224x224 Infected 1.00, Uninfected 0.00, 14.7ms\n",
            "video 1/1 (frame 405/559) /content/drive/MyDrive/IMG_0072.MOV: 224x224 Infected 1.00, Uninfected 0.00, 14.0ms\n",
            "video 1/1 (frame 406/559) /content/drive/MyDrive/IMG_0072.MOV: 224x224 Infected 1.00, Uninfected 0.00, 16.1ms\n",
            "video 1/1 (frame 407/559) /content/drive/MyDrive/IMG_0072.MOV: 224x224 Infected 1.00, Uninfected 0.00, 22.2ms\n",
            "video 1/1 (frame 408/559) /content/drive/MyDrive/IMG_0072.MOV: 224x224 Infected 1.00, Uninfected 0.00, 21.1ms\n",
            "video 1/1 (frame 409/559) /content/drive/MyDrive/IMG_0072.MOV: 224x224 Infected 1.00, Uninfected 0.00, 15.7ms\n",
            "video 1/1 (frame 410/559) /content/drive/MyDrive/IMG_0072.MOV: 224x224 Infected 1.00, Uninfected 0.00, 14.0ms\n",
            "video 1/1 (frame 411/559) /content/drive/MyDrive/IMG_0072.MOV: 224x224 Infected 1.00, Uninfected 0.00, 14.2ms\n",
            "video 1/1 (frame 412/559) /content/drive/MyDrive/IMG_0072.MOV: 224x224 Infected 1.00, Uninfected 0.00, 13.9ms\n",
            "video 1/1 (frame 413/559) /content/drive/MyDrive/IMG_0072.MOV: 224x224 Infected 1.00, Uninfected 0.00, 15.1ms\n",
            "video 1/1 (frame 414/559) /content/drive/MyDrive/IMG_0072.MOV: 224x224 Infected 1.00, Uninfected 0.00, 15.1ms\n",
            "video 1/1 (frame 415/559) /content/drive/MyDrive/IMG_0072.MOV: 224x224 Infected 1.00, Uninfected 0.00, 14.3ms\n",
            "video 1/1 (frame 416/559) /content/drive/MyDrive/IMG_0072.MOV: 224x224 Infected 1.00, Uninfected 0.00, 13.9ms\n",
            "video 1/1 (frame 417/559) /content/drive/MyDrive/IMG_0072.MOV: 224x224 Infected 1.00, Uninfected 0.00, 14.0ms\n",
            "video 1/1 (frame 418/559) /content/drive/MyDrive/IMG_0072.MOV: 224x224 Infected 1.00, Uninfected 0.00, 15.1ms\n",
            "video 1/1 (frame 419/559) /content/drive/MyDrive/IMG_0072.MOV: 224x224 Infected 1.00, Uninfected 0.00, 14.0ms\n",
            "video 1/1 (frame 420/559) /content/drive/MyDrive/IMG_0072.MOV: 224x224 Infected 1.00, Uninfected 0.00, 18.5ms\n",
            "video 1/1 (frame 421/559) /content/drive/MyDrive/IMG_0072.MOV: 224x224 Infected 1.00, Uninfected 0.00, 15.4ms\n",
            "video 1/1 (frame 422/559) /content/drive/MyDrive/IMG_0072.MOV: 224x224 Infected 1.00, Uninfected 0.00, 17.0ms\n",
            "video 1/1 (frame 423/559) /content/drive/MyDrive/IMG_0072.MOV: 224x224 Infected 1.00, Uninfected 0.00, 19.9ms\n",
            "video 1/1 (frame 424/559) /content/drive/MyDrive/IMG_0072.MOV: 224x224 Infected 1.00, Uninfected 0.00, 20.1ms\n",
            "video 1/1 (frame 425/559) /content/drive/MyDrive/IMG_0072.MOV: 224x224 Infected 1.00, Uninfected 0.00, 14.8ms\n",
            "video 1/1 (frame 426/559) /content/drive/MyDrive/IMG_0072.MOV: 224x224 Infected 1.00, Uninfected 0.00, 13.9ms\n",
            "video 1/1 (frame 427/559) /content/drive/MyDrive/IMG_0072.MOV: 224x224 Infected 1.00, Uninfected 0.00, 14.5ms\n",
            "video 1/1 (frame 428/559) /content/drive/MyDrive/IMG_0072.MOV: 224x224 Infected 1.00, Uninfected 0.00, 13.8ms\n",
            "video 1/1 (frame 429/559) /content/drive/MyDrive/IMG_0072.MOV: 224x224 Infected 1.00, Uninfected 0.00, 13.9ms\n",
            "video 1/1 (frame 430/559) /content/drive/MyDrive/IMG_0072.MOV: 224x224 Infected 1.00, Uninfected 0.00, 13.9ms\n",
            "video 1/1 (frame 431/559) /content/drive/MyDrive/IMG_0072.MOV: 224x224 Infected 1.00, Uninfected 0.00, 13.8ms\n",
            "video 1/1 (frame 432/559) /content/drive/MyDrive/IMG_0072.MOV: 224x224 Infected 1.00, Uninfected 0.00, 13.8ms\n",
            "video 1/1 (frame 433/559) /content/drive/MyDrive/IMG_0072.MOV: 224x224 Infected 1.00, Uninfected 0.00, 13.9ms\n",
            "video 1/1 (frame 434/559) /content/drive/MyDrive/IMG_0072.MOV: 224x224 Infected 1.00, Uninfected 0.00, 13.8ms\n",
            "video 1/1 (frame 435/559) /content/drive/MyDrive/IMG_0072.MOV: 224x224 Infected 1.00, Uninfected 0.00, 14.6ms\n",
            "video 1/1 (frame 436/559) /content/drive/MyDrive/IMG_0072.MOV: 224x224 Infected 1.00, Uninfected 0.00, 13.9ms\n",
            "video 1/1 (frame 437/559) /content/drive/MyDrive/IMG_0072.MOV: 224x224 Infected 1.00, Uninfected 0.00, 13.8ms\n"
          ]
        }
      ]
    },
    {
      "cell_type": "code",
      "source": [
        "\n",
        "infected_frames = sum(1 for r in results if r.probs is not None and r.probs.top1 == 0)  # Class 0 = Infected\n",
        "\n",
        "total_frames = len(results)\n",
        "\n",
        "infection_percentage = (infected_frames / total_frames) * 100\n",
        "\n",
        "print(f\"Infection detected in {infection_percentage:.2f}% of the video frames.\")\n"
      ],
      "metadata": {
        "colab": {
          "base_uri": "https://localhost:8080/"
        },
        "id": "aYtcG_an2M-i",
        "outputId": "5c4c7a44-c806-4166-b9ce-bc73af617339"
      },
      "execution_count": null,
      "outputs": [
        {
          "output_type": "stream",
          "name": "stdout",
          "text": [
            "Infection detected in 0.32% of the video frames.\n"
          ]
        }
      ]
    },
    {
      "cell_type": "code",
      "source": [],
      "metadata": {
        "id": "i9Ha7xLq2i9a"
      },
      "execution_count": null,
      "outputs": []
    }
  ]
}